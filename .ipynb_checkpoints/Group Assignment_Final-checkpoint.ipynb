{
 "cells": [
  {
   "cell_type": "code",
   "execution_count": 1,
   "id": "28b9d004",
   "metadata": {},
   "outputs": [
    {
     "data": {
      "text/html": [
       "<style>.container { width:100% !important; }</style>"
      ],
      "text/plain": [
       "<IPython.core.display.HTML object>"
      ]
     },
     "metadata": {},
     "output_type": "display_data"
    }
   ],
   "source": [
    "from IPython.display import display, HTML\n",
    "display(HTML(\"<style>.container { width:100% !important; }</style>\"))"
   ]
  },
  {
   "cell_type": "markdown",
   "id": "4ee98878",
   "metadata": {},
   "source": [
    "</font> <img src=\"Banner2.png\" width=\"900\" height=\"250\" align=\"center\"/>"
   ]
  },
  {
   "cell_type": "markdown",
   "id": "b3d6f59e",
   "metadata": {},
   "source": [
    "</font> <img src=\"TeamC.png\" width=\"800\" height=500 align=\"center\"/>"
   ]
  },
  {
   "cell_type": "markdown",
   "id": "a82a85db",
   "metadata": {},
   "source": [
    "# <font color=li_blue> Table of contents </font>\n",
    "\n",
    "# <font color=purple> Sections </font>\n",
    "\n",
    "* [1.Libaries used](#1)\n",
    "* [2.Dataframes for plots](#2)\n",
    "* [3. High level Overview](#3)\n",
    "  * [3.1 Start MariaDB](#3.1)\n",
    "  * [3.2 Start Hadoop](#3.2)  \n",
    "  * [3.3 Search for Spark Installation](#3.3)\n",
    "* [4. Time](#3.4)\n",
    "  * [3.5 Data Preparation](#3.5)\n",
    "      * [3.5.1 Raw DataFrame](#3.5.1)\n",
    "      * [3.5.2 DataFrame Vertices](#3.5.2)\n",
    "      * [3.5.3 Countries Dataframe Vertices](#3.5.3)\n",
    "* [5. Future outlook](#3.5.4)"
   ]
  },
  {
   "cell_type": "markdown",
   "id": "dae4dfbe",
   "metadata": {},
   "source": [
    "<a id='1'></a>\n",
    "# <font color=purple> 1. Libraries used </font>"
   ]
  },
  {
   "cell_type": "code",
   "execution_count": 2,
   "id": "ef730a17",
   "metadata": {},
   "outputs": [
    {
     "name": "stderr",
     "output_type": "stream",
     "text": [
      "<frozen importlib._bootstrap>:228: RuntimeWarning: scipy._lib.messagestream.MessageStream size changed, may indicate binary incompatibility. Expected 56 from C header, got 64 from PyObject\n"
     ]
    }
   ],
   "source": [
    "import csv\n",
    "import pandas as pd\n",
    "from plotnine import ggplot, geom_point, aes, stat_smooth, facet_wrap,stat_summary,theme_bw\n",
    "from plotnine import ggplot, aes, geom_bar, coord_flip,labs\n",
    "from plotnine import *\n",
    "import numpy as np\n",
    "import pandas as pd\n",
    "import plotnine\n",
    "import matplotlib.pyplot as plt\n",
    "import plotly\n",
    "import plotly.express as px\n",
    "import math\n",
    "import warnings\n",
    "warnings.filterwarnings('ignore')\n",
    "from plotnine.data import mpg\n",
    "%matplotlib inline\n",
    "from matplotlib import animation\n",
    "import matplotlib.pyplot as plt\n",
    "import plotly.graph_objects as go\n"
   ]
  },
  {
   "cell_type": "markdown",
   "id": "903c6585",
   "metadata": {},
   "source": [
    "<div class=\"alert alert-info\" role=\"alert\">\n",
    "\n",
    "Adding country specific, GDP, PPP and income data from the world bank to the dataframe.  \n",
    "  \n",
    "</div>"
   ]
  },
  {
   "cell_type": "code",
   "execution_count": 3,
   "id": "5238fca4",
   "metadata": {},
   "outputs": [],
   "source": [
    "df = pd.read_csv('madrid_transactions_country.csv', delimiter=';', skiprows=0, low_memory=False)"
   ]
  },
  {
   "cell_type": "code",
   "execution_count": 4,
   "id": "628c796e",
   "metadata": {},
   "outputs": [
    {
     "data": {
      "text/plain": [
       "Index(['records', 'amount', 'category', 'customer_country', 'daytime', 'hour',\n",
       "       'tx_date_proc', 'weekday', 'Date_new ', 'numericcode',\n",
       "       'latitude(average)', 'longitude(average)', 'country_name', 'alpha-3',\n",
       "       'country_code', 'iso_3166-2', 'region', 'sub_region', 'GDP_USD_2012',\n",
       "       'GDP per capita (constant 2015 US$)',\n",
       "       'GDP, PPP (current international $)', 'GDP growth (annual %)',\n",
       "       'Income_classification', 'PPP_2012',\n",
       "       'Gross domestic income (constant LCU)',\n",
       "       'Adjusted net national income per capita (constant 2015 US$)',\n",
       "       'GNI per capita, PPP (current international $)'],\n",
       "      dtype='object')"
      ]
     },
     "execution_count": 4,
     "metadata": {},
     "output_type": "execute_result"
    }
   ],
   "source": [
    "df.columns"
   ]
  },
  {
   "cell_type": "code",
   "execution_count": 5,
   "id": "4b5e31cf",
   "metadata": {},
   "outputs": [
    {
     "data": {
      "text/html": [
       "<div>\n",
       "<style scoped>\n",
       "    .dataframe tbody tr th:only-of-type {\n",
       "        vertical-align: middle;\n",
       "    }\n",
       "\n",
       "    .dataframe tbody tr th {\n",
       "        vertical-align: top;\n",
       "    }\n",
       "\n",
       "    .dataframe thead th {\n",
       "        text-align: right;\n",
       "    }\n",
       "</style>\n",
       "<table border=\"1\" class=\"dataframe\">\n",
       "  <thead>\n",
       "    <tr style=\"text-align: right;\">\n",
       "      <th></th>\n",
       "      <th>records</th>\n",
       "      <th>amount</th>\n",
       "      <th>category</th>\n",
       "      <th>customer_country</th>\n",
       "      <th>daytime</th>\n",
       "      <th>hour</th>\n",
       "      <th>tx_date_proc</th>\n",
       "      <th>weekday</th>\n",
       "      <th>Date_new</th>\n",
       "      <th>numericcode</th>\n",
       "      <th>latitude(average)</th>\n",
       "      <th>longitude(average)</th>\n",
       "      <th>country_name</th>\n",
       "      <th>alpha-3</th>\n",
       "      <th>country_code</th>\n",
       "      <th>iso_3166-2</th>\n",
       "      <th>region</th>\n",
       "      <th>sub_region</th>\n",
       "      <th>GDP_USD_2012</th>\n",
       "      <th>GDP per capita (constant 2015 US$)</th>\n",
       "      <th>GDP, PPP (current international $)</th>\n",
       "      <th>GDP growth (annual %)</th>\n",
       "      <th>Income_classification</th>\n",
       "      <th>PPP_2012</th>\n",
       "      <th>Gross domestic income (constant LCU)</th>\n",
       "      <th>Adjusted net national income per capita (constant 2015 US$)</th>\n",
       "      <th>GNI per capita, PPP (current international $)</th>\n",
       "    </tr>\n",
       "  </thead>\n",
       "  <tbody>\n",
       "    <tr>\n",
       "      <th>0</th>\n",
       "      <td>1</td>\n",
       "      <td>33</td>\n",
       "      <td>Fashion &amp; Shoes</td>\n",
       "      <td>GB</td>\n",
       "      <td>Night</td>\n",
       "      <td>21</td>\n",
       "      <td>2012-03-01 21:51:54+00</td>\n",
       "      <td>thursday</td>\n",
       "      <td>01.03.12 21:51</td>\n",
       "      <td>826</td>\n",
       "      <td>NaN</td>\n",
       "      <td>-2.0</td>\n",
       "      <td>United Kingdom</td>\n",
       "      <td>GBR</td>\n",
       "      <td>826</td>\n",
       "      <td>ISO 3166-2:GB</td>\n",
       "      <td>Europe</td>\n",
       "      <td>Northern Europe</td>\n",
       "      <td>2719158341006</td>\n",
       "      <td>43100</td>\n",
       "      <td>2.453352e+12</td>\n",
       "      <td>1.469888</td>\n",
       "      <td>High income</td>\n",
       "      <td>0.70</td>\n",
       "      <td>1769649482466</td>\n",
       "      <td>35265</td>\n",
       "      <td>38120</td>\n",
       "    </tr>\n",
       "    <tr>\n",
       "      <th>1</th>\n",
       "      <td>2</td>\n",
       "      <td>60</td>\n",
       "      <td>Fashion &amp; Shoes</td>\n",
       "      <td>GB</td>\n",
       "      <td>Afternoon</td>\n",
       "      <td>16</td>\n",
       "      <td>2012-03-02 16:12:52+00</td>\n",
       "      <td>friday</td>\n",
       "      <td>02.03.12 16:12</td>\n",
       "      <td>826</td>\n",
       "      <td>54.0</td>\n",
       "      <td>-2.0</td>\n",
       "      <td>United Kingdom</td>\n",
       "      <td>GBR</td>\n",
       "      <td>826</td>\n",
       "      <td>ISO 3166-2:GB</td>\n",
       "      <td>Europe</td>\n",
       "      <td>Northern Europe</td>\n",
       "      <td>2719158341006</td>\n",
       "      <td>43100</td>\n",
       "      <td>2.453352e+12</td>\n",
       "      <td>1.469888</td>\n",
       "      <td>High income</td>\n",
       "      <td>0.70</td>\n",
       "      <td>1769649482466</td>\n",
       "      <td>35265</td>\n",
       "      <td>38120</td>\n",
       "    </tr>\n",
       "    <tr>\n",
       "      <th>2</th>\n",
       "      <td>3</td>\n",
       "      <td>50</td>\n",
       "      <td>Fashion &amp; Shoes</td>\n",
       "      <td>CN</td>\n",
       "      <td>Evening</td>\n",
       "      <td>17</td>\n",
       "      <td>2012-03-02 17:34:01+00</td>\n",
       "      <td>friday</td>\n",
       "      <td>02.03.12 17:34</td>\n",
       "      <td>156</td>\n",
       "      <td>35.0</td>\n",
       "      <td>105.0</td>\n",
       "      <td>China</td>\n",
       "      <td>CHN</td>\n",
       "      <td>156</td>\n",
       "      <td>ISO 3166-2:CN</td>\n",
       "      <td>Asia</td>\n",
       "      <td>Eastern Asia</td>\n",
       "      <td>8532229986994</td>\n",
       "      <td>6592</td>\n",
       "      <td>1.512454e+13</td>\n",
       "      <td>7.863736</td>\n",
       "      <td>Upper middle income</td>\n",
       "      <td>3.56</td>\n",
       "      <td>..</td>\n",
       "      <td>4997</td>\n",
       "      <td>11140</td>\n",
       "    </tr>\n",
       "    <tr>\n",
       "      <th>3</th>\n",
       "      <td>4</td>\n",
       "      <td>6</td>\n",
       "      <td>Fashion &amp; Shoes</td>\n",
       "      <td>GB</td>\n",
       "      <td>Evening</td>\n",
       "      <td>17</td>\n",
       "      <td>2012-03-01 17:43:29+00</td>\n",
       "      <td>thursday</td>\n",
       "      <td>01.03.12 17:43</td>\n",
       "      <td>826</td>\n",
       "      <td>54.0</td>\n",
       "      <td>-2.0</td>\n",
       "      <td>United Kingdom</td>\n",
       "      <td>GBR</td>\n",
       "      <td>826</td>\n",
       "      <td>ISO 3166-2:GB</td>\n",
       "      <td>Europe</td>\n",
       "      <td>Northern Europe</td>\n",
       "      <td>2719158341006</td>\n",
       "      <td>43100</td>\n",
       "      <td>2.453352e+12</td>\n",
       "      <td>1.469888</td>\n",
       "      <td>High income</td>\n",
       "      <td>0.70</td>\n",
       "      <td>1769649482466</td>\n",
       "      <td>35265</td>\n",
       "      <td>38120</td>\n",
       "    </tr>\n",
       "    <tr>\n",
       "      <th>4</th>\n",
       "      <td>5</td>\n",
       "      <td>17</td>\n",
       "      <td>Bars &amp; restaurants</td>\n",
       "      <td>DK</td>\n",
       "      <td>Night</td>\n",
       "      <td>22</td>\n",
       "      <td>2012-03-01 22:47:52+00</td>\n",
       "      <td>thursday</td>\n",
       "      <td>01.03.12 22:47</td>\n",
       "      <td>208</td>\n",
       "      <td>56.0</td>\n",
       "      <td>10.0</td>\n",
       "      <td>Denmark</td>\n",
       "      <td>DNK</td>\n",
       "      <td>208</td>\n",
       "      <td>ISO 3166-2:DK</td>\n",
       "      <td>Europe</td>\n",
       "      <td>Northern Europe</td>\n",
       "      <td>327148943812</td>\n",
       "      <td>51567</td>\n",
       "      <td>2.505246e+11</td>\n",
       "      <td>0.226500</td>\n",
       "      <td>High income</td>\n",
       "      <td>7.56</td>\n",
       "      <td>1909813185266</td>\n",
       "      <td>42430</td>\n",
       "      <td>45820</td>\n",
       "    </tr>\n",
       "  </tbody>\n",
       "</table>\n",
       "</div>"
      ],
      "text/plain": [
       "   records  amount            category customer_country    daytime  hour  \\\n",
       "0        1      33     Fashion & Shoes               GB      Night    21   \n",
       "1        2      60     Fashion & Shoes               GB  Afternoon    16   \n",
       "2        3      50     Fashion & Shoes               CN    Evening    17   \n",
       "3        4       6     Fashion & Shoes               GB    Evening    17   \n",
       "4        5      17  Bars & restaurants               DK      Night    22   \n",
       "\n",
       "             tx_date_proc    weekday       Date_new  numericcode  \\\n",
       "0  2012-03-01 21:51:54+00  thursday   01.03.12 21:51         826   \n",
       "1  2012-03-02 16:12:52+00  friday     02.03.12 16:12         826   \n",
       "2  2012-03-02 17:34:01+00  friday     02.03.12 17:34         156   \n",
       "3  2012-03-01 17:43:29+00  thursday   01.03.12 17:43         826   \n",
       "4  2012-03-01 22:47:52+00  thursday   01.03.12 22:47         208   \n",
       "\n",
       "   latitude(average)  longitude(average)     country_name alpha-3  \\\n",
       "0                NaN                -2.0  United Kingdom      GBR   \n",
       "1               54.0                -2.0  United Kingdom      GBR   \n",
       "2               35.0               105.0            China     CHN   \n",
       "3               54.0                -2.0  United Kingdom      GBR   \n",
       "4               56.0                10.0          Denmark     DNK   \n",
       "\n",
       "   country_code     iso_3166-2  region       sub_region   GDP_USD_2012  \\\n",
       "0           826  ISO 3166-2:GB  Europe  Northern Europe  2719158341006   \n",
       "1           826  ISO 3166-2:GB  Europe  Northern Europe  2719158341006   \n",
       "2           156  ISO 3166-2:CN    Asia     Eastern Asia  8532229986994   \n",
       "3           826  ISO 3166-2:GB  Europe  Northern Europe  2719158341006   \n",
       "4           208  ISO 3166-2:DK  Europe  Northern Europe   327148943812   \n",
       "\n",
       "   GDP per capita (constant 2015 US$)  GDP, PPP (current international $)  \\\n",
       "0                               43100                        2.453352e+12   \n",
       "1                               43100                        2.453352e+12   \n",
       "2                                6592                        1.512454e+13   \n",
       "3                               43100                        2.453352e+12   \n",
       "4                               51567                        2.505246e+11   \n",
       "\n",
       "   GDP growth (annual %) Income_classification PPP_2012  \\\n",
       "0               1.469888           High income     0.70   \n",
       "1               1.469888           High income     0.70   \n",
       "2               7.863736  Upper middle income      3.56   \n",
       "3               1.469888           High income     0.70   \n",
       "4               0.226500           High income     7.56   \n",
       "\n",
       "  Gross domestic income (constant LCU)  \\\n",
       "0                        1769649482466   \n",
       "1                        1769649482466   \n",
       "2                                   ..   \n",
       "3                        1769649482466   \n",
       "4                        1909813185266   \n",
       "\n",
       "  Adjusted net national income per capita (constant 2015 US$)  \\\n",
       "0                                              35265            \n",
       "1                                              35265            \n",
       "2                                               4997            \n",
       "3                                              35265            \n",
       "4                                              42430            \n",
       "\n",
       "   GNI per capita, PPP (current international $)  \n",
       "0                                          38120  \n",
       "1                                          38120  \n",
       "2                                          11140  \n",
       "3                                          38120  \n",
       "4                                          45820  "
      ]
     },
     "execution_count": 5,
     "metadata": {},
     "output_type": "execute_result"
    }
   ],
   "source": [
    "pd.set_option('display.max_columns', None)\n",
    "df.head()"
   ]
  },
  {
   "cell_type": "code",
   "execution_count": 6,
   "id": "4d2d90c3",
   "metadata": {},
   "outputs": [
    {
     "data": {
      "text/plain": [
       "Index(['records', 'amount', 'category', 'customer_country', 'daytime', 'hour',\n",
       "       'tx_date_proc', 'weekday', 'Date_new ', 'numericcode',\n",
       "       'latitude(average)', 'longitude(average)', 'country_name', 'alpha-3',\n",
       "       'country_code', 'iso_3166-2', 'region', 'sub_region', 'GDP_USD_2012',\n",
       "       'GDP per capita (constant 2015 US$)',\n",
       "       'GDP, PPP (current international $)', 'GDP growth (annual %)',\n",
       "       'Income_classification', 'PPP_2012',\n",
       "       'Gross domestic income (constant LCU)',\n",
       "       'Adjusted net national income per capita (constant 2015 US$)',\n",
       "       'GNI per capita, PPP (current international $)'],\n",
       "      dtype='object')"
      ]
     },
     "execution_count": 6,
     "metadata": {},
     "output_type": "execute_result"
    }
   ],
   "source": [
    "df.columns"
   ]
  },
  {
   "cell_type": "markdown",
   "id": "48107328",
   "metadata": {},
   "source": [
    "<div class=\"alert alert-info\" role=\"alert\">\n",
    "\n",
    "Statistics to see the distribution of the numeric columns  \n",
    "  \n",
    "</div>"
   ]
  },
  {
   "cell_type": "code",
   "execution_count": 7,
   "id": "8ff2a349",
   "metadata": {
    "scrolled": true
   },
   "outputs": [
    {
     "data": {
      "text/html": [
       "<div>\n",
       "<style scoped>\n",
       "    .dataframe tbody tr th:only-of-type {\n",
       "        vertical-align: middle;\n",
       "    }\n",
       "\n",
       "    .dataframe tbody tr th {\n",
       "        vertical-align: top;\n",
       "    }\n",
       "\n",
       "    .dataframe thead th {\n",
       "        text-align: right;\n",
       "    }\n",
       "</style>\n",
       "<table border=\"1\" class=\"dataframe\">\n",
       "  <thead>\n",
       "    <tr style=\"text-align: right;\">\n",
       "      <th></th>\n",
       "      <th>records</th>\n",
       "      <th>amount</th>\n",
       "      <th>hour</th>\n",
       "      <th>latitude(average)</th>\n",
       "      <th>longitude(average)</th>\n",
       "      <th>country_code</th>\n",
       "      <th>GDP_USD_2012</th>\n",
       "      <th>GDP per capita (constant 2015 US$)</th>\n",
       "      <th>GDP, PPP (current international $)</th>\n",
       "      <th>GDP growth (annual %)</th>\n",
       "      <th>GNI per capita, PPP (current international $)</th>\n",
       "    </tr>\n",
       "  </thead>\n",
       "  <tbody>\n",
       "    <tr>\n",
       "      <th>count</th>\n",
       "      <td>10793.000000</td>\n",
       "      <td>10793.000000</td>\n",
       "      <td>10793.000000</td>\n",
       "      <td>10781.000000</td>\n",
       "      <td>10782.000000</td>\n",
       "      <td>10793.000000</td>\n",
       "      <td>1.079300e+04</td>\n",
       "      <td>10793.000000</td>\n",
       "      <td>1.070600e+04</td>\n",
       "      <td>10793.000000</td>\n",
       "      <td>10793.000000</td>\n",
       "    </tr>\n",
       "    <tr>\n",
       "      <th>mean</th>\n",
       "      <td>5397.000000</td>\n",
       "      <td>108.789493</td>\n",
       "      <td>15.032428</td>\n",
       "      <td>36.377767</td>\n",
       "      <td>-2.871369</td>\n",
       "      <td>480.415084</td>\n",
       "      <td>4.066684e+12</td>\n",
       "      <td>34111.388770</td>\n",
       "      <td>4.411083e+12</td>\n",
       "      <td>1.678976</td>\n",
       "      <td>35716.519040</td>\n",
       "    </tr>\n",
       "    <tr>\n",
       "      <th>std</th>\n",
       "      <td>3115.815062</td>\n",
       "      <td>310.296894</td>\n",
       "      <td>4.809074</td>\n",
       "      <td>23.721422</td>\n",
       "      <td>67.542173</td>\n",
       "      <td>285.287340</td>\n",
       "      <td>5.548015e+12</td>\n",
       "      <td>19608.625647</td>\n",
       "      <td>5.871824e+12</td>\n",
       "      <td>2.622192</td>\n",
       "      <td>16638.373106</td>\n",
       "    </tr>\n",
       "    <tr>\n",
       "      <th>min</th>\n",
       "      <td>1.000000</td>\n",
       "      <td>0.000000</td>\n",
       "      <td>0.000000</td>\n",
       "      <td>-41.000000</td>\n",
       "      <td>-172.333300</td>\n",
       "      <td>0.000000</td>\n",
       "      <td>7.605496e+08</td>\n",
       "      <td>362.000000</td>\n",
       "      <td>0.000000e+00</td>\n",
       "      <td>-7.086697</td>\n",
       "      <td>0.000000</td>\n",
       "    </tr>\n",
       "    <tr>\n",
       "      <th>25%</th>\n",
       "      <td>2699.000000</td>\n",
       "      <td>20.000000</td>\n",
       "      <td>12.000000</td>\n",
       "      <td>35.000000</td>\n",
       "      <td>-64.000000</td>\n",
       "      <td>250.000000</td>\n",
       "      <td>4.985236e+11</td>\n",
       "      <td>12986.000000</td>\n",
       "      <td>4.697206e+11</td>\n",
       "      <td>0.313135</td>\n",
       "      <td>20620.000000</td>\n",
       "    </tr>\n",
       "    <tr>\n",
       "      <th>50%</th>\n",
       "      <td>5397.000000</td>\n",
       "      <td>40.000000</td>\n",
       "      <td>16.000000</td>\n",
       "      <td>42.500000</td>\n",
       "      <td>2.000000</td>\n",
       "      <td>410.000000</td>\n",
       "      <td>2.086958e+12</td>\n",
       "      <td>36183.000000</td>\n",
       "      <td>2.172384e+12</td>\n",
       "      <td>1.762223</td>\n",
       "      <td>38500.000000</td>\n",
       "    </tr>\n",
       "    <tr>\n",
       "      <th>75%</th>\n",
       "      <td>8095.000000</td>\n",
       "      <td>93.000000</td>\n",
       "      <td>18.000000</td>\n",
       "      <td>52.500000</td>\n",
       "      <td>25.000000</td>\n",
       "      <td>818.000000</td>\n",
       "      <td>2.719158e+12</td>\n",
       "      <td>48886.000000</td>\n",
       "      <td>3.480299e+12</td>\n",
       "      <td>2.402531</td>\n",
       "      <td>46500.000000</td>\n",
       "    </tr>\n",
       "    <tr>\n",
       "      <th>max</th>\n",
       "      <td>10793.000000</td>\n",
       "      <td>15000.000000</td>\n",
       "      <td>23.000000</td>\n",
       "      <td>65.000000</td>\n",
       "      <td>174.000000</td>\n",
       "      <td>882.000000</td>\n",
       "      <td>1.625397e+13</td>\n",
       "      <td>104488.000000</td>\n",
       "      <td>1.625397e+13</td>\n",
       "      <td>16.665429</td>\n",
       "      <td>132440.000000</td>\n",
       "    </tr>\n",
       "  </tbody>\n",
       "</table>\n",
       "</div>"
      ],
      "text/plain": [
       "            records        amount          hour  latitude(average)  \\\n",
       "count  10793.000000  10793.000000  10793.000000       10781.000000   \n",
       "mean    5397.000000    108.789493     15.032428          36.377767   \n",
       "std     3115.815062    310.296894      4.809074          23.721422   \n",
       "min        1.000000      0.000000      0.000000         -41.000000   \n",
       "25%     2699.000000     20.000000     12.000000          35.000000   \n",
       "50%     5397.000000     40.000000     16.000000          42.500000   \n",
       "75%     8095.000000     93.000000     18.000000          52.500000   \n",
       "max    10793.000000  15000.000000     23.000000          65.000000   \n",
       "\n",
       "       longitude(average)  country_code  GDP_USD_2012  \\\n",
       "count        10782.000000  10793.000000  1.079300e+04   \n",
       "mean            -2.871369    480.415084  4.066684e+12   \n",
       "std             67.542173    285.287340  5.548015e+12   \n",
       "min           -172.333300      0.000000  7.605496e+08   \n",
       "25%            -64.000000    250.000000  4.985236e+11   \n",
       "50%              2.000000    410.000000  2.086958e+12   \n",
       "75%             25.000000    818.000000  2.719158e+12   \n",
       "max            174.000000    882.000000  1.625397e+13   \n",
       "\n",
       "       GDP per capita (constant 2015 US$)  GDP, PPP (current international $)  \\\n",
       "count                        10793.000000                        1.070600e+04   \n",
       "mean                         34111.388770                        4.411083e+12   \n",
       "std                          19608.625647                        5.871824e+12   \n",
       "min                            362.000000                        0.000000e+00   \n",
       "25%                          12986.000000                        4.697206e+11   \n",
       "50%                          36183.000000                        2.172384e+12   \n",
       "75%                          48886.000000                        3.480299e+12   \n",
       "max                         104488.000000                        1.625397e+13   \n",
       "\n",
       "       GDP growth (annual %)  GNI per capita, PPP (current international $)  \n",
       "count           10793.000000                                   10793.000000  \n",
       "mean                1.678976                                   35716.519040  \n",
       "std                 2.622192                                   16638.373106  \n",
       "min                -7.086697                                       0.000000  \n",
       "25%                 0.313135                                   20620.000000  \n",
       "50%                 1.762223                                   38500.000000  \n",
       "75%                 2.402531                                   46500.000000  \n",
       "max                16.665429                                  132440.000000  "
      ]
     },
     "execution_count": 7,
     "metadata": {},
     "output_type": "execute_result"
    }
   ],
   "source": [
    "df.describe()"
   ]
  },
  {
   "cell_type": "markdown",
   "id": "8e0f2a56",
   "metadata": {},
   "source": [
    "<div class=\"alert alert-info\" role=\"alert\">\n",
    "\n",
    "Heatmap shows from which countries the trasactions are coming from. Clearly, high income countries having transactions in all categories. And low income almost none and only in few categories like sports&Games, Health, Fashion & SHoes, Bar & Restaurants and Accomodation. \n",
    "  \n",
    "</div>"
   ]
  },
  {
   "cell_type": "markdown",
   "id": "9c33ce1c",
   "metadata": {},
   "source": [
    "<a id='2'></a>\n",
    "# <font color=purple> 2. New Dataframes </font>"
   ]
  },
  {
   "cell_type": "markdown",
   "id": "84fdd4b7",
   "metadata": {},
   "source": [
    "<div class=\"alert alert-info\" role=\"alert\">\n",
    "\n",
    "Creating new aggregation of dataframes nfor further analysis\n",
    "  \n",
    "</div>"
   ]
  },
  {
   "cell_type": "markdown",
   "id": "a966e869",
   "metadata": {},
   "source": [
    "<a id='2.1'></a>\n",
    "### <font color=li_blue> 2.1. Country and category </font>"
   ]
  },
  {
   "cell_type": "code",
   "execution_count": 8,
   "id": "e3bef371",
   "metadata": {},
   "outputs": [],
   "source": [
    "# new df by country and category\n",
    "df1 =df.groupby(['country_name', 'category','Income_classification','region'],as_index=False).agg(\n",
    "    # Get max of the duration column for each group\n",
    "    mean_amount=('amount','mean'),\n",
    "    # Get min of the duration column for each group\n",
    "    sum_amount=('amount', sum),\n",
    "    # Get sum of the duration column for each group\n",
    "    count_amount=('amount', 'count'),\n",
    "    # Apply mean of growth(should give the real growth)\n",
    "    growth_GDP=('GDP growth (annual %)', 'mean'),\n",
    ")"
   ]
  },
  {
   "cell_type": "code",
   "execution_count": 9,
   "id": "46c880a0",
   "metadata": {},
   "outputs": [],
   "source": [
    "sales = df1.groupby(['category'])['sum_amount'].sum().reset_index()"
   ]
  },
  {
   "cell_type": "code",
   "execution_count": 10,
   "id": "69de8dc4",
   "metadata": {},
   "outputs": [],
   "source": [
    "df1 = df1.merge(sales, left_on='category', right_on ='category', how = 'left')"
   ]
  },
  {
   "cell_type": "code",
   "execution_count": 11,
   "id": "d599008c",
   "metadata": {},
   "outputs": [
    {
     "data": {
      "text/html": [
       "<div>\n",
       "<style scoped>\n",
       "    .dataframe tbody tr th:only-of-type {\n",
       "        vertical-align: middle;\n",
       "    }\n",
       "\n",
       "    .dataframe tbody tr th {\n",
       "        vertical-align: top;\n",
       "    }\n",
       "\n",
       "    .dataframe thead th {\n",
       "        text-align: right;\n",
       "    }\n",
       "</style>\n",
       "<table border=\"1\" class=\"dataframe\">\n",
       "  <thead>\n",
       "    <tr style=\"text-align: right;\">\n",
       "      <th></th>\n",
       "      <th>country_name</th>\n",
       "      <th>category</th>\n",
       "      <th>Income_classification</th>\n",
       "      <th>region</th>\n",
       "      <th>mean_amount</th>\n",
       "      <th>sum_amount_x</th>\n",
       "      <th>count_amount</th>\n",
       "      <th>growth_GDP</th>\n",
       "      <th>sum_amount_y</th>\n",
       "    </tr>\n",
       "  </thead>\n",
       "  <tbody>\n",
       "    <tr>\n",
       "      <th>0</th>\n",
       "      <td>Algeria</td>\n",
       "      <td>Fashion &amp; Shoes</td>\n",
       "      <td>Upper middle income</td>\n",
       "      <td>Africa</td>\n",
       "      <td>197.166667</td>\n",
       "      <td>1183</td>\n",
       "      <td>6</td>\n",
       "      <td>3.400000</td>\n",
       "      <td>494626</td>\n",
       "    </tr>\n",
       "    <tr>\n",
       "      <th>1</th>\n",
       "      <td>Algeria</td>\n",
       "      <td>Health</td>\n",
       "      <td>Upper middle income</td>\n",
       "      <td>Africa</td>\n",
       "      <td>217.000000</td>\n",
       "      <td>217</td>\n",
       "      <td>1</td>\n",
       "      <td>3.400000</td>\n",
       "      <td>26602</td>\n",
       "    </tr>\n",
       "    <tr>\n",
       "      <th>2</th>\n",
       "      <td>Andorra</td>\n",
       "      <td>Accommodation</td>\n",
       "      <td>High income</td>\n",
       "      <td>Europe</td>\n",
       "      <td>130.500000</td>\n",
       "      <td>522</td>\n",
       "      <td>4</td>\n",
       "      <td>-4.974444</td>\n",
       "      <td>282539</td>\n",
       "    </tr>\n",
       "    <tr>\n",
       "      <th>3</th>\n",
       "      <td>Andorra</td>\n",
       "      <td>Automocion</td>\n",
       "      <td>High income</td>\n",
       "      <td>Europe</td>\n",
       "      <td>390.000000</td>\n",
       "      <td>390</td>\n",
       "      <td>1</td>\n",
       "      <td>-4.974444</td>\n",
       "      <td>1816</td>\n",
       "    </tr>\n",
       "    <tr>\n",
       "      <th>4</th>\n",
       "      <td>Andorra</td>\n",
       "      <td>Bars &amp; restaurants</td>\n",
       "      <td>High income</td>\n",
       "      <td>Europe</td>\n",
       "      <td>57.473684</td>\n",
       "      <td>2184</td>\n",
       "      <td>38</td>\n",
       "      <td>-4.974444</td>\n",
       "      <td>202031</td>\n",
       "    </tr>\n",
       "    <tr>\n",
       "      <th>...</th>\n",
       "      <td>...</td>\n",
       "      <td>...</td>\n",
       "      <td>...</td>\n",
       "      <td>...</td>\n",
       "      <td>...</td>\n",
       "      <td>...</td>\n",
       "      <td>...</td>\n",
       "      <td>...</td>\n",
       "      <td>...</td>\n",
       "    </tr>\n",
       "    <tr>\n",
       "      <th>612</th>\n",
       "      <td>Venezuela (Bolivarian Republic of)</td>\n",
       "      <td>Personal products</td>\n",
       "      <td>Upper middle income</td>\n",
       "      <td>Americas</td>\n",
       "      <td>10.000000</td>\n",
       "      <td>20</td>\n",
       "      <td>2</td>\n",
       "      <td>5.625957</td>\n",
       "      <td>6975</td>\n",
       "    </tr>\n",
       "    <tr>\n",
       "      <th>613</th>\n",
       "      <td>Venezuela (Bolivarian Republic of)</td>\n",
       "      <td>Sports &amp; Games</td>\n",
       "      <td>Upper middle income</td>\n",
       "      <td>Americas</td>\n",
       "      <td>74.000000</td>\n",
       "      <td>74</td>\n",
       "      <td>1</td>\n",
       "      <td>5.625957</td>\n",
       "      <td>7923</td>\n",
       "    </tr>\n",
       "    <tr>\n",
       "      <th>614</th>\n",
       "      <td>Viet Nam</td>\n",
       "      <td>Fashion &amp; Shoes</td>\n",
       "      <td>Lower middle income</td>\n",
       "      <td>Asia</td>\n",
       "      <td>648.500000</td>\n",
       "      <td>1297</td>\n",
       "      <td>2</td>\n",
       "      <td>5.500000</td>\n",
       "      <td>494626</td>\n",
       "    </tr>\n",
       "    <tr>\n",
       "      <th>615</th>\n",
       "      <td>Viet Nam</td>\n",
       "      <td>Health</td>\n",
       "      <td>Lower middle income</td>\n",
       "      <td>Asia</td>\n",
       "      <td>206.000000</td>\n",
       "      <td>206</td>\n",
       "      <td>1</td>\n",
       "      <td>5.500000</td>\n",
       "      <td>26602</td>\n",
       "    </tr>\n",
       "    <tr>\n",
       "      <th>616</th>\n",
       "      <td>Zimbabwe</td>\n",
       "      <td>Fashion &amp; Shoes</td>\n",
       "      <td>Low income</td>\n",
       "      <td>Africa</td>\n",
       "      <td>127.000000</td>\n",
       "      <td>127</td>\n",
       "      <td>1</td>\n",
       "      <td>16.665429</td>\n",
       "      <td>494626</td>\n",
       "    </tr>\n",
       "  </tbody>\n",
       "</table>\n",
       "<p>617 rows × 9 columns</p>\n",
       "</div>"
      ],
      "text/plain": [
       "                           country_name            category  \\\n",
       "0                               Algeria     Fashion & Shoes   \n",
       "1                               Algeria              Health   \n",
       "2                               Andorra       Accommodation   \n",
       "3                               Andorra          Automocion   \n",
       "4                               Andorra  Bars & restaurants   \n",
       "..                                  ...                 ...   \n",
       "612  Venezuela (Bolivarian Republic of)   Personal products   \n",
       "613  Venezuela (Bolivarian Republic of)      Sports & Games   \n",
       "614                            Viet Nam     Fashion & Shoes   \n",
       "615                            Viet Nam              Health   \n",
       "616                            Zimbabwe     Fashion & Shoes   \n",
       "\n",
       "    Income_classification    region  mean_amount  sum_amount_x  count_amount  \\\n",
       "0    Upper middle income     Africa   197.166667          1183             6   \n",
       "1    Upper middle income     Africa   217.000000           217             1   \n",
       "2             High income    Europe   130.500000           522             4   \n",
       "3             High income    Europe   390.000000           390             1   \n",
       "4             High income    Europe    57.473684          2184            38   \n",
       "..                    ...       ...          ...           ...           ...   \n",
       "612  Upper middle income   Americas    10.000000            20             2   \n",
       "613  Upper middle income   Americas    74.000000            74             1   \n",
       "614  Lower middle income       Asia   648.500000          1297             2   \n",
       "615  Lower middle income       Asia   206.000000           206             1   \n",
       "616            Low income    Africa   127.000000           127             1   \n",
       "\n",
       "     growth_GDP  sum_amount_y  \n",
       "0      3.400000        494626  \n",
       "1      3.400000         26602  \n",
       "2     -4.974444        282539  \n",
       "3     -4.974444          1816  \n",
       "4     -4.974444        202031  \n",
       "..          ...           ...  \n",
       "612    5.625957          6975  \n",
       "613    5.625957          7923  \n",
       "614    5.500000        494626  \n",
       "615    5.500000         26602  \n",
       "616   16.665429        494626  \n",
       "\n",
       "[617 rows x 9 columns]"
      ]
     },
     "execution_count": 11,
     "metadata": {},
     "output_type": "execute_result"
    }
   ],
   "source": [
    "df1"
   ]
  },
  {
   "cell_type": "markdown",
   "id": "bbaa6e1c",
   "metadata": {},
   "source": [
    "<a id='2.2'></a>\n",
    "### <font color=li_blue> 2.2. Category </font>"
   ]
  },
  {
   "cell_type": "code",
   "execution_count": 12,
   "id": "28c74fe1",
   "metadata": {},
   "outputs": [],
   "source": [
    "# new df by category\n",
    "df3 =df.groupby(['category'],as_index=False).agg(\n",
    "    # Get max of the duration column for each group\n",
    "    mean_amount=('amount','mean'),\n",
    "    # Get min of the duration column for each group\n",
    "    sum_amount=('amount', sum),\n",
    "    # Get sum of the duration column for each group\n",
    "    count_amount=('amount', 'count'),\n",
    ")"
   ]
  },
  {
   "cell_type": "code",
   "execution_count": 13,
   "id": "46fd2042",
   "metadata": {},
   "outputs": [
    {
     "data": {
      "text/html": [
       "<div>\n",
       "<style scoped>\n",
       "    .dataframe tbody tr th:only-of-type {\n",
       "        vertical-align: middle;\n",
       "    }\n",
       "\n",
       "    .dataframe tbody tr th {\n",
       "        vertical-align: top;\n",
       "    }\n",
       "\n",
       "    .dataframe thead th {\n",
       "        text-align: right;\n",
       "    }\n",
       "</style>\n",
       "<table border=\"1\" class=\"dataframe\">\n",
       "  <thead>\n",
       "    <tr style=\"text-align: right;\">\n",
       "      <th></th>\n",
       "      <th>category</th>\n",
       "      <th>mean_amount</th>\n",
       "      <th>sum_amount</th>\n",
       "      <th>count_amount</th>\n",
       "    </tr>\n",
       "  </thead>\n",
       "  <tbody>\n",
       "    <tr>\n",
       "      <th>0</th>\n",
       "      <td>Accommodation</td>\n",
       "      <td>256.387477</td>\n",
       "      <td>282539</td>\n",
       "      <td>1102</td>\n",
       "    </tr>\n",
       "    <tr>\n",
       "      <th>1</th>\n",
       "      <td>Agencias de viajes</td>\n",
       "      <td>303.200000</td>\n",
       "      <td>1516</td>\n",
       "      <td>5</td>\n",
       "    </tr>\n",
       "    <tr>\n",
       "      <th>2</th>\n",
       "      <td>Automocion</td>\n",
       "      <td>302.666667</td>\n",
       "      <td>1816</td>\n",
       "      <td>6</td>\n",
       "    </tr>\n",
       "    <tr>\n",
       "      <th>3</th>\n",
       "      <td>Bars &amp; restaurants</td>\n",
       "      <td>76.584913</td>\n",
       "      <td>202031</td>\n",
       "      <td>2638</td>\n",
       "    </tr>\n",
       "    <tr>\n",
       "      <th>4</th>\n",
       "      <td>Books &amp; Music</td>\n",
       "      <td>226.387097</td>\n",
       "      <td>21054</td>\n",
       "      <td>93</td>\n",
       "    </tr>\n",
       "    <tr>\n",
       "      <th>5</th>\n",
       "      <td>Culture &amp; Leisure</td>\n",
       "      <td>258.108696</td>\n",
       "      <td>23746</td>\n",
       "      <td>92</td>\n",
       "    </tr>\n",
       "    <tr>\n",
       "      <th>6</th>\n",
       "      <td>Electronics &amp; computing</td>\n",
       "      <td>46.235294</td>\n",
       "      <td>2358</td>\n",
       "      <td>51</td>\n",
       "    </tr>\n",
       "    <tr>\n",
       "      <th>7</th>\n",
       "      <td>Fashion &amp; Shoes</td>\n",
       "      <td>92.074832</td>\n",
       "      <td>494626</td>\n",
       "      <td>5372</td>\n",
       "    </tr>\n",
       "    <tr>\n",
       "      <th>8</th>\n",
       "      <td>Food</td>\n",
       "      <td>91.227586</td>\n",
       "      <td>13228</td>\n",
       "      <td>145</td>\n",
       "    </tr>\n",
       "    <tr>\n",
       "      <th>9</th>\n",
       "      <td>Health</td>\n",
       "      <td>48.455373</td>\n",
       "      <td>26602</td>\n",
       "      <td>549</td>\n",
       "    </tr>\n",
       "    <tr>\n",
       "      <th>10</th>\n",
       "      <td>Hogar y reformas</td>\n",
       "      <td>58.900000</td>\n",
       "      <td>4712</td>\n",
       "      <td>80</td>\n",
       "    </tr>\n",
       "    <tr>\n",
       "      <th>11</th>\n",
       "      <td>Other goods and services</td>\n",
       "      <td>132.049774</td>\n",
       "      <td>29183</td>\n",
       "      <td>221</td>\n",
       "    </tr>\n",
       "    <tr>\n",
       "      <th>12</th>\n",
       "      <td>Personal products</td>\n",
       "      <td>50.912409</td>\n",
       "      <td>6975</td>\n",
       "      <td>137</td>\n",
       "    </tr>\n",
       "    <tr>\n",
       "      <th>13</th>\n",
       "      <td>Sports &amp; Games</td>\n",
       "      <td>92.127907</td>\n",
       "      <td>7923</td>\n",
       "      <td>86</td>\n",
       "    </tr>\n",
       "    <tr>\n",
       "      <th>14</th>\n",
       "      <td>Transportation</td>\n",
       "      <td>258.592593</td>\n",
       "      <td>55856</td>\n",
       "      <td>216</td>\n",
       "    </tr>\n",
       "  </tbody>\n",
       "</table>\n",
       "</div>"
      ],
      "text/plain": [
       "                    category  mean_amount  sum_amount  count_amount\n",
       "0              Accommodation   256.387477      282539          1102\n",
       "1         Agencias de viajes   303.200000        1516             5\n",
       "2                 Automocion   302.666667        1816             6\n",
       "3         Bars & restaurants    76.584913      202031          2638\n",
       "4              Books & Music   226.387097       21054            93\n",
       "5          Culture & Leisure   258.108696       23746            92\n",
       "6    Electronics & computing    46.235294        2358            51\n",
       "7            Fashion & Shoes    92.074832      494626          5372\n",
       "8                       Food    91.227586       13228           145\n",
       "9                     Health    48.455373       26602           549\n",
       "10          Hogar y reformas    58.900000        4712            80\n",
       "11  Other goods and services   132.049774       29183           221\n",
       "12         Personal products    50.912409        6975           137\n",
       "13            Sports & Games    92.127907        7923            86\n",
       "14            Transportation   258.592593       55856           216"
      ]
     },
     "execution_count": 13,
     "metadata": {},
     "output_type": "execute_result"
    }
   ],
   "source": [
    "df3"
   ]
  },
  {
   "cell_type": "markdown",
   "id": "1b1aca04",
   "metadata": {},
   "source": [
    "<a id='2.3'></a>\n",
    "### <font color=li_blue> 2.3. Create for specific country by category </font>"
   ]
  },
  {
   "cell_type": "code",
   "execution_count": 14,
   "id": "3ec537c5",
   "metadata": {},
   "outputs": [],
   "source": [
    "total = df3.drop(columns =['count_amount'])"
   ]
  },
  {
   "cell_type": "code",
   "execution_count": 15,
   "id": "84bac8ab",
   "metadata": {},
   "outputs": [
    {
     "data": {
      "text/html": [
       "<div>\n",
       "<style scoped>\n",
       "    .dataframe tbody tr th:only-of-type {\n",
       "        vertical-align: middle;\n",
       "    }\n",
       "\n",
       "    .dataframe tbody tr th {\n",
       "        vertical-align: top;\n",
       "    }\n",
       "\n",
       "    .dataframe thead th {\n",
       "        text-align: right;\n",
       "    }\n",
       "</style>\n",
       "<table border=\"1\" class=\"dataframe\">\n",
       "  <thead>\n",
       "    <tr style=\"text-align: right;\">\n",
       "      <th></th>\n",
       "      <th>category</th>\n",
       "      <th>total_mean_amount</th>\n",
       "      <th>sum_mean_amount</th>\n",
       "    </tr>\n",
       "  </thead>\n",
       "  <tbody>\n",
       "    <tr>\n",
       "      <th>0</th>\n",
       "      <td>Accommodation</td>\n",
       "      <td>256.387477</td>\n",
       "      <td>282539</td>\n",
       "    </tr>\n",
       "    <tr>\n",
       "      <th>1</th>\n",
       "      <td>Agencias de viajes</td>\n",
       "      <td>303.200000</td>\n",
       "      <td>1516</td>\n",
       "    </tr>\n",
       "    <tr>\n",
       "      <th>2</th>\n",
       "      <td>Automocion</td>\n",
       "      <td>302.666667</td>\n",
       "      <td>1816</td>\n",
       "    </tr>\n",
       "    <tr>\n",
       "      <th>3</th>\n",
       "      <td>Bars &amp; restaurants</td>\n",
       "      <td>76.584913</td>\n",
       "      <td>202031</td>\n",
       "    </tr>\n",
       "    <tr>\n",
       "      <th>4</th>\n",
       "      <td>Books &amp; Music</td>\n",
       "      <td>226.387097</td>\n",
       "      <td>21054</td>\n",
       "    </tr>\n",
       "    <tr>\n",
       "      <th>5</th>\n",
       "      <td>Culture &amp; Leisure</td>\n",
       "      <td>258.108696</td>\n",
       "      <td>23746</td>\n",
       "    </tr>\n",
       "    <tr>\n",
       "      <th>6</th>\n",
       "      <td>Electronics &amp; computing</td>\n",
       "      <td>46.235294</td>\n",
       "      <td>2358</td>\n",
       "    </tr>\n",
       "    <tr>\n",
       "      <th>7</th>\n",
       "      <td>Fashion &amp; Shoes</td>\n",
       "      <td>92.074832</td>\n",
       "      <td>494626</td>\n",
       "    </tr>\n",
       "    <tr>\n",
       "      <th>8</th>\n",
       "      <td>Food</td>\n",
       "      <td>91.227586</td>\n",
       "      <td>13228</td>\n",
       "    </tr>\n",
       "    <tr>\n",
       "      <th>9</th>\n",
       "      <td>Health</td>\n",
       "      <td>48.455373</td>\n",
       "      <td>26602</td>\n",
       "    </tr>\n",
       "    <tr>\n",
       "      <th>10</th>\n",
       "      <td>Hogar y reformas</td>\n",
       "      <td>58.900000</td>\n",
       "      <td>4712</td>\n",
       "    </tr>\n",
       "    <tr>\n",
       "      <th>11</th>\n",
       "      <td>Other goods and services</td>\n",
       "      <td>132.049774</td>\n",
       "      <td>29183</td>\n",
       "    </tr>\n",
       "    <tr>\n",
       "      <th>12</th>\n",
       "      <td>Personal products</td>\n",
       "      <td>50.912409</td>\n",
       "      <td>6975</td>\n",
       "    </tr>\n",
       "    <tr>\n",
       "      <th>13</th>\n",
       "      <td>Sports &amp; Games</td>\n",
       "      <td>92.127907</td>\n",
       "      <td>7923</td>\n",
       "    </tr>\n",
       "    <tr>\n",
       "      <th>14</th>\n",
       "      <td>Transportation</td>\n",
       "      <td>258.592593</td>\n",
       "      <td>55856</td>\n",
       "    </tr>\n",
       "  </tbody>\n",
       "</table>\n",
       "</div>"
      ],
      "text/plain": [
       "                    category  total_mean_amount  sum_mean_amount\n",
       "0              Accommodation         256.387477           282539\n",
       "1         Agencias de viajes         303.200000             1516\n",
       "2                 Automocion         302.666667             1816\n",
       "3         Bars & restaurants          76.584913           202031\n",
       "4              Books & Music         226.387097            21054\n",
       "5          Culture & Leisure         258.108696            23746\n",
       "6    Electronics & computing          46.235294             2358\n",
       "7            Fashion & Shoes          92.074832           494626\n",
       "8                       Food          91.227586            13228\n",
       "9                     Health          48.455373            26602\n",
       "10          Hogar y reformas          58.900000             4712\n",
       "11  Other goods and services         132.049774            29183\n",
       "12         Personal products          50.912409             6975\n",
       "13            Sports & Games          92.127907             7923\n",
       "14            Transportation         258.592593            55856"
      ]
     },
     "execution_count": 15,
     "metadata": {},
     "output_type": "execute_result"
    }
   ],
   "source": [
    "#rename columns\n",
    "total.rename(columns = {'mean_amount':'total_mean_amount'}, inplace = True)\n",
    "total.rename(columns = {'sum_amount':'sum_mean_amount'}, inplace = True)\n",
    "total"
   ]
  },
  {
   "cell_type": "code",
   "execution_count": 16,
   "id": "0fbb5b01",
   "metadata": {},
   "outputs": [],
   "source": [
    "df4 =df.groupby(['country_name', 'category'],as_index=False).agg(\n",
    "    # Get max of the duration column for each group\n",
    "    mean_amount=('amount','mean'),\n",
    ")"
   ]
  },
  {
   "cell_type": "code",
   "execution_count": 17,
   "id": "27e2bb77",
   "metadata": {
    "scrolled": true
   },
   "outputs": [],
   "source": [
    "US_sales = df4[df4[\"country_name\"].str.contains('United States of America')]\n",
    "US_sales.rename(columns = {'mean_amount':'US_mean_amount'}, inplace = True)\n",
    "FR_sales = df4[df4[\"country_name\"].str.match('France')]\n",
    "FR_sales.rename(columns = {'mean_amount':'FR_mean_amount'}, inplace = True)\n",
    "CN_sales = df4[df4[\"country_name\"].str.match('China')]\n",
    "CN_sales.rename(columns = {'mean_amount':'CN_mean_amount'}, inplace = True)\n",
    "\n",
    "UK_sales = df4[df4[\"country_name\"].str.match('United Kingdom ')]\n",
    "UK_sales.rename(columns = {'mean_amount':'UK_mean_amount'}, inplace = True)\n",
    "\n",
    "#US_sales = df1.groupby('category').filter(lambda x: (x[\"country_name\"] == ['United States of America']).any())\n",
    "#FR_sales = df1.groupby(['France'])['sum_amount'].sum().reset_index()\n",
    "#CH_sales = df1.groupby(['China'])['sum_amount'].sum().reset_index()"
   ]
  },
  {
   "cell_type": "code",
   "execution_count": 18,
   "id": "329aaede",
   "metadata": {},
   "outputs": [
    {
     "data": {
      "text/html": [
       "<div>\n",
       "<style scoped>\n",
       "    .dataframe tbody tr th:only-of-type {\n",
       "        vertical-align: middle;\n",
       "    }\n",
       "\n",
       "    .dataframe tbody tr th {\n",
       "        vertical-align: top;\n",
       "    }\n",
       "\n",
       "    .dataframe thead th {\n",
       "        text-align: right;\n",
       "    }\n",
       "</style>\n",
       "<table border=\"1\" class=\"dataframe\">\n",
       "  <thead>\n",
       "    <tr style=\"text-align: right;\">\n",
       "      <th></th>\n",
       "      <th>country_name</th>\n",
       "      <th>category</th>\n",
       "      <th>US_mean_amount</th>\n",
       "    </tr>\n",
       "  </thead>\n",
       "  <tbody>\n",
       "    <tr>\n",
       "      <th>584</th>\n",
       "      <td>United States of America</td>\n",
       "      <td>Accommodation</td>\n",
       "      <td>258.661157</td>\n",
       "    </tr>\n",
       "    <tr>\n",
       "      <th>585</th>\n",
       "      <td>United States of America</td>\n",
       "      <td>Bars &amp; restaurants</td>\n",
       "      <td>54.683442</td>\n",
       "    </tr>\n",
       "    <tr>\n",
       "      <th>586</th>\n",
       "      <td>United States of America</td>\n",
       "      <td>Books &amp; Music</td>\n",
       "      <td>203.000000</td>\n",
       "    </tr>\n",
       "    <tr>\n",
       "      <th>587</th>\n",
       "      <td>United States of America</td>\n",
       "      <td>Culture &amp; Leisure</td>\n",
       "      <td>565.416667</td>\n",
       "    </tr>\n",
       "    <tr>\n",
       "      <th>588</th>\n",
       "      <td>United States of America</td>\n",
       "      <td>Electronics &amp; computing</td>\n",
       "      <td>22.400000</td>\n",
       "    </tr>\n",
       "    <tr>\n",
       "      <th>589</th>\n",
       "      <td>United States of America</td>\n",
       "      <td>Fashion &amp; Shoes</td>\n",
       "      <td>59.675136</td>\n",
       "    </tr>\n",
       "    <tr>\n",
       "      <th>590</th>\n",
       "      <td>United States of America</td>\n",
       "      <td>Food</td>\n",
       "      <td>58.485714</td>\n",
       "    </tr>\n",
       "    <tr>\n",
       "      <th>591</th>\n",
       "      <td>United States of America</td>\n",
       "      <td>Health</td>\n",
       "      <td>29.160920</td>\n",
       "    </tr>\n",
       "    <tr>\n",
       "      <th>592</th>\n",
       "      <td>United States of America</td>\n",
       "      <td>Hogar y reformas</td>\n",
       "      <td>47.500000</td>\n",
       "    </tr>\n",
       "    <tr>\n",
       "      <th>593</th>\n",
       "      <td>United States of America</td>\n",
       "      <td>Other goods and services</td>\n",
       "      <td>53.333333</td>\n",
       "    </tr>\n",
       "    <tr>\n",
       "      <th>594</th>\n",
       "      <td>United States of America</td>\n",
       "      <td>Personal products</td>\n",
       "      <td>46.100000</td>\n",
       "    </tr>\n",
       "    <tr>\n",
       "      <th>595</th>\n",
       "      <td>United States of America</td>\n",
       "      <td>Sports &amp; Games</td>\n",
       "      <td>139.333333</td>\n",
       "    </tr>\n",
       "    <tr>\n",
       "      <th>596</th>\n",
       "      <td>United States of America</td>\n",
       "      <td>Transportation</td>\n",
       "      <td>657.107143</td>\n",
       "    </tr>\n",
       "  </tbody>\n",
       "</table>\n",
       "</div>"
      ],
      "text/plain": [
       "                 country_name                  category  US_mean_amount\n",
       "584  United States of America             Accommodation      258.661157\n",
       "585  United States of America        Bars & restaurants       54.683442\n",
       "586  United States of America             Books & Music      203.000000\n",
       "587  United States of America         Culture & Leisure      565.416667\n",
       "588  United States of America   Electronics & computing       22.400000\n",
       "589  United States of America           Fashion & Shoes       59.675136\n",
       "590  United States of America                      Food       58.485714\n",
       "591  United States of America                    Health       29.160920\n",
       "592  United States of America          Hogar y reformas       47.500000\n",
       "593  United States of America  Other goods and services       53.333333\n",
       "594  United States of America         Personal products       46.100000\n",
       "595  United States of America            Sports & Games      139.333333\n",
       "596  United States of America            Transportation      657.107143"
      ]
     },
     "execution_count": 18,
     "metadata": {},
     "output_type": "execute_result"
    }
   ],
   "source": [
    "US_sales "
   ]
  },
  {
   "cell_type": "code",
   "execution_count": 19,
   "id": "d5e4e0b1",
   "metadata": {},
   "outputs": [],
   "source": [
    "US_FR = US_sales.merge(FR_sales, left_on='category', right_on ='category', how = 'left')\n",
    "US_FR = US_FR.merge(CN_sales,left_on='category', right_on ='category', how = 'left')\n",
    "US_FR = US_FR.merge(total,left_on='category', right_on ='category', how = 'left')\n",
    "US_FR = US_FR.merge(UK_sales,left_on='category', right_on ='category', how = 'left')\n",
    "US_FR = US_FR.fillna(0)"
   ]
  },
  {
   "cell_type": "code",
   "execution_count": 20,
   "id": "d64cf67b",
   "metadata": {},
   "outputs": [
    {
     "data": {
      "text/html": [
       "<div>\n",
       "<style scoped>\n",
       "    .dataframe tbody tr th:only-of-type {\n",
       "        vertical-align: middle;\n",
       "    }\n",
       "\n",
       "    .dataframe tbody tr th {\n",
       "        vertical-align: top;\n",
       "    }\n",
       "\n",
       "    .dataframe thead th {\n",
       "        text-align: right;\n",
       "    }\n",
       "</style>\n",
       "<table border=\"1\" class=\"dataframe\">\n",
       "  <thead>\n",
       "    <tr style=\"text-align: right;\">\n",
       "      <th></th>\n",
       "      <th>country_name_x</th>\n",
       "      <th>category</th>\n",
       "      <th>US_mean_amount</th>\n",
       "      <th>country_name_y</th>\n",
       "      <th>FR_mean_amount</th>\n",
       "      <th>country_name_x</th>\n",
       "      <th>CN_mean_amount</th>\n",
       "      <th>total_mean_amount</th>\n",
       "      <th>sum_mean_amount</th>\n",
       "      <th>country_name_y</th>\n",
       "      <th>UK_mean_amount</th>\n",
       "    </tr>\n",
       "  </thead>\n",
       "  <tbody>\n",
       "    <tr>\n",
       "      <th>0</th>\n",
       "      <td>United States of America</td>\n",
       "      <td>Accommodation</td>\n",
       "      <td>258.661157</td>\n",
       "      <td>France</td>\n",
       "      <td>215.818182</td>\n",
       "      <td>China</td>\n",
       "      <td>433.419355</td>\n",
       "      <td>256.387477</td>\n",
       "      <td>282539</td>\n",
       "      <td>United Kingdom</td>\n",
       "      <td>191.611111</td>\n",
       "    </tr>\n",
       "    <tr>\n",
       "      <th>1</th>\n",
       "      <td>United States of America</td>\n",
       "      <td>Bars &amp; restaurants</td>\n",
       "      <td>54.683442</td>\n",
       "      <td>France</td>\n",
       "      <td>49.700658</td>\n",
       "      <td>China</td>\n",
       "      <td>178.819672</td>\n",
       "      <td>76.584913</td>\n",
       "      <td>202031</td>\n",
       "      <td>United Kingdom</td>\n",
       "      <td>77.127820</td>\n",
       "    </tr>\n",
       "    <tr>\n",
       "      <th>2</th>\n",
       "      <td>United States of America</td>\n",
       "      <td>Books &amp; Music</td>\n",
       "      <td>203.000000</td>\n",
       "      <td>France</td>\n",
       "      <td>42.000000</td>\n",
       "      <td>0</td>\n",
       "      <td>0.000000</td>\n",
       "      <td>226.387097</td>\n",
       "      <td>21054</td>\n",
       "      <td>United Kingdom</td>\n",
       "      <td>111.000000</td>\n",
       "    </tr>\n",
       "    <tr>\n",
       "      <th>3</th>\n",
       "      <td>United States of America</td>\n",
       "      <td>Culture &amp; Leisure</td>\n",
       "      <td>565.416667</td>\n",
       "      <td>France</td>\n",
       "      <td>33.000000</td>\n",
       "      <td>China</td>\n",
       "      <td>4.000000</td>\n",
       "      <td>258.108696</td>\n",
       "      <td>23746</td>\n",
       "      <td>United Kingdom</td>\n",
       "      <td>1058.500000</td>\n",
       "    </tr>\n",
       "    <tr>\n",
       "      <th>4</th>\n",
       "      <td>United States of America</td>\n",
       "      <td>Electronics &amp; computing</td>\n",
       "      <td>22.400000</td>\n",
       "      <td>France</td>\n",
       "      <td>58.200000</td>\n",
       "      <td>0</td>\n",
       "      <td>0.000000</td>\n",
       "      <td>46.235294</td>\n",
       "      <td>2358</td>\n",
       "      <td>United Kingdom</td>\n",
       "      <td>113.250000</td>\n",
       "    </tr>\n",
       "  </tbody>\n",
       "</table>\n",
       "</div>"
      ],
      "text/plain": [
       "             country_name_x                 category  US_mean_amount  \\\n",
       "0  United States of America            Accommodation      258.661157   \n",
       "1  United States of America       Bars & restaurants       54.683442   \n",
       "2  United States of America            Books & Music      203.000000   \n",
       "3  United States of America        Culture & Leisure      565.416667   \n",
       "4  United States of America  Electronics & computing       22.400000   \n",
       "\n",
       "  country_name_y  FR_mean_amount country_name_x  CN_mean_amount  \\\n",
       "0         France      215.818182          China      433.419355   \n",
       "1         France       49.700658          China      178.819672   \n",
       "2         France       42.000000              0        0.000000   \n",
       "3         France       33.000000          China        4.000000   \n",
       "4         France       58.200000              0        0.000000   \n",
       "\n",
       "   total_mean_amount  sum_mean_amount   country_name_y  UK_mean_amount  \n",
       "0         256.387477           282539  United Kingdom       191.611111  \n",
       "1          76.584913           202031  United Kingdom        77.127820  \n",
       "2         226.387097            21054  United Kingdom       111.000000  \n",
       "3         258.108696            23746  United Kingdom      1058.500000  \n",
       "4          46.235294             2358  United Kingdom       113.250000  "
      ]
     },
     "execution_count": 20,
     "metadata": {},
     "output_type": "execute_result"
    }
   ],
   "source": [
    "US_FR.head()"
   ]
  },
  {
   "cell_type": "code",
   "execution_count": 21,
   "id": "2ebaf8d6",
   "metadata": {},
   "outputs": [],
   "source": [
    "df1 = df1.merge(sales, left_on='category', right_on ='category', how = 'left')"
   ]
  },
  {
   "cell_type": "code",
   "execution_count": 22,
   "id": "0a610328",
   "metadata": {},
   "outputs": [],
   "source": [
    "df1['market_share_ctry'] = (df1['sum_amount_x']/df1['sum_amount_y'])"
   ]
  },
  {
   "cell_type": "code",
   "execution_count": 23,
   "id": "42416449",
   "metadata": {},
   "outputs": [
    {
     "data": {
      "text/html": [
       "<div>\n",
       "<style scoped>\n",
       "    .dataframe tbody tr th:only-of-type {\n",
       "        vertical-align: middle;\n",
       "    }\n",
       "\n",
       "    .dataframe tbody tr th {\n",
       "        vertical-align: top;\n",
       "    }\n",
       "\n",
       "    .dataframe thead th {\n",
       "        text-align: right;\n",
       "    }\n",
       "</style>\n",
       "<table border=\"1\" class=\"dataframe\">\n",
       "  <thead>\n",
       "    <tr style=\"text-align: right;\">\n",
       "      <th></th>\n",
       "      <th>country_name</th>\n",
       "      <th>category</th>\n",
       "      <th>Income_classification</th>\n",
       "      <th>region</th>\n",
       "      <th>mean_amount</th>\n",
       "      <th>sum_amount_x</th>\n",
       "      <th>count_amount</th>\n",
       "      <th>growth_GDP</th>\n",
       "      <th>sum_amount_y</th>\n",
       "      <th>sum_amount</th>\n",
       "      <th>market_share_ctry</th>\n",
       "    </tr>\n",
       "  </thead>\n",
       "  <tbody>\n",
       "    <tr>\n",
       "      <th>0</th>\n",
       "      <td>Algeria</td>\n",
       "      <td>Fashion &amp; Shoes</td>\n",
       "      <td>Upper middle income</td>\n",
       "      <td>Africa</td>\n",
       "      <td>197.166667</td>\n",
       "      <td>1183</td>\n",
       "      <td>6</td>\n",
       "      <td>3.400000</td>\n",
       "      <td>494626</td>\n",
       "      <td>494626</td>\n",
       "      <td>0.002392</td>\n",
       "    </tr>\n",
       "    <tr>\n",
       "      <th>1</th>\n",
       "      <td>Algeria</td>\n",
       "      <td>Health</td>\n",
       "      <td>Upper middle income</td>\n",
       "      <td>Africa</td>\n",
       "      <td>217.000000</td>\n",
       "      <td>217</td>\n",
       "      <td>1</td>\n",
       "      <td>3.400000</td>\n",
       "      <td>26602</td>\n",
       "      <td>26602</td>\n",
       "      <td>0.008157</td>\n",
       "    </tr>\n",
       "    <tr>\n",
       "      <th>2</th>\n",
       "      <td>Andorra</td>\n",
       "      <td>Accommodation</td>\n",
       "      <td>High income</td>\n",
       "      <td>Europe</td>\n",
       "      <td>130.500000</td>\n",
       "      <td>522</td>\n",
       "      <td>4</td>\n",
       "      <td>-4.974444</td>\n",
       "      <td>282539</td>\n",
       "      <td>282539</td>\n",
       "      <td>0.001848</td>\n",
       "    </tr>\n",
       "    <tr>\n",
       "      <th>3</th>\n",
       "      <td>Andorra</td>\n",
       "      <td>Automocion</td>\n",
       "      <td>High income</td>\n",
       "      <td>Europe</td>\n",
       "      <td>390.000000</td>\n",
       "      <td>390</td>\n",
       "      <td>1</td>\n",
       "      <td>-4.974444</td>\n",
       "      <td>1816</td>\n",
       "      <td>1816</td>\n",
       "      <td>0.214758</td>\n",
       "    </tr>\n",
       "    <tr>\n",
       "      <th>4</th>\n",
       "      <td>Andorra</td>\n",
       "      <td>Bars &amp; restaurants</td>\n",
       "      <td>High income</td>\n",
       "      <td>Europe</td>\n",
       "      <td>57.473684</td>\n",
       "      <td>2184</td>\n",
       "      <td>38</td>\n",
       "      <td>-4.974444</td>\n",
       "      <td>202031</td>\n",
       "      <td>202031</td>\n",
       "      <td>0.010810</td>\n",
       "    </tr>\n",
       "  </tbody>\n",
       "</table>\n",
       "</div>"
      ],
      "text/plain": [
       "  country_name            category Income_classification  region  mean_amount  \\\n",
       "0      Algeria     Fashion & Shoes  Upper middle income   Africa   197.166667   \n",
       "1      Algeria              Health  Upper middle income   Africa   217.000000   \n",
       "2      Andorra       Accommodation           High income  Europe   130.500000   \n",
       "3      Andorra          Automocion           High income  Europe   390.000000   \n",
       "4      Andorra  Bars & restaurants           High income  Europe    57.473684   \n",
       "\n",
       "   sum_amount_x  count_amount  growth_GDP  sum_amount_y  sum_amount  \\\n",
       "0          1183             6    3.400000        494626      494626   \n",
       "1           217             1    3.400000         26602       26602   \n",
       "2           522             4   -4.974444        282539      282539   \n",
       "3           390             1   -4.974444          1816        1816   \n",
       "4          2184            38   -4.974444        202031      202031   \n",
       "\n",
       "   market_share_ctry  \n",
       "0           0.002392  \n",
       "1           0.008157  \n",
       "2           0.001848  \n",
       "3           0.214758  \n",
       "4           0.010810  "
      ]
     },
     "execution_count": 23,
     "metadata": {},
     "output_type": "execute_result"
    }
   ],
   "source": [
    "df1.head()"
   ]
  },
  {
   "cell_type": "code",
   "execution_count": 24,
   "id": "ae5daf5c",
   "metadata": {},
   "outputs": [
    {
     "data": {
      "text/plain": [
       "Index(['country_name', 'category', 'Income_classification', 'region',\n",
       "       'mean_amount', 'sum_amount_x', 'count_amount', 'growth_GDP',\n",
       "       'sum_amount_y', 'sum_amount', 'market_share_ctry'],\n",
       "      dtype='object')"
      ]
     },
     "execution_count": 24,
     "metadata": {},
     "output_type": "execute_result"
    }
   ],
   "source": [
    "#df1[df1.category == ('Health')]\n",
    "df1.columns"
   ]
  },
  {
   "cell_type": "markdown",
   "id": "3fce590a",
   "metadata": {},
   "source": [
    "New column for country classification only "
   ]
  },
  {
   "cell_type": "code",
   "execution_count": 25,
   "id": "2608c0dd",
   "metadata": {},
   "outputs": [],
   "source": [
    "#max market share to calculate the relative market share, metric that shows a countries position in the market compared to its main competitor.\n",
    "df1['max_ms'] = df1.groupby(['category'])['market_share_ctry'].transform(max)\n",
    "df1['relative_MS'] = (df1['market_share_ctry']/df1['max_ms'])"
   ]
  },
  {
   "cell_type": "code",
   "execution_count": 26,
   "id": "d9bd777b",
   "metadata": {},
   "outputs": [
    {
     "data": {
      "text/html": [
       "<div>\n",
       "<style scoped>\n",
       "    .dataframe tbody tr th:only-of-type {\n",
       "        vertical-align: middle;\n",
       "    }\n",
       "\n",
       "    .dataframe tbody tr th {\n",
       "        vertical-align: top;\n",
       "    }\n",
       "\n",
       "    .dataframe thead th {\n",
       "        text-align: right;\n",
       "    }\n",
       "</style>\n",
       "<table border=\"1\" class=\"dataframe\">\n",
       "  <thead>\n",
       "    <tr style=\"text-align: right;\">\n",
       "      <th></th>\n",
       "      <th>country_name</th>\n",
       "      <th>category</th>\n",
       "      <th>Income_classification</th>\n",
       "      <th>region</th>\n",
       "      <th>mean_amount</th>\n",
       "      <th>sum_amount_x</th>\n",
       "      <th>count_amount</th>\n",
       "      <th>growth_GDP</th>\n",
       "      <th>sum_amount_y</th>\n",
       "      <th>sum_amount</th>\n",
       "      <th>market_share_ctry</th>\n",
       "      <th>max_ms</th>\n",
       "      <th>relative_MS</th>\n",
       "    </tr>\n",
       "  </thead>\n",
       "  <tbody>\n",
       "    <tr>\n",
       "      <th>0</th>\n",
       "      <td>Algeria</td>\n",
       "      <td>Fashion &amp; Shoes</td>\n",
       "      <td>Upper middle income</td>\n",
       "      <td>Africa</td>\n",
       "      <td>197.166667</td>\n",
       "      <td>1183</td>\n",
       "      <td>6</td>\n",
       "      <td>3.400000</td>\n",
       "      <td>494626</td>\n",
       "      <td>494626</td>\n",
       "      <td>0.002392</td>\n",
       "      <td>0.122426</td>\n",
       "      <td>0.019536</td>\n",
       "    </tr>\n",
       "    <tr>\n",
       "      <th>1</th>\n",
       "      <td>Algeria</td>\n",
       "      <td>Health</td>\n",
       "      <td>Upper middle income</td>\n",
       "      <td>Africa</td>\n",
       "      <td>217.000000</td>\n",
       "      <td>217</td>\n",
       "      <td>1</td>\n",
       "      <td>3.400000</td>\n",
       "      <td>26602</td>\n",
       "      <td>26602</td>\n",
       "      <td>0.008157</td>\n",
       "      <td>0.131381</td>\n",
       "      <td>0.062089</td>\n",
       "    </tr>\n",
       "    <tr>\n",
       "      <th>2</th>\n",
       "      <td>Andorra</td>\n",
       "      <td>Accommodation</td>\n",
       "      <td>High income</td>\n",
       "      <td>Europe</td>\n",
       "      <td>130.500000</td>\n",
       "      <td>522</td>\n",
       "      <td>4</td>\n",
       "      <td>-4.974444</td>\n",
       "      <td>282539</td>\n",
       "      <td>282539</td>\n",
       "      <td>0.001848</td>\n",
       "      <td>0.221548</td>\n",
       "      <td>0.008339</td>\n",
       "    </tr>\n",
       "    <tr>\n",
       "      <th>3</th>\n",
       "      <td>Andorra</td>\n",
       "      <td>Automocion</td>\n",
       "      <td>High income</td>\n",
       "      <td>Europe</td>\n",
       "      <td>390.000000</td>\n",
       "      <td>390</td>\n",
       "      <td>1</td>\n",
       "      <td>-4.974444</td>\n",
       "      <td>1816</td>\n",
       "      <td>1816</td>\n",
       "      <td>0.214758</td>\n",
       "      <td>0.625000</td>\n",
       "      <td>0.343612</td>\n",
       "    </tr>\n",
       "    <tr>\n",
       "      <th>4</th>\n",
       "      <td>Andorra</td>\n",
       "      <td>Bars &amp; restaurants</td>\n",
       "      <td>High income</td>\n",
       "      <td>Europe</td>\n",
       "      <td>57.473684</td>\n",
       "      <td>2184</td>\n",
       "      <td>38</td>\n",
       "      <td>-4.974444</td>\n",
       "      <td>202031</td>\n",
       "      <td>202031</td>\n",
       "      <td>0.010810</td>\n",
       "      <td>0.166732</td>\n",
       "      <td>0.064836</td>\n",
       "    </tr>\n",
       "  </tbody>\n",
       "</table>\n",
       "</div>"
      ],
      "text/plain": [
       "  country_name            category Income_classification  region  mean_amount  \\\n",
       "0      Algeria     Fashion & Shoes  Upper middle income   Africa   197.166667   \n",
       "1      Algeria              Health  Upper middle income   Africa   217.000000   \n",
       "2      Andorra       Accommodation           High income  Europe   130.500000   \n",
       "3      Andorra          Automocion           High income  Europe   390.000000   \n",
       "4      Andorra  Bars & restaurants           High income  Europe    57.473684   \n",
       "\n",
       "   sum_amount_x  count_amount  growth_GDP  sum_amount_y  sum_amount  \\\n",
       "0          1183             6    3.400000        494626      494626   \n",
       "1           217             1    3.400000         26602       26602   \n",
       "2           522             4   -4.974444        282539      282539   \n",
       "3           390             1   -4.974444          1816        1816   \n",
       "4          2184            38   -4.974444        202031      202031   \n",
       "\n",
       "   market_share_ctry    max_ms  relative_MS  \n",
       "0           0.002392  0.122426     0.019536  \n",
       "1           0.008157  0.131381     0.062089  \n",
       "2           0.001848  0.221548     0.008339  \n",
       "3           0.214758  0.625000     0.343612  \n",
       "4           0.010810  0.166732     0.064836  "
      ]
     },
     "execution_count": 26,
     "metadata": {},
     "output_type": "execute_result"
    }
   ],
   "source": [
    "df1.head()"
   ]
  },
  {
   "cell_type": "code",
   "execution_count": 27,
   "id": "3df7bc06",
   "metadata": {},
   "outputs": [],
   "source": [
    "df2 = df.groupby(['country_name','Income_classification'],as_index=False).agg(\n",
    "    # Get mean amount per column for each country\n",
    "    mean_amount=('amount', 'mean'),\n",
    "    # Get sum amount per column for each country\n",
    "    sum_amount=('amount', sum),\n",
    "    #  Get count amount per column for each country\n",
    "    count_amount=('amount', 'count'),\n",
    "    #  Get median amount per column for each country\n",
    "    median_amount=('amount', 'median'),\n",
    "    # Apply mean of growth since it is the same for each line by country (should give the real growth)\n",
    "    growth_GDP=('GDP growth (annual %)', 'mean'),\n",
    "    # Apply mean of GDP per capita since it is the same for each line (should give the real growth)\n",
    "    GDP_per_capita = ('GDP per capita (constant 2015 US$)','mean'),\n",
    ")"
   ]
  },
  {
   "cell_type": "code",
   "execution_count": 28,
   "id": "c3500add",
   "metadata": {},
   "outputs": [],
   "source": [
    "df2['log_mean_amount'] = np.log(df2['mean_amount'])"
   ]
  },
  {
   "cell_type": "code",
   "execution_count": 29,
   "id": "13419b5b",
   "metadata": {},
   "outputs": [],
   "source": [
    "sales = df2['sum_amount'].sum()"
   ]
  },
  {
   "cell_type": "code",
   "execution_count": 30,
   "id": "1a60bca5",
   "metadata": {},
   "outputs": [],
   "source": [
    "df2['percent'] = (df2['sum_amount'] / sales) *100\n",
    "df2['log_sum_amount'] = np.log(df2['sum_amount'])\n",
    "df2['log_GDP_per_capita'] = (df2['GDP_per_capita'] / sales) *100\n",
    "df2['relative_MS'] = df2['percent']/ df2['percent'].max()"
   ]
  },
  {
   "cell_type": "code",
   "execution_count": 31,
   "id": "8fb4f90f",
   "metadata": {},
   "outputs": [
    {
     "data": {
      "text/plain": [
       "15.693961240541151"
      ]
     },
     "execution_count": 31,
     "metadata": {},
     "output_type": "execute_result"
    }
   ],
   "source": [
    "df2['percent'].max()"
   ]
  },
  {
   "cell_type": "code",
   "execution_count": 32,
   "id": "39ec563d",
   "metadata": {},
   "outputs": [
    {
     "data": {
      "text/html": [
       "<div>\n",
       "<style scoped>\n",
       "    .dataframe tbody tr th:only-of-type {\n",
       "        vertical-align: middle;\n",
       "    }\n",
       "\n",
       "    .dataframe tbody tr th {\n",
       "        vertical-align: top;\n",
       "    }\n",
       "\n",
       "    .dataframe thead th {\n",
       "        text-align: right;\n",
       "    }\n",
       "</style>\n",
       "<table border=\"1\" class=\"dataframe\">\n",
       "  <thead>\n",
       "    <tr style=\"text-align: right;\">\n",
       "      <th></th>\n",
       "      <th>country_name</th>\n",
       "      <th>Income_classification</th>\n",
       "      <th>mean_amount</th>\n",
       "      <th>sum_amount</th>\n",
       "      <th>count_amount</th>\n",
       "      <th>median_amount</th>\n",
       "      <th>growth_GDP</th>\n",
       "      <th>GDP_per_capita</th>\n",
       "      <th>log_mean_amount</th>\n",
       "      <th>percent</th>\n",
       "      <th>log_sum_amount</th>\n",
       "      <th>log_GDP_per_capita</th>\n",
       "      <th>relative_MS</th>\n",
       "    </tr>\n",
       "  </thead>\n",
       "  <tbody>\n",
       "    <tr>\n",
       "      <th>0</th>\n",
       "      <td>Algeria</td>\n",
       "      <td>Upper middle income</td>\n",
       "      <td>200.000000</td>\n",
       "      <td>1400</td>\n",
       "      <td>7</td>\n",
       "      <td>110.0</td>\n",
       "      <td>3.400000</td>\n",
       "      <td>4012.0</td>\n",
       "      <td>5.298317</td>\n",
       "      <td>0.119234</td>\n",
       "      <td>7.244228</td>\n",
       "      <td>0.341690</td>\n",
       "      <td>0.007597</td>\n",
       "    </tr>\n",
       "    <tr>\n",
       "      <th>1</th>\n",
       "      <td>Andorra</td>\n",
       "      <td>High income</td>\n",
       "      <td>66.725490</td>\n",
       "      <td>10209</td>\n",
       "      <td>153</td>\n",
       "      <td>40.0</td>\n",
       "      <td>-4.974444</td>\n",
       "      <td>33750.0</td>\n",
       "      <td>4.200587</td>\n",
       "      <td>0.869469</td>\n",
       "      <td>9.231025</td>\n",
       "      <td>2.874383</td>\n",
       "      <td>0.055401</td>\n",
       "    </tr>\n",
       "    <tr>\n",
       "      <th>2</th>\n",
       "      <td>Angola</td>\n",
       "      <td>Upper middle income</td>\n",
       "      <td>353.142857</td>\n",
       "      <td>2472</td>\n",
       "      <td>7</td>\n",
       "      <td>62.0</td>\n",
       "      <td>8.540000</td>\n",
       "      <td>3128.0</td>\n",
       "      <td>5.866873</td>\n",
       "      <td>0.210533</td>\n",
       "      <td>7.812783</td>\n",
       "      <td>0.266402</td>\n",
       "      <td>0.013415</td>\n",
       "    </tr>\n",
       "    <tr>\n",
       "      <th>3</th>\n",
       "      <td>Argentina</td>\n",
       "      <td>Upper middle income</td>\n",
       "      <td>79.528620</td>\n",
       "      <td>23620</td>\n",
       "      <td>297</td>\n",
       "      <td>30.0</td>\n",
       "      <td>-1.026420</td>\n",
       "      <td>13896.0</td>\n",
       "      <td>4.376117</td>\n",
       "      <td>2.011642</td>\n",
       "      <td>10.069849</td>\n",
       "      <td>1.183479</td>\n",
       "      <td>0.128179</td>\n",
       "    </tr>\n",
       "    <tr>\n",
       "      <th>4</th>\n",
       "      <td>Armenia</td>\n",
       "      <td>Lower middle income</td>\n",
       "      <td>28.000000</td>\n",
       "      <td>28</td>\n",
       "      <td>1</td>\n",
       "      <td>28.0</td>\n",
       "      <td>7.200000</td>\n",
       "      <td>3313.0</td>\n",
       "      <td>3.332205</td>\n",
       "      <td>0.002385</td>\n",
       "      <td>3.332205</td>\n",
       "      <td>0.282158</td>\n",
       "      <td>0.000152</td>\n",
       "    </tr>\n",
       "  </tbody>\n",
       "</table>\n",
       "</div>"
      ],
      "text/plain": [
       "  country_name Income_classification  mean_amount  sum_amount  count_amount  \\\n",
       "0      Algeria  Upper middle income    200.000000        1400             7   \n",
       "1      Andorra           High income    66.725490       10209           153   \n",
       "2       Angola  Upper middle income    353.142857        2472             7   \n",
       "3    Argentina  Upper middle income     79.528620       23620           297   \n",
       "4      Armenia  Lower middle income     28.000000          28             1   \n",
       "\n",
       "   median_amount  growth_GDP  GDP_per_capita  log_mean_amount   percent  \\\n",
       "0          110.0    3.400000          4012.0         5.298317  0.119234   \n",
       "1           40.0   -4.974444         33750.0         4.200587  0.869469   \n",
       "2           62.0    8.540000          3128.0         5.866873  0.210533   \n",
       "3           30.0   -1.026420         13896.0         4.376117  2.011642   \n",
       "4           28.0    7.200000          3313.0         3.332205  0.002385   \n",
       "\n",
       "   log_sum_amount  log_GDP_per_capita  relative_MS  \n",
       "0        7.244228            0.341690     0.007597  \n",
       "1        9.231025            2.874383     0.055401  \n",
       "2        7.812783            0.266402     0.013415  \n",
       "3       10.069849            1.183479     0.128179  \n",
       "4        3.332205            0.282158     0.000152  "
      ]
     },
     "execution_count": 32,
     "metadata": {},
     "output_type": "execute_result"
    }
   ],
   "source": [
    "df2.head()"
   ]
  },
  {
   "cell_type": "code",
   "execution_count": 33,
   "id": "8128a856",
   "metadata": {},
   "outputs": [],
   "source": [
    "# NEw dataframe "
   ]
  },
  {
   "cell_type": "code",
   "execution_count": 34,
   "id": "a0f67bd9",
   "metadata": {},
   "outputs": [],
   "source": [
    "df6 = df.groupby(['category','Income_classification'],as_index=False).agg(\n",
    "    # Get mean amount per column for each country\n",
    "    mean_amount=('amount', 'mean'),\n",
    "    # Get sum amount per column for each country\n",
    "    sum_amount=('amount', sum),\n",
    ")"
   ]
  },
  {
   "cell_type": "code",
   "execution_count": null,
   "id": "cc9b1699",
   "metadata": {},
   "outputs": [],
   "source": []
  },
  {
   "cell_type": "code",
   "execution_count": null,
   "id": "b862c2f5",
   "metadata": {},
   "outputs": [],
   "source": []
  },
  {
   "cell_type": "markdown",
   "id": "48faa127",
   "metadata": {},
   "source": [
    "<a id='2.4'></a>\n",
    "### <font color=li_blue> 2.4. Create for specific country by category </font>"
   ]
  },
  {
   "cell_type": "code",
   "execution_count": 35,
   "id": "571ce0a0",
   "metadata": {},
   "outputs": [],
   "source": [
    "madrid_transactions=pd.read_csv('madrid_transactions_country05.12.2022.csv',sep=';')\n",
    "madrid_transactions['country-category']=madrid_transactions['country_name']+'-'+madrid_transactions['category']\n",
    "madrid_transactions['Median Category-Country']=madrid_transactions.groupby(['category','customer_country']).amount.transform(np.median)\n",
    "madrid_transactions['Median Country']=madrid_transactions.groupby(['customer_country']).amount.transform(np.median)\n",
    "madrid_transactions['Median Category']=madrid_transactions.groupby(['category']).amount.transform(np.median)\n",
    "category_q1=madrid_transactions.groupby(['category']).amount.quantile(q=0.25)\n",
    "category_q3=madrid_transactions.groupby(['category']).amount.quantile(q=0.75)\n",
    "madrid_transactions=madrid_transactions.merge(category_q1,on='category',how='left',suffixes=('','cat_q1'))\n",
    "madrid_transactions=madrid_transactions.merge(category_q3,on='category',how='left',suffixes=('','cat_q3'))\n",
    "madrid_transactions['Cat_IQR']=madrid_transactions['amountcat_q3']-madrid_transactions['amountcat_q1']\n",
    "madrid_transactions['Cat_low_IQR']=madrid_transactions['Median Category']-(1.5*madrid_transactions['Cat_IQR'])\n",
    "madrid_transactions['Cat_high_IQR']=madrid_transactions['Median Category']+(1.5*madrid_transactions['Cat_IQR'])\n",
    "madrid_transactions['Cat_Outliers']=np.where((madrid_transactions['amount']<madrid_transactions['Cat_low_IQR']) \\\n",
    "                                             |(madrid_transactions['amount']>madrid_transactions['Cat_high_IQR']),\\\n",
    "                                             'Outlier','')\n",
    "madrid_transactions=madrid_transactions[madrid_transactions['Cat_Outliers']=='']\n",
    "madrid_transactions['Median Category-Country']=madrid_transactions.groupby(['category','customer_country']).amount.transform(np.median)\n",
    "madrid_transactions['Median Country']=madrid_transactions.groupby(['customer_country']).amount.transform(np.median)\n",
    "madrid_transactions['Median Category']=madrid_transactions.groupby(['category']).amount.transform(np.median)\n",
    "madrid_transactions['Amount_Ctry_Cat']=madrid_transactions.groupby(['category','customer_country']).amount.transform(np.sum)\n",
    "df_ranking=madrid_transactions.groupby(['category','customer_country']).amount.sum().reset_index()\n",
    "df_ranking['Ranking']=df_ranking.groupby(['category']).amount.rank(method=\"first\", ascending=False)\n",
    "madrid_transactions=madrid_transactions.merge(df_ranking,on=['category','customer_country'],how='left',suffixes=('','rnk'))\n",
    "madrid_transactions['country_rnk']=madrid_transactions['Ranking'].astype(int).astype(str).str.zfill(2)+'.'+madrid_transactions['country_name']"
   ]
  },
  {
   "cell_type": "code",
   "execution_count": 36,
   "id": "de1e53d8",
   "metadata": {
    "scrolled": true
   },
   "outputs": [
    {
     "data": {
      "text/html": [
       "<div>\n",
       "<style scoped>\n",
       "    .dataframe tbody tr th:only-of-type {\n",
       "        vertical-align: middle;\n",
       "    }\n",
       "\n",
       "    .dataframe tbody tr th {\n",
       "        vertical-align: top;\n",
       "    }\n",
       "\n",
       "    .dataframe thead th {\n",
       "        text-align: right;\n",
       "    }\n",
       "</style>\n",
       "<table border=\"1\" class=\"dataframe\">\n",
       "  <thead>\n",
       "    <tr style=\"text-align: right;\">\n",
       "      <th></th>\n",
       "      <th>Unnamed: 0</th>\n",
       "      <th>amount</th>\n",
       "      <th>category</th>\n",
       "      <th>customer_country</th>\n",
       "      <th>daytime</th>\n",
       "      <th>hour</th>\n",
       "      <th>tx_date_proc</th>\n",
       "      <th>weekday</th>\n",
       "      <th>Date_new</th>\n",
       "      <th>numericcode</th>\n",
       "      <th>latitude(average)</th>\n",
       "      <th>longitude(average)</th>\n",
       "      <th>country_name</th>\n",
       "      <th>alpha-3</th>\n",
       "      <th>country_code</th>\n",
       "      <th>iso_3166-2</th>\n",
       "      <th>region</th>\n",
       "      <th>sub_region</th>\n",
       "      <th>GDP_USD_2012</th>\n",
       "      <th>GDP per capita (constant 2015 US$)</th>\n",
       "      <th>GDP, PPP (current international $)</th>\n",
       "      <th>GDP growth (annual %)</th>\n",
       "      <th>Income_classification1</th>\n",
       "      <th>PPP_2012</th>\n",
       "      <th>Gross domestic income (constant LCU)</th>\n",
       "      <th>Adjusted net national income per capita (constant 2015 US$)</th>\n",
       "      <th>Income_classification</th>\n",
       "      <th>GNI per capita, PPP (current international $)</th>\n",
       "      <th>country-category</th>\n",
       "      <th>Median Category-Country</th>\n",
       "      <th>Median Country</th>\n",
       "      <th>Median Category</th>\n",
       "      <th>amountcat_q1</th>\n",
       "      <th>amountcat_q3</th>\n",
       "      <th>Cat_IQR</th>\n",
       "      <th>Cat_low_IQR</th>\n",
       "      <th>Cat_high_IQR</th>\n",
       "      <th>Cat_Outliers</th>\n",
       "      <th>Amount_Ctry_Cat</th>\n",
       "      <th>amountrnk</th>\n",
       "      <th>Ranking</th>\n",
       "      <th>country_rnk</th>\n",
       "    </tr>\n",
       "  </thead>\n",
       "  <tbody>\n",
       "    <tr>\n",
       "      <th>0</th>\n",
       "      <td>1</td>\n",
       "      <td>33.46</td>\n",
       "      <td>Fashion &amp; Shoes</td>\n",
       "      <td>GB</td>\n",
       "      <td>Night</td>\n",
       "      <td>21</td>\n",
       "      <td>2012-03-01 21:51:54+00</td>\n",
       "      <td>thursday</td>\n",
       "      <td>01.03.12 21:51</td>\n",
       "      <td>826</td>\n",
       "      <td>NaN</td>\n",
       "      <td>-2.0</td>\n",
       "      <td>United Kingdom</td>\n",
       "      <td>GBR</td>\n",
       "      <td>826</td>\n",
       "      <td>ISO 3166-2:GB</td>\n",
       "      <td>Europe</td>\n",
       "      <td>Northern Europe</td>\n",
       "      <td>2719158341006</td>\n",
       "      <td>43100</td>\n",
       "      <td>2.453352e+12</td>\n",
       "      <td>1.469888</td>\n",
       "      <td>High income</td>\n",
       "      <td>0.70</td>\n",
       "      <td>1769649482466</td>\n",
       "      <td>35265</td>\n",
       "      <td>High income</td>\n",
       "      <td>38120</td>\n",
       "      <td>United Kingdom -Fashion &amp; Shoes</td>\n",
       "      <td>32.900</td>\n",
       "      <td>35.00</td>\n",
       "      <td>35.99</td>\n",
       "      <td>22.965</td>\n",
       "      <td>83.9600</td>\n",
       "      <td>60.9950</td>\n",
       "      <td>-48.64250</td>\n",
       "      <td>134.34250</td>\n",
       "      <td></td>\n",
       "      <td>10817.71</td>\n",
       "      <td>10817.71</td>\n",
       "      <td>4.0</td>\n",
       "      <td>04.United Kingdom</td>\n",
       "    </tr>\n",
       "    <tr>\n",
       "      <th>1</th>\n",
       "      <td>2</td>\n",
       "      <td>59.97</td>\n",
       "      <td>Fashion &amp; Shoes</td>\n",
       "      <td>GB</td>\n",
       "      <td>Afternoon</td>\n",
       "      <td>16</td>\n",
       "      <td>2012-03-02 16:12:52+00</td>\n",
       "      <td>friday</td>\n",
       "      <td>02.03.12 16:12</td>\n",
       "      <td>826</td>\n",
       "      <td>54.0</td>\n",
       "      <td>-2.0</td>\n",
       "      <td>United Kingdom</td>\n",
       "      <td>GBR</td>\n",
       "      <td>826</td>\n",
       "      <td>ISO 3166-2:GB</td>\n",
       "      <td>Europe</td>\n",
       "      <td>Northern Europe</td>\n",
       "      <td>2719158341006</td>\n",
       "      <td>43100</td>\n",
       "      <td>2.453352e+12</td>\n",
       "      <td>1.469888</td>\n",
       "      <td>High income</td>\n",
       "      <td>0.70</td>\n",
       "      <td>1769649482466</td>\n",
       "      <td>35265</td>\n",
       "      <td>High income</td>\n",
       "      <td>38120</td>\n",
       "      <td>United Kingdom -Fashion &amp; Shoes</td>\n",
       "      <td>32.900</td>\n",
       "      <td>35.00</td>\n",
       "      <td>35.99</td>\n",
       "      <td>22.965</td>\n",
       "      <td>83.9600</td>\n",
       "      <td>60.9950</td>\n",
       "      <td>-48.64250</td>\n",
       "      <td>134.34250</td>\n",
       "      <td></td>\n",
       "      <td>10817.71</td>\n",
       "      <td>10817.71</td>\n",
       "      <td>4.0</td>\n",
       "      <td>04.United Kingdom</td>\n",
       "    </tr>\n",
       "    <tr>\n",
       "      <th>2</th>\n",
       "      <td>3</td>\n",
       "      <td>49.99</td>\n",
       "      <td>Fashion &amp; Shoes</td>\n",
       "      <td>CN</td>\n",
       "      <td>Evening</td>\n",
       "      <td>17</td>\n",
       "      <td>2012-03-02 17:34:01+00</td>\n",
       "      <td>friday</td>\n",
       "      <td>02.03.12 17:34</td>\n",
       "      <td>156</td>\n",
       "      <td>35.0</td>\n",
       "      <td>105.0</td>\n",
       "      <td>China</td>\n",
       "      <td>CHN</td>\n",
       "      <td>156</td>\n",
       "      <td>ISO 3166-2:CN</td>\n",
       "      <td>Asia</td>\n",
       "      <td>Eastern Asia</td>\n",
       "      <td>8532229986994</td>\n",
       "      <td>6592</td>\n",
       "      <td>1.512454e+13</td>\n",
       "      <td>7.863736</td>\n",
       "      <td>Upper middle income</td>\n",
       "      <td>3.56</td>\n",
       "      <td>..</td>\n",
       "      <td>4997</td>\n",
       "      <td>Upper middle income</td>\n",
       "      <td>11140</td>\n",
       "      <td>China-Fashion &amp; Shoes</td>\n",
       "      <td>45.830</td>\n",
       "      <td>39.95</td>\n",
       "      <td>35.99</td>\n",
       "      <td>22.965</td>\n",
       "      <td>83.9600</td>\n",
       "      <td>60.9950</td>\n",
       "      <td>-48.64250</td>\n",
       "      <td>134.34250</td>\n",
       "      <td></td>\n",
       "      <td>8125.40</td>\n",
       "      <td>8125.40</td>\n",
       "      <td>5.0</td>\n",
       "      <td>05.China</td>\n",
       "    </tr>\n",
       "    <tr>\n",
       "      <th>3</th>\n",
       "      <td>4</td>\n",
       "      <td>5.95</td>\n",
       "      <td>Fashion &amp; Shoes</td>\n",
       "      <td>GB</td>\n",
       "      <td>Evening</td>\n",
       "      <td>17</td>\n",
       "      <td>2012-03-01 17:43:29+00</td>\n",
       "      <td>thursday</td>\n",
       "      <td>01.03.12 17:43</td>\n",
       "      <td>826</td>\n",
       "      <td>54.0</td>\n",
       "      <td>-2.0</td>\n",
       "      <td>United Kingdom</td>\n",
       "      <td>GBR</td>\n",
       "      <td>826</td>\n",
       "      <td>ISO 3166-2:GB</td>\n",
       "      <td>Europe</td>\n",
       "      <td>Northern Europe</td>\n",
       "      <td>2719158341006</td>\n",
       "      <td>43100</td>\n",
       "      <td>2.453352e+12</td>\n",
       "      <td>1.469888</td>\n",
       "      <td>High income</td>\n",
       "      <td>0.70</td>\n",
       "      <td>1769649482466</td>\n",
       "      <td>35265</td>\n",
       "      <td>High income</td>\n",
       "      <td>38120</td>\n",
       "      <td>United Kingdom -Fashion &amp; Shoes</td>\n",
       "      <td>32.900</td>\n",
       "      <td>35.00</td>\n",
       "      <td>35.99</td>\n",
       "      <td>22.965</td>\n",
       "      <td>83.9600</td>\n",
       "      <td>60.9950</td>\n",
       "      <td>-48.64250</td>\n",
       "      <td>134.34250</td>\n",
       "      <td></td>\n",
       "      <td>10817.71</td>\n",
       "      <td>10817.71</td>\n",
       "      <td>4.0</td>\n",
       "      <td>04.United Kingdom</td>\n",
       "    </tr>\n",
       "    <tr>\n",
       "      <th>4</th>\n",
       "      <td>5</td>\n",
       "      <td>16.65</td>\n",
       "      <td>Bars &amp; restaurants</td>\n",
       "      <td>DK</td>\n",
       "      <td>Night</td>\n",
       "      <td>22</td>\n",
       "      <td>2012-03-01 22:47:52+00</td>\n",
       "      <td>thursday</td>\n",
       "      <td>01.03.12 22:47</td>\n",
       "      <td>208</td>\n",
       "      <td>56.0</td>\n",
       "      <td>10.0</td>\n",
       "      <td>Denmark</td>\n",
       "      <td>DNK</td>\n",
       "      <td>208</td>\n",
       "      <td>ISO 3166-2:DK</td>\n",
       "      <td>Europe</td>\n",
       "      <td>Northern Europe</td>\n",
       "      <td>327148943812</td>\n",
       "      <td>51567</td>\n",
       "      <td>2.505246e+11</td>\n",
       "      <td>0.226500</td>\n",
       "      <td>High income</td>\n",
       "      <td>7.56</td>\n",
       "      <td>1909813185266</td>\n",
       "      <td>42430</td>\n",
       "      <td>High income</td>\n",
       "      <td>45820</td>\n",
       "      <td>Denmark-Bars &amp; restaurants</td>\n",
       "      <td>17.825</td>\n",
       "      <td>32.27</td>\n",
       "      <td>26.00</td>\n",
       "      <td>13.750</td>\n",
       "      <td>77.4725</td>\n",
       "      <td>63.7225</td>\n",
       "      <td>-62.58375</td>\n",
       "      <td>128.58375</td>\n",
       "      <td></td>\n",
       "      <td>1271.08</td>\n",
       "      <td>1271.08</td>\n",
       "      <td>18.0</td>\n",
       "      <td>18.Denmark</td>\n",
       "    </tr>\n",
       "  </tbody>\n",
       "</table>\n",
       "</div>"
      ],
      "text/plain": [
       "   Unnamed: 0  amount            category customer_country    daytime  hour  \\\n",
       "0           1   33.46     Fashion & Shoes               GB      Night    21   \n",
       "1           2   59.97     Fashion & Shoes               GB  Afternoon    16   \n",
       "2           3   49.99     Fashion & Shoes               CN    Evening    17   \n",
       "3           4    5.95     Fashion & Shoes               GB    Evening    17   \n",
       "4           5   16.65  Bars & restaurants               DK      Night    22   \n",
       "\n",
       "             tx_date_proc    weekday       Date_new  numericcode  \\\n",
       "0  2012-03-01 21:51:54+00  thursday   01.03.12 21:51         826   \n",
       "1  2012-03-02 16:12:52+00  friday     02.03.12 16:12         826   \n",
       "2  2012-03-02 17:34:01+00  friday     02.03.12 17:34         156   \n",
       "3  2012-03-01 17:43:29+00  thursday   01.03.12 17:43         826   \n",
       "4  2012-03-01 22:47:52+00  thursday   01.03.12 22:47         208   \n",
       "\n",
       "   latitude(average)  longitude(average)     country_name alpha-3  \\\n",
       "0                NaN                -2.0  United Kingdom      GBR   \n",
       "1               54.0                -2.0  United Kingdom      GBR   \n",
       "2               35.0               105.0            China     CHN   \n",
       "3               54.0                -2.0  United Kingdom      GBR   \n",
       "4               56.0                10.0          Denmark     DNK   \n",
       "\n",
       "   country_code     iso_3166-2  region       sub_region   GDP_USD_2012  \\\n",
       "0           826  ISO 3166-2:GB  Europe  Northern Europe  2719158341006   \n",
       "1           826  ISO 3166-2:GB  Europe  Northern Europe  2719158341006   \n",
       "2           156  ISO 3166-2:CN    Asia     Eastern Asia  8532229986994   \n",
       "3           826  ISO 3166-2:GB  Europe  Northern Europe  2719158341006   \n",
       "4           208  ISO 3166-2:DK  Europe  Northern Europe   327148943812   \n",
       "\n",
       "   GDP per capita (constant 2015 US$)  GDP, PPP (current international $)  \\\n",
       "0                               43100                        2.453352e+12   \n",
       "1                               43100                        2.453352e+12   \n",
       "2                                6592                        1.512454e+13   \n",
       "3                               43100                        2.453352e+12   \n",
       "4                               51567                        2.505246e+11   \n",
       "\n",
       "   GDP growth (annual %)  Income_classification1  PPP_2012  \\\n",
       "0                1.469888             High income     0.70   \n",
       "1                1.469888             High income     0.70   \n",
       "2                7.863736     Upper middle income     3.56   \n",
       "3                1.469888             High income     0.70   \n",
       "4                0.226500             High income     7.56   \n",
       "\n",
       "  Gross domestic income (constant LCU)  \\\n",
       "0                        1769649482466   \n",
       "1                        1769649482466   \n",
       "2                                   ..   \n",
       "3                        1769649482466   \n",
       "4                        1909813185266   \n",
       "\n",
       "  Adjusted net national income per capita (constant 2015 US$)  \\\n",
       "0                                              35265            \n",
       "1                                              35265            \n",
       "2                                               4997            \n",
       "3                                              35265            \n",
       "4                                              42430            \n",
       "\n",
       "  Income_classification   GNI per capita, PPP (current international $)  \\\n",
       "0            High income                                          38120   \n",
       "1            High income                                          38120   \n",
       "2    Upper middle income                                          11140   \n",
       "3            High income                                          38120   \n",
       "4            High income                                          45820   \n",
       "\n",
       "                  country-category  Median Category-Country  Median Country  \\\n",
       "0  United Kingdom -Fashion & Shoes                   32.900           35.00   \n",
       "1  United Kingdom -Fashion & Shoes                   32.900           35.00   \n",
       "2            China-Fashion & Shoes                   45.830           39.95   \n",
       "3  United Kingdom -Fashion & Shoes                   32.900           35.00   \n",
       "4       Denmark-Bars & restaurants                   17.825           32.27   \n",
       "\n",
       "   Median Category  amountcat_q1  amountcat_q3  Cat_IQR  Cat_low_IQR  \\\n",
       "0            35.99        22.965       83.9600  60.9950    -48.64250   \n",
       "1            35.99        22.965       83.9600  60.9950    -48.64250   \n",
       "2            35.99        22.965       83.9600  60.9950    -48.64250   \n",
       "3            35.99        22.965       83.9600  60.9950    -48.64250   \n",
       "4            26.00        13.750       77.4725  63.7225    -62.58375   \n",
       "\n",
       "   Cat_high_IQR Cat_Outliers  Amount_Ctry_Cat  amountrnk  Ranking  \\\n",
       "0     134.34250                      10817.71   10817.71      4.0   \n",
       "1     134.34250                      10817.71   10817.71      4.0   \n",
       "2     134.34250                       8125.40    8125.40      5.0   \n",
       "3     134.34250                      10817.71   10817.71      4.0   \n",
       "4     128.58375                       1271.08    1271.08     18.0   \n",
       "\n",
       "          country_rnk  \n",
       "0  04.United Kingdom   \n",
       "1  04.United Kingdom   \n",
       "2            05.China  \n",
       "3  04.United Kingdom   \n",
       "4          18.Denmark  "
      ]
     },
     "execution_count": 36,
     "metadata": {},
     "output_type": "execute_result"
    }
   ],
   "source": [
    "madrid_transactions.head()"
   ]
  },
  {
   "cell_type": "markdown",
   "id": "d654b1fc",
   "metadata": {},
   "source": [
    "<a id='3'></a>\n",
    "# <font color=purple> 3. Market Overview</font>\n",
    "## <font color=purple> Executive Summary</font>"
   ]
  },
  {
   "cell_type": "markdown",
   "id": "dc01e68d",
   "metadata": {},
   "source": [
    "### <font color=purple> Heatmap <font color=li_blue>distribution of category spending vs income </font>"
   ]
  },
  {
   "cell_type": "markdown",
   "id": "8fc9293b",
   "metadata": {},
   "source": [
    "<div class=\"alert alert-info\" role=\"alert\">\n",
    "\n",
    "The heatmap graphic gives a good overview of which countries are spending the most with regards to their income classification by the world bank. The highest income counrties do spend in all categories and even in some category show the highest amount of spendings e.g. fashion and shoes. Contrary, the low income countries do not spend much and only in selected categories if any. \n",
    "  \n",
    "</div>"
   ]
  },
  {
   "cell_type": "code",
   "execution_count": 90,
   "id": "64d69e66",
   "metadata": {},
   "outputs": [
    {
     "data": {
      "image/png": "[encoded data removed]",
      "text/plain": [
       "<Figure size 640x480 with 1 Axes>"
      ]
     },
     "metadata": {},
     "output_type": "display_data"
    },
    {
     "data": {
      "text/plain": [
       "<ggplot: (8779359475688)>"
      ]
     },
     "execution_count": 90,
     "metadata": {},
     "output_type": "execute_result"
    }
   ],
   "source": [
    "# Heatmap \n",
    "#my_palette = colorRampPalette(rev(brewer.pal(11, \"Spectral\")))\n",
    "\n",
    "ggplot(df6, aes( \"Income_classification\",\"category\", fill= \"sum_amount\")) + \\\n",
    "geom_tile()+ ggtitle('Heatmap category spending vs Income') + theme_classic() + \\\n",
    "theme(axis_text_x=element_text(rotation=10, hjust=1)) + labs(y='Category', x='Income classification by World Bank, 2012')+ \\\n",
    "theme(text=element_text(size=9)) \n",
    "#+ guides(guide_legend(title = \"LEFT\"))\n",
    "#scale_fill_gradient2(low = \"lightblue\", high = \"yellow\",guide = \"colorbar\",aesthetics = \"colour\")\n",
    "#plotnine.scale_color_gradient(low=\"Purple\",high=\"Blue\")\n",
    "#scale_colour_manual(values=[\"Set3\"], limits=[1, 200000])\n",
    "#scale_color_gradientn(colours='Set3')\n",
    "#scale_colour_gradientn(colours = myPalette(100), limits=c(1, 8))\n",
    "\n",
    "\n",
    "#scale_fill_gradient2(low = \"lightblue\",mid = \"pink\", high = \"yellow\",midpoint = 200000,guide = \"colorbar\",aesthetics = \"colour\")\n",
    "#+ plotnine.theme(axis_text_x = plotnine.element_text(angle=90))\n",
    "#+scale_color_manual(values = colors) \n",
    "# scale_color_gradient(low=\"pink\",high=\"darkgreen\")"
   ]
  },
  {
   "cell_type": "code",
   "execution_count": null,
   "id": "b0ac3bbe",
   "metadata": {},
   "outputs": [],
   "source": [
    "#scale_fill_gradient2(low = \"lightblue\", high = \"yellow\",guide = \"colorbar\",aesthetics = \"colour\")\n",
    "#plotnine.scale_color_gradient(low=\"Purple\",high=\"Blue\")\n",
    "#scale_colour_manual(values=[\"Set3\"], limits=[1, 200000])\n",
    "#scale_color_gradientn(colours='Set3')\n",
    "#scale_colour_gradientn(colours = myPalette(100), limits=c(1, 8))\n",
    "\n",
    "\n",
    "#scale_fill_gradient2(low = \"lightblue\",mid = \"pink\", high = \"yellow\",midpoint = 200000,guide = \"colorbar\",aesthetics = \"colour\")\n",
    "#+ plotnine.theme(axis_text_x = plotnine.element_text(angle=90))\n",
    "#+scale_color_manual(values = colors) \n",
    "# scale_color_gradient(low=\"pink\",high=\"darkgreen\")"
   ]
  },
  {
   "cell_type": "markdown",
   "id": "1add5cee",
   "metadata": {},
   "source": [
    "### <font color=purple> Treemap <font color=li_blue>transactions by regions and countries </font>"
   ]
  },
  {
   "cell_type": "markdown",
   "id": "a226b846",
   "metadata": {},
   "source": [
    "<div class=\"alert alert-info\" role=\"alert\">\n",
    "\n",
    "When there are large numbers of categorial comparions a treemap could be better choice when we are interested in a high level view. This interactive treemap shows the transactions by their regions and within their regions by their countries. You can clearly see that Europe overall has the biggest count of transactions, followed by Americas, Asia and Africa. In Europe is the biggest country count per transaction France, for the Americas it is the US and for Asia it is China.  \n",
    "</div>"
   ]
  },
  {
   "cell_type": "code",
   "execution_count": 38,
   "id": "d8b08b4c",
   "metadata": {},
   "outputs": [],
   "source": [
    "#Icicle Charts in Python: Icicle charts visualize hierarchical data using rectangular sectors that cascade from root to leaves in one of four directions: up, down, left, or right"
   ]
  },
  {
   "cell_type": "code",
   "execution_count": 116,
   "id": "8b1196a5",
   "metadata": {},
   "outputs": [
    {
     "data": {
      "application/vnd.plotly.v1+json": {
       "config": {
        "plotlyServerURL": "https://plot.ly"
       },
       "data": [
        {
         "branchvalues": "total",
         "customdata": [
          [
           "Europe"
          ],
          [
           "Europe"
          ],
          [
           "Europe"
          ],
          [
           "Asia"
          ],
          [
           "Europe"
          ],
          [
           "Europe"
          ],
          [
           "Europe"
          ],
          [
           "Europe"
          ],
          [
           "Europe"
          ],
          [
           "Europe"
          ],
          [
           "Americas"
          ],
          [
           "Americas"
          ],
          [
           "Americas"
          ],
          [
           "Asia"
          ],
          [
           "Americas"
          ],
          [
           "Americas"
          ],
          [
           "Europe"
          ],
          [
           "Europe"
          ],
          [
           "Europe"
          ],
          [
           "Asia"
          ],
          [
           "Europe"
          ],
          [
           "Asia"
          ],
          [
           "Asia"
          ],
          [
           "Europe"
          ],
          [
           "Europe"
          ],
          [
           "Africa"
          ],
          [
           "Europe"
          ],
          [
           "Asia"
          ],
          [
           "Europe"
          ],
          [
           "Europe"
          ],
          [
           "Europe"
          ],
          [
           "Africa"
          ],
          [
           "Americas"
          ],
          [
           "Americas"
          ],
          [
           "Europe"
          ],
          [
           "Asia"
          ],
          [
           "Americas"
          ],
          [
           "Americas"
          ],
          [
           "Americas"
          ],
          [
           "Americas"
          ],
          [
           "Americas"
          ],
          [
           "Americas"
          ],
          [
           "Europe"
          ],
          [
           "Asia"
          ],
          [
           "Americas"
          ],
          [
           "Americas"
          ],
          [
           "Europe"
          ],
          [
           "Americas"
          ],
          [
           "Africa"
          ],
          [
           "Europe"
          ],
          [
           "Asia"
          ],
          [
           "Europe"
          ],
          [
           "Europe"
          ],
          [
           "Europe"
          ],
          [
           "Europe"
          ],
          [
           "Americas"
          ],
          [
           "Europe"
          ],
          [
           "Asia"
          ],
          [
           "Europe"
          ],
          [
           "Americas"
          ],
          [
           "Europe"
          ],
          [
           "Europe"
          ],
          [
           "Africa"
          ],
          [
           "Europe"
          ],
          [
           "Africa"
          ],
          [
           "Europe"
          ],
          [
           "Europe"
          ],
          [
           "Asia"
          ],
          [
           "Americas"
          ],
          [
           "Asia"
          ],
          [
           "Americas"
          ],
          [
           "Americas"
          ],
          [
           "Europe"
          ],
          [
           "Europe"
          ],
          [
           "Americas"
          ],
          [
           "Asia"
          ],
          [
           "Asia"
          ],
          [
           "Europe"
          ],
          [
           "Asia"
          ],
          [
           "Europe"
          ],
          [
           "Asia"
          ],
          [
           "Americas"
          ],
          [
           "Europe"
          ],
          [
           "Europe"
          ],
          [
           "Americas"
          ],
          [
           "Europe"
          ],
          [
           "Americas"
          ],
          [
           "Asia"
          ],
          [
           "Europe"
          ],
          [
           "Americas"
          ],
          [
           "Africa"
          ],
          [
           "Europe"
          ],
          [
           "Americas"
          ],
          [
           "Europe"
          ],
          [
           "Americas"
          ],
          [
           "Europe"
          ],
          [
           "Europe"
          ],
          [
           "Europe"
          ],
          [
           "Africa"
          ],
          [
           "Asia"
          ],
          [
           "Europe"
          ],
          [
           "Europe"
          ],
          [
           "Europe"
          ],
          [
           "Africa"
          ],
          [
           "Europe"
          ],
          [
           "Europe"
          ],
          [
           "Asia"
          ],
          [
           "Europe"
          ],
          [
           "Americas"
          ],
          [
           "Europe"
          ],
          [
           "Asia"
          ],
          [
           "Europe"
          ],
          [
           "Asia"
          ],
          [
           "Africa"
          ],
          [
           "Europe"
          ],
          [
           "Asia"
          ],
          [
           "Europe"
          ],
          [
           "Europe"
          ],
          [
           "Asia"
          ],
          [
           "Americas"
          ],
          [
           "Europe"
          ],
          [
           "Europe"
          ],
          [
           "Asia"
          ],
          [
           "Americas"
          ],
          [
           "Americas"
          ],
          [
           "Americas"
          ],
          [
           "Americas"
          ],
          [
           "Europe"
          ],
          [
           "Europe"
          ],
          [
           "Europe"
          ],
          [
           "Europe"
          ],
          [
           "Europe"
          ],
          [
           "Americas"
          ],
          [
           "Asia"
          ],
          [
           "Europe"
          ],
          [
           "Africa"
          ],
          [
           "Europe"
          ],
          [
           "Americas"
          ],
          [
           "Americas"
          ],
          [
           "Africa"
          ],
          [
           "Europe"
          ],
          [
           "Europe"
          ],
          [
           "Europe"
          ],
          [
           "Asia"
          ],
          [
           "Europe"
          ],
          [
           "Americas"
          ],
          [
           "Americas"
          ],
          [
           "Americas"
          ],
          [
           "Americas"
          ],
          [
           "Americas"
          ],
          [
           "Americas"
          ],
          [
           "Americas"
          ],
          [
           "Asia"
          ],
          [
           "Asia"
          ],
          [
           "Europe"
          ],
          [
           "Europe"
          ],
          [
           "Africa"
          ],
          [
           "Americas"
          ],
          [
           "Oceania"
          ],
          [
           "Europe"
          ],
          [
           "Europe"
          ],
          [
           "Europe"
          ],
          [
           "Americas"
          ],
          [
           "Americas"
          ],
          [
           "Americas"
          ],
          [
           "Europe"
          ],
          [
           "Americas"
          ],
          [
           "Europe"
          ],
          [
           "Asia"
          ],
          [
           "Asia"
          ],
          [
           "Europe"
          ],
          [
           "Asia"
          ],
          [
           "Europe"
          ],
          [
           "Europe"
          ],
          [
           "Europe"
          ],
          [
           "Europe"
          ],
          [
           "Asia"
          ],
          [
           "Europe"
          ],
          [
           "Asia"
          ],
          [
           "Asia"
          ],
          [
           "Europe"
          ],
          [
           "Oceania"
          ],
          [
           "Europe"
          ],
          [
           "Europe"
          ],
          [
           "Americas"
          ],
          [
           "Europe"
          ],
          [
           "Asia"
          ],
          [
           "Europe"
          ],
          [
           "Asia"
          ],
          [
           "Asia"
          ],
          [
           "Europe"
          ],
          [
           "Asia"
          ],
          [
           "Europe"
          ],
          [
           "Asia"
          ],
          [
           "Asia"
          ],
          [
           "Europe"
          ],
          [
           "Europe"
          ],
          [
           "Americas"
          ],
          [
           "Europe"
          ],
          [
           "Asia"
          ],
          [
           "Africa"
          ],
          [
           "Africa"
          ],
          [
           "Asia"
          ],
          [
           "Europe"
          ],
          [
           "Europe"
          ],
          [
           "Europe"
          ],
          [
           "Europe"
          ],
          [
           "Asia"
          ],
          [
           "Americas"
          ],
          [
           "Asia"
          ],
          [
           "Americas"
          ],
          [
           "Americas"
          ],
          [
           "Asia"
          ],
          [
           "Africa"
          ],
          [
           "Asia"
          ],
          [
           "Europe"
          ],
          [
           "Europe"
          ],
          [
           "Africa"
          ],
          [
           "Asia"
          ],
          [
           "Europe"
          ],
          [
           "Europe"
          ],
          [
           "Asia"
          ],
          [
           "Africa"
          ],
          [
           "Europe"
          ],
          [
           "Asia"
          ],
          [
           "Europe"
          ],
          [
           "Europe"
          ],
          [
           "Europe"
          ],
          [
           "Americas"
          ],
          [
           "Americas"
          ],
          [
           "Americas"
          ],
          [
           "Americas"
          ],
          [
           "Europe"
          ],
          [
           "Europe"
          ],
          [
           "Africa"
          ],
          [
           "Oceania"
          ],
          [
           "Asia"
          ],
          [
           "Europe"
          ],
          [
           "Americas"
          ],
          [
           "Europe"
          ],
          [
           "Europe"
          ],
          [
           "Asia"
          ],
          [
           "Asia"
          ],
          [
           "Europe"
          ],
          [
           "Americas"
          ],
          [
           "Americas"
          ],
          [
           "Americas"
          ],
          [
           "Americas"
          ],
          [
           "Europe"
          ],
          [
           "Americas"
          ],
          [
           "Asia"
          ],
          [
           "Americas"
          ],
          [
           "Asia"
          ],
          [
           "Europe"
          ],
          [
           "Europe"
          ],
          [
           "Asia"
          ],
          [
           "Europe"
          ],
          [
           "Asia"
          ],
          [
           "Europe"
          ],
          [
           "Europe"
          ],
          [
           "Asia"
          ],
          [
           "Americas"
          ],
          [
           "Europe"
          ],
          [
           "Oceania"
          ],
          [
           "Europe"
          ],
          [
           "Europe"
          ],
          [
           "Africa"
          ],
          [
           "Asia"
          ],
          [
           "Europe"
          ],
          [
           "Europe"
          ],
          [
           "Americas"
          ],
          [
           "Europe"
          ],
          [
           "Europe"
          ],
          [
           "Asia"
          ],
          [
           "Asia"
          ],
          [
           "Europe"
          ],
          [
           "Europe"
          ],
          [
           "Europe"
          ],
          [
           "Europe"
          ],
          [
           "Americas"
          ],
          [
           "Europe"
          ],
          [
           "Asia"
          ],
          [
           "Americas"
          ],
          [
           "Europe"
          ],
          [
           "Europe"
          ],
          [
           "Europe"
          ],
          [
           "Americas"
          ],
          [
           "Europe"
          ],
          [
           "Asia"
          ],
          [
           "Europe"
          ],
          [
           "Asia"
          ],
          [
           "Asia"
          ],
          [
           "Asia"
          ],
          [
           "Americas"
          ],
          [
           "Americas"
          ],
          [
           "Asia"
          ],
          [
           "Americas"
          ],
          [
           "Asia"
          ],
          [
           "Africa"
          ],
          [
           "Asia"
          ],
          [
           "Americas"
          ],
          [
           "Africa"
          ],
          [
           "Europe"
          ],
          [
           "Europe"
          ],
          [
           "Europe"
          ],
          [
           "Asia"
          ],
          [
           "Europe"
          ],
          [
           "Americas"
          ],
          [
           "Europe"
          ],
          [
           "Americas"
          ],
          [
           "Americas"
          ],
          [
           "Americas"
          ],
          [
           "Asia"
          ],
          [
           "Africa"
          ],
          [
           "Asia"
          ],
          [
           "Africa"
          ],
          [
           "Asia"
          ],
          [
           "Asia"
          ],
          [
           "Asia"
          ],
          [
           "Asia"
          ],
          [
           "Asia"
          ],
          [
           "Europe"
          ],
          [
           "Europe"
          ],
          [
           "Africa"
          ],
          [
           "Americas"
          ],
          [
           "Americas"
          ],
          [
           "Europe"
          ],
          [
           "Asia"
          ],
          [
           "Europe"
          ],
          [
           "Europe"
          ],
          [
           "Europe"
          ],
          [
           "Asia"
          ],
          [
           "Americas"
          ],
          [
           "Americas"
          ],
          [
           "Asia"
          ],
          [
           "Americas"
          ],
          [
           "Europe"
          ],
          [
           "Americas"
          ],
          [
           "Africa"
          ],
          [
           "Americas"
          ],
          [
           "Africa"
          ],
          [
           "Asia"
          ],
          [
           "Oceania"
          ],
          [
           "Europe"
          ],
          [
           "Europe"
          ],
          [
           "Europe"
          ],
          [
           "Asia"
          ],
          [
           "Europe"
          ],
          [
           "Europe"
          ],
          [
           "Asia"
          ],
          [
           "Europe"
          ],
          [
           "Asia"
          ],
          [
           "Europe"
          ],
          [
           "Europe"
          ],
          [
           "Africa"
          ],
          [
           "Americas"
          ],
          [
           "Asia"
          ],
          [
           "Europe"
          ],
          [
           "Europe"
          ],
          [
           "Americas"
          ],
          [
           "Oceania"
          ],
          [
           "Americas"
          ],
          [
           "Asia"
          ],
          [
           "Asia"
          ],
          [
           "Americas"
          ],
          [
           "Oceania"
          ],
          [
           "Europe"
          ],
          [
           "Americas"
          ],
          [
           "Europe"
          ],
          [
           "Asia"
          ],
          [
           "Americas"
          ],
          [
           "Americas"
          ],
          [
           "Americas"
          ],
          [
           "Africa"
          ],
          [
           "Asia"
          ],
          [
           "Europe"
          ],
          [
           "Americas"
          ],
          [
           "Europe"
          ],
          [
           "Oceania"
          ],
          [
           "Europe"
          ],
          [
           "Asia"
          ],
          [
           "Europe"
          ],
          [
           "Americas"
          ],
          [
           "Americas"
          ],
          [
           "Europe"
          ],
          [
           "Europe"
          ],
          [
           "Americas"
          ],
          [
           "Americas"
          ],
          [
           "Americas"
          ],
          [
           "Americas"
          ],
          [
           "Americas"
          ],
          [
           "Europe"
          ],
          [
           "Americas"
          ],
          [
           "Americas"
          ],
          [
           "Americas"
          ],
          [
           "Americas"
          ],
          [
           "Asia"
          ],
          [
           "Americas"
          ],
          [
           "Americas"
          ],
          [
           "Europe"
          ],
          [
           "Americas"
          ],
          [
           "Europe"
          ],
          [
           "Europe"
          ],
          [
           "Americas"
          ],
          [
           "Europe"
          ],
          [
           "Asia"
          ],
          [
           "Asia"
          ],
          [
           "Europe"
          ],
          [
           "Europe"
          ],
          [
           "Europe"
          ],
          [
           "Africa"
          ],
          [
           "Europe"
          ],
          [
           "Africa"
          ],
          [
           "Asia"
          ],
          [
           "Americas"
          ],
          [
           "Europe"
          ],
          [
           "Asia"
          ],
          [
           "Europe"
          ],
          [
           "Asia"
          ],
          [
           "Europe"
          ],
          [
           "Americas"
          ],
          [
           "Europe"
          ],
          [
           "Americas"
          ],
          [
           "Europe"
          ],
          [
           "Europe"
          ],
          [
           "Europe"
          ],
          [
           "Europe"
          ],
          [
           "Europe"
          ],
          [
           "Europe"
          ],
          [
           "Asia"
          ],
          [
           "Europe"
          ],
          [
           "Europe"
          ],
          [
           "Americas"
          ],
          [
           "Americas"
          ],
          [
           "Europe"
          ],
          [
           "Americas"
          ],
          [
           "Asia"
          ],
          [
           "Europe"
          ],
          [
           "Asia"
          ],
          [
           "Americas"
          ],
          [
           "Europe"
          ],
          [
           "Asia"
          ],
          [
           "Europe"
          ],
          [
           "Asia"
          ],
          [
           "Americas"
          ],
          [
           "Oceania"
          ],
          [
           "Europe"
          ],
          [
           "Europe"
          ],
          [
           "Europe"
          ],
          [
           "Asia"
          ],
          [
           "Asia"
          ],
          [
           "Asia"
          ],
          [
           "Europe"
          ],
          [
           "Europe"
          ],
          [
           "Africa"
          ],
          [
           "Asia"
          ],
          [
           "Europe"
          ],
          [
           "Americas"
          ],
          [
           "Europe"
          ],
          [
           "Asia"
          ],
          [
           "Americas"
          ],
          [
           "Asia"
          ],
          [
           "Europe"
          ],
          [
           "Americas"
          ],
          [
           "Americas"
          ],
          [
           "Europe"
          ],
          [
           "Europe"
          ],
          [
           "Africa"
          ],
          [
           "Europe"
          ],
          [
           "Americas"
          ],
          [
           "Asia"
          ],
          [
           "Asia"
          ],
          [
           "Europe"
          ],
          [
           "Oceania"
          ],
          [
           "Americas"
          ],
          [
           "Americas"
          ],
          [
           "Europe"
          ],
          [
           "Africa"
          ],
          [
           "Americas"
          ],
          [
           "Europe"
          ],
          [
           "Europe"
          ],
          [
           "Europe"
          ],
          [
           "Americas"
          ],
          [
           "Asia"
          ],
          [
           "Africa"
          ],
          [
           "Americas"
          ],
          [
           "Europe"
          ],
          [
           "Europe"
          ],
          [
           "Europe"
          ],
          [
           "Americas"
          ],
          [
           "Americas"
          ],
          [
           "Americas"
          ],
          [
           "Europe"
          ],
          [
           "Americas"
          ],
          [
           "Americas"
          ],
          [
           "Europe"
          ],
          [
           "Americas"
          ],
          [
           "Europe"
          ],
          [
           "Europe"
          ],
          [
           "Europe"
          ],
          [
           "Europe"
          ],
          [
           "Europe"
          ],
          [
           "Americas"
          ],
          [
           "Asia"
          ],
          [
           "Asia"
          ],
          [
           "Asia"
          ],
          [
           "Asia"
          ],
          [
           "Asia"
          ],
          [
           "Americas"
          ],
          [
           "Europe"
          ],
          [
           "Asia"
          ],
          [
           "Europe"
          ],
          [
           "Asia"
          ],
          [
           "Asia"
          ],
          [
           "Asia"
          ],
          [
           "Europe"
          ],
          [
           "Europe"
          ],
          [
           "Oceania"
          ],
          [
           "Americas"
          ],
          [
           "Asia"
          ],
          [
           "Americas"
          ],
          [
           "Europe"
          ],
          [
           "Africa"
          ],
          [
           "Europe"
          ],
          [
           "Asia"
          ],
          [
           "Americas"
          ],
          [
           "Americas"
          ],
          [
           "Americas"
          ],
          [
           "Asia"
          ],
          [
           "Americas"
          ],
          [
           "Asia"
          ],
          [
           "Africa"
          ],
          [
           "Europe"
          ],
          [
           "Americas"
          ],
          [
           "Americas"
          ],
          [
           "Americas"
          ],
          [
           "Asia"
          ],
          [
           "Asia"
          ],
          [
           "Americas"
          ],
          [
           "Asia"
          ],
          [
           "Europe"
          ],
          [
           "Americas"
          ],
          [
           "Oceania"
          ],
          [
           "Europe"
          ],
          [
           "Europe"
          ],
          [
           "Americas"
          ],
          [
           "Americas"
          ],
          [
           "Asia"
          ],
          [
           "Americas"
          ],
          [
           "Asia"
          ],
          [
           "Europe"
          ],
          [
           "Americas"
          ],
          [
           "Americas"
          ],
          [
           "Europe"
          ],
          [
           "Asia"
          ],
          [
           "Asia"
          ],
          [
           "Americas"
          ],
          [
           "Europe"
          ],
          [
           "Africa"
          ],
          [
           "Americas"
          ],
          [
           "Europe"
          ],
          [
           "Europe"
          ],
          [
           "Asia"
          ],
          [
           "Africa"
          ],
          [
           "Europe"
          ],
          [
           "Europe"
          ],
          [
           "Asia"
          ],
          [
           "Europe"
          ],
          [
           "Europe"
          ],
          [
           "Americas"
          ],
          [
           "Europe"
          ],
          [
           "Europe"
          ],
          [
           "Asia"
          ],
          [
           "Europe"
          ],
          [
           "Asia"
          ],
          [
           "Asia"
          ],
          [
           "Asia"
          ],
          [
           "Asia"
          ],
          [
           "Asia"
          ],
          [
           "Oceania"
          ],
          [
           "Americas"
          ],
          [
           "Americas"
          ],
          [
           "Americas"
          ],
          [
           "Europe"
          ],
          [
           "Asia"
          ],
          [
           "Europe"
          ],
          [
           "Europe"
          ],
          [
           "Asia"
          ],
          [
           "Asia"
          ],
          [
           "Europe"
          ],
          [
           "Asia"
          ],
          [
           "Asia"
          ],
          [
           "Asia"
          ],
          [
           "Asia"
          ],
          [
           "Asia"
          ],
          [
           "Africa"
          ],
          [
           "Europe"
          ],
          [
           "Europe"
          ],
          [
           "Americas"
          ],
          [
           "Europe"
          ],
          [
           "Europe"
          ],
          [
           "Europe"
          ],
          [
           "Europe"
          ],
          [
           "Europe"
          ],
          [
           "Asia"
          ],
          [
           "Asia"
          ],
          [
           "Asia"
          ],
          [
           "Africa"
          ],
          [
           "Asia"
          ],
          [
           "Americas"
          ],
          [
           "Asia"
          ],
          [
           "Europe"
          ],
          [
           "Americas"
          ],
          [
           "Asia"
          ],
          [
           "Asia"
          ],
          [
           "Asia"
          ],
          [
           "Europe"
          ],
          [
           "Africa"
          ],
          [
           "Europe"
          ],
          [
           "Africa"
          ],
          [
           "Americas"
          ],
          [
           "Asia"
          ],
          [
           "Oceania"
          ],
          [
           "Europe"
          ],
          [
           "Asia"
          ],
          [
           "Asia"
          ],
          [
           "Europe"
          ],
          [
           "Europe"
          ],
          [
           "Americas"
          ],
          [
           "Americas"
          ],
          [
           "Europe"
          ],
          [
           "Africa"
          ],
          [
           "Americas"
          ],
          [
           "Europe"
          ],
          [
           "Americas"
          ],
          [
           "Americas"
          ],
          [
           "Americas"
          ],
          [
           "Asia"
          ],
          [
           "Americas"
          ],
          [
           "Americas"
          ],
          [
           "Europe"
          ],
          [
           "Americas"
          ],
          [
           "Asia"
          ],
          [
           "Europe"
          ],
          [
           "Africa"
          ],
          [
           "Europe"
          ],
          [
           "Americas"
          ],
          [
           "Americas"
          ],
          [
           "Africa"
          ],
          [
           "Americas"
          ],
          [
           "Europe"
          ],
          [
           "Europe"
          ],
          [
           "Europe"
          ],
          [
           "Asia"
          ],
          [
           "Europe"
          ],
          [
           "Americas"
          ],
          [
           "Americas"
          ],
          [
           "Asia"
          ],
          [
           "Europe"
          ],
          [
           "Europe"
          ],
          [
           "Asia"
          ],
          [
           "Asia"
          ],
          [
           "Asia"
          ],
          [
           "Europe"
          ],
          [
           "Asia"
          ],
          [
           "Europe"
          ],
          [
           "Americas"
          ],
          [
           "Asia"
          ],
          [
           "Asia"
          ],
          [
           "Asia"
          ],
          [
           "Africa"
          ],
          [
           "Asia"
          ],
          [
           "Asia"
          ],
          [
           "Europe"
          ],
          [
           "Asia"
          ],
          [
           "Europe"
          ],
          [
           "Europe"
          ],
          [
           "Africa"
          ],
          [
           "Asia"
          ],
          [
           "Europe"
          ],
          [
           "Americas"
          ],
          [
           "Europe"
          ],
          [
           "Asia"
          ],
          [
           "Africa"
          ],
          [
           "Africa"
          ],
          [
           "Europe"
          ],
          [
           "Oceania"
          ],
          [
           "Americas"
          ],
          [
           "Africa"
          ],
          [
           "Europe"
          ],
          [
           "Europe"
          ],
          [
           "Asia"
          ],
          [
           "Asia"
          ],
          [
           "Americas"
          ],
          [
           "Americas"
          ],
          [
           "Americas"
          ],
          [
           "Asia"
          ],
          [
           "Europe"
          ],
          [
           "Europe"
          ],
          [
           "Americas"
          ],
          [
           "Asia"
          ],
          [
           "Europe"
          ],
          [
           "Europe"
          ],
          [
           "Oceania"
          ],
          [
           "Asia"
          ],
          [
           "Africa"
          ],
          [
           "Asia"
          ],
          [
           "Europe"
          ],
          [
           "Europe"
          ],
          [
           "Africa"
          ],
          [
           "Asia"
          ],
          [
           "Europe"
          ],
          [
           "Europe"
          ],
          [
           "Asia"
          ],
          [
           "Asia"
          ],
          [
           "Americas"
          ],
          [
           "Asia"
          ],
          [
           "Africa"
          ],
          [
           "Europe"
          ],
          [
           "Asia"
          ],
          [
           "Europe"
          ],
          [
           "Americas"
          ],
          [
           "Americas"
          ],
          [
           "Asia"
          ],
          [
           "Americas"
          ],
          [
           "Asia"
          ],
          [
           "Africa"
          ],
          [
           "Africa"
          ],
          [
           "Americas"
          ],
          [
           "Asia"
          ],
          [
           "Europe"
          ],
          [
           "Oceania"
          ],
          [
           "(?)"
          ]
         ],
         "domain": {
          "x": [
           0,
           1
          ],
          "y": [
           0,
           1
          ]
         },
         "hovertemplate": "labels=%{label}<br>count_amount=%{value}<br>parent=%{parent}<br>id=%{id}<br>region=%{customdata[0]}<extra></extra>",
         "ids": [
          "Total transactions/Europe/Andorra/Accommodation",
          "Total transactions/Europe/Russian Federation/Food",
          "Total transactions/Europe/Poland/Food",
          "Total transactions/Asia/Philippines/Food",
          "Total transactions/Europe/Austria/Food",
          "Total transactions/Europe/Portugal/Fashion & Shoes",
          "Total transactions/Europe/Poland/Fashion & Shoes",
          "Total transactions/Europe/Slovenia/Food",
          "Total transactions/Europe/Austria/Culture & Leisure",
          "Total transactions/Europe/Andorra/Culture & Leisure",
          "Total transactions/Americas/Venezuela (Bolivarian Republic of)/Books & Music",
          "Total transactions/Americas/Uruguay/Books & Music",
          "Total transactions/Americas/United States of America/Books & Music",
          "Total transactions/Asia/Uzbekistan/Bars & restaurants",
          "Total transactions/Americas/Uruguay/Bars & restaurants",
          "Total transactions/Americas/Argentina/Culture & Leisure",
          "Total transactions/Europe/Sweden/Food",
          "Total transactions/Europe/Ukraine/Food",
          "Total transactions/Europe/Denmark/Health",
          "Total transactions/Asia/Indonesia/Sports & Games",
          "Total transactions/Europe/United Kingdom /Other goods and services",
          "Total transactions/Asia/United Arab Emirates/Other goods and services",
          "Total transactions/Asia/Turkey/Other goods and services",
          "Total transactions/Europe/Switzerland/Other goods and services",
          "Total transactions/Europe/Sweden/Other goods and services",
          "Total transactions/Africa/South Africa/Other goods and services",
          "Total transactions/Europe/Slovenia/Other goods and services",
          "Total transactions/Asia/Saudi Arabia/Other goods and services",
          "Total transactions/Europe/Russian Federation/Other goods and services",
          "Total transactions/Europe/France/Other goods and services",
          "Total transactions/Europe/Finland/Other goods and services",
          "Total transactions/Africa/Egypt/Health",
          "Total transactions/Americas/Ecuador/Health",
          "Total transactions/Americas/Dominican Republic/Health",
          "Total transactions/Europe/Belgium/Automocion",
          "Total transactions/Asia/Bahrain/Automocion",
          "Total transactions/Americas/United States of America/Transportation",
          "Total transactions/Americas/Colombia/Accommodation",
          "Total transactions/Americas/Costa Rica/Accommodation",
          "Total transactions/Americas/Argentina/Accommodation",
          "Total transactions/Americas/Paraguay/Bars & restaurants",
          "Total transactions/Americas/Guatemala/Books & Music",
          "Total transactions/Europe/Italy/Books & Music",
          "Total transactions/Asia/Korea, Republic of/Books & Music",
          "Total transactions/Americas/Mexico/Books & Music",
          "Total transactions/Americas/Peru/Books & Music",
          "Total transactions/Europe/Portugal/Books & Music",
          "Total transactions/Americas/Puerto Rico/Books & Music",
          "Total transactions/Africa/South Africa/Books & Music",
          "Total transactions/Europe/Switzerland/Books & Music",
          "Total transactions/Asia/United Arab Emirates/Books & Music",
          "Total transactions/Europe/United Kingdom /Books & Music",
          "Total transactions/Europe/Estonia/Food",
          "Total transactions/Europe/Finland/Food",
          "Total transactions/Europe/France/Food",
          "Total transactions/Americas/Mexico/Hogar y reformas",
          "Total transactions/Europe/Ireland/Accommodation",
          "Total transactions/Asia/Indonesia/Accommodation",
          "Total transactions/Europe/France/Books & Music",
          "Total transactions/Americas/El Salvador/Food",
          "Total transactions/Europe/Denmark/Food",
          "Total transactions/Europe/Czechia/Food",
          "Total transactions/Africa/Morocco/Bars & restaurants",
          "Total transactions/Europe/Netherlands/Bars & restaurants",
          "Total transactions/Africa/Nigeria/Bars & restaurants",
          "Total transactions/Europe/North Macedonia/Bars & restaurants",
          "Total transactions/Europe/Norway/Bars & restaurants",
          "Total transactions/Asia/Oman/Bars & restaurants",
          "Total transactions/Americas/Panama/Bars & restaurants",
          "Total transactions/Asia/Turkey/Electronics & computing",
          "Total transactions/Americas/Brazil/Culture & Leisure",
          "Total transactions/Americas/Peru/Bars & restaurants",
          "Total transactions/Europe/Poland/Bars & restaurants",
          "Total transactions/Europe/Portugal/Bars & restaurants",
          "Total transactions/Americas/Puerto Rico/Bars & restaurants",
          "Total transactions/Asia/Qatar/Bars & restaurants",
          "Total transactions/Asia/Singapore/Bars & restaurants",
          "Total transactions/Europe/Slovakia/Bars & restaurants",
          "Total transactions/Asia/Hong Kong/Accommodation",
          "Total transactions/Europe/Croatia/Food",
          "Total transactions/Asia/Philippines/Bars & restaurants",
          "Total transactions/Americas/Canada/Culture & Leisure",
          "Total transactions/Europe/Lithuania/Hogar y reformas",
          "Total transactions/Europe/Moldova, Republic of/Bars & restaurants",
          "Total transactions/Americas/Guatemala/Accommodation",
          "Total transactions/Europe/Greece/Accommodation",
          "Total transactions/Americas/United States of America/Electronics & computing",
          "Total transactions/Asia/Cyprus/Accommodation",
          "Total transactions/Europe/Denmark/Accommodation",
          "Total transactions/Americas/Costa Rica/Health",
          "Total transactions/Africa/Egypt/Accommodation",
          "Total transactions/Europe/Finland/Accommodation",
          "Total transactions/Americas/Honduras/Accommodation",
          "Total transactions/Europe/France/Accommodation",
          "Total transactions/Americas/Mexico/Electronics & computing",
          "Total transactions/Europe/Netherlands/Electronics & computing",
          "Total transactions/Europe/Portugal/Electronics & computing",
          "Total transactions/Europe/Russian Federation/Electronics & computing",
          "Total transactions/Africa/South Africa/Electronics & computing",
          "Total transactions/Asia/Sri Lanka/Electronics & computing",
          "Total transactions/Europe/Sweden/Electronics & computing",
          "Total transactions/Europe/Switzerland/Electronics & computing",
          "Total transactions/Europe/Italy/Electronics & computing",
          "Total transactions/Africa/Mozambique/Health",
          "Total transactions/Europe/Netherlands/Health",
          "Total transactions/Europe/Norway/Health",
          "Total transactions/Asia/Japan/Hogar y reformas",
          "Total transactions/Europe/Italy/Hogar y reformas",
          "Total transactions/Americas/Guatemala/Food",
          "Total transactions/Europe/Ireland/Food",
          "Total transactions/Asia/Israel/Food",
          "Total transactions/Europe/Italy/Food",
          "Total transactions/Asia/Japan/Food",
          "Total transactions/Africa/South Africa/Health",
          "Total transactions/Europe/Slovenia/Health",
          "Total transactions/Asia/Singapore/Health",
          "Total transactions/Europe/Russian Federation/Health",
          "Total transactions/Europe/Romania/Health",
          "Total transactions/Asia/Qatar/Health",
          "Total transactions/Americas/Puerto Rico/Health",
          "Total transactions/Europe/Portugal/Health",
          "Total transactions/Europe/Poland/Health",
          "Total transactions/Asia/Philippines/Health",
          "Total transactions/Americas/Peru/Health",
          "Total transactions/Americas/Panama/Health",
          "Total transactions/Americas/Cayman Islands/Culture & Leisure",
          "Total transactions/Americas/Mexico/Bars & restaurants",
          "Total transactions/Europe/United Kingdom /Electronics & computing",
          "Total transactions/Europe/France/Transportation",
          "Total transactions/Europe/Malta/Bars & restaurants",
          "Total transactions/Europe/Denmark/Transportation",
          "Total transactions/Europe/Finland/Transportation",
          "Total transactions/Americas/Curacao/Bars & restaurants",
          "Total transactions/Asia/Cyprus/Bars & restaurants",
          "Total transactions/Europe/Czechia/Bars & restaurants",
          "Total transactions/Africa/Côte d'Ivoire/Bars & restaurants",
          "Total transactions/Europe/Denmark/Bars & restaurants",
          "Total transactions/Americas/Dominican Republic/Bars & restaurants",
          "Total transactions/Americas/Ecuador/Bars & restaurants",
          "Total transactions/Africa/Egypt/Bars & restaurants",
          "Total transactions/Europe/Estonia/Bars & restaurants",
          "Total transactions/Europe/Finland/Bars & restaurants",
          "Total transactions/Europe/France/Bars & restaurants",
          "Total transactions/Asia/Georgia/Bars & restaurants",
          "Total transactions/Europe/Czechia/Transportation",
          "Total transactions/Americas/Guatemala/Bars & restaurants",
          "Total transactions/Americas/Cayman Islands/Bars & restaurants",
          "Total transactions/Americas/Brazil/Bars & restaurants",
          "Total transactions/Americas/Canada/Transportation",
          "Total transactions/Americas/Canada/Agencias de viajes",
          "Total transactions/Americas/Venezuela (Bolivarian Republic of)/Accommodation",
          "Total transactions/Americas/Chile/Transportation",
          "Total transactions/Asia/China/Transportation",
          "Total transactions/Asia/India/Automocion",
          "Total transactions/Europe/United Kingdom /Automocion",
          "Total transactions/Europe/Andorra/Bars & restaurants",
          "Total transactions/Africa/Angola/Bars & restaurants",
          "Total transactions/Americas/Argentina/Bars & restaurants",
          "Total transactions/Oceania/Australia/Bars & restaurants",
          "Total transactions/Europe/Austria/Bars & restaurants",
          "Total transactions/Europe/Belarus/Bars & restaurants",
          "Total transactions/Europe/Belgium/Bars & restaurants",
          "Total transactions/Americas/Bolivia (Plurinational State of)/Bars & restaurants",
          "Total transactions/Americas/Canada/Bars & restaurants",
          "Total transactions/Americas/Honduras/Bars & restaurants",
          "Total transactions/Europe/France/Agencias de viajes",
          "Total transactions/Americas/Guatemala/Transportation",
          "Total transactions/Europe/Romania/Transportation",
          "Total transactions/Asia/India/Bars & restaurants",
          "Total transactions/Asia/Indonesia/Bars & restaurants",
          "Total transactions/Europe/Ireland/Bars & restaurants",
          "Total transactions/Asia/Israel/Bars & restaurants",
          "Total transactions/Europe/Italy/Bars & restaurants",
          "Total transactions/Europe/Russian Federation/Transportation",
          "Total transactions/Europe/Sweden/Transportation",
          "Total transactions/Europe/Switzerland/Transportation",
          "Total transactions/Asia/India/Accommodation",
          "Total transactions/Europe/Iceland/Accommodation",
          "Total transactions/Asia/Taiwan, Province of China/Transportation",
          "Total transactions/Asia/Thailand/Transportation",
          "Total transactions/Europe/Belgium/Sports & Games",
          "Total transactions/Oceania/Australia/Sports & Games",
          "Total transactions/Europe/Poland/Transportation",
          "Total transactions/Europe/Italy/Agencias de viajes",
          "Total transactions/Americas/Panama/Transportation",
          "Total transactions/Europe/Hungary/Bars & restaurants",
          "Total transactions/Asia/India/Transportation",
          "Total transactions/Europe/Ireland/Transportation",
          "Total transactions/Asia/Israel/Transportation",
          "Total transactions/Asia/Hong Kong/Bars & restaurants",
          "Total transactions/Europe/Italy/Transportation",
          "Total transactions/Asia/Japan/Transportation",
          "Total transactions/Europe/Iceland/Bars & restaurants",
          "Total transactions/Asia/Jordan/Transportation",
          "Total transactions/Asia/Lebanon/Transportation",
          "Total transactions/Europe/Luxembourg/Transportation",
          "Total transactions/Europe/Latvia/Fashion & Shoes",
          "Total transactions/Americas/Nicaragua/Transportation",
          "Total transactions/Europe/Norway/Transportation",
          "Total transactions/Asia/Korea, Republic of/Transportation",
          "Total transactions/Africa/Mozambique/Fashion & Shoes",
          "Total transactions/Africa/Morocco/Fashion & Shoes",
          "Total transactions/Asia/Mongolia/Fashion & Shoes",
          "Total transactions/Europe/Russian Federation/Fashion & Shoes",
          "Total transactions/Europe/Norway/Fashion & Shoes",
          "Total transactions/Europe/Norway/Food",
          "Total transactions/Europe/Romania/Fashion & Shoes",
          "Total transactions/Asia/Qatar/Fashion & Shoes",
          "Total transactions/Americas/Puerto Rico/Fashion & Shoes",
          "Total transactions/Asia/Philippines/Fashion & Shoes",
          "Total transactions/Americas/Peru/Fashion & Shoes",
          "Total transactions/Americas/Paraguay/Fashion & Shoes",
          "Total transactions/Asia/Saudi Arabia/Fashion & Shoes",
          "Total transactions/Africa/Senegal/Fashion & Shoes",
          "Total transactions/Asia/Singapore/Fashion & Shoes",
          "Total transactions/Europe/Slovakia/Fashion & Shoes",
          "Total transactions/Europe/Slovenia/Fashion & Shoes",
          "Total transactions/Africa/South Africa/Fashion & Shoes",
          "Total transactions/Asia/Sri Lanka/Fashion & Shoes",
          "Total transactions/Europe/Switzerland/Fashion & Shoes",
          "Total transactions/Europe/Netherlands/Fashion & Shoes",
          "Total transactions/Asia/Taiwan, Province of China/Fashion & Shoes",
          "Total transactions/Africa/Uganda/Fashion & Shoes",
          "Total transactions/Europe/Ukraine/Fashion & Shoes",
          "Total transactions/Asia/United Arab Emirates/Fashion & Shoes",
          "Total transactions/Europe/United Kingdom /Fashion & Shoes",
          "Total transactions/Europe/Belarus/Food",
          "Total transactions/Europe/Belgium/Food",
          "Total transactions/Americas/Bolivia (Plurinational State of)/Food",
          "Total transactions/Americas/Brazil/Food",
          "Total transactions/Americas/Canada/Food",
          "Total transactions/Americas/Panama/Fashion & Shoes",
          "Total transactions/Europe/United Kingdom /Transportation",
          "Total transactions/Europe/North Macedonia/Fashion & Shoes",
          "Total transactions/Africa/Nigeria/Fashion & Shoes",
          "Total transactions/Oceania/New Zealand/Fashion & Shoes",
          "Total transactions/Asia/Turkey/Fashion & Shoes",
          "Total transactions/Europe/Sweden/Fashion & Shoes",
          "Total transactions/Americas/Colombia/Other goods and services",
          "Total transactions/Europe/Lithuania/Health",
          "Total transactions/Europe/Switzerland/Personal products",
          "Total transactions/Asia/Taiwan, Province of China/Personal products",
          "Total transactions/Asia/Turkey/Personal products",
          "Total transactions/Europe/United Kingdom /Personal products",
          "Total transactions/Americas/United States of America/Personal products",
          "Total transactions/Americas/Venezuela (Bolivarian Republic of)/Personal products",
          "Total transactions/Americas/Argentina/Sports & Games",
          "Total transactions/Americas/Brazil/Sports & Games",
          "Total transactions/Europe/Bulgaria/Sports & Games",
          "Total transactions/Americas/Chile/Sports & Games",
          "Total transactions/Asia/China/Sports & Games",
          "Total transactions/Americas/Colombia/Sports & Games",
          "Total transactions/Asia/Cyprus/Sports & Games",
          "Total transactions/Europe/Finland/Sports & Games",
          "Total transactions/Europe/France/Sports & Games",
          "Total transactions/Asia/India/Sports & Games",
          "Total transactions/Europe/Norway/Sports & Games",
          "Total transactions/Asia/Oman/Sports & Games",
          "Total transactions/Europe/Portugal/Sports & Games",
          "Total transactions/Europe/Russian Federation/Sports & Games",
          "Total transactions/Asia/Saudi Arabia/Sports & Games",
          "Total transactions/Americas/Mexico/Transportation",
          "Total transactions/Europe/Netherlands/Transportation",
          "Total transactions/Oceania/New Zealand/Transportation",
          "Total transactions/Europe/Ukraine/Transportation",
          "Total transactions/Europe/Sweden/Personal products",
          "Total transactions/Africa/South Africa/Personal products",
          "Total transactions/Asia/Singapore/Personal products",
          "Total transactions/Europe/Andorra/Personal products",
          "Total transactions/Europe/Luxembourg/Health",
          "Total transactions/Americas/Mexico/Health",
          "Total transactions/Europe/Sweden/Health",
          "Total transactions/Europe/Switzerland/Health",
          "Total transactions/Asia/Taiwan, Province of China/Health",
          "Total transactions/Asia/Turkey/Health",
          "Total transactions/Europe/Ukraine/Health",
          "Total transactions/Europe/United Kingdom /Health",
          "Total transactions/Europe/Netherlands/Hogar y reformas",
          "Total transactions/Europe/Norway/Hogar y reformas",
          "Total transactions/Americas/Peru/Hogar y reformas",
          "Total transactions/Europe/Poland/Hogar y reformas",
          "Total transactions/Asia/Lebanon/Health",
          "Total transactions/Americas/Chile/Other goods and services",
          "Total transactions/Europe/Moldova, Republic of/Fashion & Shoes",
          "Total transactions/Europe/Czechia/Other goods and services",
          "Total transactions/Europe/Denmark/Other goods and services",
          "Total transactions/Americas/Dominican Republic/Other goods and services",
          "Total transactions/Europe/Ireland/Other goods and services",
          "Total transactions/Asia/Israel/Other goods and services",
          "Total transactions/Europe/Italy/Other goods and services",
          "Total transactions/Asia/Japan/Other goods and services",
          "Total transactions/Asia/Korea, Republic of/Other goods and services",
          "Total transactions/Asia/Malaysia/Other goods and services",
          "Total transactions/Americas/United States of America/Other goods and services",
          "Total transactions/Americas/Venezuela (Bolivarian Republic of)/Other goods and services",
          "Total transactions/Asia/China/Other goods and services",
          "Total transactions/Americas/Mexico/Fashion & Shoes",
          "Total transactions/Asia/Pakistan/Fashion & Shoes",
          "Total transactions/Africa/Malawi/Fashion & Shoes",
          "Total transactions/Asia/Japan/Bars & restaurants",
          "Total transactions/Americas/Venezuela (Bolivarian Republic of)/Electronics & computing",
          "Total transactions/Africa/Algeria/Fashion & Shoes",
          "Total transactions/Europe/Andorra/Fashion & Shoes",
          "Total transactions/Europe/Belarus/Fashion & Shoes",
          "Total transactions/Europe/Belgium/Fashion & Shoes",
          "Total transactions/Asia/Jordan/Bars & restaurants",
          "Total transactions/Europe/Bosnia and Herzegovina/Fashion & Shoes",
          "Total transactions/Americas/Brazil/Fashion & Shoes",
          "Total transactions/Europe/Bulgaria/Fashion & Shoes",
          "Total transactions/Americas/Canada/Fashion & Shoes",
          "Total transactions/Americas/Cayman Islands/Fashion & Shoes",
          "Total transactions/Americas/Chile/Fashion & Shoes",
          "Total transactions/Asia/China/Fashion & Shoes",
          "Total transactions/Africa/Botswana/Fashion & Shoes",
          "Total transactions/Asia/Kazakhstan/Bars & restaurants",
          "Total transactions/Africa/Kenya/Bars & restaurants",
          "Total transactions/Asia/Korea, Republic of/Bars & restaurants",
          "Total transactions/Asia/Malaysia/Fashion & Shoes",
          "Total transactions/Asia/Israel/Accommodation",
          "Total transactions/Asia/Thailand/Bars & restaurants",
          "Total transactions/Asia/Taiwan, Province of China/Bars & restaurants",
          "Total transactions/Europe/Switzerland/Bars & restaurants",
          "Total transactions/Europe/Sweden/Bars & restaurants",
          "Total transactions/Africa/South Africa/Bars & restaurants",
          "Total transactions/Americas/Brazil/Electronics & computing",
          "Total transactions/Americas/Colombia/Electronics & computing",
          "Total transactions/Europe/Denmark/Electronics & computing",
          "Total transactions/Asia/Malaysia/Bars & restaurants",
          "Total transactions/Europe/Luxembourg/Bars & restaurants",
          "Total transactions/Europe/Lithuania/Bars & restaurants",
          "Total transactions/Europe/Latvia/Bars & restaurants",
          "Total transactions/Asia/Kuwait/Bars & restaurants",
          "Total transactions/Americas/Colombia/Fashion & Shoes",
          "Total transactions/Americas/Costa Rica/Fashion & Shoes",
          "Total transactions/Asia/Lebanon/Bars & restaurants",
          "Total transactions/Americas/Guatemala/Fashion & Shoes",
          "Total transactions/Europe/Estonia/Fashion & Shoes",
          "Total transactions/Americas/El Salvador/Fashion & Shoes",
          "Total transactions/Africa/Egypt/Fashion & Shoes",
          "Total transactions/Americas/Honduras/Fashion & Shoes",
          "Total transactions/Africa/Senegal/Accommodation",
          "Total transactions/Asia/Saudi Arabia/Accommodation",
          "Total transactions/Oceania/Samoa/Accommodation",
          "Total transactions/Europe/Russian Federation/Accommodation",
          "Total transactions/Europe/Romania/Accommodation",
          "Total transactions/Europe/Finland/Fashion & Shoes",
          "Total transactions/Asia/Lebanon/Fashion & Shoes",
          "Total transactions/Europe/Luxembourg/Fashion & Shoes",
          "Total transactions/Europe/France/Fashion & Shoes",
          "Total transactions/Asia/Georgia/Fashion & Shoes",
          "Total transactions/Europe/Greece/Fashion & Shoes",
          "Total transactions/Asia/Hong Kong/Fashion & Shoes",
          "Total transactions/Europe/Lithuania/Fashion & Shoes",
          "Total transactions/Europe/Belgium/Accommodation",
          "Total transactions/Africa/Botswana/Accommodation",
          "Total transactions/Americas/Brazil/Accommodation",
          "Total transactions/Asia/Bahrain/Accommodation",
          "Total transactions/Europe/Austria/Accommodation",
          "Total transactions/Europe/Bulgaria/Accommodation",
          "Total transactions/Americas/Canada/Accommodation",
          "Total transactions/Oceania/Australia/Accommodation",
          "Total transactions/Americas/Argentina/Transportation",
          "Total transactions/Asia/United Arab Emirates/Bars & restaurants",
          "Total transactions/Asia/Turkey/Bars & restaurants",
          "Total transactions/Americas/Argentina/Personal products",
          "Total transactions/Oceania/Australia/Personal products",
          "Total transactions/Europe/Austria/Personal products",
          "Total transactions/Americas/Brazil/Personal products",
          "Total transactions/Europe/Bulgaria/Personal products",
          "Total transactions/Asia/China/Personal products",
          "Total transactions/Americas/Colombia/Personal products",
          "Total transactions/Americas/Costa Rica/Personal products",
          "Total transactions/Americas/Ecuador/Personal products",
          "Total transactions/Africa/Egypt/Personal products",
          "Total transactions/Asia/Armenia/Accommodation",
          "Total transactions/Europe/Ukraine/Bars & restaurants",
          "Total transactions/Americas/Peru/Other goods and services",
          "Total transactions/Europe/Poland/Other goods and services",
          "Total transactions/Oceania/Australia/Other goods and services",
          "Total transactions/Europe/Austria/Other goods and services",
          "Total transactions/Asia/Bahrain/Other goods and services",
          "Total transactions/Europe/Belgium/Other goods and services",
          "Total transactions/Americas/Belize/Other goods and services",
          "Total transactions/Americas/Brazil/Other goods and services",
          "Total transactions/Europe/Bulgaria/Other goods and services",
          "Total transactions/Europe/Norway/Accommodation",
          "Total transactions/Americas/Dominican Republic/Books & Music",
          "Total transactions/Americas/Costa Rica/Books & Music",
          "Total transactions/Americas/Colombia/Books & Music",
          "Total transactions/Americas/Chile/Books & Music",
          "Total transactions/Americas/Canada/Books & Music",
          "Total transactions/Europe/Portugal/Other goods and services",
          "Total transactions/Americas/Brazil/Books & Music",
          "Total transactions/Americas/Chile/Accommodation",
          "Total transactions/Americas/Argentina/Books & Music",
          "Total transactions/Americas/Venezuela (Bolivarian Republic of)/Bars & restaurants",
          "Total transactions/Asia/Pakistan/Accommodation",
          "Total transactions/Americas/Panama/Accommodation",
          "Total transactions/Americas/United States of America/Bars & restaurants",
          "Total transactions/Europe/United Kingdom /Bars & restaurants",
          "Total transactions/Americas/Mexico/Other goods and services",
          "Total transactions/Europe/Netherlands/Other goods and services",
          "Total transactions/Europe/Norway/Other goods and services",
          "Total transactions/Americas/Panama/Other goods and services",
          "Total transactions/Europe/Finland/Personal products",
          "Total transactions/Asia/Philippines/Other goods and services",
          "Total transactions/Asia/China/Accommodation",
          "Total transactions/Europe/France/Personal products",
          "Total transactions/Europe/Netherlands/Personal products",
          "Total transactions/Europe/Greece/Personal products",
          "Total transactions/Africa/Mozambique/Sports & Games",
          "Total transactions/Europe/Netherlands/Sports & Games",
          "Total transactions/Africa/Nigeria/Sports & Games",
          "Total transactions/Asia/China/Bars & restaurants",
          "Total transactions/Americas/Chile/Bars & restaurants",
          "Total transactions/Europe/Ukraine/Accommodation",
          "Total transactions/Asia/United Arab Emirates/Accommodation",
          "Total transactions/Europe/United Kingdom /Accommodation",
          "Total transactions/Asia/Philippines/Accommodation",
          "Total transactions/Europe/Poland/Accommodation",
          "Total transactions/Americas/United States of America/Accommodation",
          "Total transactions/Europe/Norway/Agencias de viajes",
          "Total transactions/Americas/Brazil/Transportation",
          "Total transactions/Europe/Belgium/Transportation",
          "Total transactions/Europe/Austria/Transportation",
          "Total transactions/Europe/Andorra/Automocion",
          "Total transactions/Europe/Slovakia/Sports & Games",
          "Total transactions/Europe/Sweden/Sports & Games",
          "Total transactions/Europe/Switzerland/Sports & Games",
          "Total transactions/Asia/Turkey/Sports & Games",
          "Total transactions/Europe/Ukraine/Sports & Games",
          "Total transactions/Europe/United Kingdom /Sports & Games",
          "Total transactions/Americas/United States of America/Sports & Games",
          "Total transactions/Americas/Venezuela (Bolivarian Republic of)/Sports & Games",
          "Total transactions/Europe/Andorra/Transportation",
          "Total transactions/Americas/Mexico/Sports & Games",
          "Total transactions/Asia/Korea, Republic of/Sports & Games",
          "Total transactions/Europe/Italy/Sports & Games",
          "Total transactions/Asia/Israel/Sports & Games",
          "Total transactions/Americas/Guatemala/Personal products",
          "Total transactions/Europe/Ireland/Personal products",
          "Total transactions/Asia/Israel/Personal products",
          "Total transactions/Europe/Italy/Personal products",
          "Total transactions/Asia/Japan/Personal products",
          "Total transactions/Americas/Mexico/Personal products",
          "Total transactions/Oceania/Australia/Transportation",
          "Total transactions/Europe/Norway/Personal products",
          "Total transactions/Europe/Portugal/Personal products",
          "Total transactions/Europe/Russian Federation/Personal products",
          "Total transactions/Asia/Saudi Arabia/Bars & restaurants",
          "Total transactions/Asia/Singapore/Accommodation",
          "Total transactions/Asia/Georgia/Personal products",
          "Total transactions/Europe/Slovenia/Accommodation",
          "Total transactions/Europe/Romania/Bars & restaurants",
          "Total transactions/Africa/South Africa/Accommodation",
          "Total transactions/Asia/Sri Lanka/Accommodation",
          "Total transactions/Europe/Sweden/Accommodation",
          "Total transactions/Americas/Argentina/Other goods and services",
          "Total transactions/Europe/Switzerland/Accommodation",
          "Total transactions/Asia/Taiwan, Province of China/Accommodation",
          "Total transactions/Americas/Trinidad and Tobago/Accommodation",
          "Total transactions/Asia/Turkey/Accommodation",
          "Total transactions/Europe/Croatia/Bars & restaurants",
          "Total transactions/Americas/Costa Rica/Bars & restaurants",
          "Total transactions/Americas/Colombia/Bars & restaurants",
          "Total transactions/Europe/Russian Federation/Bars & restaurants",
          "Total transactions/Europe/Andorra/Other goods and services",
          "Total transactions/Africa/Egypt/Culture & Leisure",
          "Total transactions/Europe/United Kingdom /Hogar y reformas",
          "Total transactions/Americas/Colombia/Food",
          "Total transactions/Asia/Bahrain/Fashion & Shoes",
          "Total transactions/Asia/Azerbaijan/Fashion & Shoes",
          "Total transactions/Europe/Austria/Fashion & Shoes",
          "Total transactions/Oceania/Australia/Fashion & Shoes",
          "Total transactions/Americas/Argentina/Fashion & Shoes",
          "Total transactions/Americas/Mexico/Food",
          "Total transactions/Europe/Netherlands/Food",
          "Total transactions/Africa/Angola/Fashion & Shoes",
          "Total transactions/Americas/Honduras/Electronics & computing",
          "Total transactions/Europe/France/Electronics & computing",
          "Total transactions/Europe/Finland/Electronics & computing",
          "Total transactions/Europe/United Kingdom /Food",
          "Total transactions/Americas/United States of America/Food",
          "Total transactions/Asia/China/Food",
          "Total transactions/Africa/Algeria/Health",
          "Total transactions/Americas/Argentina/Health",
          "Total transactions/Europe/Austria/Health",
          "Total transactions/Europe/Belgium/Health",
          "Total transactions/Europe/Bosnia and Herzegovina/Health",
          "Total transactions/Americas/Brazil/Health",
          "Total transactions/Americas/Canada/Health",
          "Total transactions/Americas/Chile/Health",
          "Total transactions/Europe/Malta/Accommodation",
          "Total transactions/Americas/Mexico/Accommodation",
          "Total transactions/Americas/Dominican Republic/Electronics & computing",
          "Total transactions/Europe/Austria/Electronics & computing",
          "Total transactions/Americas/El Salvador/Health",
          "Total transactions/Europe/Finland/Health",
          "Total transactions/Europe/France/Health",
          "Total transactions/Europe/Andorra/Health",
          "Total transactions/Europe/Greece/Health",
          "Total transactions/Europe/Croatia/Fashion & Shoes",
          "Total transactions/Americas/Argentina/Food",
          "Total transactions/Asia/Kuwait/Fashion & Shoes",
          "Total transactions/Asia/Korea, Republic of/Fashion & Shoes",
          "Total transactions/Asia/Kazakhstan/Fashion & Shoes",
          "Total transactions/Asia/Jordan/Fashion & Shoes",
          "Total transactions/Asia/Japan/Fashion & Shoes",
          "Total transactions/Americas/Jamaica/Fashion & Shoes",
          "Total transactions/Europe/Italy/Fashion & Shoes",
          "Total transactions/Asia/Israel/Fashion & Shoes",
          "Total transactions/Europe/Ireland/Fashion & Shoes",
          "Total transactions/Asia/Iraq/Fashion & Shoes",
          "Total transactions/Asia/Indonesia/Fashion & Shoes",
          "Total transactions/Asia/India/Fashion & Shoes",
          "Total transactions/Europe/Iceland/Fashion & Shoes",
          "Total transactions/Europe/Hungary/Fashion & Shoes",
          "Total transactions/Oceania/Australia/Food",
          "Total transactions/Americas/Ecuador/Fashion & Shoes",
          "Total transactions/Asia/Thailand/Fashion & Shoes",
          "Total transactions/Americas/Trinidad and Tobago/Fashion & Shoes",
          "Total transactions/Europe/Denmark/Fashion & Shoes",
          "Total transactions/Africa/Côte d'Ivoire/Fashion & Shoes",
          "Total transactions/Europe/Czechia/Fashion & Shoes",
          "Total transactions/Asia/Cyprus/Fashion & Shoes",
          "Total transactions/Americas/Curacao/Fashion & Shoes",
          "Total transactions/Americas/United States of America/Fashion & Shoes",
          "Total transactions/Americas/Uruguay/Fashion & Shoes",
          "Total transactions/Asia/Uzbekistan/Fashion & Shoes",
          "Total transactions/Americas/Venezuela (Bolivarian Republic of)/Fashion & Shoes",
          "Total transactions/Asia/Viet Nam/Fashion & Shoes",
          "Total transactions/Africa/Zimbabwe/Fashion & Shoes",
          "Total transactions/Europe/Andorra/Food",
          "Total transactions/Americas/Dominican Republic/Fashion & Shoes",
          "Total transactions/Americas/United States of America/Hogar y reformas",
          "Total transactions/Americas/Guatemala/Health",
          "Total transactions/Asia/India/Health",
          "Total transactions/Asia/Uzbekistan/Health",
          "Total transactions/Americas/Venezuela (Bolivarian Republic of)/Health",
          "Total transactions/Asia/Viet Nam/Health",
          "Total transactions/Europe/Andorra/Hogar y reformas",
          "Total transactions/Americas/Argentina/Hogar y reformas",
          "Total transactions/Oceania/Australia/Hogar y reformas",
          "Total transactions/Europe/Austria/Hogar y reformas",
          "Total transactions/Europe/Belgium/Hogar y reformas",
          "Total transactions/Americas/Belize/Hogar y reformas",
          "Total transactions/Americas/Brazil/Hogar y reformas",
          "Total transactions/Asia/China/Hogar y reformas",
          "Total transactions/Americas/Colombia/Hogar y reformas",
          "Total transactions/Asia/Cyprus/Hogar y reformas",
          "Total transactions/Europe/Denmark/Hogar y reformas",
          "Total transactions/Americas/Uruguay/Health",
          "Total transactions/Americas/Dominican Republic/Hogar y reformas",
          "Total transactions/Europe/France/Hogar y reformas",
          "Total transactions/Asia/Qatar/Accommodation",
          "Total transactions/Asia/China/Culture & Leisure",
          "Total transactions/Americas/Chile/Culture & Leisure",
          "Total transactions/Europe/Netherlands/Accommodation",
          "Total transactions/Africa/Nigeria/Accommodation",
          "Total transactions/Americas/Ecuador/Books & Music",
          "Total transactions/Europe/Portugal/Hogar y reformas",
          "Total transactions/Europe/Russian Federation/Hogar y reformas",
          "Total transactions/Asia/Singapore/Hogar y reformas",
          "Total transactions/Africa/South Africa/Hogar y reformas",
          "Total transactions/Europe/Sweden/Hogar y reformas",
          "Total transactions/Europe/Switzerland/Hogar y reformas",
          "Total transactions/Asia/Turkey/Hogar y reformas",
          "Total transactions/Europe/Finland/Hogar y reformas",
          "Total transactions/Europe/Iceland/Health",
          "Total transactions/Americas/United States of America/Health",
          "Total transactions/Europe/France/Culture & Leisure",
          "Total transactions/Europe/Ireland/Health",
          "Total transactions/Asia/Israel/Health",
          "Total transactions/Europe/Italy/Health",
          "Total transactions/Asia/Japan/Health",
          "Total transactions/Asia/Jordan/Health",
          "Total transactions/Asia/Kazakhstan/Health",
          "Total transactions/Asia/Korea, Republic of/Health",
          "Total transactions/Asia/Kuwait/Health",
          "Total transactions/Oceania/Australia/Electronics & computing",
          "Total transactions/Americas/Argentina/Electronics & computing",
          "Total transactions/Americas/Venezuela (Bolivarian Republic of)/Culture & Leisure",
          "Total transactions/Americas/United States of America/Culture & Leisure",
          "Total transactions/Europe/United Kingdom /Culture & Leisure",
          "Total transactions/Asia/Taiwan, Province of China/Culture & Leisure",
          "Total transactions/Europe/Finland/Culture & Leisure",
          "Total transactions/Europe/Switzerland/Culture & Leisure",
          "Total transactions/Asia/Saudi Arabia/Culture & Leisure",
          "Total transactions/Asia/Israel/Culture & Leisure",
          "Total transactions/Europe/Italy/Culture & Leisure",
          "Total transactions/Asia/Japan/Culture & Leisure",
          "Total transactions/Asia/Kazakhstan/Culture & Leisure",
          "Total transactions/Asia/Korea, Republic of/Culture & Leisure",
          "Total transactions/Asia/Kuwait/Culture & Leisure",
          "Total transactions/Asia/Malaysia/Culture & Leisure",
          "Total transactions/Africa/Morocco/Culture & Leisure",
          "Total transactions/Europe/North Macedonia/Culture & Leisure",
          "Total transactions/Europe/Norway/Culture & Leisure",
          "Total transactions/Americas/Paraguay/Culture & Leisure",
          "Total transactions/Europe/Portugal/Culture & Leisure",
          "Total transactions/Europe/Romania/Culture & Leisure",
          "Total transactions/Europe/Russian Federation/Culture & Leisure",
          "Total transactions/Europe/Sweden/Culture & Leisure",
          "Total transactions/Europe/Portugal/Accommodation",
          "Total transactions/Asia/Malaysia/Accommodation",
          "Total transactions/Asia/Jordan/Accommodation",
          "Total transactions/Asia/Korea, Republic of/Accommodation",
          "Total transactions/Africa/Kenya/Accommodation",
          "Total transactions/Asia/Kazakhstan/Accommodation",
          "Total transactions/Americas/Canada/Other goods and services",
          "Total transactions/Asia/Japan/Accommodation",
          "Total transactions/Europe/Italy/Accommodation",
          "Total transactions/Americas/Colombia/Health",
          "Total transactions/Asia/China/Health",
          "Total transactions/Asia/Lebanon/Accommodation",
          "Total transactions/Asia/Kuwait/Accommodation",
          "Total transactions/Europe/Lithuania/Accommodation",
          "Total transactions/Africa/Algeria",
          "Total transactions/Europe/Andorra",
          "Total transactions/Africa/Angola",
          "Total transactions/Americas/Argentina",
          "Total transactions/Asia/Armenia",
          "Total transactions/Oceania/Australia",
          "Total transactions/Europe/Austria",
          "Total transactions/Asia/Azerbaijan",
          "Total transactions/Asia/Bahrain",
          "Total transactions/Europe/Belarus",
          "Total transactions/Europe/Belgium",
          "Total transactions/Americas/Belize",
          "Total transactions/Americas/Bolivia (Plurinational State of)",
          "Total transactions/Europe/Bosnia and Herzegovina",
          "Total transactions/Africa/Botswana",
          "Total transactions/Americas/Brazil",
          "Total transactions/Europe/Bulgaria",
          "Total transactions/Americas/Canada",
          "Total transactions/Americas/Cayman Islands",
          "Total transactions/Americas/Chile",
          "Total transactions/Asia/China",
          "Total transactions/Americas/Colombia",
          "Total transactions/Americas/Costa Rica",
          "Total transactions/Europe/Croatia",
          "Total transactions/Americas/Curacao",
          "Total transactions/Asia/Cyprus",
          "Total transactions/Europe/Czechia",
          "Total transactions/Africa/Côte d'Ivoire",
          "Total transactions/Europe/Denmark",
          "Total transactions/Americas/Dominican Republic",
          "Total transactions/Americas/Ecuador",
          "Total transactions/Africa/Egypt",
          "Total transactions/Americas/El Salvador",
          "Total transactions/Europe/Estonia",
          "Total transactions/Europe/Finland",
          "Total transactions/Europe/France",
          "Total transactions/Asia/Georgia",
          "Total transactions/Europe/Greece",
          "Total transactions/Americas/Guatemala",
          "Total transactions/Americas/Honduras",
          "Total transactions/Asia/Hong Kong",
          "Total transactions/Europe/Hungary",
          "Total transactions/Europe/Iceland",
          "Total transactions/Asia/India",
          "Total transactions/Asia/Indonesia",
          "Total transactions/Asia/Iraq",
          "Total transactions/Europe/Ireland",
          "Total transactions/Asia/Israel",
          "Total transactions/Europe/Italy",
          "Total transactions/Americas/Jamaica",
          "Total transactions/Asia/Japan",
          "Total transactions/Asia/Jordan",
          "Total transactions/Asia/Kazakhstan",
          "Total transactions/Africa/Kenya",
          "Total transactions/Asia/Korea, Republic of",
          "Total transactions/Asia/Kuwait",
          "Total transactions/Europe/Latvia",
          "Total transactions/Asia/Lebanon",
          "Total transactions/Europe/Lithuania",
          "Total transactions/Europe/Luxembourg",
          "Total transactions/Africa/Malawi",
          "Total transactions/Asia/Malaysia",
          "Total transactions/Europe/Malta",
          "Total transactions/Americas/Mexico",
          "Total transactions/Europe/Moldova, Republic of",
          "Total transactions/Asia/Mongolia",
          "Total transactions/Africa/Morocco",
          "Total transactions/Africa/Mozambique",
          "Total transactions/Europe/Netherlands",
          "Total transactions/Oceania/New Zealand",
          "Total transactions/Americas/Nicaragua",
          "Total transactions/Africa/Nigeria",
          "Total transactions/Europe/North Macedonia",
          "Total transactions/Europe/Norway",
          "Total transactions/Asia/Oman",
          "Total transactions/Asia/Pakistan",
          "Total transactions/Americas/Panama",
          "Total transactions/Americas/Paraguay",
          "Total transactions/Americas/Peru",
          "Total transactions/Asia/Philippines",
          "Total transactions/Europe/Poland",
          "Total transactions/Europe/Portugal",
          "Total transactions/Americas/Puerto Rico",
          "Total transactions/Asia/Qatar",
          "Total transactions/Europe/Romania",
          "Total transactions/Europe/Russian Federation",
          "Total transactions/Oceania/Samoa",
          "Total transactions/Asia/Saudi Arabia",
          "Total transactions/Africa/Senegal",
          "Total transactions/Asia/Singapore",
          "Total transactions/Europe/Slovakia",
          "Total transactions/Europe/Slovenia",
          "Total transactions/Africa/South Africa",
          "Total transactions/Asia/Sri Lanka",
          "Total transactions/Europe/Sweden",
          "Total transactions/Europe/Switzerland",
          "Total transactions/Asia/Taiwan, Province of China",
          "Total transactions/Asia/Thailand",
          "Total transactions/Americas/Trinidad and Tobago",
          "Total transactions/Asia/Turkey",
          "Total transactions/Africa/Uganda",
          "Total transactions/Europe/Ukraine",
          "Total transactions/Asia/United Arab Emirates",
          "Total transactions/Europe/United Kingdom ",
          "Total transactions/Americas/United States of America",
          "Total transactions/Americas/Uruguay",
          "Total transactions/Asia/Uzbekistan",
          "Total transactions/Americas/Venezuela (Bolivarian Republic of)",
          "Total transactions/Asia/Viet Nam",
          "Total transactions/Africa/Zimbabwe",
          "Total transactions/Africa",
          "Total transactions/Americas",
          "Total transactions/Asia",
          "Total transactions/Europe",
          "Total transactions/Oceania",
          "Total transactions"
         ],
         "labels": [
          "Accommodation",
          "Food",
          "Food",
          "Food",
          "Food",
          "Fashion & Shoes",
          "Fashion & Shoes",
          "Food",
          "Culture & Leisure",
          "Culture & Leisure",
          "Books & Music",
          "Books & Music",
          "Books & Music",
          "Bars & restaurants",
          "Bars & restaurants",
          "Culture & Leisure",
          "Food",
          "Food",
          "Health",
          "Sports & Games",
          "Other goods and services",
          "Other goods and services",
          "Other goods and services",
          "Other goods and services",
          "Other goods and services",
          "Other goods and services",
          "Other goods and services",
          "Other goods and services",
          "Other goods and services",
          "Other goods and services",
          "Other goods and services",
          "Health",
          "Health",
          "Health",
          "Automocion",
          "Automocion",
          "Transportation",
          "Accommodation",
          "Accommodation",
          "Accommodation",
          "Bars & restaurants",
          "Books & Music",
          "Books & Music",
          "Books & Music",
          "Books & Music",
          "Books & Music",
          "Books & Music",
          "Books & Music",
          "Books & Music",
          "Books & Music",
          "Books & Music",
          "Books & Music",
          "Food",
          "Food",
          "Food",
          "Hogar y reformas",
          "Accommodation",
          "Accommodation",
          "Books & Music",
          "Food",
          "Food",
          "Food",
          "Bars & restaurants",
          "Bars & restaurants",
          "Bars & restaurants",
          "Bars & restaurants",
          "Bars & restaurants",
          "Bars & restaurants",
          "Bars & restaurants",
          "Electronics & computing",
          "Culture & Leisure",
          "Bars & restaurants",
          "Bars & restaurants",
          "Bars & restaurants",
          "Bars & restaurants",
          "Bars & restaurants",
          "Bars & restaurants",
          "Bars & restaurants",
          "Accommodation",
          "Food",
          "Bars & restaurants",
          "Culture & Leisure",
          "Hogar y reformas",
          "Bars & restaurants",
          "Accommodation",
          "Accommodation",
          "Electronics & computing",
          "Accommodation",
          "Accommodation",
          "Health",
          "Accommodation",
          "Accommodation",
          "Accommodation",
          "Accommodation",
          "Electronics & computing",
          "Electronics & computing",
          "Electronics & computing",
          "Electronics & computing",
          "Electronics & computing",
          "Electronics & computing",
          "Electronics & computing",
          "Electronics & computing",
          "Electronics & computing",
          "Health",
          "Health",
          "Health",
          "Hogar y reformas",
          "Hogar y reformas",
          "Food",
          "Food",
          "Food",
          "Food",
          "Food",
          "Health",
          "Health",
          "Health",
          "Health",
          "Health",
          "Health",
          "Health",
          "Health",
          "Health",
          "Health",
          "Health",
          "Health",
          "Culture & Leisure",
          "Bars & restaurants",
          "Electronics & computing",
          "Transportation",
          "Bars & restaurants",
          "Transportation",
          "Transportation",
          "Bars & restaurants",
          "Bars & restaurants",
          "Bars & restaurants",
          "Bars & restaurants",
          "Bars & restaurants",
          "Bars & restaurants",
          "Bars & restaurants",
          "Bars & restaurants",
          "Bars & restaurants",
          "Bars & restaurants",
          "Bars & restaurants",
          "Bars & restaurants",
          "Transportation",
          "Bars & restaurants",
          "Bars & restaurants",
          "Bars & restaurants",
          "Transportation",
          "Agencias de viajes",
          "Accommodation",
          "Transportation",
          "Transportation",
          "Automocion",
          "Automocion",
          "Bars & restaurants",
          "Bars & restaurants",
          "Bars & restaurants",
          "Bars & restaurants",
          "Bars & restaurants",
          "Bars & restaurants",
          "Bars & restaurants",
          "Bars & restaurants",
          "Bars & restaurants",
          "Bars & restaurants",
          "Agencias de viajes",
          "Transportation",
          "Transportation",
          "Bars & restaurants",
          "Bars & restaurants",
          "Bars & restaurants",
          "Bars & restaurants",
          "Bars & restaurants",
          "Transportation",
          "Transportation",
          "Transportation",
          "Accommodation",
          "Accommodation",
          "Transportation",
          "Transportation",
          "Sports & Games",
          "Sports & Games",
          "Transportation",
          "Agencias de viajes",
          "Transportation",
          "Bars & restaurants",
          "Transportation",
          "Transportation",
          "Transportation",
          "Bars & restaurants",
          "Transportation",
          "Transportation",
          "Bars & restaurants",
          "Transportation",
          "Transportation",
          "Transportation",
          "Fashion & Shoes",
          "Transportation",
          "Transportation",
          "Transportation",
          "Fashion & Shoes",
          "Fashion & Shoes",
          "Fashion & Shoes",
          "Fashion & Shoes",
          "Fashion & Shoes",
          "Food",
          "Fashion & Shoes",
          "Fashion & Shoes",
          "Fashion & Shoes",
          "Fashion & Shoes",
          "Fashion & Shoes",
          "Fashion & Shoes",
          "Fashion & Shoes",
          "Fashion & Shoes",
          "Fashion & Shoes",
          "Fashion & Shoes",
          "Fashion & Shoes",
          "Fashion & Shoes",
          "Fashion & Shoes",
          "Fashion & Shoes",
          "Fashion & Shoes",
          "Fashion & Shoes",
          "Fashion & Shoes",
          "Fashion & Shoes",
          "Fashion & Shoes",
          "Fashion & Shoes",
          "Food",
          "Food",
          "Food",
          "Food",
          "Food",
          "Fashion & Shoes",
          "Transportation",
          "Fashion & Shoes",
          "Fashion & Shoes",
          "Fashion & Shoes",
          "Fashion & Shoes",
          "Fashion & Shoes",
          "Other goods and services",
          "Health",
          "Personal products",
          "Personal products",
          "Personal products",
          "Personal products",
          "Personal products",
          "Personal products",
          "Sports & Games",
          "Sports & Games",
          "Sports & Games",
          "Sports & Games",
          "Sports & Games",
          "Sports & Games",
          "Sports & Games",
          "Sports & Games",
          "Sports & Games",
          "Sports & Games",
          "Sports & Games",
          "Sports & Games",
          "Sports & Games",
          "Sports & Games",
          "Sports & Games",
          "Transportation",
          "Transportation",
          "Transportation",
          "Transportation",
          "Personal products",
          "Personal products",
          "Personal products",
          "Personal products",
          "Health",
          "Health",
          "Health",
          "Health",
          "Health",
          "Health",
          "Health",
          "Health",
          "Hogar y reformas",
          "Hogar y reformas",
          "Hogar y reformas",
          "Hogar y reformas",
          "Health",
          "Other goods and services",
          "Fashion & Shoes",
          "Other goods and services",
          "Other goods and services",
          "Other goods and services",
          "Other goods and services",
          "Other goods and services",
          "Other goods and services",
          "Other goods and services",
          "Other goods and services",
          "Other goods and services",
          "Other goods and services",
          "Other goods and services",
          "Other goods and services",
          "Fashion & Shoes",
          "Fashion & Shoes",
          "Fashion & Shoes",
          "Bars & restaurants",
          "Electronics & computing",
          "Fashion & Shoes",
          "Fashion & Shoes",
          "Fashion & Shoes",
          "Fashion & Shoes",
          "Bars & restaurants",
          "Fashion & Shoes",
          "Fashion & Shoes",
          "Fashion & Shoes",
          "Fashion & Shoes",
          "Fashion & Shoes",
          "Fashion & Shoes",
          "Fashion & Shoes",
          "Fashion & Shoes",
          "Bars & restaurants",
          "Bars & restaurants",
          "Bars & restaurants",
          "Fashion & Shoes",
          "Accommodation",
          "Bars & restaurants",
          "Bars & restaurants",
          "Bars & restaurants",
          "Bars & restaurants",
          "Bars & restaurants",
          "Electronics & computing",
          "Electronics & computing",
          "Electronics & computing",
          "Bars & restaurants",
          "Bars & restaurants",
          "Bars & restaurants",
          "Bars & restaurants",
          "Bars & restaurants",
          "Fashion & Shoes",
          "Fashion & Shoes",
          "Bars & restaurants",
          "Fashion & Shoes",
          "Fashion & Shoes",
          "Fashion & Shoes",
          "Fashion & Shoes",
          "Fashion & Shoes",
          "Accommodation",
          "Accommodation",
          "Accommodation",
          "Accommodation",
          "Accommodation",
          "Fashion & Shoes",
          "Fashion & Shoes",
          "Fashion & Shoes",
          "Fashion & Shoes",
          "Fashion & Shoes",
          "Fashion & Shoes",
          "Fashion & Shoes",
          "Fashion & Shoes",
          "Accommodation",
          "Accommodation",
          "Accommodation",
          "Accommodation",
          "Accommodation",
          "Accommodation",
          "Accommodation",
          "Accommodation",
          "Transportation",
          "Bars & restaurants",
          "Bars & restaurants",
          "Personal products",
          "Personal products",
          "Personal products",
          "Personal products",
          "Personal products",
          "Personal products",
          "Personal products",
          "Personal products",
          "Personal products",
          "Personal products",
          "Accommodation",
          "Bars & restaurants",
          "Other goods and services",
          "Other goods and services",
          "Other goods and services",
          "Other goods and services",
          "Other goods and services",
          "Other goods and services",
          "Other goods and services",
          "Other goods and services",
          "Other goods and services",
          "Accommodation",
          "Books & Music",
          "Books & Music",
          "Books & Music",
          "Books & Music",
          "Books & Music",
          "Other goods and services",
          "Books & Music",
          "Accommodation",
          "Books & Music",
          "Bars & restaurants",
          "Accommodation",
          "Accommodation",
          "Bars & restaurants",
          "Bars & restaurants",
          "Other goods and services",
          "Other goods and services",
          "Other goods and services",
          "Other goods and services",
          "Personal products",
          "Other goods and services",
          "Accommodation",
          "Personal products",
          "Personal products",
          "Personal products",
          "Sports & Games",
          "Sports & Games",
          "Sports & Games",
          "Bars & restaurants",
          "Bars & restaurants",
          "Accommodation",
          "Accommodation",
          "Accommodation",
          "Accommodation",
          "Accommodation",
          "Accommodation",
          "Agencias de viajes",
          "Transportation",
          "Transportation",
          "Transportation",
          "Automocion",
          "Sports & Games",
          "Sports & Games",
          "Sports & Games",
          "Sports & Games",
          "Sports & Games",
          "Sports & Games",
          "Sports & Games",
          "Sports & Games",
          "Transportation",
          "Sports & Games",
          "Sports & Games",
          "Sports & Games",
          "Sports & Games",
          "Personal products",
          "Personal products",
          "Personal products",
          "Personal products",
          "Personal products",
          "Personal products",
          "Transportation",
          "Personal products",
          "Personal products",
          "Personal products",
          "Bars & restaurants",
          "Accommodation",
          "Personal products",
          "Accommodation",
          "Bars & restaurants",
          "Accommodation",
          "Accommodation",
          "Accommodation",
          "Other goods and services",
          "Accommodation",
          "Accommodation",
          "Accommodation",
          "Accommodation",
          "Bars & restaurants",
          "Bars & restaurants",
          "Bars & restaurants",
          "Bars & restaurants",
          "Other goods and services",
          "Culture & Leisure",
          "Hogar y reformas",
          "Food",
          "Fashion & Shoes",
          "Fashion & Shoes",
          "Fashion & Shoes",
          "Fashion & Shoes",
          "Fashion & Shoes",
          "Food",
          "Food",
          "Fashion & Shoes",
          "Electronics & computing",
          "Electronics & computing",
          "Electronics & computing",
          "Food",
          "Food",
          "Food",
          "Health",
          "Health",
          "Health",
          "Health",
          "Health",
          "Health",
          "Health",
          "Health",
          "Accommodation",
          "Accommodation",
          "Electronics & computing",
          "Electronics & computing",
          "Health",
          "Health",
          "Health",
          "Health",
          "Health",
          "Fashion & Shoes",
          "Food",
          "Fashion & Shoes",
          "Fashion & Shoes",
          "Fashion & Shoes",
          "Fashion & Shoes",
          "Fashion & Shoes",
          "Fashion & Shoes",
          "Fashion & Shoes",
          "Fashion & Shoes",
          "Fashion & Shoes",
          "Fashion & Shoes",
          "Fashion & Shoes",
          "Fashion & Shoes",
          "Fashion & Shoes",
          "Fashion & Shoes",
          "Food",
          "Fashion & Shoes",
          "Fashion & Shoes",
          "Fashion & Shoes",
          "Fashion & Shoes",
          "Fashion & Shoes",
          "Fashion & Shoes",
          "Fashion & Shoes",
          "Fashion & Shoes",
          "Fashion & Shoes",
          "Fashion & Shoes",
          "Fashion & Shoes",
          "Fashion & Shoes",
          "Fashion & Shoes",
          "Fashion & Shoes",
          "Food",
          "Fashion & Shoes",
          "Hogar y reformas",
          "Health",
          "Health",
          "Health",
          "Health",
          "Health",
          "Hogar y reformas",
          "Hogar y reformas",
          "Hogar y reformas",
          "Hogar y reformas",
          "Hogar y reformas",
          "Hogar y reformas",
          "Hogar y reformas",
          "Hogar y reformas",
          "Hogar y reformas",
          "Hogar y reformas",
          "Hogar y reformas",
          "Health",
          "Hogar y reformas",
          "Hogar y reformas",
          "Accommodation",
          "Culture & Leisure",
          "Culture & Leisure",
          "Accommodation",
          "Accommodation",
          "Books & Music",
          "Hogar y reformas",
          "Hogar y reformas",
          "Hogar y reformas",
          "Hogar y reformas",
          "Hogar y reformas",
          "Hogar y reformas",
          "Hogar y reformas",
          "Hogar y reformas",
          "Health",
          "Health",
          "Culture & Leisure",
          "Health",
          "Health",
          "Health",
          "Health",
          "Health",
          "Health",
          "Health",
          "Health",
          "Electronics & computing",
          "Electronics & computing",
          "Culture & Leisure",
          "Culture & Leisure",
          "Culture & Leisure",
          "Culture & Leisure",
          "Culture & Leisure",
          "Culture & Leisure",
          "Culture & Leisure",
          "Culture & Leisure",
          "Culture & Leisure",
          "Culture & Leisure",
          "Culture & Leisure",
          "Culture & Leisure",
          "Culture & Leisure",
          "Culture & Leisure",
          "Culture & Leisure",
          "Culture & Leisure",
          "Culture & Leisure",
          "Culture & Leisure",
          "Culture & Leisure",
          "Culture & Leisure",
          "Culture & Leisure",
          "Culture & Leisure",
          "Accommodation",
          "Accommodation",
          "Accommodation",
          "Accommodation",
          "Accommodation",
          "Accommodation",
          "Other goods and services",
          "Accommodation",
          "Accommodation",
          "Health",
          "Health",
          "Accommodation",
          "Accommodation",
          "Accommodation",
          "Algeria",
          "Andorra",
          "Angola",
          "Argentina",
          "Armenia",
          "Australia",
          "Austria",
          "Azerbaijan",
          "Bahrain",
          "Belarus",
          "Belgium",
          "Belize",
          "Bolivia (Plurinational State of)",
          "Bosnia and Herzegovina",
          "Botswana",
          "Brazil",
          "Bulgaria",
          "Canada",
          "Cayman Islands",
          "Chile",
          "China",
          "Colombia",
          "Costa Rica",
          "Croatia",
          "Curacao",
          "Cyprus",
          "Czechia",
          "Côte d'Ivoire",
          "Denmark",
          "Dominican Republic",
          "Ecuador",
          "Egypt",
          "El Salvador",
          "Estonia",
          "Finland",
          "France",
          "Georgia",
          "Greece",
          "Guatemala",
          "Honduras",
          "Hong Kong",
          "Hungary",
          "Iceland",
          "India",
          "Indonesia",
          "Iraq",
          "Ireland",
          "Israel",
          "Italy",
          "Jamaica",
          "Japan",
          "Jordan",
          "Kazakhstan",
          "Kenya",
          "Korea, Republic of",
          "Kuwait",
          "Latvia",
          "Lebanon",
          "Lithuania",
          "Luxembourg",
          "Malawi",
          "Malaysia",
          "Malta",
          "Mexico",
          "Moldova, Republic of",
          "Mongolia",
          "Morocco",
          "Mozambique",
          "Netherlands",
          "New Zealand",
          "Nicaragua",
          "Nigeria",
          "North Macedonia",
          "Norway",
          "Oman",
          "Pakistan",
          "Panama",
          "Paraguay",
          "Peru",
          "Philippines",
          "Poland",
          "Portugal",
          "Puerto Rico",
          "Qatar",
          "Romania",
          "Russian Federation",
          "Samoa",
          "Saudi Arabia",
          "Senegal",
          "Singapore",
          "Slovakia",
          "Slovenia",
          "South Africa",
          "Sri Lanka",
          "Sweden",
          "Switzerland",
          "Taiwan, Province of China",
          "Thailand",
          "Trinidad and Tobago",
          "Turkey",
          "Uganda",
          "Ukraine",
          "United Arab Emirates",
          "United Kingdom ",
          "United States of America",
          "Uruguay",
          "Uzbekistan",
          "Venezuela (Bolivarian Republic of)",
          "Viet Nam",
          "Zimbabwe",
          "Africa",
          "Americas",
          "Asia",
          "Europe",
          "Oceania",
          "Total transactions"
         ],
         "marker": {
          "colors": [
           "gold",
           "gold",
           "gold",
           "darkblue",
           "gold",
           "gold",
           "gold",
           "gold",
           "gold",
           "gold",
           "turquoise",
           "turquoise",
           "turquoise",
           "darkblue",
           "turquoise",
           "turquoise",
           "gold",
           "gold",
           "gold",
           "darkblue",
           "gold",
           "darkblue",
           "darkblue",
           "gold",
           "gold",
           "pruple",
           "gold",
           "darkblue",
           "gold",
           "gold",
           "gold",
           "pruple",
           "turquoise",
           "turquoise",
           "gold",
           "darkblue",
           "turquoise",
           "turquoise",
           "turquoise",
           "turquoise",
           "turquoise",
           "turquoise",
           "gold",
           "darkblue",
           "turquoise",
           "turquoise",
           "gold",
           "turquoise",
           "pruple",
           "gold",
           "darkblue",
           "gold",
           "gold",
           "gold",
           "gold",
           "turquoise",
           "gold",
           "darkblue",
           "gold",
           "turquoise",
           "gold",
           "gold",
           "pruple",
           "gold",
           "pruple",
           "gold",
           "gold",
           "darkblue",
           "turquoise",
           "darkblue",
           "turquoise",
           "turquoise",
           "gold",
           "gold",
           "turquoise",
           "darkblue",
           "darkblue",
           "gold",
           "darkblue",
           "gold",
           "darkblue",
           "turquoise",
           "gold",
           "gold",
           "turquoise",
           "gold",
           "turquoise",
           "darkblue",
           "gold",
           "turquoise",
           "pruple",
           "gold",
           "turquoise",
           "gold",
           "turquoise",
           "gold",
           "gold",
           "gold",
           "pruple",
           "darkblue",
           "gold",
           "gold",
           "gold",
           "pruple",
           "gold",
           "gold",
           "darkblue",
           "gold",
           "turquoise",
           "gold",
           "darkblue",
           "gold",
           "darkblue",
           "pruple",
           "gold",
           "darkblue",
           "gold",
           "gold",
           "darkblue",
           "turquoise",
           "gold",
           "gold",
           "darkblue",
           "turquoise",
           "turquoise",
           "turquoise",
           "turquoise",
           "gold",
           "gold",
           "gold",
           "gold",
           "gold",
           "turquoise",
           "darkblue",
           "gold",
           "pruple",
           "gold",
           "turquoise",
           "turquoise",
           "pruple",
           "gold",
           "gold",
           "gold",
           "darkblue",
           "gold",
           "turquoise",
           "turquoise",
           "turquoise",
           "turquoise",
           "turquoise",
           "turquoise",
           "turquoise",
           "darkblue",
           "darkblue",
           "gold",
           "gold",
           "pruple",
           "turquoise",
           "#FF6692",
           "gold",
           "gold",
           "gold",
           "turquoise",
           "turquoise",
           "turquoise",
           "gold",
           "turquoise",
           "gold",
           "darkblue",
           "darkblue",
           "gold",
           "darkblue",
           "gold",
           "gold",
           "gold",
           "gold",
           "darkblue",
           "gold",
           "darkblue",
           "darkblue",
           "gold",
           "#FF6692",
           "gold",
           "gold",
           "turquoise",
           "gold",
           "darkblue",
           "gold",
           "darkblue",
           "darkblue",
           "gold",
           "darkblue",
           "gold",
           "darkblue",
           "darkblue",
           "gold",
           "gold",
           "turquoise",
           "gold",
           "darkblue",
           "pruple",
           "pruple",
           "darkblue",
           "gold",
           "gold",
           "gold",
           "gold",
           "darkblue",
           "turquoise",
           "darkblue",
           "turquoise",
           "turquoise",
           "darkblue",
           "pruple",
           "darkblue",
           "gold",
           "gold",
           "pruple",
           "darkblue",
           "gold",
           "gold",
           "darkblue",
           "pruple",
           "gold",
           "darkblue",
           "gold",
           "gold",
           "gold",
           "turquoise",
           "turquoise",
           "turquoise",
           "turquoise",
           "gold",
           "gold",
           "pruple",
           "#FF6692",
           "darkblue",
           "gold",
           "turquoise",
           "gold",
           "gold",
           "darkblue",
           "darkblue",
           "gold",
           "turquoise",
           "turquoise",
           "turquoise",
           "turquoise",
           "gold",
           "turquoise",
           "darkblue",
           "turquoise",
           "darkblue",
           "gold",
           "gold",
           "darkblue",
           "gold",
           "darkblue",
           "gold",
           "gold",
           "darkblue",
           "turquoise",
           "gold",
           "#FF6692",
           "gold",
           "gold",
           "pruple",
           "darkblue",
           "gold",
           "gold",
           "turquoise",
           "gold",
           "gold",
           "darkblue",
           "darkblue",
           "gold",
           "gold",
           "gold",
           "gold",
           "turquoise",
           "gold",
           "darkblue",
           "turquoise",
           "gold",
           "gold",
           "gold",
           "turquoise",
           "gold",
           "darkblue",
           "gold",
           "darkblue",
           "darkblue",
           "darkblue",
           "turquoise",
           "turquoise",
           "darkblue",
           "turquoise",
           "darkblue",
           "pruple",
           "darkblue",
           "turquoise",
           "pruple",
           "gold",
           "gold",
           "gold",
           "darkblue",
           "gold",
           "turquoise",
           "gold",
           "turquoise",
           "turquoise",
           "turquoise",
           "darkblue",
           "pruple",
           "darkblue",
           "pruple",
           "darkblue",
           "darkblue",
           "darkblue",
           "darkblue",
           "darkblue",
           "gold",
           "gold",
           "pruple",
           "turquoise",
           "turquoise",
           "gold",
           "darkblue",
           "gold",
           "gold",
           "gold",
           "darkblue",
           "turquoise",
           "turquoise",
           "darkblue",
           "turquoise",
           "gold",
           "turquoise",
           "pruple",
           "turquoise",
           "pruple",
           "darkblue",
           "#FF6692",
           "gold",
           "gold",
           "gold",
           "darkblue",
           "gold",
           "gold",
           "darkblue",
           "gold",
           "darkblue",
           "gold",
           "gold",
           "pruple",
           "turquoise",
           "darkblue",
           "gold",
           "gold",
           "turquoise",
           "#FF6692",
           "turquoise",
           "darkblue",
           "darkblue",
           "turquoise",
           "#FF6692",
           "gold",
           "turquoise",
           "gold",
           "darkblue",
           "turquoise",
           "turquoise",
           "turquoise",
           "pruple",
           "darkblue",
           "gold",
           "turquoise",
           "gold",
           "#FF6692",
           "gold",
           "darkblue",
           "gold",
           "turquoise",
           "turquoise",
           "gold",
           "gold",
           "turquoise",
           "turquoise",
           "turquoise",
           "turquoise",
           "turquoise",
           "gold",
           "turquoise",
           "turquoise",
           "turquoise",
           "turquoise",
           "darkblue",
           "turquoise",
           "turquoise",
           "gold",
           "turquoise",
           "gold",
           "gold",
           "turquoise",
           "gold",
           "darkblue",
           "darkblue",
           "gold",
           "gold",
           "gold",
           "pruple",
           "gold",
           "pruple",
           "darkblue",
           "turquoise",
           "gold",
           "darkblue",
           "gold",
           "darkblue",
           "gold",
           "turquoise",
           "gold",
           "turquoise",
           "gold",
           "gold",
           "gold",
           "gold",
           "gold",
           "gold",
           "darkblue",
           "gold",
           "gold",
           "turquoise",
           "turquoise",
           "gold",
           "turquoise",
           "darkblue",
           "gold",
           "darkblue",
           "turquoise",
           "gold",
           "darkblue",
           "gold",
           "darkblue",
           "turquoise",
           "#FF6692",
           "gold",
           "gold",
           "gold",
           "darkblue",
           "darkblue",
           "darkblue",
           "gold",
           "gold",
           "pruple",
           "darkblue",
           "gold",
           "turquoise",
           "gold",
           "darkblue",
           "turquoise",
           "darkblue",
           "gold",
           "turquoise",
           "turquoise",
           "gold",
           "gold",
           "pruple",
           "gold",
           "turquoise",
           "darkblue",
           "darkblue",
           "gold",
           "#FF6692",
           "turquoise",
           "turquoise",
           "gold",
           "pruple",
           "turquoise",
           "gold",
           "gold",
           "gold",
           "turquoise",
           "darkblue",
           "pruple",
           "turquoise",
           "gold",
           "gold",
           "gold",
           "turquoise",
           "turquoise",
           "turquoise",
           "gold",
           "turquoise",
           "turquoise",
           "gold",
           "turquoise",
           "gold",
           "gold",
           "gold",
           "gold",
           "gold",
           "turquoise",
           "darkblue",
           "darkblue",
           "darkblue",
           "darkblue",
           "darkblue",
           "turquoise",
           "gold",
           "darkblue",
           "gold",
           "darkblue",
           "darkblue",
           "darkblue",
           "gold",
           "gold",
           "#FF6692",
           "turquoise",
           "darkblue",
           "turquoise",
           "gold",
           "pruple",
           "gold",
           "darkblue",
           "turquoise",
           "turquoise",
           "turquoise",
           "darkblue",
           "turquoise",
           "darkblue",
           "pruple",
           "gold",
           "turquoise",
           "turquoise",
           "turquoise",
           "darkblue",
           "darkblue",
           "turquoise",
           "darkblue",
           "gold",
           "turquoise",
           "#FF6692",
           "gold",
           "gold",
           "turquoise",
           "turquoise",
           "darkblue",
           "turquoise",
           "darkblue",
           "gold",
           "turquoise",
           "turquoise",
           "gold",
           "darkblue",
           "darkblue",
           "turquoise",
           "gold",
           "pruple",
           "turquoise",
           "gold",
           "gold",
           "darkblue",
           "pruple",
           "gold",
           "gold",
           "darkblue",
           "gold",
           "gold",
           "turquoise",
           "gold",
           "gold",
           "darkblue",
           "gold",
           "darkblue",
           "darkblue",
           "darkblue",
           "darkblue",
           "darkblue",
           "#FF6692",
           "turquoise",
           "turquoise",
           "turquoise",
           "gold",
           "darkblue",
           "gold",
           "gold",
           "darkblue",
           "darkblue",
           "gold",
           "darkblue",
           "darkblue",
           "darkblue",
           "darkblue",
           "darkblue",
           "pruple",
           "gold",
           "gold",
           "turquoise",
           "gold",
           "gold",
           "gold",
           "gold",
           "gold",
           "darkblue",
           "darkblue",
           "darkblue",
           "pruple",
           "darkblue",
           "turquoise",
           "darkblue",
           "gold",
           "turquoise",
           "darkblue",
           "darkblue",
           "darkblue",
           "gold",
           "pruple",
           "gold",
           "pruple",
           "turquoise",
           "darkblue",
           "#FF6692",
           "gold",
           "darkblue",
           "darkblue",
           "gold",
           "gold",
           "turquoise",
           "turquoise",
           "gold",
           "pruple",
           "turquoise",
           "gold",
           "turquoise",
           "turquoise",
           "turquoise",
           "darkblue",
           "turquoise",
           "turquoise",
           "gold",
           "turquoise",
           "darkblue",
           "gold",
           "pruple",
           "gold",
           "turquoise",
           "turquoise",
           "pruple",
           "turquoise",
           "gold",
           "gold",
           "gold",
           "darkblue",
           "gold",
           "turquoise",
           "turquoise",
           "darkblue",
           "gold",
           "gold",
           "darkblue",
           "darkblue",
           "darkblue",
           "gold",
           "darkblue",
           "gold",
           "turquoise",
           "darkblue",
           "darkblue",
           "darkblue",
           "pruple",
           "darkblue",
           "darkblue",
           "gold",
           "darkblue",
           "gold",
           "gold",
           "pruple",
           "darkblue",
           "gold",
           "turquoise",
           "gold",
           "darkblue",
           "pruple",
           "pruple",
           "gold",
           "#FF6692",
           "turquoise",
           "pruple",
           "gold",
           "gold",
           "darkblue",
           "darkblue",
           "turquoise",
           "turquoise",
           "turquoise",
           "darkblue",
           "gold",
           "gold",
           "turquoise",
           "darkblue",
           "gold",
           "gold",
           "#FF6692",
           "darkblue",
           "pruple",
           "darkblue",
           "gold",
           "gold",
           "pruple",
           "darkblue",
           "gold",
           "gold",
           "darkblue",
           "darkblue",
           "turquoise",
           "darkblue",
           "pruple",
           "gold",
           "darkblue",
           "gold",
           "turquoise",
           "turquoise",
           "darkblue",
           "turquoise",
           "darkblue",
           "pruple",
           "pruple",
           "turquoise",
           "darkblue",
           "gold",
           "#FF6692",
           "lightgrey"
          ]
         },
         "name": "",
         "parents": [
          "Total transactions/Europe/Andorra",
          "Total transactions/Europe/Russian Federation",
          "Total transactions/Europe/Poland",
          "Total transactions/Asia/Philippines",
          "Total transactions/Europe/Austria",
          "Total transactions/Europe/Portugal",
          "Total transactions/Europe/Poland",
          "Total transactions/Europe/Slovenia",
          "Total transactions/Europe/Austria",
          "Total transactions/Europe/Andorra",
          "Total transactions/Americas/Venezuela (Bolivarian Republic of)",
          "Total transactions/Americas/Uruguay",
          "Total transactions/Americas/United States of America",
          "Total transactions/Asia/Uzbekistan",
          "Total transactions/Americas/Uruguay",
          "Total transactions/Americas/Argentina",
          "Total transactions/Europe/Sweden",
          "Total transactions/Europe/Ukraine",
          "Total transactions/Europe/Denmark",
          "Total transactions/Asia/Indonesia",
          "Total transactions/Europe/United Kingdom ",
          "Total transactions/Asia/United Arab Emirates",
          "Total transactions/Asia/Turkey",
          "Total transactions/Europe/Switzerland",
          "Total transactions/Europe/Sweden",
          "Total transactions/Africa/South Africa",
          "Total transactions/Europe/Slovenia",
          "Total transactions/Asia/Saudi Arabia",
          "Total transactions/Europe/Russian Federation",
          "Total transactions/Europe/France",
          "Total transactions/Europe/Finland",
          "Total transactions/Africa/Egypt",
          "Total transactions/Americas/Ecuador",
          "Total transactions/Americas/Dominican Republic",
          "Total transactions/Europe/Belgium",
          "Total transactions/Asia/Bahrain",
          "Total transactions/Americas/United States of America",
          "Total transactions/Americas/Colombia",
          "Total transactions/Americas/Costa Rica",
          "Total transactions/Americas/Argentina",
          "Total transactions/Americas/Paraguay",
          "Total transactions/Americas/Guatemala",
          "Total transactions/Europe/Italy",
          "Total transactions/Asia/Korea, Republic of",
          "Total transactions/Americas/Mexico",
          "Total transactions/Americas/Peru",
          "Total transactions/Europe/Portugal",
          "Total transactions/Americas/Puerto Rico",
          "Total transactions/Africa/South Africa",
          "Total transactions/Europe/Switzerland",
          "Total transactions/Asia/United Arab Emirates",
          "Total transactions/Europe/United Kingdom ",
          "Total transactions/Europe/Estonia",
          "Total transactions/Europe/Finland",
          "Total transactions/Europe/France",
          "Total transactions/Americas/Mexico",
          "Total transactions/Europe/Ireland",
          "Total transactions/Asia/Indonesia",
          "Total transactions/Europe/France",
          "Total transactions/Americas/El Salvador",
          "Total transactions/Europe/Denmark",
          "Total transactions/Europe/Czechia",
          "Total transactions/Africa/Morocco",
          "Total transactions/Europe/Netherlands",
          "Total transactions/Africa/Nigeria",
          "Total transactions/Europe/North Macedonia",
          "Total transactions/Europe/Norway",
          "Total transactions/Asia/Oman",
          "Total transactions/Americas/Panama",
          "Total transactions/Asia/Turkey",
          "Total transactions/Americas/Brazil",
          "Total transactions/Americas/Peru",
          "Total transactions/Europe/Poland",
          "Total transactions/Europe/Portugal",
          "Total transactions/Americas/Puerto Rico",
          "Total transactions/Asia/Qatar",
          "Total transactions/Asia/Singapore",
          "Total transactions/Europe/Slovakia",
          "Total transactions/Asia/Hong Kong",
          "Total transactions/Europe/Croatia",
          "Total transactions/Asia/Philippines",
          "Total transactions/Americas/Canada",
          "Total transactions/Europe/Lithuania",
          "Total transactions/Europe/Moldova, Republic of",
          "Total transactions/Americas/Guatemala",
          "Total transactions/Europe/Greece",
          "Total transactions/Americas/United States of America",
          "Total transactions/Asia/Cyprus",
          "Total transactions/Europe/Denmark",
          "Total transactions/Americas/Costa Rica",
          "Total transactions/Africa/Egypt",
          "Total transactions/Europe/Finland",
          "Total transactions/Americas/Honduras",
          "Total transactions/Europe/France",
          "Total transactions/Americas/Mexico",
          "Total transactions/Europe/Netherlands",
          "Total transactions/Europe/Portugal",
          "Total transactions/Europe/Russian Federation",
          "Total transactions/Africa/South Africa",
          "Total transactions/Asia/Sri Lanka",
          "Total transactions/Europe/Sweden",
          "Total transactions/Europe/Switzerland",
          "Total transactions/Europe/Italy",
          "Total transactions/Africa/Mozambique",
          "Total transactions/Europe/Netherlands",
          "Total transactions/Europe/Norway",
          "Total transactions/Asia/Japan",
          "Total transactions/Europe/Italy",
          "Total transactions/Americas/Guatemala",
          "Total transactions/Europe/Ireland",
          "Total transactions/Asia/Israel",
          "Total transactions/Europe/Italy",
          "Total transactions/Asia/Japan",
          "Total transactions/Africa/South Africa",
          "Total transactions/Europe/Slovenia",
          "Total transactions/Asia/Singapore",
          "Total transactions/Europe/Russian Federation",
          "Total transactions/Europe/Romania",
          "Total transactions/Asia/Qatar",
          "Total transactions/Americas/Puerto Rico",
          "Total transactions/Europe/Portugal",
          "Total transactions/Europe/Poland",
          "Total transactions/Asia/Philippines",
          "Total transactions/Americas/Peru",
          "Total transactions/Americas/Panama",
          "Total transactions/Americas/Cayman Islands",
          "Total transactions/Americas/Mexico",
          "Total transactions/Europe/United Kingdom ",
          "Total transactions/Europe/France",
          "Total transactions/Europe/Malta",
          "Total transactions/Europe/Denmark",
          "Total transactions/Europe/Finland",
          "Total transactions/Americas/Curacao",
          "Total transactions/Asia/Cyprus",
          "Total transactions/Europe/Czechia",
          "Total transactions/Africa/Côte d'Ivoire",
          "Total transactions/Europe/Denmark",
          "Total transactions/Americas/Dominican Republic",
          "Total transactions/Americas/Ecuador",
          "Total transactions/Africa/Egypt",
          "Total transactions/Europe/Estonia",
          "Total transactions/Europe/Finland",
          "Total transactions/Europe/France",
          "Total transactions/Asia/Georgia",
          "Total transactions/Europe/Czechia",
          "Total transactions/Americas/Guatemala",
          "Total transactions/Americas/Cayman Islands",
          "Total transactions/Americas/Brazil",
          "Total transactions/Americas/Canada",
          "Total transactions/Americas/Canada",
          "Total transactions/Americas/Venezuela (Bolivarian Republic of)",
          "Total transactions/Americas/Chile",
          "Total transactions/Asia/China",
          "Total transactions/Asia/India",
          "Total transactions/Europe/United Kingdom ",
          "Total transactions/Europe/Andorra",
          "Total transactions/Africa/Angola",
          "Total transactions/Americas/Argentina",
          "Total transactions/Oceania/Australia",
          "Total transactions/Europe/Austria",
          "Total transactions/Europe/Belarus",
          "Total transactions/Europe/Belgium",
          "Total transactions/Americas/Bolivia (Plurinational State of)",
          "Total transactions/Americas/Canada",
          "Total transactions/Americas/Honduras",
          "Total transactions/Europe/France",
          "Total transactions/Americas/Guatemala",
          "Total transactions/Europe/Romania",
          "Total transactions/Asia/India",
          "Total transactions/Asia/Indonesia",
          "Total transactions/Europe/Ireland",
          "Total transactions/Asia/Israel",
          "Total transactions/Europe/Italy",
          "Total transactions/Europe/Russian Federation",
          "Total transactions/Europe/Sweden",
          "Total transactions/Europe/Switzerland",
          "Total transactions/Asia/India",
          "Total transactions/Europe/Iceland",
          "Total transactions/Asia/Taiwan, Province of China",
          "Total transactions/Asia/Thailand",
          "Total transactions/Europe/Belgium",
          "Total transactions/Oceania/Australia",
          "Total transactions/Europe/Poland",
          "Total transactions/Europe/Italy",
          "Total transactions/Americas/Panama",
          "Total transactions/Europe/Hungary",
          "Total transactions/Asia/India",
          "Total transactions/Europe/Ireland",
          "Total transactions/Asia/Israel",
          "Total transactions/Asia/Hong Kong",
          "Total transactions/Europe/Italy",
          "Total transactions/Asia/Japan",
          "Total transactions/Europe/Iceland",
          "Total transactions/Asia/Jordan",
          "Total transactions/Asia/Lebanon",
          "Total transactions/Europe/Luxembourg",
          "Total transactions/Europe/Latvia",
          "Total transactions/Americas/Nicaragua",
          "Total transactions/Europe/Norway",
          "Total transactions/Asia/Korea, Republic of",
          "Total transactions/Africa/Mozambique",
          "Total transactions/Africa/Morocco",
          "Total transactions/Asia/Mongolia",
          "Total transactions/Europe/Russian Federation",
          "Total transactions/Europe/Norway",
          "Total transactions/Europe/Norway",
          "Total transactions/Europe/Romania",
          "Total transactions/Asia/Qatar",
          "Total transactions/Americas/Puerto Rico",
          "Total transactions/Asia/Philippines",
          "Total transactions/Americas/Peru",
          "Total transactions/Americas/Paraguay",
          "Total transactions/Asia/Saudi Arabia",
          "Total transactions/Africa/Senegal",
          "Total transactions/Asia/Singapore",
          "Total transactions/Europe/Slovakia",
          "Total transactions/Europe/Slovenia",
          "Total transactions/Africa/South Africa",
          "Total transactions/Asia/Sri Lanka",
          "Total transactions/Europe/Switzerland",
          "Total transactions/Europe/Netherlands",
          "Total transactions/Asia/Taiwan, Province of China",
          "Total transactions/Africa/Uganda",
          "Total transactions/Europe/Ukraine",
          "Total transactions/Asia/United Arab Emirates",
          "Total transactions/Europe/United Kingdom ",
          "Total transactions/Europe/Belarus",
          "Total transactions/Europe/Belgium",
          "Total transactions/Americas/Bolivia (Plurinational State of)",
          "Total transactions/Americas/Brazil",
          "Total transactions/Americas/Canada",
          "Total transactions/Americas/Panama",
          "Total transactions/Europe/United Kingdom ",
          "Total transactions/Europe/North Macedonia",
          "Total transactions/Africa/Nigeria",
          "Total transactions/Oceania/New Zealand",
          "Total transactions/Asia/Turkey",
          "Total transactions/Europe/Sweden",
          "Total transactions/Americas/Colombia",
          "Total transactions/Europe/Lithuania",
          "Total transactions/Europe/Switzerland",
          "Total transactions/Asia/Taiwan, Province of China",
          "Total transactions/Asia/Turkey",
          "Total transactions/Europe/United Kingdom ",
          "Total transactions/Americas/United States of America",
          "Total transactions/Americas/Venezuela (Bolivarian Republic of)",
          "Total transactions/Americas/Argentina",
          "Total transactions/Americas/Brazil",
          "Total transactions/Europe/Bulgaria",
          "Total transactions/Americas/Chile",
          "Total transactions/Asia/China",
          "Total transactions/Americas/Colombia",
          "Total transactions/Asia/Cyprus",
          "Total transactions/Europe/Finland",
          "Total transactions/Europe/France",
          "Total transactions/Asia/India",
          "Total transactions/Europe/Norway",
          "Total transactions/Asia/Oman",
          "Total transactions/Europe/Portugal",
          "Total transactions/Europe/Russian Federation",
          "Total transactions/Asia/Saudi Arabia",
          "Total transactions/Americas/Mexico",
          "Total transactions/Europe/Netherlands",
          "Total transactions/Oceania/New Zealand",
          "Total transactions/Europe/Ukraine",
          "Total transactions/Europe/Sweden",
          "Total transactions/Africa/South Africa",
          "Total transactions/Asia/Singapore",
          "Total transactions/Europe/Andorra",
          "Total transactions/Europe/Luxembourg",
          "Total transactions/Americas/Mexico",
          "Total transactions/Europe/Sweden",
          "Total transactions/Europe/Switzerland",
          "Total transactions/Asia/Taiwan, Province of China",
          "Total transactions/Asia/Turkey",
          "Total transactions/Europe/Ukraine",
          "Total transactions/Europe/United Kingdom ",
          "Total transactions/Europe/Netherlands",
          "Total transactions/Europe/Norway",
          "Total transactions/Americas/Peru",
          "Total transactions/Europe/Poland",
          "Total transactions/Asia/Lebanon",
          "Total transactions/Americas/Chile",
          "Total transactions/Europe/Moldova, Republic of",
          "Total transactions/Europe/Czechia",
          "Total transactions/Europe/Denmark",
          "Total transactions/Americas/Dominican Republic",
          "Total transactions/Europe/Ireland",
          "Total transactions/Asia/Israel",
          "Total transactions/Europe/Italy",
          "Total transactions/Asia/Japan",
          "Total transactions/Asia/Korea, Republic of",
          "Total transactions/Asia/Malaysia",
          "Total transactions/Americas/United States of America",
          "Total transactions/Americas/Venezuela (Bolivarian Republic of)",
          "Total transactions/Asia/China",
          "Total transactions/Americas/Mexico",
          "Total transactions/Asia/Pakistan",
          "Total transactions/Africa/Malawi",
          "Total transactions/Asia/Japan",
          "Total transactions/Americas/Venezuela (Bolivarian Republic of)",
          "Total transactions/Africa/Algeria",
          "Total transactions/Europe/Andorra",
          "Total transactions/Europe/Belarus",
          "Total transactions/Europe/Belgium",
          "Total transactions/Asia/Jordan",
          "Total transactions/Europe/Bosnia and Herzegovina",
          "Total transactions/Americas/Brazil",
          "Total transactions/Europe/Bulgaria",
          "Total transactions/Americas/Canada",
          "Total transactions/Americas/Cayman Islands",
          "Total transactions/Americas/Chile",
          "Total transactions/Asia/China",
          "Total transactions/Africa/Botswana",
          "Total transactions/Asia/Kazakhstan",
          "Total transactions/Africa/Kenya",
          "Total transactions/Asia/Korea, Republic of",
          "Total transactions/Asia/Malaysia",
          "Total transactions/Asia/Israel",
          "Total transactions/Asia/Thailand",
          "Total transactions/Asia/Taiwan, Province of China",
          "Total transactions/Europe/Switzerland",
          "Total transactions/Europe/Sweden",
          "Total transactions/Africa/South Africa",
          "Total transactions/Americas/Brazil",
          "Total transactions/Americas/Colombia",
          "Total transactions/Europe/Denmark",
          "Total transactions/Asia/Malaysia",
          "Total transactions/Europe/Luxembourg",
          "Total transactions/Europe/Lithuania",
          "Total transactions/Europe/Latvia",
          "Total transactions/Asia/Kuwait",
          "Total transactions/Americas/Colombia",
          "Total transactions/Americas/Costa Rica",
          "Total transactions/Asia/Lebanon",
          "Total transactions/Americas/Guatemala",
          "Total transactions/Europe/Estonia",
          "Total transactions/Americas/El Salvador",
          "Total transactions/Africa/Egypt",
          "Total transactions/Americas/Honduras",
          "Total transactions/Africa/Senegal",
          "Total transactions/Asia/Saudi Arabia",
          "Total transactions/Oceania/Samoa",
          "Total transactions/Europe/Russian Federation",
          "Total transactions/Europe/Romania",
          "Total transactions/Europe/Finland",
          "Total transactions/Asia/Lebanon",
          "Total transactions/Europe/Luxembourg",
          "Total transactions/Europe/France",
          "Total transactions/Asia/Georgia",
          "Total transactions/Europe/Greece",
          "Total transactions/Asia/Hong Kong",
          "Total transactions/Europe/Lithuania",
          "Total transactions/Europe/Belgium",
          "Total transactions/Africa/Botswana",
          "Total transactions/Americas/Brazil",
          "Total transactions/Asia/Bahrain",
          "Total transactions/Europe/Austria",
          "Total transactions/Europe/Bulgaria",
          "Total transactions/Americas/Canada",
          "Total transactions/Oceania/Australia",
          "Total transactions/Americas/Argentina",
          "Total transactions/Asia/United Arab Emirates",
          "Total transactions/Asia/Turkey",
          "Total transactions/Americas/Argentina",
          "Total transactions/Oceania/Australia",
          "Total transactions/Europe/Austria",
          "Total transactions/Americas/Brazil",
          "Total transactions/Europe/Bulgaria",
          "Total transactions/Asia/China",
          "Total transactions/Americas/Colombia",
          "Total transactions/Americas/Costa Rica",
          "Total transactions/Americas/Ecuador",
          "Total transactions/Africa/Egypt",
          "Total transactions/Asia/Armenia",
          "Total transactions/Europe/Ukraine",
          "Total transactions/Americas/Peru",
          "Total transactions/Europe/Poland",
          "Total transactions/Oceania/Australia",
          "Total transactions/Europe/Austria",
          "Total transactions/Asia/Bahrain",
          "Total transactions/Europe/Belgium",
          "Total transactions/Americas/Belize",
          "Total transactions/Americas/Brazil",
          "Total transactions/Europe/Bulgaria",
          "Total transactions/Europe/Norway",
          "Total transactions/Americas/Dominican Republic",
          "Total transactions/Americas/Costa Rica",
          "Total transactions/Americas/Colombia",
          "Total transactions/Americas/Chile",
          "Total transactions/Americas/Canada",
          "Total transactions/Europe/Portugal",
          "Total transactions/Americas/Brazil",
          "Total transactions/Americas/Chile",
          "Total transactions/Americas/Argentina",
          "Total transactions/Americas/Venezuela (Bolivarian Republic of)",
          "Total transactions/Asia/Pakistan",
          "Total transactions/Americas/Panama",
          "Total transactions/Americas/United States of America",
          "Total transactions/Europe/United Kingdom ",
          "Total transactions/Americas/Mexico",
          "Total transactions/Europe/Netherlands",
          "Total transactions/Europe/Norway",
          "Total transactions/Americas/Panama",
          "Total transactions/Europe/Finland",
          "Total transactions/Asia/Philippines",
          "Total transactions/Asia/China",
          "Total transactions/Europe/France",
          "Total transactions/Europe/Netherlands",
          "Total transactions/Europe/Greece",
          "Total transactions/Africa/Mozambique",
          "Total transactions/Europe/Netherlands",
          "Total transactions/Africa/Nigeria",
          "Total transactions/Asia/China",
          "Total transactions/Americas/Chile",
          "Total transactions/Europe/Ukraine",
          "Total transactions/Asia/United Arab Emirates",
          "Total transactions/Europe/United Kingdom ",
          "Total transactions/Asia/Philippines",
          "Total transactions/Europe/Poland",
          "Total transactions/Americas/United States of America",
          "Total transactions/Europe/Norway",
          "Total transactions/Americas/Brazil",
          "Total transactions/Europe/Belgium",
          "Total transactions/Europe/Austria",
          "Total transactions/Europe/Andorra",
          "Total transactions/Europe/Slovakia",
          "Total transactions/Europe/Sweden",
          "Total transactions/Europe/Switzerland",
          "Total transactions/Asia/Turkey",
          "Total transactions/Europe/Ukraine",
          "Total transactions/Europe/United Kingdom ",
          "Total transactions/Americas/United States of America",
          "Total transactions/Americas/Venezuela (Bolivarian Republic of)",
          "Total transactions/Europe/Andorra",
          "Total transactions/Americas/Mexico",
          "Total transactions/Asia/Korea, Republic of",
          "Total transactions/Europe/Italy",
          "Total transactions/Asia/Israel",
          "Total transactions/Americas/Guatemala",
          "Total transactions/Europe/Ireland",
          "Total transactions/Asia/Israel",
          "Total transactions/Europe/Italy",
          "Total transactions/Asia/Japan",
          "Total transactions/Americas/Mexico",
          "Total transactions/Oceania/Australia",
          "Total transactions/Europe/Norway",
          "Total transactions/Europe/Portugal",
          "Total transactions/Europe/Russian Federation",
          "Total transactions/Asia/Saudi Arabia",
          "Total transactions/Asia/Singapore",
          "Total transactions/Asia/Georgia",
          "Total transactions/Europe/Slovenia",
          "Total transactions/Europe/Romania",
          "Total transactions/Africa/South Africa",
          "Total transactions/Asia/Sri Lanka",
          "Total transactions/Europe/Sweden",
          "Total transactions/Americas/Argentina",
          "Total transactions/Europe/Switzerland",
          "Total transactions/Asia/Taiwan, Province of China",
          "Total transactions/Americas/Trinidad and Tobago",
          "Total transactions/Asia/Turkey",
          "Total transactions/Europe/Croatia",
          "Total transactions/Americas/Costa Rica",
          "Total transactions/Americas/Colombia",
          "Total transactions/Europe/Russian Federation",
          "Total transactions/Europe/Andorra",
          "Total transactions/Africa/Egypt",
          "Total transactions/Europe/United Kingdom ",
          "Total transactions/Americas/Colombia",
          "Total transactions/Asia/Bahrain",
          "Total transactions/Asia/Azerbaijan",
          "Total transactions/Europe/Austria",
          "Total transactions/Oceania/Australia",
          "Total transactions/Americas/Argentina",
          "Total transactions/Americas/Mexico",
          "Total transactions/Europe/Netherlands",
          "Total transactions/Africa/Angola",
          "Total transactions/Americas/Honduras",
          "Total transactions/Europe/France",
          "Total transactions/Europe/Finland",
          "Total transactions/Europe/United Kingdom ",
          "Total transactions/Americas/United States of America",
          "Total transactions/Asia/China",
          "Total transactions/Africa/Algeria",
          "Total transactions/Americas/Argentina",
          "Total transactions/Europe/Austria",
          "Total transactions/Europe/Belgium",
          "Total transactions/Europe/Bosnia and Herzegovina",
          "Total transactions/Americas/Brazil",
          "Total transactions/Americas/Canada",
          "Total transactions/Americas/Chile",
          "Total transactions/Europe/Malta",
          "Total transactions/Americas/Mexico",
          "Total transactions/Americas/Dominican Republic",
          "Total transactions/Europe/Austria",
          "Total transactions/Americas/El Salvador",
          "Total transactions/Europe/Finland",
          "Total transactions/Europe/France",
          "Total transactions/Europe/Andorra",
          "Total transactions/Europe/Greece",
          "Total transactions/Europe/Croatia",
          "Total transactions/Americas/Argentina",
          "Total transactions/Asia/Kuwait",
          "Total transactions/Asia/Korea, Republic of",
          "Total transactions/Asia/Kazakhstan",
          "Total transactions/Asia/Jordan",
          "Total transactions/Asia/Japan",
          "Total transactions/Americas/Jamaica",
          "Total transactions/Europe/Italy",
          "Total transactions/Asia/Israel",
          "Total transactions/Europe/Ireland",
          "Total transactions/Asia/Iraq",
          "Total transactions/Asia/Indonesia",
          "Total transactions/Asia/India",
          "Total transactions/Europe/Iceland",
          "Total transactions/Europe/Hungary",
          "Total transactions/Oceania/Australia",
          "Total transactions/Americas/Ecuador",
          "Total transactions/Asia/Thailand",
          "Total transactions/Americas/Trinidad and Tobago",
          "Total transactions/Europe/Denmark",
          "Total transactions/Africa/Côte d'Ivoire",
          "Total transactions/Europe/Czechia",
          "Total transactions/Asia/Cyprus",
          "Total transactions/Americas/Curacao",
          "Total transactions/Americas/United States of America",
          "Total transactions/Americas/Uruguay",
          "Total transactions/Asia/Uzbekistan",
          "Total transactions/Americas/Venezuela (Bolivarian Republic of)",
          "Total transactions/Asia/Viet Nam",
          "Total transactions/Africa/Zimbabwe",
          "Total transactions/Europe/Andorra",
          "Total transactions/Americas/Dominican Republic",
          "Total transactions/Americas/United States of America",
          "Total transactions/Americas/Guatemala",
          "Total transactions/Asia/India",
          "Total transactions/Asia/Uzbekistan",
          "Total transactions/Americas/Venezuela (Bolivarian Republic of)",
          "Total transactions/Asia/Viet Nam",
          "Total transactions/Europe/Andorra",
          "Total transactions/Americas/Argentina",
          "Total transactions/Oceania/Australia",
          "Total transactions/Europe/Austria",
          "Total transactions/Europe/Belgium",
          "Total transactions/Americas/Belize",
          "Total transactions/Americas/Brazil",
          "Total transactions/Asia/China",
          "Total transactions/Americas/Colombia",
          "Total transactions/Asia/Cyprus",
          "Total transactions/Europe/Denmark",
          "Total transactions/Americas/Uruguay",
          "Total transactions/Americas/Dominican Republic",
          "Total transactions/Europe/France",
          "Total transactions/Asia/Qatar",
          "Total transactions/Asia/China",
          "Total transactions/Americas/Chile",
          "Total transactions/Europe/Netherlands",
          "Total transactions/Africa/Nigeria",
          "Total transactions/Americas/Ecuador",
          "Total transactions/Europe/Portugal",
          "Total transactions/Europe/Russian Federation",
          "Total transactions/Asia/Singapore",
          "Total transactions/Africa/South Africa",
          "Total transactions/Europe/Sweden",
          "Total transactions/Europe/Switzerland",
          "Total transactions/Asia/Turkey",
          "Total transactions/Europe/Finland",
          "Total transactions/Europe/Iceland",
          "Total transactions/Americas/United States of America",
          "Total transactions/Europe/France",
          "Total transactions/Europe/Ireland",
          "Total transactions/Asia/Israel",
          "Total transactions/Europe/Italy",
          "Total transactions/Asia/Japan",
          "Total transactions/Asia/Jordan",
          "Total transactions/Asia/Kazakhstan",
          "Total transactions/Asia/Korea, Republic of",
          "Total transactions/Asia/Kuwait",
          "Total transactions/Oceania/Australia",
          "Total transactions/Americas/Argentina",
          "Total transactions/Americas/Venezuela (Bolivarian Republic of)",
          "Total transactions/Americas/United States of America",
          "Total transactions/Europe/United Kingdom ",
          "Total transactions/Asia/Taiwan, Province of China",
          "Total transactions/Europe/Finland",
          "Total transactions/Europe/Switzerland",
          "Total transactions/Asia/Saudi Arabia",
          "Total transactions/Asia/Israel",
          "Total transactions/Europe/Italy",
          "Total transactions/Asia/Japan",
          "Total transactions/Asia/Kazakhstan",
          "Total transactions/Asia/Korea, Republic of",
          "Total transactions/Asia/Kuwait",
          "Total transactions/Asia/Malaysia",
          "Total transactions/Africa/Morocco",
          "Total transactions/Europe/North Macedonia",
          "Total transactions/Europe/Norway",
          "Total transactions/Americas/Paraguay",
          "Total transactions/Europe/Portugal",
          "Total transactions/Europe/Romania",
          "Total transactions/Europe/Russian Federation",
          "Total transactions/Europe/Sweden",
          "Total transactions/Europe/Portugal",
          "Total transactions/Asia/Malaysia",
          "Total transactions/Asia/Jordan",
          "Total transactions/Asia/Korea, Republic of",
          "Total transactions/Africa/Kenya",
          "Total transactions/Asia/Kazakhstan",
          "Total transactions/Americas/Canada",
          "Total transactions/Asia/Japan",
          "Total transactions/Europe/Italy",
          "Total transactions/Americas/Colombia",
          "Total transactions/Asia/China",
          "Total transactions/Asia/Lebanon",
          "Total transactions/Asia/Kuwait",
          "Total transactions/Europe/Lithuania",
          "Total transactions/Africa",
          "Total transactions/Europe",
          "Total transactions/Africa",
          "Total transactions/Americas",
          "Total transactions/Asia",
          "Total transactions/Oceania",
          "Total transactions/Europe",
          "Total transactions/Asia",
          "Total transactions/Asia",
          "Total transactions/Europe",
          "Total transactions/Europe",
          "Total transactions/Americas",
          "Total transactions/Americas",
          "Total transactions/Europe",
          "Total transactions/Africa",
          "Total transactions/Americas",
          "Total transactions/Europe",
          "Total transactions/Americas",
          "Total transactions/Americas",
          "Total transactions/Americas",
          "Total transactions/Asia",
          "Total transactions/Americas",
          "Total transactions/Americas",
          "Total transactions/Europe",
          "Total transactions/Americas",
          "Total transactions/Asia",
          "Total transactions/Europe",
          "Total transactions/Africa",
          "Total transactions/Europe",
          "Total transactions/Americas",
          "Total transactions/Americas",
          "Total transactions/Africa",
          "Total transactions/Americas",
          "Total transactions/Europe",
          "Total transactions/Europe",
          "Total transactions/Europe",
          "Total transactions/Asia",
          "Total transactions/Europe",
          "Total transactions/Americas",
          "Total transactions/Americas",
          "Total transactions/Asia",
          "Total transactions/Europe",
          "Total transactions/Europe",
          "Total transactions/Asia",
          "Total transactions/Asia",
          "Total transactions/Asia",
          "Total transactions/Europe",
          "Total transactions/Asia",
          "Total transactions/Europe",
          "Total transactions/Americas",
          "Total transactions/Asia",
          "Total transactions/Asia",
          "Total transactions/Asia",
          "Total transactions/Africa",
          "Total transactions/Asia",
          "Total transactions/Asia",
          "Total transactions/Europe",
          "Total transactions/Asia",
          "Total transactions/Europe",
          "Total transactions/Europe",
          "Total transactions/Africa",
          "Total transactions/Asia",
          "Total transactions/Europe",
          "Total transactions/Americas",
          "Total transactions/Europe",
          "Total transactions/Asia",
          "Total transactions/Africa",
          "Total transactions/Africa",
          "Total transactions/Europe",
          "Total transactions/Oceania",
          "Total transactions/Americas",
          "Total transactions/Africa",
          "Total transactions/Europe",
          "Total transactions/Europe",
          "Total transactions/Asia",
          "Total transactions/Asia",
          "Total transactions/Americas",
          "Total transactions/Americas",
          "Total transactions/Americas",
          "Total transactions/Asia",
          "Total transactions/Europe",
          "Total transactions/Europe",
          "Total transactions/Americas",
          "Total transactions/Asia",
          "Total transactions/Europe",
          "Total transactions/Europe",
          "Total transactions/Oceania",
          "Total transactions/Asia",
          "Total transactions/Africa",
          "Total transactions/Asia",
          "Total transactions/Europe",
          "Total transactions/Europe",
          "Total transactions/Africa",
          "Total transactions/Asia",
          "Total transactions/Europe",
          "Total transactions/Europe",
          "Total transactions/Asia",
          "Total transactions/Asia",
          "Total transactions/Americas",
          "Total transactions/Asia",
          "Total transactions/Africa",
          "Total transactions/Europe",
          "Total transactions/Asia",
          "Total transactions/Europe",
          "Total transactions/Americas",
          "Total transactions/Americas",
          "Total transactions/Asia",
          "Total transactions/Americas",
          "Total transactions/Asia",
          "Total transactions/Africa",
          "Total transactions",
          "Total transactions",
          "Total transactions",
          "Total transactions",
          "Total transactions",
          ""
         ],
         "root": {
          "color": "lightgrey"
         },
         "type": "icicle",
         "values": [
          4,
          6,
          2,
          1,
          2,
          58,
          47,
          2,
          1,
          1,
          1,
          1,
          12,
          2,
          3,
          2,
          8,
          1,
          6,
          1,
          25,
          3,
          2,
          2,
          6,
          1,
          1,
          1,
          5,
          44,
          2,
          4,
          2,
          5,
          1,
          1,
          56,
          4,
          1,
          14,
          1,
          1,
          1,
          1,
          7,
          1,
          1,
          4,
          1,
          2,
          1,
          1,
          1,
          3,
          16,
          1,
          5,
          3,
          6,
          1,
          7,
          1,
          2,
          70,
          2,
          3,
          36,
          1,
          10,
          1,
          11,
          7,
          20,
          30,
          4,
          1,
          7,
          2,
          5,
          1,
          4,
          5,
          1,
          1,
          2,
          10,
          10,
          2,
          20,
          2,
          2,
          48,
          1,
          88,
          4,
          2,
          1,
          1,
          2,
          1,
          1,
          1,
          1,
          1,
          16,
          11,
          9,
          4,
          1,
          1,
          3,
          4,
          6,
          1,
          1,
          1,
          28,
          2,
          1,
          2,
          11,
          7,
          3,
          2,
          3,
          1,
          27,
          4,
          24,
          1,
          1,
          5,
          2,
          4,
          2,
          1,
          43,
          3,
          4,
          9,
          6,
          41,
          304,
          5,
          2,
          3,
          3,
          77,
          3,
          1,
          2,
          3,
          8,
          1,
          2,
          38,
          2,
          35,
          7,
          13,
          1,
          29,
          1,
          89,
          1,
          2,
          1,
          1,
          26,
          3,
          17,
          52,
          95,
          9,
          6,
          3,
          8,
          1,
          1,
          1,
          1,
          2,
          2,
          1,
          1,
          1,
          6,
          1,
          3,
          17,
          10,
          7,
          1,
          1,
          1,
          1,
          11,
          1,
          2,
          2,
          6,
          1,
          4,
          153,
          150,
          2,
          41,
          9,
          2,
          23,
          11,
          3,
          2,
          2,
          55,
          4,
          3,
          56,
          3,
          131,
          184,
          36,
          2,
          24,
          23,
          284,
          1,
          1,
          1,
          5,
          4,
          9,
          19,
          4,
          3,
          2,
          43,
          196,
          2,
          2,
          6,
          1,
          2,
          6,
          20,
          2,
          2,
          1,
          1,
          1,
          1,
          3,
          1,
          1,
          4,
          1,
          3,
          1,
          3,
          4,
          2,
          3,
          3,
          2,
          2,
          5,
          2,
          1,
          9,
          4,
          18,
          20,
          15,
          1,
          3,
          4,
          38,
          2,
          3,
          1,
          2,
          1,
          1,
          2,
          1,
          3,
          1,
          1,
          2,
          10,
          3,
          3,
          2,
          21,
          3,
          4,
          100,
          9,
          1,
          67,
          2,
          6,
          60,
          7,
          30,
          3,
          6,
          262,
          12,
          93,
          1,
          104,
          242,
          4,
          5,
          3,
          79,
          17,
          26,
          4,
          12,
          38,
          83,
          9,
          2,
          1,
          1,
          3,
          4,
          4,
          8,
          2,
          34,
          10,
          7,
          11,
          14,
          5,
          55,
          1,
          1,
          4,
          1,
          32,
          3,
          107,
          10,
          5,
          640,
          21,
          7,
          13,
          12,
          13,
          1,
          11,
          1,
          9,
          1,
          28,
          10,
          11,
          7,
          27,
          1,
          1,
          1,
          6,
          1,
          7,
          4,
          1,
          1,
          2,
          1,
          8,
          1,
          2,
          2,
          1,
          1,
          7,
          1,
          8,
          1,
          10,
          1,
          3,
          13,
          6,
          4,
          7,
          8,
          5,
          9,
          17,
          1,
          1,
          616,
          266,
          5,
          7,
          4,
          1,
          1,
          1,
          31,
          20,
          2,
          1,
          1,
          10,
          1,
          61,
          6,
          2,
          17,
          180,
          1,
          4,
          242,
          1,
          7,
          2,
          1,
          1,
          1,
          4,
          3,
          1,
          1,
          7,
          12,
          1,
          3,
          3,
          3,
          2,
          3,
          2,
          1,
          2,
          9,
          6,
          4,
          1,
          4,
          3,
          2,
          7,
          5,
          1,
          1,
          11,
          10,
          4,
          52,
          7,
          23,
          4,
          3,
          2,
          4,
          7,
          12,
          89,
          13,
          1,
          3,
          1,
          5,
          3,
          46,
          37,
          194,
          3,
          6,
          5,
          1,
          5,
          1,
          11,
          35,
          3,
          1,
          17,
          6,
          5,
          1,
          28,
          12,
          8,
          4,
          4,
          1,
          2,
          1,
          6,
          60,
          19,
          2,
          2,
          1,
          9,
          158,
          29,
          2,
          131,
          2,
          216,
          155,
          25,
          1,
          32,
          26,
          10,
          6,
          2,
          24,
          20,
          2,
          64,
          2,
          13,
          35,
          1,
          551,
          12,
          9,
          46,
          2,
          1,
          2,
          10,
          12,
          1,
          1,
          2,
          12,
          1,
          3,
          1,
          1,
          1,
          1,
          1,
          2,
          1,
          1,
          1,
          1,
          1,
          1,
          14,
          4,
          1,
          2,
          12,
          2,
          8,
          1,
          2,
          1,
          1,
          1,
          4,
          1,
          2,
          1,
          87,
          12,
          8,
          4,
          22,
          5,
          2,
          1,
          6,
          1,
          3,
          3,
          1,
          12,
          2,
          1,
          1,
          3,
          5,
          2,
          1,
          4,
          1,
          2,
          1,
          1,
          1,
          1,
          3,
          1,
          1,
          4,
          4,
          3,
          7,
          2,
          3,
          13,
          2,
          4,
          3,
          21,
          58,
          3,
          10,
          2,
          1,
          3,
          7,
          153,
          7,
          297,
          1,
          66,
          83,
          3,
          8,
          9,
          90,
          2,
          2,
          7,
          5,
          428,
          16,
          242,
          5,
          136,
          369,
          78,
          24,
          7,
          3,
          43,
          19,
          3,
          146,
          22,
          39,
          73,
          7,
          21,
          218,
          1239,
          27,
          20,
          22,
          4,
          35,
          7,
          13,
          69,
          39,
          1,
          59,
          252,
          434,
          2,
          259,
          11,
          40,
          5,
          267,
          14,
          19,
          21,
          22,
          14,
          1,
          25,
          5,
          179,
          3,
          4,
          4,
          8,
          314,
          4,
          1,
          8,
          8,
          229,
          2,
          10,
          25,
          5,
          23,
          33,
          86,
          123,
          12,
          15,
          62,
          335,
          1,
          21,
          3,
          70,
          7,
          8,
          83,
          8,
          385,
          231,
          56,
          25,
          5,
          82,
          2,
          42,
          51,
          848,
          1686,
          17,
          13,
          87,
          3,
          1,
          210,
          3353,
          1877,
          5282,
          71,
          10793
         ]
        }
       ],
       "layout": {
        "legend": {
         "tracegroupgap": 0
        },
        "margin": {
         "b": 25,
         "l": 25,
         "r": 25,
         "t": 50
        },
        "template": {
         "data": {
          "bar": [
           {
            "error_x": {
             "color": "#2a3f5f"
            },
            "error_y": {
             "color": "#2a3f5f"
            },
            "marker": {
             "line": {
              "color": "#E5ECF6",
              "width": 0.5
             },
             "pattern": {
              "fillmode": "overlay",
              "size": 10,
              "solidity": 0.2
             }
            },
            "type": "bar"
           }
          ],
          "barpolar": [
           {
            "marker": {
             "line": {
              "color": "#E5ECF6",
              "width": 0.5
             },
             "pattern": {
              "fillmode": "overlay",
              "size": 10,
              "solidity": 0.2
             }
            },
            "type": "barpolar"
           }
          ],
          "carpet": [
           {
            "aaxis": {
             "endlinecolor": "#2a3f5f",
             "gridcolor": "white",
             "linecolor": "white",
             "minorgridcolor": "white",
             "startlinecolor": "#2a3f5f"
            },
            "baxis": {
             "endlinecolor": "#2a3f5f",
             "gridcolor": "white",
             "linecolor": "white",
             "minorgridcolor": "white",
             "startlinecolor": "#2a3f5f"
            },
            "type": "carpet"
           }
          ],
          "choropleth": [
           {
            "colorbar": {
             "outlinewidth": 0,
             "ticks": ""
            },
            "type": "choropleth"
           }
          ],
          "contour": [
           {
            "colorbar": {
             "outlinewidth": 0,
             "ticks": ""
            },
            "colorscale": [
             [
              0,
              "#0d0887"
             ],
             [
              0.1111111111111111,
              "#46039f"
             ],
             [
              0.2222222222222222,
              "#7201a8"
             ],
             [
              0.3333333333333333,
              "#9c179e"
             ],
             [
              0.4444444444444444,
              "#bd3786"
             ],
             [
              0.5555555555555556,
              "#d8576b"
             ],
             [
              0.6666666666666666,
              "#ed7953"
             ],
             [
              0.7777777777777778,
              "#fb9f3a"
             ],
             [
              0.8888888888888888,
              "#fdca26"
             ],
             [
              1,
              "#f0f921"
             ]
            ],
            "type": "contour"
           }
          ],
          "contourcarpet": [
           {
            "colorbar": {
             "outlinewidth": 0,
             "ticks": ""
            },
            "type": "contourcarpet"
           }
          ],
          "heatmap": [
           {
            "colorbar": {
             "outlinewidth": 0,
             "ticks": ""
            },
            "colorscale": [
             [
              0,
              "#0d0887"
             ],
             [
              0.1111111111111111,
              "#46039f"
             ],
             [
              0.2222222222222222,
              "#7201a8"
             ],
             [
              0.3333333333333333,
              "#9c179e"
             ],
             [
              0.4444444444444444,
              "#bd3786"
             ],
             [
              0.5555555555555556,
              "#d8576b"
             ],
             [
              0.6666666666666666,
              "#ed7953"
             ],
             [
              0.7777777777777778,
              "#fb9f3a"
             ],
             [
              0.8888888888888888,
              "#fdca26"
             ],
             [
              1,
              "#f0f921"
             ]
            ],
            "type": "heatmap"
           }
          ],
          "heatmapgl": [
           {
            "colorbar": {
             "outlinewidth": 0,
             "ticks": ""
            },
            "colorscale": [
             [
              0,
              "#0d0887"
             ],
             [
              0.1111111111111111,
              "#46039f"
             ],
             [
              0.2222222222222222,
              "#7201a8"
             ],
             [
              0.3333333333333333,
              "#9c179e"
             ],
             [
              0.4444444444444444,
              "#bd3786"
             ],
             [
              0.5555555555555556,
              "#d8576b"
             ],
             [
              0.6666666666666666,
              "#ed7953"
             ],
             [
              0.7777777777777778,
              "#fb9f3a"
             ],
             [
              0.8888888888888888,
              "#fdca26"
             ],
             [
              1,
              "#f0f921"
             ]
            ],
            "type": "heatmapgl"
           }
          ],
          "histogram": [
           {
            "marker": {
             "pattern": {
              "fillmode": "overlay",
              "size": 10,
              "solidity": 0.2
             }
            },
            "type": "histogram"
           }
          ],
          "histogram2d": [
           {
            "colorbar": {
             "outlinewidth": 0,
             "ticks": ""
            },
            "colorscale": [
             [
              0,
              "#0d0887"
             ],
             [
              0.1111111111111111,
              "#46039f"
             ],
             [
              0.2222222222222222,
              "#7201a8"
             ],
             [
              0.3333333333333333,
              "#9c179e"
             ],
             [
              0.4444444444444444,
              "#bd3786"
             ],
             [
              0.5555555555555556,
              "#d8576b"
             ],
             [
              0.6666666666666666,
              "#ed7953"
             ],
             [
              0.7777777777777778,
              "#fb9f3a"
             ],
             [
              0.8888888888888888,
              "#fdca26"
             ],
             [
              1,
              "#f0f921"
             ]
            ],
            "type": "histogram2d"
           }
          ],
          "histogram2dcontour": [
           {
            "colorbar": {
             "outlinewidth": 0,
             "ticks": ""
            },
            "colorscale": [
             [
              0,
              "#0d0887"
             ],
             [
              0.1111111111111111,
              "#46039f"
             ],
             [
              0.2222222222222222,
              "#7201a8"
             ],
             [
              0.3333333333333333,
              "#9c179e"
             ],
             [
              0.4444444444444444,
              "#bd3786"
             ],
             [
              0.5555555555555556,
              "#d8576b"
             ],
             [
              0.6666666666666666,
              "#ed7953"
             ],
             [
              0.7777777777777778,
              "#fb9f3a"
             ],
             [
              0.8888888888888888,
              "#fdca26"
             ],
             [
              1,
              "#f0f921"
             ]
            ],
            "type": "histogram2dcontour"
           }
          ],
          "mesh3d": [
           {
            "colorbar": {
             "outlinewidth": 0,
             "ticks": ""
            },
            "type": "mesh3d"
           }
          ],
          "parcoords": [
           {
            "line": {
             "colorbar": {
              "outlinewidth": 0,
              "ticks": ""
             }
            },
            "type": "parcoords"
           }
          ],
          "pie": [
           {
            "automargin": true,
            "type": "pie"
           }
          ],
          "scatter": [
           {
            "marker": {
             "colorbar": {
              "outlinewidth": 0,
              "ticks": ""
             }
            },
            "type": "scatter"
           }
          ],
          "scatter3d": [
           {
            "line": {
             "colorbar": {
              "outlinewidth": 0,
              "ticks": ""
             }
            },
            "marker": {
             "colorbar": {
              "outlinewidth": 0,
              "ticks": ""
             }
            },
            "type": "scatter3d"
           }
          ],
          "scattercarpet": [
           {
            "marker": {
             "colorbar": {
              "outlinewidth": 0,
              "ticks": ""
             }
            },
            "type": "scattercarpet"
           }
          ],
          "scattergeo": [
           {
            "marker": {
             "colorbar": {
              "outlinewidth": 0,
              "ticks": ""
             }
            },
            "type": "scattergeo"
           }
          ],
          "scattergl": [
           {
            "marker": {
             "colorbar": {
              "outlinewidth": 0,
              "ticks": ""
             }
            },
            "type": "scattergl"
           }
          ],
          "scattermapbox": [
           {
            "marker": {
             "colorbar": {
              "outlinewidth": 0,
              "ticks": ""
             }
            },
            "type": "scattermapbox"
           }
          ],
          "scatterpolar": [
           {
            "marker": {
             "colorbar": {
              "outlinewidth": 0,
              "ticks": ""
             }
            },
            "type": "scatterpolar"
           }
          ],
          "scatterpolargl": [
           {
            "marker": {
             "colorbar": {
              "outlinewidth": 0,
              "ticks": ""
             }
            },
            "type": "scatterpolargl"
           }
          ],
          "scatterternary": [
           {
            "marker": {
             "colorbar": {
              "outlinewidth": 0,
              "ticks": ""
             }
            },
            "type": "scatterternary"
           }
          ],
          "surface": [
           {
            "colorbar": {
             "outlinewidth": 0,
             "ticks": ""
            },
            "colorscale": [
             [
              0,
              "#0d0887"
             ],
             [
              0.1111111111111111,
              "#46039f"
             ],
             [
              0.2222222222222222,
              "#7201a8"
             ],
             [
              0.3333333333333333,
              "#9c179e"
             ],
             [
              0.4444444444444444,
              "#bd3786"
             ],
             [
              0.5555555555555556,
              "#d8576b"
             ],
             [
              0.6666666666666666,
              "#ed7953"
             ],
             [
              0.7777777777777778,
              "#fb9f3a"
             ],
             [
              0.8888888888888888,
              "#fdca26"
             ],
             [
              1,
              "#f0f921"
             ]
            ],
            "type": "surface"
           }
          ],
          "table": [
           {
            "cells": {
             "fill": {
              "color": "#EBF0F8"
             },
             "line": {
              "color": "white"
             }
            },
            "header": {
             "fill": {
              "color": "#C8D4E3"
             },
             "line": {
              "color": "white"
             }
            },
            "type": "table"
           }
          ]
         },
         "layout": {
          "annotationdefaults": {
           "arrowcolor": "#2a3f5f",
           "arrowhead": 0,
           "arrowwidth": 1
          },
          "autotypenumbers": "strict",
          "coloraxis": {
           "colorbar": {
            "outlinewidth": 0,
            "ticks": ""
           }
          },
          "colorscale": {
           "diverging": [
            [
             0,
             "#8e0152"
            ],
            [
             0.1,
             "#c51b7d"
            ],
            [
             0.2,
             "#de77ae"
            ],
            [
             0.3,
             "#f1b6da"
            ],
            [
             0.4,
             "#fde0ef"
            ],
            [
             0.5,
             "#f7f7f7"
            ],
            [
             0.6,
             "#e6f5d0"
            ],
            [
             0.7,
             "#b8e186"
            ],
            [
             0.8,
             "#7fbc41"
            ],
            [
             0.9,
             "#4d9221"
            ],
            [
             1,
             "#276419"
            ]
           ],
           "sequential": [
            [
             0,
             "#0d0887"
            ],
            [
             0.1111111111111111,
             "#46039f"
            ],
            [
             0.2222222222222222,
             "#7201a8"
            ],
            [
             0.3333333333333333,
             "#9c179e"
            ],
            [
             0.4444444444444444,
             "#bd3786"
            ],
            [
             0.5555555555555556,
             "#d8576b"
            ],
            [
             0.6666666666666666,
             "#ed7953"
            ],
            [
             0.7777777777777778,
             "#fb9f3a"
            ],
            [
             0.8888888888888888,
             "#fdca26"
            ],
            [
             1,
             "#f0f921"
            ]
           ],
           "sequentialminus": [
            [
             0,
             "#0d0887"
            ],
            [
             0.1111111111111111,
             "#46039f"
            ],
            [
             0.2222222222222222,
             "#7201a8"
            ],
            [
             0.3333333333333333,
             "#9c179e"
            ],
            [
             0.4444444444444444,
             "#bd3786"
            ],
            [
             0.5555555555555556,
             "#d8576b"
            ],
            [
             0.6666666666666666,
             "#ed7953"
            ],
            [
             0.7777777777777778,
             "#fb9f3a"
            ],
            [
             0.8888888888888888,
             "#fdca26"
            ],
            [
             1,
             "#f0f921"
            ]
           ]
          },
          "colorway": [
           "#636efa",
           "#EF553B",
           "#00cc96",
           "#ab63fa",
           "#FFA15A",
           "#19d3f3",
           "#FF6692",
           "#B6E880",
           "#FF97FF",
           "#FECB52"
          ],
          "font": {
           "color": "#2a3f5f"
          },
          "geo": {
           "bgcolor": "white",
           "lakecolor": "white",
           "landcolor": "#E5ECF6",
           "showlakes": true,
           "showland": true,
           "subunitcolor": "white"
          },
          "hoverlabel": {
           "align": "left"
          },
          "hovermode": "closest",
          "mapbox": {
           "style": "light"
          },
          "paper_bgcolor": "white",
          "plot_bgcolor": "#E5ECF6",
          "polar": {
           "angularaxis": {
            "gridcolor": "white",
            "linecolor": "white",
            "ticks": ""
           },
           "bgcolor": "#E5ECF6",
           "radialaxis": {
            "gridcolor": "white",
            "linecolor": "white",
            "ticks": ""
           }
          },
          "scene": {
           "xaxis": {
            "backgroundcolor": "#E5ECF6",
            "gridcolor": "white",
            "gridwidth": 2,
            "linecolor": "white",
            "showbackground": true,
            "ticks": "",
            "zerolinecolor": "white"
           },
           "yaxis": {
            "backgroundcolor": "#E5ECF6",
            "gridcolor": "white",
            "gridwidth": 2,
            "linecolor": "white",
            "showbackground": true,
            "ticks": "",
            "zerolinecolor": "white"
           },
           "zaxis": {
            "backgroundcolor": "#E5ECF6",
            "gridcolor": "white",
            "gridwidth": 2,
            "linecolor": "white",
            "showbackground": true,
            "ticks": "",
            "zerolinecolor": "white"
           }
          },
          "shapedefaults": {
           "line": {
            "color": "#2a3f5f"
           }
          },
          "ternary": {
           "aaxis": {
            "gridcolor": "white",
            "linecolor": "white",
            "ticks": ""
           },
           "baxis": {
            "gridcolor": "white",
            "linecolor": "white",
            "ticks": ""
           },
           "bgcolor": "#E5ECF6",
           "caxis": {
            "gridcolor": "white",
            "linecolor": "white",
            "ticks": ""
           }
          },
          "title": {
           "x": 0.05
          },
          "xaxis": {
           "automargin": true,
           "gridcolor": "white",
           "linecolor": "white",
           "ticks": "",
           "title": {
            "standoff": 15
           },
           "zerolinecolor": "white",
           "zerolinewidth": 2
          },
          "yaxis": {
           "automargin": true,
           "gridcolor": "white",
           "linecolor": "white",
           "ticks": "",
           "title": {
            "standoff": 15
           },
           "zerolinecolor": "white",
           "zerolinewidth": 2
          }
         }
        }
       }
      },
      "text/html": [
       "<div>                            <div id=\"8ed74fc6-a401-471e-9e28-661a1f7b6b24\" class=\"plotly-graph-div\" style=\"height:525px; width:100%;\"></div>            <script type=\"text/javascript\">                require([\"plotly\"], function(Plotly) {                    window.PLOTLYENV=window.PLOTLYENV || {};                                    if (document.getElementById(\"8ed74fc6-a401-471e-9e28-661a1f7b6b24\")) {                    Plotly.newPlot(                        \"8ed74fc6-a401-471e-9e28-661a1f7b6b24\",                        [{\"branchvalues\":\"total\",\"customdata\":[[\"Europe\"],[\"Europe\"],[\"Europe\"],[\"Asia\"],[\"Europe\"],[\"Europe\"],[\"Europe\"],[\"Europe\"],[\"Europe\"],[\"Europe\"],[\"Americas\"],[\"Americas\"],[\"Americas\"],[\"Asia\"],[\"Americas\"],[\"Americas\"],[\"Europe\"],[\"Europe\"],[\"Europe\"],[\"Asia\"],[\"Europe\"],[\"Asia\"],[\"Asia\"],[\"Europe\"],[\"Europe\"],[\"Africa\"],[\"Europe\"],[\"Asia\"],[\"Europe\"],[\"Europe\"],[\"Europe\"],[\"Africa\"],[\"Americas\"],[\"Americas\"],[\"Europe\"],[\"Asia\"],[\"Americas\"],[\"Americas\"],[\"Americas\"],[\"Americas\"],[\"Americas\"],[\"Americas\"],[\"Europe\"],[\"Asia\"],[\"Americas\"],[\"Americas\"],[\"Europe\"],[\"Americas\"],[\"Africa\"],[\"Europe\"],[\"Asia\"],[\"Europe\"],[\"Europe\"],[\"Europe\"],[\"Europe\"],[\"Americas\"],[\"Europe\"],[\"Asia\"],[\"Europe\"],[\"Americas\"],[\"Europe\"],[\"Europe\"],[\"Africa\"],[\"Europe\"],[\"Africa\"],[\"Europe\"],[\"Europe\"],[\"Asia\"],[\"Americas\"],[\"Asia\"],[\"Americas\"],[\"Americas\"],[\"Europe\"],[\"Europe\"],[\"Americas\"],[\"Asia\"],[\"Asia\"],[\"Europe\"],[\"Asia\"],[\"Europe\"],[\"Asia\"],[\"Americas\"],[\"Europe\"],[\"Europe\"],[\"Americas\"],[\"Europe\"],[\"Americas\"],[\"Asia\"],[\"Europe\"],[\"Americas\"],[\"Africa\"],[\"Europe\"],[\"Americas\"],[\"Europe\"],[\"Americas\"],[\"Europe\"],[\"Europe\"],[\"Europe\"],[\"Africa\"],[\"Asia\"],[\"Europe\"],[\"Europe\"],[\"Europe\"],[\"Africa\"],[\"Europe\"],[\"Europe\"],[\"Asia\"],[\"Europe\"],[\"Americas\"],[\"Europe\"],[\"Asia\"],[\"Europe\"],[\"Asia\"],[\"Africa\"],[\"Europe\"],[\"Asia\"],[\"Europe\"],[\"Europe\"],[\"Asia\"],[\"Americas\"],[\"Europe\"],[\"Europe\"],[\"Asia\"],[\"Americas\"],[\"Americas\"],[\"Americas\"],[\"Americas\"],[\"Europe\"],[\"Europe\"],[\"Europe\"],[\"Europe\"],[\"Europe\"],[\"Americas\"],[\"Asia\"],[\"Europe\"],[\"Africa\"],[\"Europe\"],[\"Americas\"],[\"Americas\"],[\"Africa\"],[\"Europe\"],[\"Europe\"],[\"Europe\"],[\"Asia\"],[\"Europe\"],[\"Americas\"],[\"Americas\"],[\"Americas\"],[\"Americas\"],[\"Americas\"],[\"Americas\"],[\"Americas\"],[\"Asia\"],[\"Asia\"],[\"Europe\"],[\"Europe\"],[\"Africa\"],[\"Americas\"],[\"Oceania\"],[\"Europe\"],[\"Europe\"],[\"Europe\"],[\"Americas\"],[\"Americas\"],[\"Americas\"],[\"Europe\"],[\"Americas\"],[\"Europe\"],[\"Asia\"],[\"Asia\"],[\"Europe\"],[\"Asia\"],[\"Europe\"],[\"Europe\"],[\"Europe\"],[\"Europe\"],[\"Asia\"],[\"Europe\"],[\"Asia\"],[\"Asia\"],[\"Europe\"],[\"Oceania\"],[\"Europe\"],[\"Europe\"],[\"Americas\"],[\"Europe\"],[\"Asia\"],[\"Europe\"],[\"Asia\"],[\"Asia\"],[\"Europe\"],[\"Asia\"],[\"Europe\"],[\"Asia\"],[\"Asia\"],[\"Europe\"],[\"Europe\"],[\"Americas\"],[\"Europe\"],[\"Asia\"],[\"Africa\"],[\"Africa\"],[\"Asia\"],[\"Europe\"],[\"Europe\"],[\"Europe\"],[\"Europe\"],[\"Asia\"],[\"Americas\"],[\"Asia\"],[\"Americas\"],[\"Americas\"],[\"Asia\"],[\"Africa\"],[\"Asia\"],[\"Europe\"],[\"Europe\"],[\"Africa\"],[\"Asia\"],[\"Europe\"],[\"Europe\"],[\"Asia\"],[\"Africa\"],[\"Europe\"],[\"Asia\"],[\"Europe\"],[\"Europe\"],[\"Europe\"],[\"Americas\"],[\"Americas\"],[\"Americas\"],[\"Americas\"],[\"Europe\"],[\"Europe\"],[\"Africa\"],[\"Oceania\"],[\"Asia\"],[\"Europe\"],[\"Americas\"],[\"Europe\"],[\"Europe\"],[\"Asia\"],[\"Asia\"],[\"Europe\"],[\"Americas\"],[\"Americas\"],[\"Americas\"],[\"Americas\"],[\"Europe\"],[\"Americas\"],[\"Asia\"],[\"Americas\"],[\"Asia\"],[\"Europe\"],[\"Europe\"],[\"Asia\"],[\"Europe\"],[\"Asia\"],[\"Europe\"],[\"Europe\"],[\"Asia\"],[\"Americas\"],[\"Europe\"],[\"Oceania\"],[\"Europe\"],[\"Europe\"],[\"Africa\"],[\"Asia\"],[\"Europe\"],[\"Europe\"],[\"Americas\"],[\"Europe\"],[\"Europe\"],[\"Asia\"],[\"Asia\"],[\"Europe\"],[\"Europe\"],[\"Europe\"],[\"Europe\"],[\"Americas\"],[\"Europe\"],[\"Asia\"],[\"Americas\"],[\"Europe\"],[\"Europe\"],[\"Europe\"],[\"Americas\"],[\"Europe\"],[\"Asia\"],[\"Europe\"],[\"Asia\"],[\"Asia\"],[\"Asia\"],[\"Americas\"],[\"Americas\"],[\"Asia\"],[\"Americas\"],[\"Asia\"],[\"Africa\"],[\"Asia\"],[\"Americas\"],[\"Africa\"],[\"Europe\"],[\"Europe\"],[\"Europe\"],[\"Asia\"],[\"Europe\"],[\"Americas\"],[\"Europe\"],[\"Americas\"],[\"Americas\"],[\"Americas\"],[\"Asia\"],[\"Africa\"],[\"Asia\"],[\"Africa\"],[\"Asia\"],[\"Asia\"],[\"Asia\"],[\"Asia\"],[\"Asia\"],[\"Europe\"],[\"Europe\"],[\"Africa\"],[\"Americas\"],[\"Americas\"],[\"Europe\"],[\"Asia\"],[\"Europe\"],[\"Europe\"],[\"Europe\"],[\"Asia\"],[\"Americas\"],[\"Americas\"],[\"Asia\"],[\"Americas\"],[\"Europe\"],[\"Americas\"],[\"Africa\"],[\"Americas\"],[\"Africa\"],[\"Asia\"],[\"Oceania\"],[\"Europe\"],[\"Europe\"],[\"Europe\"],[\"Asia\"],[\"Europe\"],[\"Europe\"],[\"Asia\"],[\"Europe\"],[\"Asia\"],[\"Europe\"],[\"Europe\"],[\"Africa\"],[\"Americas\"],[\"Asia\"],[\"Europe\"],[\"Europe\"],[\"Americas\"],[\"Oceania\"],[\"Americas\"],[\"Asia\"],[\"Asia\"],[\"Americas\"],[\"Oceania\"],[\"Europe\"],[\"Americas\"],[\"Europe\"],[\"Asia\"],[\"Americas\"],[\"Americas\"],[\"Americas\"],[\"Africa\"],[\"Asia\"],[\"Europe\"],[\"Americas\"],[\"Europe\"],[\"Oceania\"],[\"Europe\"],[\"Asia\"],[\"Europe\"],[\"Americas\"],[\"Americas\"],[\"Europe\"],[\"Europe\"],[\"Americas\"],[\"Americas\"],[\"Americas\"],[\"Americas\"],[\"Americas\"],[\"Europe\"],[\"Americas\"],[\"Americas\"],[\"Americas\"],[\"Americas\"],[\"Asia\"],[\"Americas\"],[\"Americas\"],[\"Europe\"],[\"Americas\"],[\"Europe\"],[\"Europe\"],[\"Americas\"],[\"Europe\"],[\"Asia\"],[\"Asia\"],[\"Europe\"],[\"Europe\"],[\"Europe\"],[\"Africa\"],[\"Europe\"],[\"Africa\"],[\"Asia\"],[\"Americas\"],[\"Europe\"],[\"Asia\"],[\"Europe\"],[\"Asia\"],[\"Europe\"],[\"Americas\"],[\"Europe\"],[\"Americas\"],[\"Europe\"],[\"Europe\"],[\"Europe\"],[\"Europe\"],[\"Europe\"],[\"Europe\"],[\"Asia\"],[\"Europe\"],[\"Europe\"],[\"Americas\"],[\"Americas\"],[\"Europe\"],[\"Americas\"],[\"Asia\"],[\"Europe\"],[\"Asia\"],[\"Americas\"],[\"Europe\"],[\"Asia\"],[\"Europe\"],[\"Asia\"],[\"Americas\"],[\"Oceania\"],[\"Europe\"],[\"Europe\"],[\"Europe\"],[\"Asia\"],[\"Asia\"],[\"Asia\"],[\"Europe\"],[\"Europe\"],[\"Africa\"],[\"Asia\"],[\"Europe\"],[\"Americas\"],[\"Europe\"],[\"Asia\"],[\"Americas\"],[\"Asia\"],[\"Europe\"],[\"Americas\"],[\"Americas\"],[\"Europe\"],[\"Europe\"],[\"Africa\"],[\"Europe\"],[\"Americas\"],[\"Asia\"],[\"Asia\"],[\"Europe\"],[\"Oceania\"],[\"Americas\"],[\"Americas\"],[\"Europe\"],[\"Africa\"],[\"Americas\"],[\"Europe\"],[\"Europe\"],[\"Europe\"],[\"Americas\"],[\"Asia\"],[\"Africa\"],[\"Americas\"],[\"Europe\"],[\"Europe\"],[\"Europe\"],[\"Americas\"],[\"Americas\"],[\"Americas\"],[\"Europe\"],[\"Americas\"],[\"Americas\"],[\"Europe\"],[\"Americas\"],[\"Europe\"],[\"Europe\"],[\"Europe\"],[\"Europe\"],[\"Europe\"],[\"Americas\"],[\"Asia\"],[\"Asia\"],[\"Asia\"],[\"Asia\"],[\"Asia\"],[\"Americas\"],[\"Europe\"],[\"Asia\"],[\"Europe\"],[\"Asia\"],[\"Asia\"],[\"Asia\"],[\"Europe\"],[\"Europe\"],[\"Oceania\"],[\"Americas\"],[\"Asia\"],[\"Americas\"],[\"Europe\"],[\"Africa\"],[\"Europe\"],[\"Asia\"],[\"Americas\"],[\"Americas\"],[\"Americas\"],[\"Asia\"],[\"Americas\"],[\"Asia\"],[\"Africa\"],[\"Europe\"],[\"Americas\"],[\"Americas\"],[\"Americas\"],[\"Asia\"],[\"Asia\"],[\"Americas\"],[\"Asia\"],[\"Europe\"],[\"Americas\"],[\"Oceania\"],[\"Europe\"],[\"Europe\"],[\"Americas\"],[\"Americas\"],[\"Asia\"],[\"Americas\"],[\"Asia\"],[\"Europe\"],[\"Americas\"],[\"Americas\"],[\"Europe\"],[\"Asia\"],[\"Asia\"],[\"Americas\"],[\"Europe\"],[\"Africa\"],[\"Americas\"],[\"Europe\"],[\"Europe\"],[\"Asia\"],[\"Africa\"],[\"Europe\"],[\"Europe\"],[\"Asia\"],[\"Europe\"],[\"Europe\"],[\"Americas\"],[\"Europe\"],[\"Europe\"],[\"Asia\"],[\"Europe\"],[\"Asia\"],[\"Asia\"],[\"Asia\"],[\"Asia\"],[\"Asia\"],[\"Oceania\"],[\"Americas\"],[\"Americas\"],[\"Americas\"],[\"Europe\"],[\"Asia\"],[\"Europe\"],[\"Europe\"],[\"Asia\"],[\"Asia\"],[\"Europe\"],[\"Asia\"],[\"Asia\"],[\"Asia\"],[\"Asia\"],[\"Asia\"],[\"Africa\"],[\"Europe\"],[\"Europe\"],[\"Americas\"],[\"Europe\"],[\"Europe\"],[\"Europe\"],[\"Europe\"],[\"Europe\"],[\"Asia\"],[\"Asia\"],[\"Asia\"],[\"Africa\"],[\"Asia\"],[\"Americas\"],[\"Asia\"],[\"Europe\"],[\"Americas\"],[\"Asia\"],[\"Asia\"],[\"Asia\"],[\"Europe\"],[\"Africa\"],[\"Europe\"],[\"Africa\"],[\"Americas\"],[\"Asia\"],[\"Oceania\"],[\"Europe\"],[\"Asia\"],[\"Asia\"],[\"Europe\"],[\"Europe\"],[\"Americas\"],[\"Americas\"],[\"Europe\"],[\"Africa\"],[\"Americas\"],[\"Europe\"],[\"Americas\"],[\"Americas\"],[\"Americas\"],[\"Asia\"],[\"Americas\"],[\"Americas\"],[\"Europe\"],[\"Americas\"],[\"Asia\"],[\"Europe\"],[\"Africa\"],[\"Europe\"],[\"Americas\"],[\"Americas\"],[\"Africa\"],[\"Americas\"],[\"Europe\"],[\"Europe\"],[\"Europe\"],[\"Asia\"],[\"Europe\"],[\"Americas\"],[\"Americas\"],[\"Asia\"],[\"Europe\"],[\"Europe\"],[\"Asia\"],[\"Asia\"],[\"Asia\"],[\"Europe\"],[\"Asia\"],[\"Europe\"],[\"Americas\"],[\"Asia\"],[\"Asia\"],[\"Asia\"],[\"Africa\"],[\"Asia\"],[\"Asia\"],[\"Europe\"],[\"Asia\"],[\"Europe\"],[\"Europe\"],[\"Africa\"],[\"Asia\"],[\"Europe\"],[\"Americas\"],[\"Europe\"],[\"Asia\"],[\"Africa\"],[\"Africa\"],[\"Europe\"],[\"Oceania\"],[\"Americas\"],[\"Africa\"],[\"Europe\"],[\"Europe\"],[\"Asia\"],[\"Asia\"],[\"Americas\"],[\"Americas\"],[\"Americas\"],[\"Asia\"],[\"Europe\"],[\"Europe\"],[\"Americas\"],[\"Asia\"],[\"Europe\"],[\"Europe\"],[\"Oceania\"],[\"Asia\"],[\"Africa\"],[\"Asia\"],[\"Europe\"],[\"Europe\"],[\"Africa\"],[\"Asia\"],[\"Europe\"],[\"Europe\"],[\"Asia\"],[\"Asia\"],[\"Americas\"],[\"Asia\"],[\"Africa\"],[\"Europe\"],[\"Asia\"],[\"Europe\"],[\"Americas\"],[\"Americas\"],[\"Asia\"],[\"Americas\"],[\"Asia\"],[\"Africa\"],[\"Africa\"],[\"Americas\"],[\"Asia\"],[\"Europe\"],[\"Oceania\"],[\"(?)\"]],\"domain\":{\"x\":[0.0,1.0],\"y\":[0.0,1.0]},\"hovertemplate\":\"labels=%{label}<br>count_amount=%{value}<br>parent=%{parent}<br>id=%{id}<br>region=%{customdata[0]}<extra></extra>\",\"ids\":[\"Total transactions/Europe/Andorra/Accommodation\",\"Total transactions/Europe/Russian Federation/Food\",\"Total transactions/Europe/Poland/Food\",\"Total transactions/Asia/Philippines/Food\",\"Total transactions/Europe/Austria/Food\",\"Total transactions/Europe/Portugal/Fashion & Shoes\",\"Total transactions/Europe/Poland/Fashion & Shoes\",\"Total transactions/Europe/Slovenia/Food\",\"Total transactions/Europe/Austria/Culture & Leisure\",\"Total transactions/Europe/Andorra/Culture & Leisure\",\"Total transactions/Americas/Venezuela (Bolivarian Republic of)/Books & Music\",\"Total transactions/Americas/Uruguay/Books & Music\",\"Total transactions/Americas/United States of America/Books & Music\",\"Total transactions/Asia/Uzbekistan/Bars & restaurants\",\"Total transactions/Americas/Uruguay/Bars & restaurants\",\"Total transactions/Americas/Argentina/Culture & Leisure\",\"Total transactions/Europe/Sweden/Food\",\"Total transactions/Europe/Ukraine/Food\",\"Total transactions/Europe/Denmark/Health\",\"Total transactions/Asia/Indonesia/Sports & Games\",\"Total transactions/Europe/United Kingdom /Other goods and services\",\"Total transactions/Asia/United Arab Emirates/Other goods and services\",\"Total transactions/Asia/Turkey/Other goods and services\",\"Total transactions/Europe/Switzerland/Other goods and services\",\"Total transactions/Europe/Sweden/Other goods and services\",\"Total transactions/Africa/South Africa/Other goods and services\",\"Total transactions/Europe/Slovenia/Other goods and services\",\"Total transactions/Asia/Saudi Arabia/Other goods and services\",\"Total transactions/Europe/Russian Federation/Other goods and services\",\"Total transactions/Europe/France/Other goods and services\",\"Total transactions/Europe/Finland/Other goods and services\",\"Total transactions/Africa/Egypt/Health\",\"Total transactions/Americas/Ecuador/Health\",\"Total transactions/Americas/Dominican Republic/Health\",\"Total transactions/Europe/Belgium/Automocion\",\"Total transactions/Asia/Bahrain/Automocion\",\"Total transactions/Americas/United States of America/Transportation\",\"Total transactions/Americas/Colombia/Accommodation\",\"Total transactions/Americas/Costa Rica/Accommodation\",\"Total transactions/Americas/Argentina/Accommodation\",\"Total transactions/Americas/Paraguay/Bars & restaurants\",\"Total transactions/Americas/Guatemala/Books & Music\",\"Total transactions/Europe/Italy/Books & Music\",\"Total transactions/Asia/Korea, Republic of/Books & Music\",\"Total transactions/Americas/Mexico/Books & Music\",\"Total transactions/Americas/Peru/Books & Music\",\"Total transactions/Europe/Portugal/Books & Music\",\"Total transactions/Americas/Puerto Rico/Books & Music\",\"Total transactions/Africa/South Africa/Books & Music\",\"Total transactions/Europe/Switzerland/Books & Music\",\"Total transactions/Asia/United Arab Emirates/Books & Music\",\"Total transactions/Europe/United Kingdom /Books & Music\",\"Total transactions/Europe/Estonia/Food\",\"Total transactions/Europe/Finland/Food\",\"Total transactions/Europe/France/Food\",\"Total transactions/Americas/Mexico/Hogar y reformas\",\"Total transactions/Europe/Ireland/Accommodation\",\"Total transactions/Asia/Indonesia/Accommodation\",\"Total transactions/Europe/France/Books & Music\",\"Total transactions/Americas/El Salvador/Food\",\"Total transactions/Europe/Denmark/Food\",\"Total transactions/Europe/Czechia/Food\",\"Total transactions/Africa/Morocco/Bars & restaurants\",\"Total transactions/Europe/Netherlands/Bars & restaurants\",\"Total transactions/Africa/Nigeria/Bars & restaurants\",\"Total transactions/Europe/North Macedonia/Bars & restaurants\",\"Total transactions/Europe/Norway/Bars & restaurants\",\"Total transactions/Asia/Oman/Bars & restaurants\",\"Total transactions/Americas/Panama/Bars & restaurants\",\"Total transactions/Asia/Turkey/Electronics & computing\",\"Total transactions/Americas/Brazil/Culture & Leisure\",\"Total transactions/Americas/Peru/Bars & restaurants\",\"Total transactions/Europe/Poland/Bars & restaurants\",\"Total transactions/Europe/Portugal/Bars & restaurants\",\"Total transactions/Americas/Puerto Rico/Bars & restaurants\",\"Total transactions/Asia/Qatar/Bars & restaurants\",\"Total transactions/Asia/Singapore/Bars & restaurants\",\"Total transactions/Europe/Slovakia/Bars & restaurants\",\"Total transactions/Asia/Hong Kong/Accommodation\",\"Total transactions/Europe/Croatia/Food\",\"Total transactions/Asia/Philippines/Bars & restaurants\",\"Total transactions/Americas/Canada/Culture & Leisure\",\"Total transactions/Europe/Lithuania/Hogar y reformas\",\"Total transactions/Europe/Moldova, Republic of/Bars & restaurants\",\"Total transactions/Americas/Guatemala/Accommodation\",\"Total transactions/Europe/Greece/Accommodation\",\"Total transactions/Americas/United States of America/Electronics & computing\",\"Total transactions/Asia/Cyprus/Accommodation\",\"Total transactions/Europe/Denmark/Accommodation\",\"Total transactions/Americas/Costa Rica/Health\",\"Total transactions/Africa/Egypt/Accommodation\",\"Total transactions/Europe/Finland/Accommodation\",\"Total transactions/Americas/Honduras/Accommodation\",\"Total transactions/Europe/France/Accommodation\",\"Total transactions/Americas/Mexico/Electronics & computing\",\"Total transactions/Europe/Netherlands/Electronics & computing\",\"Total transactions/Europe/Portugal/Electronics & computing\",\"Total transactions/Europe/Russian Federation/Electronics & computing\",\"Total transactions/Africa/South Africa/Electronics & computing\",\"Total transactions/Asia/Sri Lanka/Electronics & computing\",\"Total transactions/Europe/Sweden/Electronics & computing\",\"Total transactions/Europe/Switzerland/Electronics & computing\",\"Total transactions/Europe/Italy/Electronics & computing\",\"Total transactions/Africa/Mozambique/Health\",\"Total transactions/Europe/Netherlands/Health\",\"Total transactions/Europe/Norway/Health\",\"Total transactions/Asia/Japan/Hogar y reformas\",\"Total transactions/Europe/Italy/Hogar y reformas\",\"Total transactions/Americas/Guatemala/Food\",\"Total transactions/Europe/Ireland/Food\",\"Total transactions/Asia/Israel/Food\",\"Total transactions/Europe/Italy/Food\",\"Total transactions/Asia/Japan/Food\",\"Total transactions/Africa/South Africa/Health\",\"Total transactions/Europe/Slovenia/Health\",\"Total transactions/Asia/Singapore/Health\",\"Total transactions/Europe/Russian Federation/Health\",\"Total transactions/Europe/Romania/Health\",\"Total transactions/Asia/Qatar/Health\",\"Total transactions/Americas/Puerto Rico/Health\",\"Total transactions/Europe/Portugal/Health\",\"Total transactions/Europe/Poland/Health\",\"Total transactions/Asia/Philippines/Health\",\"Total transactions/Americas/Peru/Health\",\"Total transactions/Americas/Panama/Health\",\"Total transactions/Americas/Cayman Islands/Culture & Leisure\",\"Total transactions/Americas/Mexico/Bars & restaurants\",\"Total transactions/Europe/United Kingdom /Electronics & computing\",\"Total transactions/Europe/France/Transportation\",\"Total transactions/Europe/Malta/Bars & restaurants\",\"Total transactions/Europe/Denmark/Transportation\",\"Total transactions/Europe/Finland/Transportation\",\"Total transactions/Americas/Curacao/Bars & restaurants\",\"Total transactions/Asia/Cyprus/Bars & restaurants\",\"Total transactions/Europe/Czechia/Bars & restaurants\",\"Total transactions/Africa/C\\u00f4te d'Ivoire/Bars & restaurants\",\"Total transactions/Europe/Denmark/Bars & restaurants\",\"Total transactions/Americas/Dominican Republic/Bars & restaurants\",\"Total transactions/Americas/Ecuador/Bars & restaurants\",\"Total transactions/Africa/Egypt/Bars & restaurants\",\"Total transactions/Europe/Estonia/Bars & restaurants\",\"Total transactions/Europe/Finland/Bars & restaurants\",\"Total transactions/Europe/France/Bars & restaurants\",\"Total transactions/Asia/Georgia/Bars & restaurants\",\"Total transactions/Europe/Czechia/Transportation\",\"Total transactions/Americas/Guatemala/Bars & restaurants\",\"Total transactions/Americas/Cayman Islands/Bars & restaurants\",\"Total transactions/Americas/Brazil/Bars & restaurants\",\"Total transactions/Americas/Canada/Transportation\",\"Total transactions/Americas/Canada/Agencias de viajes\",\"Total transactions/Americas/Venezuela (Bolivarian Republic of)/Accommodation\",\"Total transactions/Americas/Chile/Transportation\",\"Total transactions/Asia/China/Transportation\",\"Total transactions/Asia/India/Automocion\",\"Total transactions/Europe/United Kingdom /Automocion\",\"Total transactions/Europe/Andorra/Bars & restaurants\",\"Total transactions/Africa/Angola/Bars & restaurants\",\"Total transactions/Americas/Argentina/Bars & restaurants\",\"Total transactions/Oceania/Australia/Bars & restaurants\",\"Total transactions/Europe/Austria/Bars & restaurants\",\"Total transactions/Europe/Belarus/Bars & restaurants\",\"Total transactions/Europe/Belgium/Bars & restaurants\",\"Total transactions/Americas/Bolivia (Plurinational State of)/Bars & restaurants\",\"Total transactions/Americas/Canada/Bars & restaurants\",\"Total transactions/Americas/Honduras/Bars & restaurants\",\"Total transactions/Europe/France/Agencias de viajes\",\"Total transactions/Americas/Guatemala/Transportation\",\"Total transactions/Europe/Romania/Transportation\",\"Total transactions/Asia/India/Bars & restaurants\",\"Total transactions/Asia/Indonesia/Bars & restaurants\",\"Total transactions/Europe/Ireland/Bars & restaurants\",\"Total transactions/Asia/Israel/Bars & restaurants\",\"Total transactions/Europe/Italy/Bars & restaurants\",\"Total transactions/Europe/Russian Federation/Transportation\",\"Total transactions/Europe/Sweden/Transportation\",\"Total transactions/Europe/Switzerland/Transportation\",\"Total transactions/Asia/India/Accommodation\",\"Total transactions/Europe/Iceland/Accommodation\",\"Total transactions/Asia/Taiwan, Province of China/Transportation\",\"Total transactions/Asia/Thailand/Transportation\",\"Total transactions/Europe/Belgium/Sports & Games\",\"Total transactions/Oceania/Australia/Sports & Games\",\"Total transactions/Europe/Poland/Transportation\",\"Total transactions/Europe/Italy/Agencias de viajes\",\"Total transactions/Americas/Panama/Transportation\",\"Total transactions/Europe/Hungary/Bars & restaurants\",\"Total transactions/Asia/India/Transportation\",\"Total transactions/Europe/Ireland/Transportation\",\"Total transactions/Asia/Israel/Transportation\",\"Total transactions/Asia/Hong Kong/Bars & restaurants\",\"Total transactions/Europe/Italy/Transportation\",\"Total transactions/Asia/Japan/Transportation\",\"Total transactions/Europe/Iceland/Bars & restaurants\",\"Total transactions/Asia/Jordan/Transportation\",\"Total transactions/Asia/Lebanon/Transportation\",\"Total transactions/Europe/Luxembourg/Transportation\",\"Total transactions/Europe/Latvia/Fashion & Shoes\",\"Total transactions/Americas/Nicaragua/Transportation\",\"Total transactions/Europe/Norway/Transportation\",\"Total transactions/Asia/Korea, Republic of/Transportation\",\"Total transactions/Africa/Mozambique/Fashion & Shoes\",\"Total transactions/Africa/Morocco/Fashion & Shoes\",\"Total transactions/Asia/Mongolia/Fashion & Shoes\",\"Total transactions/Europe/Russian Federation/Fashion & Shoes\",\"Total transactions/Europe/Norway/Fashion & Shoes\",\"Total transactions/Europe/Norway/Food\",\"Total transactions/Europe/Romania/Fashion & Shoes\",\"Total transactions/Asia/Qatar/Fashion & Shoes\",\"Total transactions/Americas/Puerto Rico/Fashion & Shoes\",\"Total transactions/Asia/Philippines/Fashion & Shoes\",\"Total transactions/Americas/Peru/Fashion & Shoes\",\"Total transactions/Americas/Paraguay/Fashion & Shoes\",\"Total transactions/Asia/Saudi Arabia/Fashion & Shoes\",\"Total transactions/Africa/Senegal/Fashion & Shoes\",\"Total transactions/Asia/Singapore/Fashion & Shoes\",\"Total transactions/Europe/Slovakia/Fashion & Shoes\",\"Total transactions/Europe/Slovenia/Fashion & Shoes\",\"Total transactions/Africa/South Africa/Fashion & Shoes\",\"Total transactions/Asia/Sri Lanka/Fashion & Shoes\",\"Total transactions/Europe/Switzerland/Fashion & Shoes\",\"Total transactions/Europe/Netherlands/Fashion & Shoes\",\"Total transactions/Asia/Taiwan, Province of China/Fashion & Shoes\",\"Total transactions/Africa/Uganda/Fashion & Shoes\",\"Total transactions/Europe/Ukraine/Fashion & Shoes\",\"Total transactions/Asia/United Arab Emirates/Fashion & Shoes\",\"Total transactions/Europe/United Kingdom /Fashion & Shoes\",\"Total transactions/Europe/Belarus/Food\",\"Total transactions/Europe/Belgium/Food\",\"Total transactions/Americas/Bolivia (Plurinational State of)/Food\",\"Total transactions/Americas/Brazil/Food\",\"Total transactions/Americas/Canada/Food\",\"Total transactions/Americas/Panama/Fashion & Shoes\",\"Total transactions/Europe/United Kingdom /Transportation\",\"Total transactions/Europe/North Macedonia/Fashion & Shoes\",\"Total transactions/Africa/Nigeria/Fashion & Shoes\",\"Total transactions/Oceania/New Zealand/Fashion & Shoes\",\"Total transactions/Asia/Turkey/Fashion & Shoes\",\"Total transactions/Europe/Sweden/Fashion & Shoes\",\"Total transactions/Americas/Colombia/Other goods and services\",\"Total transactions/Europe/Lithuania/Health\",\"Total transactions/Europe/Switzerland/Personal products\",\"Total transactions/Asia/Taiwan, Province of China/Personal products\",\"Total transactions/Asia/Turkey/Personal products\",\"Total transactions/Europe/United Kingdom /Personal products\",\"Total transactions/Americas/United States of America/Personal products\",\"Total transactions/Americas/Venezuela (Bolivarian Republic of)/Personal products\",\"Total transactions/Americas/Argentina/Sports & Games\",\"Total transactions/Americas/Brazil/Sports & Games\",\"Total transactions/Europe/Bulgaria/Sports & Games\",\"Total transactions/Americas/Chile/Sports & Games\",\"Total transactions/Asia/China/Sports & Games\",\"Total transactions/Americas/Colombia/Sports & Games\",\"Total transactions/Asia/Cyprus/Sports & Games\",\"Total transactions/Europe/Finland/Sports & Games\",\"Total transactions/Europe/France/Sports & Games\",\"Total transactions/Asia/India/Sports & Games\",\"Total transactions/Europe/Norway/Sports & Games\",\"Total transactions/Asia/Oman/Sports & Games\",\"Total transactions/Europe/Portugal/Sports & Games\",\"Total transactions/Europe/Russian Federation/Sports & Games\",\"Total transactions/Asia/Saudi Arabia/Sports & Games\",\"Total transactions/Americas/Mexico/Transportation\",\"Total transactions/Europe/Netherlands/Transportation\",\"Total transactions/Oceania/New Zealand/Transportation\",\"Total transactions/Europe/Ukraine/Transportation\",\"Total transactions/Europe/Sweden/Personal products\",\"Total transactions/Africa/South Africa/Personal products\",\"Total transactions/Asia/Singapore/Personal products\",\"Total transactions/Europe/Andorra/Personal products\",\"Total transactions/Europe/Luxembourg/Health\",\"Total transactions/Americas/Mexico/Health\",\"Total transactions/Europe/Sweden/Health\",\"Total transactions/Europe/Switzerland/Health\",\"Total transactions/Asia/Taiwan, Province of China/Health\",\"Total transactions/Asia/Turkey/Health\",\"Total transactions/Europe/Ukraine/Health\",\"Total transactions/Europe/United Kingdom /Health\",\"Total transactions/Europe/Netherlands/Hogar y reformas\",\"Total transactions/Europe/Norway/Hogar y reformas\",\"Total transactions/Americas/Peru/Hogar y reformas\",\"Total transactions/Europe/Poland/Hogar y reformas\",\"Total transactions/Asia/Lebanon/Health\",\"Total transactions/Americas/Chile/Other goods and services\",\"Total transactions/Europe/Moldova, Republic of/Fashion & Shoes\",\"Total transactions/Europe/Czechia/Other goods and services\",\"Total transactions/Europe/Denmark/Other goods and services\",\"Total transactions/Americas/Dominican Republic/Other goods and services\",\"Total transactions/Europe/Ireland/Other goods and services\",\"Total transactions/Asia/Israel/Other goods and services\",\"Total transactions/Europe/Italy/Other goods and services\",\"Total transactions/Asia/Japan/Other goods and services\",\"Total transactions/Asia/Korea, Republic of/Other goods and services\",\"Total transactions/Asia/Malaysia/Other goods and services\",\"Total transactions/Americas/United States of America/Other goods and services\",\"Total transactions/Americas/Venezuela (Bolivarian Republic of)/Other goods and services\",\"Total transactions/Asia/China/Other goods and services\",\"Total transactions/Americas/Mexico/Fashion & Shoes\",\"Total transactions/Asia/Pakistan/Fashion & Shoes\",\"Total transactions/Africa/Malawi/Fashion & Shoes\",\"Total transactions/Asia/Japan/Bars & restaurants\",\"Total transactions/Americas/Venezuela (Bolivarian Republic of)/Electronics & computing\",\"Total transactions/Africa/Algeria/Fashion & Shoes\",\"Total transactions/Europe/Andorra/Fashion & Shoes\",\"Total transactions/Europe/Belarus/Fashion & Shoes\",\"Total transactions/Europe/Belgium/Fashion & Shoes\",\"Total transactions/Asia/Jordan/Bars & restaurants\",\"Total transactions/Europe/Bosnia and Herzegovina/Fashion & Shoes\",\"Total transactions/Americas/Brazil/Fashion & Shoes\",\"Total transactions/Europe/Bulgaria/Fashion & Shoes\",\"Total transactions/Americas/Canada/Fashion & Shoes\",\"Total transactions/Americas/Cayman Islands/Fashion & Shoes\",\"Total transactions/Americas/Chile/Fashion & Shoes\",\"Total transactions/Asia/China/Fashion & Shoes\",\"Total transactions/Africa/Botswana/Fashion & Shoes\",\"Total transactions/Asia/Kazakhstan/Bars & restaurants\",\"Total transactions/Africa/Kenya/Bars & restaurants\",\"Total transactions/Asia/Korea, Republic of/Bars & restaurants\",\"Total transactions/Asia/Malaysia/Fashion & Shoes\",\"Total transactions/Asia/Israel/Accommodation\",\"Total transactions/Asia/Thailand/Bars & restaurants\",\"Total transactions/Asia/Taiwan, Province of China/Bars & restaurants\",\"Total transactions/Europe/Switzerland/Bars & restaurants\",\"Total transactions/Europe/Sweden/Bars & restaurants\",\"Total transactions/Africa/South Africa/Bars & restaurants\",\"Total transactions/Americas/Brazil/Electronics & computing\",\"Total transactions/Americas/Colombia/Electronics & computing\",\"Total transactions/Europe/Denmark/Electronics & computing\",\"Total transactions/Asia/Malaysia/Bars & restaurants\",\"Total transactions/Europe/Luxembourg/Bars & restaurants\",\"Total transactions/Europe/Lithuania/Bars & restaurants\",\"Total transactions/Europe/Latvia/Bars & restaurants\",\"Total transactions/Asia/Kuwait/Bars & restaurants\",\"Total transactions/Americas/Colombia/Fashion & Shoes\",\"Total transactions/Americas/Costa Rica/Fashion & Shoes\",\"Total transactions/Asia/Lebanon/Bars & restaurants\",\"Total transactions/Americas/Guatemala/Fashion & Shoes\",\"Total transactions/Europe/Estonia/Fashion & Shoes\",\"Total transactions/Americas/El Salvador/Fashion & Shoes\",\"Total transactions/Africa/Egypt/Fashion & Shoes\",\"Total transactions/Americas/Honduras/Fashion & Shoes\",\"Total transactions/Africa/Senegal/Accommodation\",\"Total transactions/Asia/Saudi Arabia/Accommodation\",\"Total transactions/Oceania/Samoa/Accommodation\",\"Total transactions/Europe/Russian Federation/Accommodation\",\"Total transactions/Europe/Romania/Accommodation\",\"Total transactions/Europe/Finland/Fashion & Shoes\",\"Total transactions/Asia/Lebanon/Fashion & Shoes\",\"Total transactions/Europe/Luxembourg/Fashion & Shoes\",\"Total transactions/Europe/France/Fashion & Shoes\",\"Total transactions/Asia/Georgia/Fashion & Shoes\",\"Total transactions/Europe/Greece/Fashion & Shoes\",\"Total transactions/Asia/Hong Kong/Fashion & Shoes\",\"Total transactions/Europe/Lithuania/Fashion & Shoes\",\"Total transactions/Europe/Belgium/Accommodation\",\"Total transactions/Africa/Botswana/Accommodation\",\"Total transactions/Americas/Brazil/Accommodation\",\"Total transactions/Asia/Bahrain/Accommodation\",\"Total transactions/Europe/Austria/Accommodation\",\"Total transactions/Europe/Bulgaria/Accommodation\",\"Total transactions/Americas/Canada/Accommodation\",\"Total transactions/Oceania/Australia/Accommodation\",\"Total transactions/Americas/Argentina/Transportation\",\"Total transactions/Asia/United Arab Emirates/Bars & restaurants\",\"Total transactions/Asia/Turkey/Bars & restaurants\",\"Total transactions/Americas/Argentina/Personal products\",\"Total transactions/Oceania/Australia/Personal products\",\"Total transactions/Europe/Austria/Personal products\",\"Total transactions/Americas/Brazil/Personal products\",\"Total transactions/Europe/Bulgaria/Personal products\",\"Total transactions/Asia/China/Personal products\",\"Total transactions/Americas/Colombia/Personal products\",\"Total transactions/Americas/Costa Rica/Personal products\",\"Total transactions/Americas/Ecuador/Personal products\",\"Total transactions/Africa/Egypt/Personal products\",\"Total transactions/Asia/Armenia/Accommodation\",\"Total transactions/Europe/Ukraine/Bars & restaurants\",\"Total transactions/Americas/Peru/Other goods and services\",\"Total transactions/Europe/Poland/Other goods and services\",\"Total transactions/Oceania/Australia/Other goods and services\",\"Total transactions/Europe/Austria/Other goods and services\",\"Total transactions/Asia/Bahrain/Other goods and services\",\"Total transactions/Europe/Belgium/Other goods and services\",\"Total transactions/Americas/Belize/Other goods and services\",\"Total transactions/Americas/Brazil/Other goods and services\",\"Total transactions/Europe/Bulgaria/Other goods and services\",\"Total transactions/Europe/Norway/Accommodation\",\"Total transactions/Americas/Dominican Republic/Books & Music\",\"Total transactions/Americas/Costa Rica/Books & Music\",\"Total transactions/Americas/Colombia/Books & Music\",\"Total transactions/Americas/Chile/Books & Music\",\"Total transactions/Americas/Canada/Books & Music\",\"Total transactions/Europe/Portugal/Other goods and services\",\"Total transactions/Americas/Brazil/Books & Music\",\"Total transactions/Americas/Chile/Accommodation\",\"Total transactions/Americas/Argentina/Books & Music\",\"Total transactions/Americas/Venezuela (Bolivarian Republic of)/Bars & restaurants\",\"Total transactions/Asia/Pakistan/Accommodation\",\"Total transactions/Americas/Panama/Accommodation\",\"Total transactions/Americas/United States of America/Bars & restaurants\",\"Total transactions/Europe/United Kingdom /Bars & restaurants\",\"Total transactions/Americas/Mexico/Other goods and services\",\"Total transactions/Europe/Netherlands/Other goods and services\",\"Total transactions/Europe/Norway/Other goods and services\",\"Total transactions/Americas/Panama/Other goods and services\",\"Total transactions/Europe/Finland/Personal products\",\"Total transactions/Asia/Philippines/Other goods and services\",\"Total transactions/Asia/China/Accommodation\",\"Total transactions/Europe/France/Personal products\",\"Total transactions/Europe/Netherlands/Personal products\",\"Total transactions/Europe/Greece/Personal products\",\"Total transactions/Africa/Mozambique/Sports & Games\",\"Total transactions/Europe/Netherlands/Sports & Games\",\"Total transactions/Africa/Nigeria/Sports & Games\",\"Total transactions/Asia/China/Bars & restaurants\",\"Total transactions/Americas/Chile/Bars & restaurants\",\"Total transactions/Europe/Ukraine/Accommodation\",\"Total transactions/Asia/United Arab Emirates/Accommodation\",\"Total transactions/Europe/United Kingdom /Accommodation\",\"Total transactions/Asia/Philippines/Accommodation\",\"Total transactions/Europe/Poland/Accommodation\",\"Total transactions/Americas/United States of America/Accommodation\",\"Total transactions/Europe/Norway/Agencias de viajes\",\"Total transactions/Americas/Brazil/Transportation\",\"Total transactions/Europe/Belgium/Transportation\",\"Total transactions/Europe/Austria/Transportation\",\"Total transactions/Europe/Andorra/Automocion\",\"Total transactions/Europe/Slovakia/Sports & Games\",\"Total transactions/Europe/Sweden/Sports & Games\",\"Total transactions/Europe/Switzerland/Sports & Games\",\"Total transactions/Asia/Turkey/Sports & Games\",\"Total transactions/Europe/Ukraine/Sports & Games\",\"Total transactions/Europe/United Kingdom /Sports & Games\",\"Total transactions/Americas/United States of America/Sports & Games\",\"Total transactions/Americas/Venezuela (Bolivarian Republic of)/Sports & Games\",\"Total transactions/Europe/Andorra/Transportation\",\"Total transactions/Americas/Mexico/Sports & Games\",\"Total transactions/Asia/Korea, Republic of/Sports & Games\",\"Total transactions/Europe/Italy/Sports & Games\",\"Total transactions/Asia/Israel/Sports & Games\",\"Total transactions/Americas/Guatemala/Personal products\",\"Total transactions/Europe/Ireland/Personal products\",\"Total transactions/Asia/Israel/Personal products\",\"Total transactions/Europe/Italy/Personal products\",\"Total transactions/Asia/Japan/Personal products\",\"Total transactions/Americas/Mexico/Personal products\",\"Total transactions/Oceania/Australia/Transportation\",\"Total transactions/Europe/Norway/Personal products\",\"Total transactions/Europe/Portugal/Personal products\",\"Total transactions/Europe/Russian Federation/Personal products\",\"Total transactions/Asia/Saudi Arabia/Bars & restaurants\",\"Total transactions/Asia/Singapore/Accommodation\",\"Total transactions/Asia/Georgia/Personal products\",\"Total transactions/Europe/Slovenia/Accommodation\",\"Total transactions/Europe/Romania/Bars & restaurants\",\"Total transactions/Africa/South Africa/Accommodation\",\"Total transactions/Asia/Sri Lanka/Accommodation\",\"Total transactions/Europe/Sweden/Accommodation\",\"Total transactions/Americas/Argentina/Other goods and services\",\"Total transactions/Europe/Switzerland/Accommodation\",\"Total transactions/Asia/Taiwan, Province of China/Accommodation\",\"Total transactions/Americas/Trinidad and Tobago/Accommodation\",\"Total transactions/Asia/Turkey/Accommodation\",\"Total transactions/Europe/Croatia/Bars & restaurants\",\"Total transactions/Americas/Costa Rica/Bars & restaurants\",\"Total transactions/Americas/Colombia/Bars & restaurants\",\"Total transactions/Europe/Russian Federation/Bars & restaurants\",\"Total transactions/Europe/Andorra/Other goods and services\",\"Total transactions/Africa/Egypt/Culture & Leisure\",\"Total transactions/Europe/United Kingdom /Hogar y reformas\",\"Total transactions/Americas/Colombia/Food\",\"Total transactions/Asia/Bahrain/Fashion & Shoes\",\"Total transactions/Asia/Azerbaijan/Fashion & Shoes\",\"Total transactions/Europe/Austria/Fashion & Shoes\",\"Total transactions/Oceania/Australia/Fashion & Shoes\",\"Total transactions/Americas/Argentina/Fashion & Shoes\",\"Total transactions/Americas/Mexico/Food\",\"Total transactions/Europe/Netherlands/Food\",\"Total transactions/Africa/Angola/Fashion & Shoes\",\"Total transactions/Americas/Honduras/Electronics & computing\",\"Total transactions/Europe/France/Electronics & computing\",\"Total transactions/Europe/Finland/Electronics & computing\",\"Total transactions/Europe/United Kingdom /Food\",\"Total transactions/Americas/United States of America/Food\",\"Total transactions/Asia/China/Food\",\"Total transactions/Africa/Algeria/Health\",\"Total transactions/Americas/Argentina/Health\",\"Total transactions/Europe/Austria/Health\",\"Total transactions/Europe/Belgium/Health\",\"Total transactions/Europe/Bosnia and Herzegovina/Health\",\"Total transactions/Americas/Brazil/Health\",\"Total transactions/Americas/Canada/Health\",\"Total transactions/Americas/Chile/Health\",\"Total transactions/Europe/Malta/Accommodation\",\"Total transactions/Americas/Mexico/Accommodation\",\"Total transactions/Americas/Dominican Republic/Electronics & computing\",\"Total transactions/Europe/Austria/Electronics & computing\",\"Total transactions/Americas/El Salvador/Health\",\"Total transactions/Europe/Finland/Health\",\"Total transactions/Europe/France/Health\",\"Total transactions/Europe/Andorra/Health\",\"Total transactions/Europe/Greece/Health\",\"Total transactions/Europe/Croatia/Fashion & Shoes\",\"Total transactions/Americas/Argentina/Food\",\"Total transactions/Asia/Kuwait/Fashion & Shoes\",\"Total transactions/Asia/Korea, Republic of/Fashion & Shoes\",\"Total transactions/Asia/Kazakhstan/Fashion & Shoes\",\"Total transactions/Asia/Jordan/Fashion & Shoes\",\"Total transactions/Asia/Japan/Fashion & Shoes\",\"Total transactions/Americas/Jamaica/Fashion & Shoes\",\"Total transactions/Europe/Italy/Fashion & Shoes\",\"Total transactions/Asia/Israel/Fashion & Shoes\",\"Total transactions/Europe/Ireland/Fashion & Shoes\",\"Total transactions/Asia/Iraq/Fashion & Shoes\",\"Total transactions/Asia/Indonesia/Fashion & Shoes\",\"Total transactions/Asia/India/Fashion & Shoes\",\"Total transactions/Europe/Iceland/Fashion & Shoes\",\"Total transactions/Europe/Hungary/Fashion & Shoes\",\"Total transactions/Oceania/Australia/Food\",\"Total transactions/Americas/Ecuador/Fashion & Shoes\",\"Total transactions/Asia/Thailand/Fashion & Shoes\",\"Total transactions/Americas/Trinidad and Tobago/Fashion & Shoes\",\"Total transactions/Europe/Denmark/Fashion & Shoes\",\"Total transactions/Africa/C\\u00f4te d'Ivoire/Fashion & Shoes\",\"Total transactions/Europe/Czechia/Fashion & Shoes\",\"Total transactions/Asia/Cyprus/Fashion & Shoes\",\"Total transactions/Americas/Curacao/Fashion & Shoes\",\"Total transactions/Americas/United States of America/Fashion & Shoes\",\"Total transactions/Americas/Uruguay/Fashion & Shoes\",\"Total transactions/Asia/Uzbekistan/Fashion & Shoes\",\"Total transactions/Americas/Venezuela (Bolivarian Republic of)/Fashion & Shoes\",\"Total transactions/Asia/Viet Nam/Fashion & Shoes\",\"Total transactions/Africa/Zimbabwe/Fashion & Shoes\",\"Total transactions/Europe/Andorra/Food\",\"Total transactions/Americas/Dominican Republic/Fashion & Shoes\",\"Total transactions/Americas/United States of America/Hogar y reformas\",\"Total transactions/Americas/Guatemala/Health\",\"Total transactions/Asia/India/Health\",\"Total transactions/Asia/Uzbekistan/Health\",\"Total transactions/Americas/Venezuela (Bolivarian Republic of)/Health\",\"Total transactions/Asia/Viet Nam/Health\",\"Total transactions/Europe/Andorra/Hogar y reformas\",\"Total transactions/Americas/Argentina/Hogar y reformas\",\"Total transactions/Oceania/Australia/Hogar y reformas\",\"Total transactions/Europe/Austria/Hogar y reformas\",\"Total transactions/Europe/Belgium/Hogar y reformas\",\"Total transactions/Americas/Belize/Hogar y reformas\",\"Total transactions/Americas/Brazil/Hogar y reformas\",\"Total transactions/Asia/China/Hogar y reformas\",\"Total transactions/Americas/Colombia/Hogar y reformas\",\"Total transactions/Asia/Cyprus/Hogar y reformas\",\"Total transactions/Europe/Denmark/Hogar y reformas\",\"Total transactions/Americas/Uruguay/Health\",\"Total transactions/Americas/Dominican Republic/Hogar y reformas\",\"Total transactions/Europe/France/Hogar y reformas\",\"Total transactions/Asia/Qatar/Accommodation\",\"Total transactions/Asia/China/Culture & Leisure\",\"Total transactions/Americas/Chile/Culture & Leisure\",\"Total transactions/Europe/Netherlands/Accommodation\",\"Total transactions/Africa/Nigeria/Accommodation\",\"Total transactions/Americas/Ecuador/Books & Music\",\"Total transactions/Europe/Portugal/Hogar y reformas\",\"Total transactions/Europe/Russian Federation/Hogar y reformas\",\"Total transactions/Asia/Singapore/Hogar y reformas\",\"Total transactions/Africa/South Africa/Hogar y reformas\",\"Total transactions/Europe/Sweden/Hogar y reformas\",\"Total transactions/Europe/Switzerland/Hogar y reformas\",\"Total transactions/Asia/Turkey/Hogar y reformas\",\"Total transactions/Europe/Finland/Hogar y reformas\",\"Total transactions/Europe/Iceland/Health\",\"Total transactions/Americas/United States of America/Health\",\"Total transactions/Europe/France/Culture & Leisure\",\"Total transactions/Europe/Ireland/Health\",\"Total transactions/Asia/Israel/Health\",\"Total transactions/Europe/Italy/Health\",\"Total transactions/Asia/Japan/Health\",\"Total transactions/Asia/Jordan/Health\",\"Total transactions/Asia/Kazakhstan/Health\",\"Total transactions/Asia/Korea, Republic of/Health\",\"Total transactions/Asia/Kuwait/Health\",\"Total transactions/Oceania/Australia/Electronics & computing\",\"Total transactions/Americas/Argentina/Electronics & computing\",\"Total transactions/Americas/Venezuela (Bolivarian Republic of)/Culture & Leisure\",\"Total transactions/Americas/United States of America/Culture & Leisure\",\"Total transactions/Europe/United Kingdom /Culture & Leisure\",\"Total transactions/Asia/Taiwan, Province of China/Culture & Leisure\",\"Total transactions/Europe/Finland/Culture & Leisure\",\"Total transactions/Europe/Switzerland/Culture & Leisure\",\"Total transactions/Asia/Saudi Arabia/Culture & Leisure\",\"Total transactions/Asia/Israel/Culture & Leisure\",\"Total transactions/Europe/Italy/Culture & Leisure\",\"Total transactions/Asia/Japan/Culture & Leisure\",\"Total transactions/Asia/Kazakhstan/Culture & Leisure\",\"Total transactions/Asia/Korea, Republic of/Culture & Leisure\",\"Total transactions/Asia/Kuwait/Culture & Leisure\",\"Total transactions/Asia/Malaysia/Culture & Leisure\",\"Total transactions/Africa/Morocco/Culture & Leisure\",\"Total transactions/Europe/North Macedonia/Culture & Leisure\",\"Total transactions/Europe/Norway/Culture & Leisure\",\"Total transactions/Americas/Paraguay/Culture & Leisure\",\"Total transactions/Europe/Portugal/Culture & Leisure\",\"Total transactions/Europe/Romania/Culture & Leisure\",\"Total transactions/Europe/Russian Federation/Culture & Leisure\",\"Total transactions/Europe/Sweden/Culture & Leisure\",\"Total transactions/Europe/Portugal/Accommodation\",\"Total transactions/Asia/Malaysia/Accommodation\",\"Total transactions/Asia/Jordan/Accommodation\",\"Total transactions/Asia/Korea, Republic of/Accommodation\",\"Total transactions/Africa/Kenya/Accommodation\",\"Total transactions/Asia/Kazakhstan/Accommodation\",\"Total transactions/Americas/Canada/Other goods and services\",\"Total transactions/Asia/Japan/Accommodation\",\"Total transactions/Europe/Italy/Accommodation\",\"Total transactions/Americas/Colombia/Health\",\"Total transactions/Asia/China/Health\",\"Total transactions/Asia/Lebanon/Accommodation\",\"Total transactions/Asia/Kuwait/Accommodation\",\"Total transactions/Europe/Lithuania/Accommodation\",\"Total transactions/Africa/Algeria\",\"Total transactions/Europe/Andorra\",\"Total transactions/Africa/Angola\",\"Total transactions/Americas/Argentina\",\"Total transactions/Asia/Armenia\",\"Total transactions/Oceania/Australia\",\"Total transactions/Europe/Austria\",\"Total transactions/Asia/Azerbaijan\",\"Total transactions/Asia/Bahrain\",\"Total transactions/Europe/Belarus\",\"Total transactions/Europe/Belgium\",\"Total transactions/Americas/Belize\",\"Total transactions/Americas/Bolivia (Plurinational State of)\",\"Total transactions/Europe/Bosnia and Herzegovina\",\"Total transactions/Africa/Botswana\",\"Total transactions/Americas/Brazil\",\"Total transactions/Europe/Bulgaria\",\"Total transactions/Americas/Canada\",\"Total transactions/Americas/Cayman Islands\",\"Total transactions/Americas/Chile\",\"Total transactions/Asia/China\",\"Total transactions/Americas/Colombia\",\"Total transactions/Americas/Costa Rica\",\"Total transactions/Europe/Croatia\",\"Total transactions/Americas/Curacao\",\"Total transactions/Asia/Cyprus\",\"Total transactions/Europe/Czechia\",\"Total transactions/Africa/C\\u00f4te d'Ivoire\",\"Total transactions/Europe/Denmark\",\"Total transactions/Americas/Dominican Republic\",\"Total transactions/Americas/Ecuador\",\"Total transactions/Africa/Egypt\",\"Total transactions/Americas/El Salvador\",\"Total transactions/Europe/Estonia\",\"Total transactions/Europe/Finland\",\"Total transactions/Europe/France\",\"Total transactions/Asia/Georgia\",\"Total transactions/Europe/Greece\",\"Total transactions/Americas/Guatemala\",\"Total transactions/Americas/Honduras\",\"Total transactions/Asia/Hong Kong\",\"Total transactions/Europe/Hungary\",\"Total transactions/Europe/Iceland\",\"Total transactions/Asia/India\",\"Total transactions/Asia/Indonesia\",\"Total transactions/Asia/Iraq\",\"Total transactions/Europe/Ireland\",\"Total transactions/Asia/Israel\",\"Total transactions/Europe/Italy\",\"Total transactions/Americas/Jamaica\",\"Total transactions/Asia/Japan\",\"Total transactions/Asia/Jordan\",\"Total transactions/Asia/Kazakhstan\",\"Total transactions/Africa/Kenya\",\"Total transactions/Asia/Korea, Republic of\",\"Total transactions/Asia/Kuwait\",\"Total transactions/Europe/Latvia\",\"Total transactions/Asia/Lebanon\",\"Total transactions/Europe/Lithuania\",\"Total transactions/Europe/Luxembourg\",\"Total transactions/Africa/Malawi\",\"Total transactions/Asia/Malaysia\",\"Total transactions/Europe/Malta\",\"Total transactions/Americas/Mexico\",\"Total transactions/Europe/Moldova, Republic of\",\"Total transactions/Asia/Mongolia\",\"Total transactions/Africa/Morocco\",\"Total transactions/Africa/Mozambique\",\"Total transactions/Europe/Netherlands\",\"Total transactions/Oceania/New Zealand\",\"Total transactions/Americas/Nicaragua\",\"Total transactions/Africa/Nigeria\",\"Total transactions/Europe/North Macedonia\",\"Total transactions/Europe/Norway\",\"Total transactions/Asia/Oman\",\"Total transactions/Asia/Pakistan\",\"Total transactions/Americas/Panama\",\"Total transactions/Americas/Paraguay\",\"Total transactions/Americas/Peru\",\"Total transactions/Asia/Philippines\",\"Total transactions/Europe/Poland\",\"Total transactions/Europe/Portugal\",\"Total transactions/Americas/Puerto Rico\",\"Total transactions/Asia/Qatar\",\"Total transactions/Europe/Romania\",\"Total transactions/Europe/Russian Federation\",\"Total transactions/Oceania/Samoa\",\"Total transactions/Asia/Saudi Arabia\",\"Total transactions/Africa/Senegal\",\"Total transactions/Asia/Singapore\",\"Total transactions/Europe/Slovakia\",\"Total transactions/Europe/Slovenia\",\"Total transactions/Africa/South Africa\",\"Total transactions/Asia/Sri Lanka\",\"Total transactions/Europe/Sweden\",\"Total transactions/Europe/Switzerland\",\"Total transactions/Asia/Taiwan, Province of China\",\"Total transactions/Asia/Thailand\",\"Total transactions/Americas/Trinidad and Tobago\",\"Total transactions/Asia/Turkey\",\"Total transactions/Africa/Uganda\",\"Total transactions/Europe/Ukraine\",\"Total transactions/Asia/United Arab Emirates\",\"Total transactions/Europe/United Kingdom \",\"Total transactions/Americas/United States of America\",\"Total transactions/Americas/Uruguay\",\"Total transactions/Asia/Uzbekistan\",\"Total transactions/Americas/Venezuela (Bolivarian Republic of)\",\"Total transactions/Asia/Viet Nam\",\"Total transactions/Africa/Zimbabwe\",\"Total transactions/Africa\",\"Total transactions/Americas\",\"Total transactions/Asia\",\"Total transactions/Europe\",\"Total transactions/Oceania\",\"Total transactions\"],\"labels\":[\"Accommodation\",\"Food\",\"Food\",\"Food\",\"Food\",\"Fashion & Shoes\",\"Fashion & Shoes\",\"Food\",\"Culture & Leisure\",\"Culture & Leisure\",\"Books & Music\",\"Books & Music\",\"Books & Music\",\"Bars & restaurants\",\"Bars & restaurants\",\"Culture & Leisure\",\"Food\",\"Food\",\"Health\",\"Sports & Games\",\"Other goods and services\",\"Other goods and services\",\"Other goods and services\",\"Other goods and services\",\"Other goods and services\",\"Other goods and services\",\"Other goods and services\",\"Other goods and services\",\"Other goods and services\",\"Other goods and services\",\"Other goods and services\",\"Health\",\"Health\",\"Health\",\"Automocion\",\"Automocion\",\"Transportation\",\"Accommodation\",\"Accommodation\",\"Accommodation\",\"Bars & restaurants\",\"Books & Music\",\"Books & Music\",\"Books & Music\",\"Books & Music\",\"Books & Music\",\"Books & Music\",\"Books & Music\",\"Books & Music\",\"Books & Music\",\"Books & Music\",\"Books & Music\",\"Food\",\"Food\",\"Food\",\"Hogar y reformas\",\"Accommodation\",\"Accommodation\",\"Books & Music\",\"Food\",\"Food\",\"Food\",\"Bars & restaurants\",\"Bars & restaurants\",\"Bars & restaurants\",\"Bars & restaurants\",\"Bars & restaurants\",\"Bars & restaurants\",\"Bars & restaurants\",\"Electronics & computing\",\"Culture & Leisure\",\"Bars & restaurants\",\"Bars & restaurants\",\"Bars & restaurants\",\"Bars & restaurants\",\"Bars & restaurants\",\"Bars & restaurants\",\"Bars & restaurants\",\"Accommodation\",\"Food\",\"Bars & restaurants\",\"Culture & Leisure\",\"Hogar y reformas\",\"Bars & restaurants\",\"Accommodation\",\"Accommodation\",\"Electronics & computing\",\"Accommodation\",\"Accommodation\",\"Health\",\"Accommodation\",\"Accommodation\",\"Accommodation\",\"Accommodation\",\"Electronics & computing\",\"Electronics & computing\",\"Electronics & computing\",\"Electronics & computing\",\"Electronics & computing\",\"Electronics & computing\",\"Electronics & computing\",\"Electronics & computing\",\"Electronics & computing\",\"Health\",\"Health\",\"Health\",\"Hogar y reformas\",\"Hogar y reformas\",\"Food\",\"Food\",\"Food\",\"Food\",\"Food\",\"Health\",\"Health\",\"Health\",\"Health\",\"Health\",\"Health\",\"Health\",\"Health\",\"Health\",\"Health\",\"Health\",\"Health\",\"Culture & Leisure\",\"Bars & restaurants\",\"Electronics & computing\",\"Transportation\",\"Bars & restaurants\",\"Transportation\",\"Transportation\",\"Bars & restaurants\",\"Bars & restaurants\",\"Bars & restaurants\",\"Bars & restaurants\",\"Bars & restaurants\",\"Bars & restaurants\",\"Bars & restaurants\",\"Bars & restaurants\",\"Bars & restaurants\",\"Bars & restaurants\",\"Bars & restaurants\",\"Bars & restaurants\",\"Transportation\",\"Bars & restaurants\",\"Bars & restaurants\",\"Bars & restaurants\",\"Transportation\",\"Agencias de viajes\",\"Accommodation\",\"Transportation\",\"Transportation\",\"Automocion\",\"Automocion\",\"Bars & restaurants\",\"Bars & restaurants\",\"Bars & restaurants\",\"Bars & restaurants\",\"Bars & restaurants\",\"Bars & restaurants\",\"Bars & restaurants\",\"Bars & restaurants\",\"Bars & restaurants\",\"Bars & restaurants\",\"Agencias de viajes\",\"Transportation\",\"Transportation\",\"Bars & restaurants\",\"Bars & restaurants\",\"Bars & restaurants\",\"Bars & restaurants\",\"Bars & restaurants\",\"Transportation\",\"Transportation\",\"Transportation\",\"Accommodation\",\"Accommodation\",\"Transportation\",\"Transportation\",\"Sports & Games\",\"Sports & Games\",\"Transportation\",\"Agencias de viajes\",\"Transportation\",\"Bars & restaurants\",\"Transportation\",\"Transportation\",\"Transportation\",\"Bars & restaurants\",\"Transportation\",\"Transportation\",\"Bars & restaurants\",\"Transportation\",\"Transportation\",\"Transportation\",\"Fashion & Shoes\",\"Transportation\",\"Transportation\",\"Transportation\",\"Fashion & Shoes\",\"Fashion & Shoes\",\"Fashion & Shoes\",\"Fashion & Shoes\",\"Fashion & Shoes\",\"Food\",\"Fashion & Shoes\",\"Fashion & Shoes\",\"Fashion & Shoes\",\"Fashion & Shoes\",\"Fashion & Shoes\",\"Fashion & Shoes\",\"Fashion & Shoes\",\"Fashion & Shoes\",\"Fashion & Shoes\",\"Fashion & Shoes\",\"Fashion & Shoes\",\"Fashion & Shoes\",\"Fashion & Shoes\",\"Fashion & Shoes\",\"Fashion & Shoes\",\"Fashion & Shoes\",\"Fashion & Shoes\",\"Fashion & Shoes\",\"Fashion & Shoes\",\"Fashion & Shoes\",\"Food\",\"Food\",\"Food\",\"Food\",\"Food\",\"Fashion & Shoes\",\"Transportation\",\"Fashion & Shoes\",\"Fashion & Shoes\",\"Fashion & Shoes\",\"Fashion & Shoes\",\"Fashion & Shoes\",\"Other goods and services\",\"Health\",\"Personal products\",\"Personal products\",\"Personal products\",\"Personal products\",\"Personal products\",\"Personal products\",\"Sports & Games\",\"Sports & Games\",\"Sports & Games\",\"Sports & Games\",\"Sports & Games\",\"Sports & Games\",\"Sports & Games\",\"Sports & Games\",\"Sports & Games\",\"Sports & Games\",\"Sports & Games\",\"Sports & Games\",\"Sports & Games\",\"Sports & Games\",\"Sports & Games\",\"Transportation\",\"Transportation\",\"Transportation\",\"Transportation\",\"Personal products\",\"Personal products\",\"Personal products\",\"Personal products\",\"Health\",\"Health\",\"Health\",\"Health\",\"Health\",\"Health\",\"Health\",\"Health\",\"Hogar y reformas\",\"Hogar y reformas\",\"Hogar y reformas\",\"Hogar y reformas\",\"Health\",\"Other goods and services\",\"Fashion & Shoes\",\"Other goods and services\",\"Other goods and services\",\"Other goods and services\",\"Other goods and services\",\"Other goods and services\",\"Other goods and services\",\"Other goods and services\",\"Other goods and services\",\"Other goods and services\",\"Other goods and services\",\"Other goods and services\",\"Other goods and services\",\"Fashion & Shoes\",\"Fashion & Shoes\",\"Fashion & Shoes\",\"Bars & restaurants\",\"Electronics & computing\",\"Fashion & Shoes\",\"Fashion & Shoes\",\"Fashion & Shoes\",\"Fashion & Shoes\",\"Bars & restaurants\",\"Fashion & Shoes\",\"Fashion & Shoes\",\"Fashion & Shoes\",\"Fashion & Shoes\",\"Fashion & Shoes\",\"Fashion & Shoes\",\"Fashion & Shoes\",\"Fashion & Shoes\",\"Bars & restaurants\",\"Bars & restaurants\",\"Bars & restaurants\",\"Fashion & Shoes\",\"Accommodation\",\"Bars & restaurants\",\"Bars & restaurants\",\"Bars & restaurants\",\"Bars & restaurants\",\"Bars & restaurants\",\"Electronics & computing\",\"Electronics & computing\",\"Electronics & computing\",\"Bars & restaurants\",\"Bars & restaurants\",\"Bars & restaurants\",\"Bars & restaurants\",\"Bars & restaurants\",\"Fashion & Shoes\",\"Fashion & Shoes\",\"Bars & restaurants\",\"Fashion & Shoes\",\"Fashion & Shoes\",\"Fashion & Shoes\",\"Fashion & Shoes\",\"Fashion & Shoes\",\"Accommodation\",\"Accommodation\",\"Accommodation\",\"Accommodation\",\"Accommodation\",\"Fashion & Shoes\",\"Fashion & Shoes\",\"Fashion & Shoes\",\"Fashion & Shoes\",\"Fashion & Shoes\",\"Fashion & Shoes\",\"Fashion & Shoes\",\"Fashion & Shoes\",\"Accommodation\",\"Accommodation\",\"Accommodation\",\"Accommodation\",\"Accommodation\",\"Accommodation\",\"Accommodation\",\"Accommodation\",\"Transportation\",\"Bars & restaurants\",\"Bars & restaurants\",\"Personal products\",\"Personal products\",\"Personal products\",\"Personal products\",\"Personal products\",\"Personal products\",\"Personal products\",\"Personal products\",\"Personal products\",\"Personal products\",\"Accommodation\",\"Bars & restaurants\",\"Other goods and services\",\"Other goods and services\",\"Other goods and services\",\"Other goods and services\",\"Other goods and services\",\"Other goods and services\",\"Other goods and services\",\"Other goods and services\",\"Other goods and services\",\"Accommodation\",\"Books & Music\",\"Books & Music\",\"Books & Music\",\"Books & Music\",\"Books & Music\",\"Other goods and services\",\"Books & Music\",\"Accommodation\",\"Books & Music\",\"Bars & restaurants\",\"Accommodation\",\"Accommodation\",\"Bars & restaurants\",\"Bars & restaurants\",\"Other goods and services\",\"Other goods and services\",\"Other goods and services\",\"Other goods and services\",\"Personal products\",\"Other goods and services\",\"Accommodation\",\"Personal products\",\"Personal products\",\"Personal products\",\"Sports & Games\",\"Sports & Games\",\"Sports & Games\",\"Bars & restaurants\",\"Bars & restaurants\",\"Accommodation\",\"Accommodation\",\"Accommodation\",\"Accommodation\",\"Accommodation\",\"Accommodation\",\"Agencias de viajes\",\"Transportation\",\"Transportation\",\"Transportation\",\"Automocion\",\"Sports & Games\",\"Sports & Games\",\"Sports & Games\",\"Sports & Games\",\"Sports & Games\",\"Sports & Games\",\"Sports & Games\",\"Sports & Games\",\"Transportation\",\"Sports & Games\",\"Sports & Games\",\"Sports & Games\",\"Sports & Games\",\"Personal products\",\"Personal products\",\"Personal products\",\"Personal products\",\"Personal products\",\"Personal products\",\"Transportation\",\"Personal products\",\"Personal products\",\"Personal products\",\"Bars & restaurants\",\"Accommodation\",\"Personal products\",\"Accommodation\",\"Bars & restaurants\",\"Accommodation\",\"Accommodation\",\"Accommodation\",\"Other goods and services\",\"Accommodation\",\"Accommodation\",\"Accommodation\",\"Accommodation\",\"Bars & restaurants\",\"Bars & restaurants\",\"Bars & restaurants\",\"Bars & restaurants\",\"Other goods and services\",\"Culture & Leisure\",\"Hogar y reformas\",\"Food\",\"Fashion & Shoes\",\"Fashion & Shoes\",\"Fashion & Shoes\",\"Fashion & Shoes\",\"Fashion & Shoes\",\"Food\",\"Food\",\"Fashion & Shoes\",\"Electronics & computing\",\"Electronics & computing\",\"Electronics & computing\",\"Food\",\"Food\",\"Food\",\"Health\",\"Health\",\"Health\",\"Health\",\"Health\",\"Health\",\"Health\",\"Health\",\"Accommodation\",\"Accommodation\",\"Electronics & computing\",\"Electronics & computing\",\"Health\",\"Health\",\"Health\",\"Health\",\"Health\",\"Fashion & Shoes\",\"Food\",\"Fashion & Shoes\",\"Fashion & Shoes\",\"Fashion & Shoes\",\"Fashion & Shoes\",\"Fashion & Shoes\",\"Fashion & Shoes\",\"Fashion & Shoes\",\"Fashion & Shoes\",\"Fashion & Shoes\",\"Fashion & Shoes\",\"Fashion & Shoes\",\"Fashion & Shoes\",\"Fashion & Shoes\",\"Fashion & Shoes\",\"Food\",\"Fashion & Shoes\",\"Fashion & Shoes\",\"Fashion & Shoes\",\"Fashion & Shoes\",\"Fashion & Shoes\",\"Fashion & Shoes\",\"Fashion & Shoes\",\"Fashion & Shoes\",\"Fashion & Shoes\",\"Fashion & Shoes\",\"Fashion & Shoes\",\"Fashion & Shoes\",\"Fashion & Shoes\",\"Fashion & Shoes\",\"Food\",\"Fashion & Shoes\",\"Hogar y reformas\",\"Health\",\"Health\",\"Health\",\"Health\",\"Health\",\"Hogar y reformas\",\"Hogar y reformas\",\"Hogar y reformas\",\"Hogar y reformas\",\"Hogar y reformas\",\"Hogar y reformas\",\"Hogar y reformas\",\"Hogar y reformas\",\"Hogar y reformas\",\"Hogar y reformas\",\"Hogar y reformas\",\"Health\",\"Hogar y reformas\",\"Hogar y reformas\",\"Accommodation\",\"Culture & Leisure\",\"Culture & Leisure\",\"Accommodation\",\"Accommodation\",\"Books & Music\",\"Hogar y reformas\",\"Hogar y reformas\",\"Hogar y reformas\",\"Hogar y reformas\",\"Hogar y reformas\",\"Hogar y reformas\",\"Hogar y reformas\",\"Hogar y reformas\",\"Health\",\"Health\",\"Culture & Leisure\",\"Health\",\"Health\",\"Health\",\"Health\",\"Health\",\"Health\",\"Health\",\"Health\",\"Electronics & computing\",\"Electronics & computing\",\"Culture & Leisure\",\"Culture & Leisure\",\"Culture & Leisure\",\"Culture & Leisure\",\"Culture & Leisure\",\"Culture & Leisure\",\"Culture & Leisure\",\"Culture & Leisure\",\"Culture & Leisure\",\"Culture & Leisure\",\"Culture & Leisure\",\"Culture & Leisure\",\"Culture & Leisure\",\"Culture & Leisure\",\"Culture & Leisure\",\"Culture & Leisure\",\"Culture & Leisure\",\"Culture & Leisure\",\"Culture & Leisure\",\"Culture & Leisure\",\"Culture & Leisure\",\"Culture & Leisure\",\"Accommodation\",\"Accommodation\",\"Accommodation\",\"Accommodation\",\"Accommodation\",\"Accommodation\",\"Other goods and services\",\"Accommodation\",\"Accommodation\",\"Health\",\"Health\",\"Accommodation\",\"Accommodation\",\"Accommodation\",\"Algeria\",\"Andorra\",\"Angola\",\"Argentina\",\"Armenia\",\"Australia\",\"Austria\",\"Azerbaijan\",\"Bahrain\",\"Belarus\",\"Belgium\",\"Belize\",\"Bolivia (Plurinational State of)\",\"Bosnia and Herzegovina\",\"Botswana\",\"Brazil\",\"Bulgaria\",\"Canada\",\"Cayman Islands\",\"Chile\",\"China\",\"Colombia\",\"Costa Rica\",\"Croatia\",\"Curacao\",\"Cyprus\",\"Czechia\",\"C\\u00f4te d'Ivoire\",\"Denmark\",\"Dominican Republic\",\"Ecuador\",\"Egypt\",\"El Salvador\",\"Estonia\",\"Finland\",\"France\",\"Georgia\",\"Greece\",\"Guatemala\",\"Honduras\",\"Hong Kong\",\"Hungary\",\"Iceland\",\"India\",\"Indonesia\",\"Iraq\",\"Ireland\",\"Israel\",\"Italy\",\"Jamaica\",\"Japan\",\"Jordan\",\"Kazakhstan\",\"Kenya\",\"Korea, Republic of\",\"Kuwait\",\"Latvia\",\"Lebanon\",\"Lithuania\",\"Luxembourg\",\"Malawi\",\"Malaysia\",\"Malta\",\"Mexico\",\"Moldova, Republic of\",\"Mongolia\",\"Morocco\",\"Mozambique\",\"Netherlands\",\"New Zealand\",\"Nicaragua\",\"Nigeria\",\"North Macedonia\",\"Norway\",\"Oman\",\"Pakistan\",\"Panama\",\"Paraguay\",\"Peru\",\"Philippines\",\"Poland\",\"Portugal\",\"Puerto Rico\",\"Qatar\",\"Romania\",\"Russian Federation\",\"Samoa\",\"Saudi Arabia\",\"Senegal\",\"Singapore\",\"Slovakia\",\"Slovenia\",\"South Africa\",\"Sri Lanka\",\"Sweden\",\"Switzerland\",\"Taiwan, Province of China\",\"Thailand\",\"Trinidad and Tobago\",\"Turkey\",\"Uganda\",\"Ukraine\",\"United Arab Emirates\",\"United Kingdom \",\"United States of America\",\"Uruguay\",\"Uzbekistan\",\"Venezuela (Bolivarian Republic of)\",\"Viet Nam\",\"Zimbabwe\",\"Africa\",\"Americas\",\"Asia\",\"Europe\",\"Oceania\",\"Total transactions\"],\"marker\":{\"colors\":[\"gold\",\"gold\",\"gold\",\"darkblue\",\"gold\",\"gold\",\"gold\",\"gold\",\"gold\",\"gold\",\"turquoise\",\"turquoise\",\"turquoise\",\"darkblue\",\"turquoise\",\"turquoise\",\"gold\",\"gold\",\"gold\",\"darkblue\",\"gold\",\"darkblue\",\"darkblue\",\"gold\",\"gold\",\"pruple\",\"gold\",\"darkblue\",\"gold\",\"gold\",\"gold\",\"pruple\",\"turquoise\",\"turquoise\",\"gold\",\"darkblue\",\"turquoise\",\"turquoise\",\"turquoise\",\"turquoise\",\"turquoise\",\"turquoise\",\"gold\",\"darkblue\",\"turquoise\",\"turquoise\",\"gold\",\"turquoise\",\"pruple\",\"gold\",\"darkblue\",\"gold\",\"gold\",\"gold\",\"gold\",\"turquoise\",\"gold\",\"darkblue\",\"gold\",\"turquoise\",\"gold\",\"gold\",\"pruple\",\"gold\",\"pruple\",\"gold\",\"gold\",\"darkblue\",\"turquoise\",\"darkblue\",\"turquoise\",\"turquoise\",\"gold\",\"gold\",\"turquoise\",\"darkblue\",\"darkblue\",\"gold\",\"darkblue\",\"gold\",\"darkblue\",\"turquoise\",\"gold\",\"gold\",\"turquoise\",\"gold\",\"turquoise\",\"darkblue\",\"gold\",\"turquoise\",\"pruple\",\"gold\",\"turquoise\",\"gold\",\"turquoise\",\"gold\",\"gold\",\"gold\",\"pruple\",\"darkblue\",\"gold\",\"gold\",\"gold\",\"pruple\",\"gold\",\"gold\",\"darkblue\",\"gold\",\"turquoise\",\"gold\",\"darkblue\",\"gold\",\"darkblue\",\"pruple\",\"gold\",\"darkblue\",\"gold\",\"gold\",\"darkblue\",\"turquoise\",\"gold\",\"gold\",\"darkblue\",\"turquoise\",\"turquoise\",\"turquoise\",\"turquoise\",\"gold\",\"gold\",\"gold\",\"gold\",\"gold\",\"turquoise\",\"darkblue\",\"gold\",\"pruple\",\"gold\",\"turquoise\",\"turquoise\",\"pruple\",\"gold\",\"gold\",\"gold\",\"darkblue\",\"gold\",\"turquoise\",\"turquoise\",\"turquoise\",\"turquoise\",\"turquoise\",\"turquoise\",\"turquoise\",\"darkblue\",\"darkblue\",\"gold\",\"gold\",\"pruple\",\"turquoise\",\"#FF6692\",\"gold\",\"gold\",\"gold\",\"turquoise\",\"turquoise\",\"turquoise\",\"gold\",\"turquoise\",\"gold\",\"darkblue\",\"darkblue\",\"gold\",\"darkblue\",\"gold\",\"gold\",\"gold\",\"gold\",\"darkblue\",\"gold\",\"darkblue\",\"darkblue\",\"gold\",\"#FF6692\",\"gold\",\"gold\",\"turquoise\",\"gold\",\"darkblue\",\"gold\",\"darkblue\",\"darkblue\",\"gold\",\"darkblue\",\"gold\",\"darkblue\",\"darkblue\",\"gold\",\"gold\",\"turquoise\",\"gold\",\"darkblue\",\"pruple\",\"pruple\",\"darkblue\",\"gold\",\"gold\",\"gold\",\"gold\",\"darkblue\",\"turquoise\",\"darkblue\",\"turquoise\",\"turquoise\",\"darkblue\",\"pruple\",\"darkblue\",\"gold\",\"gold\",\"pruple\",\"darkblue\",\"gold\",\"gold\",\"darkblue\",\"pruple\",\"gold\",\"darkblue\",\"gold\",\"gold\",\"gold\",\"turquoise\",\"turquoise\",\"turquoise\",\"turquoise\",\"gold\",\"gold\",\"pruple\",\"#FF6692\",\"darkblue\",\"gold\",\"turquoise\",\"gold\",\"gold\",\"darkblue\",\"darkblue\",\"gold\",\"turquoise\",\"turquoise\",\"turquoise\",\"turquoise\",\"gold\",\"turquoise\",\"darkblue\",\"turquoise\",\"darkblue\",\"gold\",\"gold\",\"darkblue\",\"gold\",\"darkblue\",\"gold\",\"gold\",\"darkblue\",\"turquoise\",\"gold\",\"#FF6692\",\"gold\",\"gold\",\"pruple\",\"darkblue\",\"gold\",\"gold\",\"turquoise\",\"gold\",\"gold\",\"darkblue\",\"darkblue\",\"gold\",\"gold\",\"gold\",\"gold\",\"turquoise\",\"gold\",\"darkblue\",\"turquoise\",\"gold\",\"gold\",\"gold\",\"turquoise\",\"gold\",\"darkblue\",\"gold\",\"darkblue\",\"darkblue\",\"darkblue\",\"turquoise\",\"turquoise\",\"darkblue\",\"turquoise\",\"darkblue\",\"pruple\",\"darkblue\",\"turquoise\",\"pruple\",\"gold\",\"gold\",\"gold\",\"darkblue\",\"gold\",\"turquoise\",\"gold\",\"turquoise\",\"turquoise\",\"turquoise\",\"darkblue\",\"pruple\",\"darkblue\",\"pruple\",\"darkblue\",\"darkblue\",\"darkblue\",\"darkblue\",\"darkblue\",\"gold\",\"gold\",\"pruple\",\"turquoise\",\"turquoise\",\"gold\",\"darkblue\",\"gold\",\"gold\",\"gold\",\"darkblue\",\"turquoise\",\"turquoise\",\"darkblue\",\"turquoise\",\"gold\",\"turquoise\",\"pruple\",\"turquoise\",\"pruple\",\"darkblue\",\"#FF6692\",\"gold\",\"gold\",\"gold\",\"darkblue\",\"gold\",\"gold\",\"darkblue\",\"gold\",\"darkblue\",\"gold\",\"gold\",\"pruple\",\"turquoise\",\"darkblue\",\"gold\",\"gold\",\"turquoise\",\"#FF6692\",\"turquoise\",\"darkblue\",\"darkblue\",\"turquoise\",\"#FF6692\",\"gold\",\"turquoise\",\"gold\",\"darkblue\",\"turquoise\",\"turquoise\",\"turquoise\",\"pruple\",\"darkblue\",\"gold\",\"turquoise\",\"gold\",\"#FF6692\",\"gold\",\"darkblue\",\"gold\",\"turquoise\",\"turquoise\",\"gold\",\"gold\",\"turquoise\",\"turquoise\",\"turquoise\",\"turquoise\",\"turquoise\",\"gold\",\"turquoise\",\"turquoise\",\"turquoise\",\"turquoise\",\"darkblue\",\"turquoise\",\"turquoise\",\"gold\",\"turquoise\",\"gold\",\"gold\",\"turquoise\",\"gold\",\"darkblue\",\"darkblue\",\"gold\",\"gold\",\"gold\",\"pruple\",\"gold\",\"pruple\",\"darkblue\",\"turquoise\",\"gold\",\"darkblue\",\"gold\",\"darkblue\",\"gold\",\"turquoise\",\"gold\",\"turquoise\",\"gold\",\"gold\",\"gold\",\"gold\",\"gold\",\"gold\",\"darkblue\",\"gold\",\"gold\",\"turquoise\",\"turquoise\",\"gold\",\"turquoise\",\"darkblue\",\"gold\",\"darkblue\",\"turquoise\",\"gold\",\"darkblue\",\"gold\",\"darkblue\",\"turquoise\",\"#FF6692\",\"gold\",\"gold\",\"gold\",\"darkblue\",\"darkblue\",\"darkblue\",\"gold\",\"gold\",\"pruple\",\"darkblue\",\"gold\",\"turquoise\",\"gold\",\"darkblue\",\"turquoise\",\"darkblue\",\"gold\",\"turquoise\",\"turquoise\",\"gold\",\"gold\",\"pruple\",\"gold\",\"turquoise\",\"darkblue\",\"darkblue\",\"gold\",\"#FF6692\",\"turquoise\",\"turquoise\",\"gold\",\"pruple\",\"turquoise\",\"gold\",\"gold\",\"gold\",\"turquoise\",\"darkblue\",\"pruple\",\"turquoise\",\"gold\",\"gold\",\"gold\",\"turquoise\",\"turquoise\",\"turquoise\",\"gold\",\"turquoise\",\"turquoise\",\"gold\",\"turquoise\",\"gold\",\"gold\",\"gold\",\"gold\",\"gold\",\"turquoise\",\"darkblue\",\"darkblue\",\"darkblue\",\"darkblue\",\"darkblue\",\"turquoise\",\"gold\",\"darkblue\",\"gold\",\"darkblue\",\"darkblue\",\"darkblue\",\"gold\",\"gold\",\"#FF6692\",\"turquoise\",\"darkblue\",\"turquoise\",\"gold\",\"pruple\",\"gold\",\"darkblue\",\"turquoise\",\"turquoise\",\"turquoise\",\"darkblue\",\"turquoise\",\"darkblue\",\"pruple\",\"gold\",\"turquoise\",\"turquoise\",\"turquoise\",\"darkblue\",\"darkblue\",\"turquoise\",\"darkblue\",\"gold\",\"turquoise\",\"#FF6692\",\"gold\",\"gold\",\"turquoise\",\"turquoise\",\"darkblue\",\"turquoise\",\"darkblue\",\"gold\",\"turquoise\",\"turquoise\",\"gold\",\"darkblue\",\"darkblue\",\"turquoise\",\"gold\",\"pruple\",\"turquoise\",\"gold\",\"gold\",\"darkblue\",\"pruple\",\"gold\",\"gold\",\"darkblue\",\"gold\",\"gold\",\"turquoise\",\"gold\",\"gold\",\"darkblue\",\"gold\",\"darkblue\",\"darkblue\",\"darkblue\",\"darkblue\",\"darkblue\",\"#FF6692\",\"turquoise\",\"turquoise\",\"turquoise\",\"gold\",\"darkblue\",\"gold\",\"gold\",\"darkblue\",\"darkblue\",\"gold\",\"darkblue\",\"darkblue\",\"darkblue\",\"darkblue\",\"darkblue\",\"pruple\",\"gold\",\"gold\",\"turquoise\",\"gold\",\"gold\",\"gold\",\"gold\",\"gold\",\"darkblue\",\"darkblue\",\"darkblue\",\"pruple\",\"darkblue\",\"turquoise\",\"darkblue\",\"gold\",\"turquoise\",\"darkblue\",\"darkblue\",\"darkblue\",\"gold\",\"pruple\",\"gold\",\"pruple\",\"turquoise\",\"darkblue\",\"#FF6692\",\"gold\",\"darkblue\",\"darkblue\",\"gold\",\"gold\",\"turquoise\",\"turquoise\",\"gold\",\"pruple\",\"turquoise\",\"gold\",\"turquoise\",\"turquoise\",\"turquoise\",\"darkblue\",\"turquoise\",\"turquoise\",\"gold\",\"turquoise\",\"darkblue\",\"gold\",\"pruple\",\"gold\",\"turquoise\",\"turquoise\",\"pruple\",\"turquoise\",\"gold\",\"gold\",\"gold\",\"darkblue\",\"gold\",\"turquoise\",\"turquoise\",\"darkblue\",\"gold\",\"gold\",\"darkblue\",\"darkblue\",\"darkblue\",\"gold\",\"darkblue\",\"gold\",\"turquoise\",\"darkblue\",\"darkblue\",\"darkblue\",\"pruple\",\"darkblue\",\"darkblue\",\"gold\",\"darkblue\",\"gold\",\"gold\",\"pruple\",\"darkblue\",\"gold\",\"turquoise\",\"gold\",\"darkblue\",\"pruple\",\"pruple\",\"gold\",\"#FF6692\",\"turquoise\",\"pruple\",\"gold\",\"gold\",\"darkblue\",\"darkblue\",\"turquoise\",\"turquoise\",\"turquoise\",\"darkblue\",\"gold\",\"gold\",\"turquoise\",\"darkblue\",\"gold\",\"gold\",\"#FF6692\",\"darkblue\",\"pruple\",\"darkblue\",\"gold\",\"gold\",\"pruple\",\"darkblue\",\"gold\",\"gold\",\"darkblue\",\"darkblue\",\"turquoise\",\"darkblue\",\"pruple\",\"gold\",\"darkblue\",\"gold\",\"turquoise\",\"turquoise\",\"darkblue\",\"turquoise\",\"darkblue\",\"pruple\",\"pruple\",\"turquoise\",\"darkblue\",\"gold\",\"#FF6692\",\"lightgrey\"]},\"name\":\"\",\"parents\":[\"Total transactions/Europe/Andorra\",\"Total transactions/Europe/Russian Federation\",\"Total transactions/Europe/Poland\",\"Total transactions/Asia/Philippines\",\"Total transactions/Europe/Austria\",\"Total transactions/Europe/Portugal\",\"Total transactions/Europe/Poland\",\"Total transactions/Europe/Slovenia\",\"Total transactions/Europe/Austria\",\"Total transactions/Europe/Andorra\",\"Total transactions/Americas/Venezuela (Bolivarian Republic of)\",\"Total transactions/Americas/Uruguay\",\"Total transactions/Americas/United States of America\",\"Total transactions/Asia/Uzbekistan\",\"Total transactions/Americas/Uruguay\",\"Total transactions/Americas/Argentina\",\"Total transactions/Europe/Sweden\",\"Total transactions/Europe/Ukraine\",\"Total transactions/Europe/Denmark\",\"Total transactions/Asia/Indonesia\",\"Total transactions/Europe/United Kingdom \",\"Total transactions/Asia/United Arab Emirates\",\"Total transactions/Asia/Turkey\",\"Total transactions/Europe/Switzerland\",\"Total transactions/Europe/Sweden\",\"Total transactions/Africa/South Africa\",\"Total transactions/Europe/Slovenia\",\"Total transactions/Asia/Saudi Arabia\",\"Total transactions/Europe/Russian Federation\",\"Total transactions/Europe/France\",\"Total transactions/Europe/Finland\",\"Total transactions/Africa/Egypt\",\"Total transactions/Americas/Ecuador\",\"Total transactions/Americas/Dominican Republic\",\"Total transactions/Europe/Belgium\",\"Total transactions/Asia/Bahrain\",\"Total transactions/Americas/United States of America\",\"Total transactions/Americas/Colombia\",\"Total transactions/Americas/Costa Rica\",\"Total transactions/Americas/Argentina\",\"Total transactions/Americas/Paraguay\",\"Total transactions/Americas/Guatemala\",\"Total transactions/Europe/Italy\",\"Total transactions/Asia/Korea, Republic of\",\"Total transactions/Americas/Mexico\",\"Total transactions/Americas/Peru\",\"Total transactions/Europe/Portugal\",\"Total transactions/Americas/Puerto Rico\",\"Total transactions/Africa/South Africa\",\"Total transactions/Europe/Switzerland\",\"Total transactions/Asia/United Arab Emirates\",\"Total transactions/Europe/United Kingdom \",\"Total transactions/Europe/Estonia\",\"Total transactions/Europe/Finland\",\"Total transactions/Europe/France\",\"Total transactions/Americas/Mexico\",\"Total transactions/Europe/Ireland\",\"Total transactions/Asia/Indonesia\",\"Total transactions/Europe/France\",\"Total transactions/Americas/El Salvador\",\"Total transactions/Europe/Denmark\",\"Total transactions/Europe/Czechia\",\"Total transactions/Africa/Morocco\",\"Total transactions/Europe/Netherlands\",\"Total transactions/Africa/Nigeria\",\"Total transactions/Europe/North Macedonia\",\"Total transactions/Europe/Norway\",\"Total transactions/Asia/Oman\",\"Total transactions/Americas/Panama\",\"Total transactions/Asia/Turkey\",\"Total transactions/Americas/Brazil\",\"Total transactions/Americas/Peru\",\"Total transactions/Europe/Poland\",\"Total transactions/Europe/Portugal\",\"Total transactions/Americas/Puerto Rico\",\"Total transactions/Asia/Qatar\",\"Total transactions/Asia/Singapore\",\"Total transactions/Europe/Slovakia\",\"Total transactions/Asia/Hong Kong\",\"Total transactions/Europe/Croatia\",\"Total transactions/Asia/Philippines\",\"Total transactions/Americas/Canada\",\"Total transactions/Europe/Lithuania\",\"Total transactions/Europe/Moldova, Republic of\",\"Total transactions/Americas/Guatemala\",\"Total transactions/Europe/Greece\",\"Total transactions/Americas/United States of America\",\"Total transactions/Asia/Cyprus\",\"Total transactions/Europe/Denmark\",\"Total transactions/Americas/Costa Rica\",\"Total transactions/Africa/Egypt\",\"Total transactions/Europe/Finland\",\"Total transactions/Americas/Honduras\",\"Total transactions/Europe/France\",\"Total transactions/Americas/Mexico\",\"Total transactions/Europe/Netherlands\",\"Total transactions/Europe/Portugal\",\"Total transactions/Europe/Russian Federation\",\"Total transactions/Africa/South Africa\",\"Total transactions/Asia/Sri Lanka\",\"Total transactions/Europe/Sweden\",\"Total transactions/Europe/Switzerland\",\"Total transactions/Europe/Italy\",\"Total transactions/Africa/Mozambique\",\"Total transactions/Europe/Netherlands\",\"Total transactions/Europe/Norway\",\"Total transactions/Asia/Japan\",\"Total transactions/Europe/Italy\",\"Total transactions/Americas/Guatemala\",\"Total transactions/Europe/Ireland\",\"Total transactions/Asia/Israel\",\"Total transactions/Europe/Italy\",\"Total transactions/Asia/Japan\",\"Total transactions/Africa/South Africa\",\"Total transactions/Europe/Slovenia\",\"Total transactions/Asia/Singapore\",\"Total transactions/Europe/Russian Federation\",\"Total transactions/Europe/Romania\",\"Total transactions/Asia/Qatar\",\"Total transactions/Americas/Puerto Rico\",\"Total transactions/Europe/Portugal\",\"Total transactions/Europe/Poland\",\"Total transactions/Asia/Philippines\",\"Total transactions/Americas/Peru\",\"Total transactions/Americas/Panama\",\"Total transactions/Americas/Cayman Islands\",\"Total transactions/Americas/Mexico\",\"Total transactions/Europe/United Kingdom \",\"Total transactions/Europe/France\",\"Total transactions/Europe/Malta\",\"Total transactions/Europe/Denmark\",\"Total transactions/Europe/Finland\",\"Total transactions/Americas/Curacao\",\"Total transactions/Asia/Cyprus\",\"Total transactions/Europe/Czechia\",\"Total transactions/Africa/C\\u00f4te d'Ivoire\",\"Total transactions/Europe/Denmark\",\"Total transactions/Americas/Dominican Republic\",\"Total transactions/Americas/Ecuador\",\"Total transactions/Africa/Egypt\",\"Total transactions/Europe/Estonia\",\"Total transactions/Europe/Finland\",\"Total transactions/Europe/France\",\"Total transactions/Asia/Georgia\",\"Total transactions/Europe/Czechia\",\"Total transactions/Americas/Guatemala\",\"Total transactions/Americas/Cayman Islands\",\"Total transactions/Americas/Brazil\",\"Total transactions/Americas/Canada\",\"Total transactions/Americas/Canada\",\"Total transactions/Americas/Venezuela (Bolivarian Republic of)\",\"Total transactions/Americas/Chile\",\"Total transactions/Asia/China\",\"Total transactions/Asia/India\",\"Total transactions/Europe/United Kingdom \",\"Total transactions/Europe/Andorra\",\"Total transactions/Africa/Angola\",\"Total transactions/Americas/Argentina\",\"Total transactions/Oceania/Australia\",\"Total transactions/Europe/Austria\",\"Total transactions/Europe/Belarus\",\"Total transactions/Europe/Belgium\",\"Total transactions/Americas/Bolivia (Plurinational State of)\",\"Total transactions/Americas/Canada\",\"Total transactions/Americas/Honduras\",\"Total transactions/Europe/France\",\"Total transactions/Americas/Guatemala\",\"Total transactions/Europe/Romania\",\"Total transactions/Asia/India\",\"Total transactions/Asia/Indonesia\",\"Total transactions/Europe/Ireland\",\"Total transactions/Asia/Israel\",\"Total transactions/Europe/Italy\",\"Total transactions/Europe/Russian Federation\",\"Total transactions/Europe/Sweden\",\"Total transactions/Europe/Switzerland\",\"Total transactions/Asia/India\",\"Total transactions/Europe/Iceland\",\"Total transactions/Asia/Taiwan, Province of China\",\"Total transactions/Asia/Thailand\",\"Total transactions/Europe/Belgium\",\"Total transactions/Oceania/Australia\",\"Total transactions/Europe/Poland\",\"Total transactions/Europe/Italy\",\"Total transactions/Americas/Panama\",\"Total transactions/Europe/Hungary\",\"Total transactions/Asia/India\",\"Total transactions/Europe/Ireland\",\"Total transactions/Asia/Israel\",\"Total transactions/Asia/Hong Kong\",\"Total transactions/Europe/Italy\",\"Total transactions/Asia/Japan\",\"Total transactions/Europe/Iceland\",\"Total transactions/Asia/Jordan\",\"Total transactions/Asia/Lebanon\",\"Total transactions/Europe/Luxembourg\",\"Total transactions/Europe/Latvia\",\"Total transactions/Americas/Nicaragua\",\"Total transactions/Europe/Norway\",\"Total transactions/Asia/Korea, Republic of\",\"Total transactions/Africa/Mozambique\",\"Total transactions/Africa/Morocco\",\"Total transactions/Asia/Mongolia\",\"Total transactions/Europe/Russian Federation\",\"Total transactions/Europe/Norway\",\"Total transactions/Europe/Norway\",\"Total transactions/Europe/Romania\",\"Total transactions/Asia/Qatar\",\"Total transactions/Americas/Puerto Rico\",\"Total transactions/Asia/Philippines\",\"Total transactions/Americas/Peru\",\"Total transactions/Americas/Paraguay\",\"Total transactions/Asia/Saudi Arabia\",\"Total transactions/Africa/Senegal\",\"Total transactions/Asia/Singapore\",\"Total transactions/Europe/Slovakia\",\"Total transactions/Europe/Slovenia\",\"Total transactions/Africa/South Africa\",\"Total transactions/Asia/Sri Lanka\",\"Total transactions/Europe/Switzerland\",\"Total transactions/Europe/Netherlands\",\"Total transactions/Asia/Taiwan, Province of China\",\"Total transactions/Africa/Uganda\",\"Total transactions/Europe/Ukraine\",\"Total transactions/Asia/United Arab Emirates\",\"Total transactions/Europe/United Kingdom \",\"Total transactions/Europe/Belarus\",\"Total transactions/Europe/Belgium\",\"Total transactions/Americas/Bolivia (Plurinational State of)\",\"Total transactions/Americas/Brazil\",\"Total transactions/Americas/Canada\",\"Total transactions/Americas/Panama\",\"Total transactions/Europe/United Kingdom \",\"Total transactions/Europe/North Macedonia\",\"Total transactions/Africa/Nigeria\",\"Total transactions/Oceania/New Zealand\",\"Total transactions/Asia/Turkey\",\"Total transactions/Europe/Sweden\",\"Total transactions/Americas/Colombia\",\"Total transactions/Europe/Lithuania\",\"Total transactions/Europe/Switzerland\",\"Total transactions/Asia/Taiwan, Province of China\",\"Total transactions/Asia/Turkey\",\"Total transactions/Europe/United Kingdom \",\"Total transactions/Americas/United States of America\",\"Total transactions/Americas/Venezuela (Bolivarian Republic of)\",\"Total transactions/Americas/Argentina\",\"Total transactions/Americas/Brazil\",\"Total transactions/Europe/Bulgaria\",\"Total transactions/Americas/Chile\",\"Total transactions/Asia/China\",\"Total transactions/Americas/Colombia\",\"Total transactions/Asia/Cyprus\",\"Total transactions/Europe/Finland\",\"Total transactions/Europe/France\",\"Total transactions/Asia/India\",\"Total transactions/Europe/Norway\",\"Total transactions/Asia/Oman\",\"Total transactions/Europe/Portugal\",\"Total transactions/Europe/Russian Federation\",\"Total transactions/Asia/Saudi Arabia\",\"Total transactions/Americas/Mexico\",\"Total transactions/Europe/Netherlands\",\"Total transactions/Oceania/New Zealand\",\"Total transactions/Europe/Ukraine\",\"Total transactions/Europe/Sweden\",\"Total transactions/Africa/South Africa\",\"Total transactions/Asia/Singapore\",\"Total transactions/Europe/Andorra\",\"Total transactions/Europe/Luxembourg\",\"Total transactions/Americas/Mexico\",\"Total transactions/Europe/Sweden\",\"Total transactions/Europe/Switzerland\",\"Total transactions/Asia/Taiwan, Province of China\",\"Total transactions/Asia/Turkey\",\"Total transactions/Europe/Ukraine\",\"Total transactions/Europe/United Kingdom \",\"Total transactions/Europe/Netherlands\",\"Total transactions/Europe/Norway\",\"Total transactions/Americas/Peru\",\"Total transactions/Europe/Poland\",\"Total transactions/Asia/Lebanon\",\"Total transactions/Americas/Chile\",\"Total transactions/Europe/Moldova, Republic of\",\"Total transactions/Europe/Czechia\",\"Total transactions/Europe/Denmark\",\"Total transactions/Americas/Dominican Republic\",\"Total transactions/Europe/Ireland\",\"Total transactions/Asia/Israel\",\"Total transactions/Europe/Italy\",\"Total transactions/Asia/Japan\",\"Total transactions/Asia/Korea, Republic of\",\"Total transactions/Asia/Malaysia\",\"Total transactions/Americas/United States of America\",\"Total transactions/Americas/Venezuela (Bolivarian Republic of)\",\"Total transactions/Asia/China\",\"Total transactions/Americas/Mexico\",\"Total transactions/Asia/Pakistan\",\"Total transactions/Africa/Malawi\",\"Total transactions/Asia/Japan\",\"Total transactions/Americas/Venezuela (Bolivarian Republic of)\",\"Total transactions/Africa/Algeria\",\"Total transactions/Europe/Andorra\",\"Total transactions/Europe/Belarus\",\"Total transactions/Europe/Belgium\",\"Total transactions/Asia/Jordan\",\"Total transactions/Europe/Bosnia and Herzegovina\",\"Total transactions/Americas/Brazil\",\"Total transactions/Europe/Bulgaria\",\"Total transactions/Americas/Canada\",\"Total transactions/Americas/Cayman Islands\",\"Total transactions/Americas/Chile\",\"Total transactions/Asia/China\",\"Total transactions/Africa/Botswana\",\"Total transactions/Asia/Kazakhstan\",\"Total transactions/Africa/Kenya\",\"Total transactions/Asia/Korea, Republic of\",\"Total transactions/Asia/Malaysia\",\"Total transactions/Asia/Israel\",\"Total transactions/Asia/Thailand\",\"Total transactions/Asia/Taiwan, Province of China\",\"Total transactions/Europe/Switzerland\",\"Total transactions/Europe/Sweden\",\"Total transactions/Africa/South Africa\",\"Total transactions/Americas/Brazil\",\"Total transactions/Americas/Colombia\",\"Total transactions/Europe/Denmark\",\"Total transactions/Asia/Malaysia\",\"Total transactions/Europe/Luxembourg\",\"Total transactions/Europe/Lithuania\",\"Total transactions/Europe/Latvia\",\"Total transactions/Asia/Kuwait\",\"Total transactions/Americas/Colombia\",\"Total transactions/Americas/Costa Rica\",\"Total transactions/Asia/Lebanon\",\"Total transactions/Americas/Guatemala\",\"Total transactions/Europe/Estonia\",\"Total transactions/Americas/El Salvador\",\"Total transactions/Africa/Egypt\",\"Total transactions/Americas/Honduras\",\"Total transactions/Africa/Senegal\",\"Total transactions/Asia/Saudi Arabia\",\"Total transactions/Oceania/Samoa\",\"Total transactions/Europe/Russian Federation\",\"Total transactions/Europe/Romania\",\"Total transactions/Europe/Finland\",\"Total transactions/Asia/Lebanon\",\"Total transactions/Europe/Luxembourg\",\"Total transactions/Europe/France\",\"Total transactions/Asia/Georgia\",\"Total transactions/Europe/Greece\",\"Total transactions/Asia/Hong Kong\",\"Total transactions/Europe/Lithuania\",\"Total transactions/Europe/Belgium\",\"Total transactions/Africa/Botswana\",\"Total transactions/Americas/Brazil\",\"Total transactions/Asia/Bahrain\",\"Total transactions/Europe/Austria\",\"Total transactions/Europe/Bulgaria\",\"Total transactions/Americas/Canada\",\"Total transactions/Oceania/Australia\",\"Total transactions/Americas/Argentina\",\"Total transactions/Asia/United Arab Emirates\",\"Total transactions/Asia/Turkey\",\"Total transactions/Americas/Argentina\",\"Total transactions/Oceania/Australia\",\"Total transactions/Europe/Austria\",\"Total transactions/Americas/Brazil\",\"Total transactions/Europe/Bulgaria\",\"Total transactions/Asia/China\",\"Total transactions/Americas/Colombia\",\"Total transactions/Americas/Costa Rica\",\"Total transactions/Americas/Ecuador\",\"Total transactions/Africa/Egypt\",\"Total transactions/Asia/Armenia\",\"Total transactions/Europe/Ukraine\",\"Total transactions/Americas/Peru\",\"Total transactions/Europe/Poland\",\"Total transactions/Oceania/Australia\",\"Total transactions/Europe/Austria\",\"Total transactions/Asia/Bahrain\",\"Total transactions/Europe/Belgium\",\"Total transactions/Americas/Belize\",\"Total transactions/Americas/Brazil\",\"Total transactions/Europe/Bulgaria\",\"Total transactions/Europe/Norway\",\"Total transactions/Americas/Dominican Republic\",\"Total transactions/Americas/Costa Rica\",\"Total transactions/Americas/Colombia\",\"Total transactions/Americas/Chile\",\"Total transactions/Americas/Canada\",\"Total transactions/Europe/Portugal\",\"Total transactions/Americas/Brazil\",\"Total transactions/Americas/Chile\",\"Total transactions/Americas/Argentina\",\"Total transactions/Americas/Venezuela (Bolivarian Republic of)\",\"Total transactions/Asia/Pakistan\",\"Total transactions/Americas/Panama\",\"Total transactions/Americas/United States of America\",\"Total transactions/Europe/United Kingdom \",\"Total transactions/Americas/Mexico\",\"Total transactions/Europe/Netherlands\",\"Total transactions/Europe/Norway\",\"Total transactions/Americas/Panama\",\"Total transactions/Europe/Finland\",\"Total transactions/Asia/Philippines\",\"Total transactions/Asia/China\",\"Total transactions/Europe/France\",\"Total transactions/Europe/Netherlands\",\"Total transactions/Europe/Greece\",\"Total transactions/Africa/Mozambique\",\"Total transactions/Europe/Netherlands\",\"Total transactions/Africa/Nigeria\",\"Total transactions/Asia/China\",\"Total transactions/Americas/Chile\",\"Total transactions/Europe/Ukraine\",\"Total transactions/Asia/United Arab Emirates\",\"Total transactions/Europe/United Kingdom \",\"Total transactions/Asia/Philippines\",\"Total transactions/Europe/Poland\",\"Total transactions/Americas/United States of America\",\"Total transactions/Europe/Norway\",\"Total transactions/Americas/Brazil\",\"Total transactions/Europe/Belgium\",\"Total transactions/Europe/Austria\",\"Total transactions/Europe/Andorra\",\"Total transactions/Europe/Slovakia\",\"Total transactions/Europe/Sweden\",\"Total transactions/Europe/Switzerland\",\"Total transactions/Asia/Turkey\",\"Total transactions/Europe/Ukraine\",\"Total transactions/Europe/United Kingdom \",\"Total transactions/Americas/United States of America\",\"Total transactions/Americas/Venezuela (Bolivarian Republic of)\",\"Total transactions/Europe/Andorra\",\"Total transactions/Americas/Mexico\",\"Total transactions/Asia/Korea, Republic of\",\"Total transactions/Europe/Italy\",\"Total transactions/Asia/Israel\",\"Total transactions/Americas/Guatemala\",\"Total transactions/Europe/Ireland\",\"Total transactions/Asia/Israel\",\"Total transactions/Europe/Italy\",\"Total transactions/Asia/Japan\",\"Total transactions/Americas/Mexico\",\"Total transactions/Oceania/Australia\",\"Total transactions/Europe/Norway\",\"Total transactions/Europe/Portugal\",\"Total transactions/Europe/Russian Federation\",\"Total transactions/Asia/Saudi Arabia\",\"Total transactions/Asia/Singapore\",\"Total transactions/Asia/Georgia\",\"Total transactions/Europe/Slovenia\",\"Total transactions/Europe/Romania\",\"Total transactions/Africa/South Africa\",\"Total transactions/Asia/Sri Lanka\",\"Total transactions/Europe/Sweden\",\"Total transactions/Americas/Argentina\",\"Total transactions/Europe/Switzerland\",\"Total transactions/Asia/Taiwan, Province of China\",\"Total transactions/Americas/Trinidad and Tobago\",\"Total transactions/Asia/Turkey\",\"Total transactions/Europe/Croatia\",\"Total transactions/Americas/Costa Rica\",\"Total transactions/Americas/Colombia\",\"Total transactions/Europe/Russian Federation\",\"Total transactions/Europe/Andorra\",\"Total transactions/Africa/Egypt\",\"Total transactions/Europe/United Kingdom \",\"Total transactions/Americas/Colombia\",\"Total transactions/Asia/Bahrain\",\"Total transactions/Asia/Azerbaijan\",\"Total transactions/Europe/Austria\",\"Total transactions/Oceania/Australia\",\"Total transactions/Americas/Argentina\",\"Total transactions/Americas/Mexico\",\"Total transactions/Europe/Netherlands\",\"Total transactions/Africa/Angola\",\"Total transactions/Americas/Honduras\",\"Total transactions/Europe/France\",\"Total transactions/Europe/Finland\",\"Total transactions/Europe/United Kingdom \",\"Total transactions/Americas/United States of America\",\"Total transactions/Asia/China\",\"Total transactions/Africa/Algeria\",\"Total transactions/Americas/Argentina\",\"Total transactions/Europe/Austria\",\"Total transactions/Europe/Belgium\",\"Total transactions/Europe/Bosnia and Herzegovina\",\"Total transactions/Americas/Brazil\",\"Total transactions/Americas/Canada\",\"Total transactions/Americas/Chile\",\"Total transactions/Europe/Malta\",\"Total transactions/Americas/Mexico\",\"Total transactions/Americas/Dominican Republic\",\"Total transactions/Europe/Austria\",\"Total transactions/Americas/El Salvador\",\"Total transactions/Europe/Finland\",\"Total transactions/Europe/France\",\"Total transactions/Europe/Andorra\",\"Total transactions/Europe/Greece\",\"Total transactions/Europe/Croatia\",\"Total transactions/Americas/Argentina\",\"Total transactions/Asia/Kuwait\",\"Total transactions/Asia/Korea, Republic of\",\"Total transactions/Asia/Kazakhstan\",\"Total transactions/Asia/Jordan\",\"Total transactions/Asia/Japan\",\"Total transactions/Americas/Jamaica\",\"Total transactions/Europe/Italy\",\"Total transactions/Asia/Israel\",\"Total transactions/Europe/Ireland\",\"Total transactions/Asia/Iraq\",\"Total transactions/Asia/Indonesia\",\"Total transactions/Asia/India\",\"Total transactions/Europe/Iceland\",\"Total transactions/Europe/Hungary\",\"Total transactions/Oceania/Australia\",\"Total transactions/Americas/Ecuador\",\"Total transactions/Asia/Thailand\",\"Total transactions/Americas/Trinidad and Tobago\",\"Total transactions/Europe/Denmark\",\"Total transactions/Africa/C\\u00f4te d'Ivoire\",\"Total transactions/Europe/Czechia\",\"Total transactions/Asia/Cyprus\",\"Total transactions/Americas/Curacao\",\"Total transactions/Americas/United States of America\",\"Total transactions/Americas/Uruguay\",\"Total transactions/Asia/Uzbekistan\",\"Total transactions/Americas/Venezuela (Bolivarian Republic of)\",\"Total transactions/Asia/Viet Nam\",\"Total transactions/Africa/Zimbabwe\",\"Total transactions/Europe/Andorra\",\"Total transactions/Americas/Dominican Republic\",\"Total transactions/Americas/United States of America\",\"Total transactions/Americas/Guatemala\",\"Total transactions/Asia/India\",\"Total transactions/Asia/Uzbekistan\",\"Total transactions/Americas/Venezuela (Bolivarian Republic of)\",\"Total transactions/Asia/Viet Nam\",\"Total transactions/Europe/Andorra\",\"Total transactions/Americas/Argentina\",\"Total transactions/Oceania/Australia\",\"Total transactions/Europe/Austria\",\"Total transactions/Europe/Belgium\",\"Total transactions/Americas/Belize\",\"Total transactions/Americas/Brazil\",\"Total transactions/Asia/China\",\"Total transactions/Americas/Colombia\",\"Total transactions/Asia/Cyprus\",\"Total transactions/Europe/Denmark\",\"Total transactions/Americas/Uruguay\",\"Total transactions/Americas/Dominican Republic\",\"Total transactions/Europe/France\",\"Total transactions/Asia/Qatar\",\"Total transactions/Asia/China\",\"Total transactions/Americas/Chile\",\"Total transactions/Europe/Netherlands\",\"Total transactions/Africa/Nigeria\",\"Total transactions/Americas/Ecuador\",\"Total transactions/Europe/Portugal\",\"Total transactions/Europe/Russian Federation\",\"Total transactions/Asia/Singapore\",\"Total transactions/Africa/South Africa\",\"Total transactions/Europe/Sweden\",\"Total transactions/Europe/Switzerland\",\"Total transactions/Asia/Turkey\",\"Total transactions/Europe/Finland\",\"Total transactions/Europe/Iceland\",\"Total transactions/Americas/United States of America\",\"Total transactions/Europe/France\",\"Total transactions/Europe/Ireland\",\"Total transactions/Asia/Israel\",\"Total transactions/Europe/Italy\",\"Total transactions/Asia/Japan\",\"Total transactions/Asia/Jordan\",\"Total transactions/Asia/Kazakhstan\",\"Total transactions/Asia/Korea, Republic of\",\"Total transactions/Asia/Kuwait\",\"Total transactions/Oceania/Australia\",\"Total transactions/Americas/Argentina\",\"Total transactions/Americas/Venezuela (Bolivarian Republic of)\",\"Total transactions/Americas/United States of America\",\"Total transactions/Europe/United Kingdom \",\"Total transactions/Asia/Taiwan, Province of China\",\"Total transactions/Europe/Finland\",\"Total transactions/Europe/Switzerland\",\"Total transactions/Asia/Saudi Arabia\",\"Total transactions/Asia/Israel\",\"Total transactions/Europe/Italy\",\"Total transactions/Asia/Japan\",\"Total transactions/Asia/Kazakhstan\",\"Total transactions/Asia/Korea, Republic of\",\"Total transactions/Asia/Kuwait\",\"Total transactions/Asia/Malaysia\",\"Total transactions/Africa/Morocco\",\"Total transactions/Europe/North Macedonia\",\"Total transactions/Europe/Norway\",\"Total transactions/Americas/Paraguay\",\"Total transactions/Europe/Portugal\",\"Total transactions/Europe/Romania\",\"Total transactions/Europe/Russian Federation\",\"Total transactions/Europe/Sweden\",\"Total transactions/Europe/Portugal\",\"Total transactions/Asia/Malaysia\",\"Total transactions/Asia/Jordan\",\"Total transactions/Asia/Korea, Republic of\",\"Total transactions/Africa/Kenya\",\"Total transactions/Asia/Kazakhstan\",\"Total transactions/Americas/Canada\",\"Total transactions/Asia/Japan\",\"Total transactions/Europe/Italy\",\"Total transactions/Americas/Colombia\",\"Total transactions/Asia/China\",\"Total transactions/Asia/Lebanon\",\"Total transactions/Asia/Kuwait\",\"Total transactions/Europe/Lithuania\",\"Total transactions/Africa\",\"Total transactions/Europe\",\"Total transactions/Africa\",\"Total transactions/Americas\",\"Total transactions/Asia\",\"Total transactions/Oceania\",\"Total transactions/Europe\",\"Total transactions/Asia\",\"Total transactions/Asia\",\"Total transactions/Europe\",\"Total transactions/Europe\",\"Total transactions/Americas\",\"Total transactions/Americas\",\"Total transactions/Europe\",\"Total transactions/Africa\",\"Total transactions/Americas\",\"Total transactions/Europe\",\"Total transactions/Americas\",\"Total transactions/Americas\",\"Total transactions/Americas\",\"Total transactions/Asia\",\"Total transactions/Americas\",\"Total transactions/Americas\",\"Total transactions/Europe\",\"Total transactions/Americas\",\"Total transactions/Asia\",\"Total transactions/Europe\",\"Total transactions/Africa\",\"Total transactions/Europe\",\"Total transactions/Americas\",\"Total transactions/Americas\",\"Total transactions/Africa\",\"Total transactions/Americas\",\"Total transactions/Europe\",\"Total transactions/Europe\",\"Total transactions/Europe\",\"Total transactions/Asia\",\"Total transactions/Europe\",\"Total transactions/Americas\",\"Total transactions/Americas\",\"Total transactions/Asia\",\"Total transactions/Europe\",\"Total transactions/Europe\",\"Total transactions/Asia\",\"Total transactions/Asia\",\"Total transactions/Asia\",\"Total transactions/Europe\",\"Total transactions/Asia\",\"Total transactions/Europe\",\"Total transactions/Americas\",\"Total transactions/Asia\",\"Total transactions/Asia\",\"Total transactions/Asia\",\"Total transactions/Africa\",\"Total transactions/Asia\",\"Total transactions/Asia\",\"Total transactions/Europe\",\"Total transactions/Asia\",\"Total transactions/Europe\",\"Total transactions/Europe\",\"Total transactions/Africa\",\"Total transactions/Asia\",\"Total transactions/Europe\",\"Total transactions/Americas\",\"Total transactions/Europe\",\"Total transactions/Asia\",\"Total transactions/Africa\",\"Total transactions/Africa\",\"Total transactions/Europe\",\"Total transactions/Oceania\",\"Total transactions/Americas\",\"Total transactions/Africa\",\"Total transactions/Europe\",\"Total transactions/Europe\",\"Total transactions/Asia\",\"Total transactions/Asia\",\"Total transactions/Americas\",\"Total transactions/Americas\",\"Total transactions/Americas\",\"Total transactions/Asia\",\"Total transactions/Europe\",\"Total transactions/Europe\",\"Total transactions/Americas\",\"Total transactions/Asia\",\"Total transactions/Europe\",\"Total transactions/Europe\",\"Total transactions/Oceania\",\"Total transactions/Asia\",\"Total transactions/Africa\",\"Total transactions/Asia\",\"Total transactions/Europe\",\"Total transactions/Europe\",\"Total transactions/Africa\",\"Total transactions/Asia\",\"Total transactions/Europe\",\"Total transactions/Europe\",\"Total transactions/Asia\",\"Total transactions/Asia\",\"Total transactions/Americas\",\"Total transactions/Asia\",\"Total transactions/Africa\",\"Total transactions/Europe\",\"Total transactions/Asia\",\"Total transactions/Europe\",\"Total transactions/Americas\",\"Total transactions/Americas\",\"Total transactions/Asia\",\"Total transactions/Americas\",\"Total transactions/Asia\",\"Total transactions/Africa\",\"Total transactions\",\"Total transactions\",\"Total transactions\",\"Total transactions\",\"Total transactions\",\"\"],\"values\":[4,6,2,1,2,58,47,2,1,1,1,1,12,2,3,2,8,1,6,1,25,3,2,2,6,1,1,1,5,44,2,4,2,5,1,1,56,4,1,14,1,1,1,1,7,1,1,4,1,2,1,1,1,3,16,1,5,3,6,1,7,1,2,70,2,3,36,1,10,1,11,7,20,30,4,1,7,2,5,1,4,5,1,1,2,10,10,2,20,2,2,48,1,88,4,2,1,1,2,1,1,1,1,1,16,11,9,4,1,1,3,4,6,1,1,1,28,2,1,2,11,7,3,2,3,1,27,4,24,1,1,5,2,4,2,1,43,3,4,9,6,41,304,5,2,3,3,77,3,1,2,3,8,1,2,38,2,35,7,13,1,29,1,89,1,2,1,1,26,3,17,52,95,9,6,3,8,1,1,1,1,2,2,1,1,1,6,1,3,17,10,7,1,1,1,1,11,1,2,2,6,1,4,153,150,2,41,9,2,23,11,3,2,2,55,4,3,56,3,131,184,36,2,24,23,284,1,1,1,5,4,9,19,4,3,2,43,196,2,2,6,1,2,6,20,2,2,1,1,1,1,3,1,1,4,1,3,1,3,4,2,3,3,2,2,5,2,1,9,4,18,20,15,1,3,4,38,2,3,1,2,1,1,2,1,3,1,1,2,10,3,3,2,21,3,4,100,9,1,67,2,6,60,7,30,3,6,262,12,93,1,104,242,4,5,3,79,17,26,4,12,38,83,9,2,1,1,3,4,4,8,2,34,10,7,11,14,5,55,1,1,4,1,32,3,107,10,5,640,21,7,13,12,13,1,11,1,9,1,28,10,11,7,27,1,1,1,6,1,7,4,1,1,2,1,8,1,2,2,1,1,7,1,8,1,10,1,3,13,6,4,7,8,5,9,17,1,1,616,266,5,7,4,1,1,1,31,20,2,1,1,10,1,61,6,2,17,180,1,4,242,1,7,2,1,1,1,4,3,1,1,7,12,1,3,3,3,2,3,2,1,2,9,6,4,1,4,3,2,7,5,1,1,11,10,4,52,7,23,4,3,2,4,7,12,89,13,1,3,1,5,3,46,37,194,3,6,5,1,5,1,11,35,3,1,17,6,5,1,28,12,8,4,4,1,2,1,6,60,19,2,2,1,9,158,29,2,131,2,216,155,25,1,32,26,10,6,2,24,20,2,64,2,13,35,1,551,12,9,46,2,1,2,10,12,1,1,2,12,1,3,1,1,1,1,1,2,1,1,1,1,1,1,14,4,1,2,12,2,8,1,2,1,1,1,4,1,2,1,87,12,8,4,22,5,2,1,6,1,3,3,1,12,2,1,1,3,5,2,1,4,1,2,1,1,1,1,3,1,1,4,4,3,7,2,3,13,2,4,3,21,58,3,10,2,1,3,7,153,7,297,1,66,83,3,8,9,90,2,2,7,5,428,16,242,5,136,369,78,24,7,3,43,19,3,146,22,39,73,7,21,218,1239,27,20,22,4,35,7,13,69,39,1,59,252,434,2,259,11,40,5,267,14,19,21,22,14,1,25,5,179,3,4,4,8,314,4,1,8,8,229,2,10,25,5,23,33,86,123,12,15,62,335,1,21,3,70,7,8,83,8,385,231,56,25,5,82,2,42,51,848,1686,17,13,87,3,1,210,3353,1877,5282,71,10793],\"type\":\"icicle\",\"root\":{\"color\":\"lightgrey\"}}],                        {\"template\":{\"data\":{\"bar\":[{\"error_x\":{\"color\":\"#2a3f5f\"},\"error_y\":{\"color\":\"#2a3f5f\"},\"marker\":{\"line\":{\"color\":\"#E5ECF6\",\"width\":0.5},\"pattern\":{\"fillmode\":\"overlay\",\"size\":10,\"solidity\":0.2}},\"type\":\"bar\"}],\"barpolar\":[{\"marker\":{\"line\":{\"color\":\"#E5ECF6\",\"width\":0.5},\"pattern\":{\"fillmode\":\"overlay\",\"size\":10,\"solidity\":0.2}},\"type\":\"barpolar\"}],\"carpet\":[{\"aaxis\":{\"endlinecolor\":\"#2a3f5f\",\"gridcolor\":\"white\",\"linecolor\":\"white\",\"minorgridcolor\":\"white\",\"startlinecolor\":\"#2a3f5f\"},\"baxis\":{\"endlinecolor\":\"#2a3f5f\",\"gridcolor\":\"white\",\"linecolor\":\"white\",\"minorgridcolor\":\"white\",\"startlinecolor\":\"#2a3f5f\"},\"type\":\"carpet\"}],\"choropleth\":[{\"colorbar\":{\"outlinewidth\":0,\"ticks\":\"\"},\"type\":\"choropleth\"}],\"contour\":[{\"colorbar\":{\"outlinewidth\":0,\"ticks\":\"\"},\"colorscale\":[[0.0,\"#0d0887\"],[0.1111111111111111,\"#46039f\"],[0.2222222222222222,\"#7201a8\"],[0.3333333333333333,\"#9c179e\"],[0.4444444444444444,\"#bd3786\"],[0.5555555555555556,\"#d8576b\"],[0.6666666666666666,\"#ed7953\"],[0.7777777777777778,\"#fb9f3a\"],[0.8888888888888888,\"#fdca26\"],[1.0,\"#f0f921\"]],\"type\":\"contour\"}],\"contourcarpet\":[{\"colorbar\":{\"outlinewidth\":0,\"ticks\":\"\"},\"type\":\"contourcarpet\"}],\"heatmap\":[{\"colorbar\":{\"outlinewidth\":0,\"ticks\":\"\"},\"colorscale\":[[0.0,\"#0d0887\"],[0.1111111111111111,\"#46039f\"],[0.2222222222222222,\"#7201a8\"],[0.3333333333333333,\"#9c179e\"],[0.4444444444444444,\"#bd3786\"],[0.5555555555555556,\"#d8576b\"],[0.6666666666666666,\"#ed7953\"],[0.7777777777777778,\"#fb9f3a\"],[0.8888888888888888,\"#fdca26\"],[1.0,\"#f0f921\"]],\"type\":\"heatmap\"}],\"heatmapgl\":[{\"colorbar\":{\"outlinewidth\":0,\"ticks\":\"\"},\"colorscale\":[[0.0,\"#0d0887\"],[0.1111111111111111,\"#46039f\"],[0.2222222222222222,\"#7201a8\"],[0.3333333333333333,\"#9c179e\"],[0.4444444444444444,\"#bd3786\"],[0.5555555555555556,\"#d8576b\"],[0.6666666666666666,\"#ed7953\"],[0.7777777777777778,\"#fb9f3a\"],[0.8888888888888888,\"#fdca26\"],[1.0,\"#f0f921\"]],\"type\":\"heatmapgl\"}],\"histogram\":[{\"marker\":{\"pattern\":{\"fillmode\":\"overlay\",\"size\":10,\"solidity\":0.2}},\"type\":\"histogram\"}],\"histogram2d\":[{\"colorbar\":{\"outlinewidth\":0,\"ticks\":\"\"},\"colorscale\":[[0.0,\"#0d0887\"],[0.1111111111111111,\"#46039f\"],[0.2222222222222222,\"#7201a8\"],[0.3333333333333333,\"#9c179e\"],[0.4444444444444444,\"#bd3786\"],[0.5555555555555556,\"#d8576b\"],[0.6666666666666666,\"#ed7953\"],[0.7777777777777778,\"#fb9f3a\"],[0.8888888888888888,\"#fdca26\"],[1.0,\"#f0f921\"]],\"type\":\"histogram2d\"}],\"histogram2dcontour\":[{\"colorbar\":{\"outlinewidth\":0,\"ticks\":\"\"},\"colorscale\":[[0.0,\"#0d0887\"],[0.1111111111111111,\"#46039f\"],[0.2222222222222222,\"#7201a8\"],[0.3333333333333333,\"#9c179e\"],[0.4444444444444444,\"#bd3786\"],[0.5555555555555556,\"#d8576b\"],[0.6666666666666666,\"#ed7953\"],[0.7777777777777778,\"#fb9f3a\"],[0.8888888888888888,\"#fdca26\"],[1.0,\"#f0f921\"]],\"type\":\"histogram2dcontour\"}],\"mesh3d\":[{\"colorbar\":{\"outlinewidth\":0,\"ticks\":\"\"},\"type\":\"mesh3d\"}],\"parcoords\":[{\"line\":{\"colorbar\":{\"outlinewidth\":0,\"ticks\":\"\"}},\"type\":\"parcoords\"}],\"pie\":[{\"automargin\":true,\"type\":\"pie\"}],\"scatter\":[{\"marker\":{\"colorbar\":{\"outlinewidth\":0,\"ticks\":\"\"}},\"type\":\"scatter\"}],\"scatter3d\":[{\"line\":{\"colorbar\":{\"outlinewidth\":0,\"ticks\":\"\"}},\"marker\":{\"colorbar\":{\"outlinewidth\":0,\"ticks\":\"\"}},\"type\":\"scatter3d\"}],\"scattercarpet\":[{\"marker\":{\"colorbar\":{\"outlinewidth\":0,\"ticks\":\"\"}},\"type\":\"scattercarpet\"}],\"scattergeo\":[{\"marker\":{\"colorbar\":{\"outlinewidth\":0,\"ticks\":\"\"}},\"type\":\"scattergeo\"}],\"scattergl\":[{\"marker\":{\"colorbar\":{\"outlinewidth\":0,\"ticks\":\"\"}},\"type\":\"scattergl\"}],\"scattermapbox\":[{\"marker\":{\"colorbar\":{\"outlinewidth\":0,\"ticks\":\"\"}},\"type\":\"scattermapbox\"}],\"scatterpolar\":[{\"marker\":{\"colorbar\":{\"outlinewidth\":0,\"ticks\":\"\"}},\"type\":\"scatterpolar\"}],\"scatterpolargl\":[{\"marker\":{\"colorbar\":{\"outlinewidth\":0,\"ticks\":\"\"}},\"type\":\"scatterpolargl\"}],\"scatterternary\":[{\"marker\":{\"colorbar\":{\"outlinewidth\":0,\"ticks\":\"\"}},\"type\":\"scatterternary\"}],\"surface\":[{\"colorbar\":{\"outlinewidth\":0,\"ticks\":\"\"},\"colorscale\":[[0.0,\"#0d0887\"],[0.1111111111111111,\"#46039f\"],[0.2222222222222222,\"#7201a8\"],[0.3333333333333333,\"#9c179e\"],[0.4444444444444444,\"#bd3786\"],[0.5555555555555556,\"#d8576b\"],[0.6666666666666666,\"#ed7953\"],[0.7777777777777778,\"#fb9f3a\"],[0.8888888888888888,\"#fdca26\"],[1.0,\"#f0f921\"]],\"type\":\"surface\"}],\"table\":[{\"cells\":{\"fill\":{\"color\":\"#EBF0F8\"},\"line\":{\"color\":\"white\"}},\"header\":{\"fill\":{\"color\":\"#C8D4E3\"},\"line\":{\"color\":\"white\"}},\"type\":\"table\"}]},\"layout\":{\"annotationdefaults\":{\"arrowcolor\":\"#2a3f5f\",\"arrowhead\":0,\"arrowwidth\":1},\"autotypenumbers\":\"strict\",\"coloraxis\":{\"colorbar\":{\"outlinewidth\":0,\"ticks\":\"\"}},\"colorscale\":{\"diverging\":[[0,\"#8e0152\"],[0.1,\"#c51b7d\"],[0.2,\"#de77ae\"],[0.3,\"#f1b6da\"],[0.4,\"#fde0ef\"],[0.5,\"#f7f7f7\"],[0.6,\"#e6f5d0\"],[0.7,\"#b8e186\"],[0.8,\"#7fbc41\"],[0.9,\"#4d9221\"],[1,\"#276419\"]],\"sequential\":[[0.0,\"#0d0887\"],[0.1111111111111111,\"#46039f\"],[0.2222222222222222,\"#7201a8\"],[0.3333333333333333,\"#9c179e\"],[0.4444444444444444,\"#bd3786\"],[0.5555555555555556,\"#d8576b\"],[0.6666666666666666,\"#ed7953\"],[0.7777777777777778,\"#fb9f3a\"],[0.8888888888888888,\"#fdca26\"],[1.0,\"#f0f921\"]],\"sequentialminus\":[[0.0,\"#0d0887\"],[0.1111111111111111,\"#46039f\"],[0.2222222222222222,\"#7201a8\"],[0.3333333333333333,\"#9c179e\"],[0.4444444444444444,\"#bd3786\"],[0.5555555555555556,\"#d8576b\"],[0.6666666666666666,\"#ed7953\"],[0.7777777777777778,\"#fb9f3a\"],[0.8888888888888888,\"#fdca26\"],[1.0,\"#f0f921\"]]},\"colorway\":[\"#636efa\",\"#EF553B\",\"#00cc96\",\"#ab63fa\",\"#FFA15A\",\"#19d3f3\",\"#FF6692\",\"#B6E880\",\"#FF97FF\",\"#FECB52\"],\"font\":{\"color\":\"#2a3f5f\"},\"geo\":{\"bgcolor\":\"white\",\"lakecolor\":\"white\",\"landcolor\":\"#E5ECF6\",\"showlakes\":true,\"showland\":true,\"subunitcolor\":\"white\"},\"hoverlabel\":{\"align\":\"left\"},\"hovermode\":\"closest\",\"mapbox\":{\"style\":\"light\"},\"paper_bgcolor\":\"white\",\"plot_bgcolor\":\"#E5ECF6\",\"polar\":{\"angularaxis\":{\"gridcolor\":\"white\",\"linecolor\":\"white\",\"ticks\":\"\"},\"bgcolor\":\"#E5ECF6\",\"radialaxis\":{\"gridcolor\":\"white\",\"linecolor\":\"white\",\"ticks\":\"\"}},\"scene\":{\"xaxis\":{\"backgroundcolor\":\"#E5ECF6\",\"gridcolor\":\"white\",\"gridwidth\":2,\"linecolor\":\"white\",\"showbackground\":true,\"ticks\":\"\",\"zerolinecolor\":\"white\"},\"yaxis\":{\"backgroundcolor\":\"#E5ECF6\",\"gridcolor\":\"white\",\"gridwidth\":2,\"linecolor\":\"white\",\"showbackground\":true,\"ticks\":\"\",\"zerolinecolor\":\"white\"},\"zaxis\":{\"backgroundcolor\":\"#E5ECF6\",\"gridcolor\":\"white\",\"gridwidth\":2,\"linecolor\":\"white\",\"showbackground\":true,\"ticks\":\"\",\"zerolinecolor\":\"white\"}},\"shapedefaults\":{\"line\":{\"color\":\"#2a3f5f\"}},\"ternary\":{\"aaxis\":{\"gridcolor\":\"white\",\"linecolor\":\"white\",\"ticks\":\"\"},\"baxis\":{\"gridcolor\":\"white\",\"linecolor\":\"white\",\"ticks\":\"\"},\"bgcolor\":\"#E5ECF6\",\"caxis\":{\"gridcolor\":\"white\",\"linecolor\":\"white\",\"ticks\":\"\"}},\"title\":{\"x\":0.05},\"xaxis\":{\"automargin\":true,\"gridcolor\":\"white\",\"linecolor\":\"white\",\"ticks\":\"\",\"title\":{\"standoff\":15},\"zerolinecolor\":\"white\",\"zerolinewidth\":2},\"yaxis\":{\"automargin\":true,\"gridcolor\":\"white\",\"linecolor\":\"white\",\"ticks\":\"\",\"title\":{\"standoff\":15},\"zerolinecolor\":\"white\",\"zerolinewidth\":2}}},\"legend\":{\"tracegroupgap\":0},\"margin\":{\"t\":50,\"l\":25,\"r\":25,\"b\":25}},                        {\"responsive\": true}                    ).then(function(){\n",
       "                            \n",
       "var gd = document.getElementById('8ed74fc6-a401-471e-9e28-661a1f7b6b24');\n",
       "var x = new MutationObserver(function (mutations, observer) {{\n",
       "        var display = window.getComputedStyle(gd).display;\n",
       "        if (!display || display === 'none') {{\n",
       "            console.log([gd, 'removed!']);\n",
       "            Plotly.purge(gd);\n",
       "            observer.disconnect();\n",
       "        }}\n",
       "}});\n",
       "\n",
       "// Listen for the removal of the full notebook cells\n",
       "var notebookContainer = gd.closest('#notebook-container');\n",
       "if (notebookContainer) {{\n",
       "    x.observe(notebookContainer, {childList: true});\n",
       "}}\n",
       "\n",
       "// Listen for the clearing of the current output cell\n",
       "var outputEl = gd.closest('.output');\n",
       "if (outputEl) {{\n",
       "    x.observe(outputEl, {childList: true});\n",
       "}}\n",
       "\n",
       "                        })                };                });            </script>        </div>"
      ]
     },
     "metadata": {},
     "output_type": "display_data"
    }
   ],
   "source": [
    "import plotly.express as px\n",
    "\n",
    "fig = px.icicle(df1, path=[px.Constant(\"Total transactions\"), 'region', 'country_name','category'], values='count_amount',color='region',\n",
    "                  color_continuous_midpoint=np.average(df1['count_amount'], weights=df1['count_amount']),  \n",
    "               color_discrete_map={'(?)':'lightgrey', 'Europe':'gold', 'Americas':'turquoise', 'Asia':\"darkblue\", 'Africa':\"pruple\", \"Oceana\":\"pink\"})\n",
    "\n",
    "#[px.Constant(\"world\")\n",
    "fig.update_layout(margin = dict(t=50, l=25, r=25, b=25))\n",
    "fig.update_traces(root_color=\"lightgrey\")\n",
    "fig.show()"
   ]
  },
  {
   "cell_type": "code",
   "execution_count": 40,
   "id": "4d8acb15",
   "metadata": {},
   "outputs": [],
   "source": [
    "# Boxplot here "
   ]
  },
  {
   "cell_type": "markdown",
   "id": "7974f75d",
   "metadata": {},
   "source": [
    "<a id='4'></a>\n",
    "# <font color=purple> 4. Time </font>"
   ]
  },
  {
   "cell_type": "code",
   "execution_count": 41,
   "id": "2cd5ac86",
   "metadata": {},
   "outputs": [],
   "source": [
    "df3 =df.groupby(['category', 'hour'],as_index=False).agg(\n",
    "    # Get max of the duration column for each group\n",
    "    mean_amount=('amount', 'mean'),\n",
    "    # Get min of the duration column for each group\n",
    "    sum_amount=('amount', sum),\n",
    "    # Get sum of the duration column for each group\n",
    "    count_amount=('amount', 'count'),\n",
    ")"
   ]
  },
  {
   "cell_type": "code",
   "execution_count": 42,
   "id": "57e2b3f1",
   "metadata": {},
   "outputs": [
    {
     "data": {
      "image/png": "[encoded data removed]",
      "text/plain": [
       "<Figure size 640x480 with 1 Axes>"
      ]
     },
     "metadata": {},
     "output_type": "display_data"
    },
    {
     "data": {
      "text/plain": [
       "<ggplot: (8779517560552)>"
      ]
     },
     "execution_count": 42,
     "metadata": {},
     "output_type": "execute_result"
    }
   ],
   "source": [
    "ggplot(df3,aes(x=\"hour\",y=\"sum_amount\",color=\"category\"))+geom_line()+ \\\n",
    "theme_classic()+ \\\n",
    "labs(y='Total amount Spend', x='Time by hour of two days') +\\\n",
    "theme(text=element_text(size=10))+\\\n",
    "ggtitle('Category spending by hour')\n",
    "#scale_colour_brewer(type=\"qual\", palette=\"Set3\")\n"
   ]
  },
  {
   "cell_type": "raw",
   "id": "745427e8",
   "metadata": {},
   "source": [
    "Transaction_value"
   ]
  },
  {
   "cell_type": "raw",
   "id": "a38fafad",
   "metadata": {},
   "source": [
    "label_df=Transaction_value[['customer_country','Median Category-Country']]\n",
    "label_df['Median Category-Country']=label_df['Median Category-Country']\n",
    "label_df['label']='n='+label_df['Median Category-Country'].astype('str')\n",
    "label_df"
   ]
  },
  {
   "cell_type": "raw",
   "id": "948b2d28",
   "metadata": {},
   "source": [
    "label_df=Transaction_value[['customer_country','Median Category-Country']].groupby(['customer_country']).count().reset_index()\n",
    "label_df['label']='n='+label_df['Median Category-Country'].astype('str')\n",
    "label_df\n",
    "\n"
   ]
  },
  {
   "cell_type": "markdown",
   "id": "53a7dced",
   "metadata": {},
   "source": [
    "### Animations: Bar Races"
   ]
  },
  {
   "cell_type": "markdown",
   "id": "781e4bd6",
   "metadata": {},
   "source": [
    "### Top Country Spenders by the hour"
   ]
  },
  {
   "cell_type": "raw",
   "id": "8643fe3d",
   "metadata": {},
   "source": [
    "transaction_per_hour=madrid_transactions.groupby (['hour','customer_country','country_name','region'])['amount'].sum()\n",
    "transaction_per_hour=transaction_per_hour.reset_index()\n",
    "\n",
    "barchartrace_data  =transaction_per_hour.copy()\n",
    "n_observations = 5\n",
    "n_frames_between_states = 30\n",
    "\n",
    "barchartrace_data= barchartrace_data.pivot('hour', ['customer_country','country_name'], 'amount')\n",
    "barchartrace_data['hour'] = barchartrace_data.index\n",
    "\n",
    "barchartrace_data.reset_index(drop = True, inplace = True)\n",
    "barchartrace_data.index = barchartrace_data.index * n_frames_between_states\n",
    "barchartrace_data =  barchartrace_data.reindex(range(barchartrace_data.index.max()+1))\n",
    "\n",
    "barchartrace_data = barchartrace_data.interpolate()\n",
    "barchartrace_data = barchartrace_data.melt(id_vars='hour', var_name =['customer_country','country_name'], value_name  = 'amount')\n",
    "\n",
    "\n",
    "\n",
    "import math\n",
    "\n",
    "n_observations = 5\n",
    "fig, ax = plt.subplots(figsize=(25, 10))\n",
    "\n",
    "font = {\n",
    "    'weight': 'normal',\n",
    "    'size'  :  40,\n",
    "    'color': 'lightgray'\n",
    "}\n",
    "\n",
    "hours = barchartrace_data['hour'].unique()\n",
    "\n",
    "label = ax.text(0.95, 0.20, hours[0],\n",
    "                horizontalalignment='right',\n",
    "                verticalalignment='top',\n",
    "                transform=ax.transAxes,\n",
    "                fontdict=font)\n",
    "continent = transaction_per_hour[['customer_country','region']].drop_duplicates().reset_index(drop = True)\n",
    "\n",
    "# # 2. Add continent info\n",
    "barchartrace_data = barchartrace_data.merge(continent,left_on = 'customer_country', right_on = 'customer_country')\n",
    "conditions = [\n",
    "          barchartrace_data['region'] == 'Europe',\n",
    "          barchartrace_data['region'] == 'Asia',\n",
    "          barchartrace_data['region'] == 'Americas',\n",
    "          barchartrace_data['region'] == 'Oceania',\n",
    "          barchartrace_data['region'] == 'Africa',\n",
    " ]\n",
    "\n",
    "values = ['#0275d8', '#5cb85c', '#5bc0de', '#f0ad4e', '#d9534f']\n",
    "\n",
    "barchartrace_data['color'] = np.select(conditions, values)\n",
    "\n",
    "df_daytime = madrid_transactions[['hour','daytime']].drop_duplicates().reset_index(drop = True).sort_values(by='hour')\n",
    "\n",
    "barchartrace_data = barchartrace_data.merge(df_daytime,left_on = 'hour', right_on = 'hour',how='left')\n",
    "\n",
    "def update_barchart_race(i):\n",
    "\n",
    "    hour = hours[i]\n",
    "\n",
    "    data_temp = barchartrace_data.loc[barchartrace_data['hour'] == hour, :]\n",
    "\n",
    "    v_datetime =  barchartrace_data.loc[barchartrace_data['hour'] == math.floor(hour), :]['daytime'].unique().item()\n",
    "\n",
    "    # Create rank and get first 10 countries\n",
    "    data_temp['ranking'] = data_temp['amount'].rank(method = 'first',ascending = False)\n",
    "    data_temp = data_temp.loc[data_temp['ranking'] <= n_observations]\n",
    "\n",
    "    ax.clear()\n",
    "    ax.barh(y = data_temp['ranking'] ,\n",
    "            width = data_temp.amount, \n",
    "            tick_label=data_temp['country_name'],\n",
    "#            ,color=colors)\n",
    "            color=data_temp['color'])\n",
    "\n",
    "    label = ax.text(0.95, 0.20, str(v_datetime)+':'+str(math.floor(hour))+'h',\n",
    "                horizontalalignment='right',\n",
    "                verticalalignment='top',\n",
    "                transform=ax.transAxes,\n",
    "                fontdict=font)\n",
    "    plt.ylabel(\"Top Spenders by Country of Origin\")\n",
    "    plt.xlabel(\"Total Amount Spend\")\n",
    "    plt.title(\"Top Country Spenders by the hour\")\n",
    "\n",
    "    ax.set_ylim(ax.get_ylim()[::-1]) # Revert axis\n",
    "\n",
    "\n",
    "\n",
    "anim = animation.FuncAnimation(fig, update_barchart_race, frames = len(hours), )\n",
    "anim.save('barchart_race_Countries_notransition.gif', fps=10)  "
   ]
  },
  {
   "cell_type": "code",
   "execution_count": null,
   "id": "47ad4a20",
   "metadata": {},
   "outputs": [],
   "source": [
    "### Top Category-Country Spenders by the hour"
   ]
  },
  {
   "cell_type": "raw",
   "id": "1be9d150",
   "metadata": {},
   "source": [
    "import textwrap\n",
    "\n",
    "    \n",
    "transaction_per_hour=madrid_transactions.groupby (['hour','customer_country','country-category','region'])['amount'].sum()\n",
    "transaction_per_hour=transaction_per_hour.reset_index()\n",
    "barchartrace_data  =transaction_per_hour.copy()\n",
    "n_observations = 5\n",
    "n_frames_between_states = 30\n",
    "\n",
    "barchartrace_data= barchartrace_data.pivot('hour', ['customer_country','country-category'], 'amount')\n",
    "barchartrace_data['hour'] = barchartrace_data.index\n",
    "barchartrace_data.reset_index(drop = True, inplace = True)\n",
    "barchartrace_data.index = barchartrace_data.index * n_frames_between_states\n",
    "barchartrace_data =  barchartrace_data.reindex(range(barchartrace_data.index.max()+1))\n",
    "barchartrace_data = barchartrace_data.interpolate()\n",
    "barchartrace_data = barchartrace_data.melt(id_vars='hour', var_name =['customer_country','country-category'], value_name  = 'amount')\n",
    "\n",
    "\n",
    "\n",
    "import math\n",
    "\n",
    "n_observations = 5\n",
    "fig, ax = plt.subplots(figsize=(25, 10))\n",
    "\n",
    "font = {\n",
    "    'weight': 'normal',\n",
    "    'size'  :  40,\n",
    "    'color': 'lightgray'\n",
    "}\n",
    "\n",
    "hours = barchartrace_data['hour'].unique()\n",
    "\n",
    "label = ax.text(0.95, 0.20, hours[0],\n",
    "                horizontalalignment='right',\n",
    "                verticalalignment='top',\n",
    "                transform=ax.transAxes,\n",
    "                fontdict=font)\n",
    "continent = transaction_per_hour[['customer_country','region']].drop_duplicates().reset_index(drop = True)\n",
    "\n",
    "# # 2. Add continent info\n",
    "barchartrace_data = barchartrace_data.merge(continent,left_on = 'customer_country', right_on = 'customer_country')\n",
    "conditions = [\n",
    "          barchartrace_data['region'] == 'Europe',\n",
    "          barchartrace_data['region'] == 'Asia',\n",
    "          barchartrace_data['region'] == 'Americas',\n",
    "          barchartrace_data['region'] == 'Oceania',\n",
    "          barchartrace_data['region'] == 'Africa',\n",
    " ]\n",
    "\n",
    "values = ['#0275d8', '#5cb85c', '#5bc0de', '#f0ad4e', '#d9534f']\n",
    "\n",
    "barchartrace_data['color'] = np.select(conditions, values)\n",
    "\n",
    "df_daytime = madrid_transactions[['hour','daytime']].drop_duplicates().reset_index(drop = True).sort_values(by='hour')\n",
    "\n",
    "barchartrace_data = barchartrace_data.merge(df_daytime,left_on = 'hour', right_on = 'hour',how='left')\n",
    "\n",
    "def update_barchart_race(i):\n",
    "\n",
    "    hour = hours[i]\n",
    "\n",
    "    data_temp = barchartrace_data.loc[barchartrace_data['hour'] == hour, :]\n",
    "\n",
    "    v_datetime =  barchartrace_data.loc[barchartrace_data['hour'] == math.floor(hour), :]['daytime'].unique().item()\n",
    "\n",
    "    # Create rank and get first 10 countries\n",
    "    data_temp['ranking'] = data_temp['amount'].rank(method = 'first',ascending = False)\n",
    "    data_temp = data_temp.loc[data_temp['ranking'] <= n_observations]\n",
    "\n",
    "    ax.clear()\n",
    "    ax.barh(y = data_temp['ranking'] ,\n",
    "            width = data_temp.amount, \n",
    "            tick_label= data_temp['country-category'] ,\n",
    "#            ,color=colors)\n",
    "            color=data_temp['color'])\n",
    "\n",
    "    label = ax.text(0.95, 0.20, str(v_datetime)+':'+str(math.floor(hour))+'h',\n",
    "                horizontalalignment='right',\n",
    "                verticalalignment='top',\n",
    "                transform=ax.transAxes,\n",
    "                fontdict=font)\n",
    "    plt.ylabel(\"Top Spenders by Country of Origin & Category \")\n",
    "    plt.xlabel(\"Total Amount Spend\")\n",
    "    plt.title(\"Top expenditures by the hour\")\n",
    "\n",
    "    ax.set_ylim(ax.get_ylim()[::-1]) # Revert axis\n",
    "\n",
    "\n",
    "\n",
    "anim = animation.FuncAnimation(fig, update_barchart_race, frames = len(hours), )\n",
    "anim.save('barchart_race_Category_Countries_notransition.gif', fps=10)  "
   ]
  },
  {
   "cell_type": "markdown",
   "id": "d5ad2f12",
   "metadata": {},
   "source": [
    "### Top Categories by the hour"
   ]
  },
  {
   "cell_type": "raw",
   "id": "9d81dc99",
   "metadata": {},
   "source": [
    "transaction_per_hour_cat=madrid_transactions.groupby (['hour','category'])['amount'].sum()\n",
    "transaction_per_hour_cat=transaction_per_hour_cat.reset_index()\n",
    "barchartrace_data  =transaction_per_hour_cat.copy()\n",
    "n_observations = 5\n",
    "n_frames_between_states = 30\n",
    "\n",
    "barchartrace_data= barchartrace_data.pivot('hour', 'category', 'amount')\n",
    "barchartrace_data['hour'] = barchartrace_data.index\n",
    "\n",
    "barchartrace_data.reset_index(drop = True, inplace = True)\n",
    "barchartrace_data.index = barchartrace_data.index * n_frames_between_states\n",
    "barchartrace_data =  barchartrace_data.reindex(range(barchartrace_data.index.max()+1))\n",
    "\n",
    "barchartrace_data = barchartrace_data.interpolate()\n",
    "barchartrace_data = barchartrace_data.melt(id_vars='hour', var_name ='category', value_name  = 'amount')\n",
    "\n",
    "import math\n",
    "\n",
    "n_observations = 5\n",
    "fig, ax = plt.subplots(figsize=(25, 10))\n",
    "\n",
    "font = {\n",
    "    'weight': 'normal',\n",
    "    'size'  :  40,\n",
    "    'color': 'lightgray'\n",
    "}\n",
    "\n",
    "hours = barchartrace_data['hour'].unique()\n",
    "\n",
    "\n",
    "df_daytime = madrid_transactions[['hour','daytime']].drop_duplicates().reset_index(drop = True).sort_values(by='hour')\n",
    "\n",
    "barchartrace_data = barchartrace_data.merge(df_daytime,left_on = 'hour', right_on = 'hour',how='left')\n",
    "\n",
    "def update_barchart_race(i):\n",
    "\n",
    "    hour = hours[i]\n",
    "\n",
    "    data_temp = barchartrace_data.loc[barchartrace_data['hour'] == hour, :]\n",
    "\n",
    "    v_datetime =  barchartrace_data.loc[barchartrace_data['hour'] == math.floor(hour), :]['daytime'].unique().item()\n",
    "\n",
    "    # Create rank and get first 10 countries\n",
    "    data_temp['ranking'] = data_temp['amount'].rank(method = 'first',ascending = False)\n",
    "    data_temp = data_temp.loc[data_temp['ranking'] <= n_observations]\n",
    "\n",
    "    ax.clear()\n",
    "    ax.barh(y = data_temp['ranking'] ,\n",
    "            width = data_temp.amount, \n",
    "            tick_label= data_temp['category'] )\n",
    "#            ,color=colors)\n",
    "#             color=data_temp['color'])\n",
    "\n",
    "    label = ax.text(0.95, 0.20, str(v_datetime)+':'+str(math.floor(hour))+'h',\n",
    "                horizontalalignment='right',\n",
    "                verticalalignment='top',\n",
    "                transform=ax.transAxes,\n",
    "                fontdict=font)\n",
    "    plt.ylabel(\"Top Spenders by Categories of Origin & Category \")\n",
    "    plt.xlabel(\"Total Amount Spend\")\n",
    "    plt.title(\"Top Categories by the hour\")\n",
    "\n",
    "    ax.set_ylim(ax.get_ylim()[::-1]) # Revert axis\n",
    "\n",
    "\n",
    "\n",
    "anim = animation.FuncAnimation(fig, update_barchart_race, frames = len(hours), )\n",
    "anim.save('barchart_race_Category_notransition.gif', fps=10)  "
   ]
  },
  {
   "cell_type": "markdown",
   "id": "f11a992d",
   "metadata": {},
   "source": [
    "<a id='5'></a>\n",
    "# <font color=purple> 5. Future outlook and Strategy </font>"
   ]
  },
  {
   "cell_type": "markdown",
   "id": "bc498aab",
   "metadata": {},
   "source": [
    "### <font color=purple> 5. Boston Consulting Matrix  <font color=li_blue> Strategic investment and deinvesture decisions </font>"
   ]
  },
  {
   "attachments": {
    "image-2.png": {
     "image/png": "[encoded data removed]"
    }
   },
   "cell_type": "markdown",
   "id": "328f1546",
   "metadata": {},
   "source": [
    "![image-2.png](attachment:image-2.png)"
   ]
  },
  {
   "cell_type": "code",
   "execution_count": 44,
   "id": "0be3e758",
   "metadata": {},
   "outputs": [
    {
     "data": {
      "application/vnd.plotly.v1+json": {
       "config": {
        "plotlyServerURL": "https://plot.ly"
       },
       "data": [
        {
         "hovertemplate": "<b>%{hovertext}</b><br><br>category=Fashion & Shoes<br>relative_MS=%{x}<br>growth_GDP=%{y}<br>sum_amount_x=%{marker.size}<extra></extra>",
         "hovertext": [
          "Algeria",
          "Andorra",
          "Angola",
          "Argentina",
          "Australia",
          "Austria",
          "Azerbaijan",
          "Bahrain",
          "Belarus",
          "Belgium",
          "Bosnia and Herzegovina",
          "Botswana",
          "Brazil",
          "Bulgaria",
          "Canada",
          "Cayman Islands",
          "Chile",
          "China",
          "Colombia",
          "Costa Rica",
          "Croatia",
          "Curacao",
          "Cyprus",
          "Czechia",
          "Côte d'Ivoire",
          "Denmark",
          "Dominican Republic",
          "Ecuador",
          "Egypt",
          "El Salvador",
          "Estonia",
          "Finland",
          "France",
          "Georgia",
          "Greece",
          "Guatemala",
          "Honduras",
          "Hong Kong",
          "Hungary",
          "Iceland",
          "India",
          "Indonesia",
          "Iraq",
          "Ireland",
          "Israel",
          "Italy",
          "Jamaica",
          "Japan",
          "Jordan",
          "Kazakhstan",
          "Korea, Republic of",
          "Kuwait",
          "Latvia",
          "Lebanon",
          "Lithuania",
          "Luxembourg",
          "Malawi",
          "Malaysia",
          "Mexico",
          "Moldova, Republic of",
          "Mongolia",
          "Morocco",
          "Mozambique",
          "Netherlands",
          "New Zealand",
          "Nigeria",
          "North Macedonia",
          "Norway",
          "Pakistan",
          "Panama",
          "Paraguay",
          "Peru",
          "Philippines",
          "Poland",
          "Portugal",
          "Puerto Rico",
          "Qatar",
          "Romania",
          "Russian Federation",
          "Saudi Arabia",
          "Senegal",
          "Singapore",
          "Slovakia",
          "Slovenia",
          "South Africa",
          "Sri Lanka",
          "Sweden",
          "Switzerland",
          "Taiwan, Province of China",
          "Thailand",
          "Trinidad and Tobago",
          "Turkey",
          "Uganda",
          "Ukraine",
          "United Arab Emirates",
          "United Kingdom ",
          "United States of America",
          "Uruguay",
          "Uzbekistan",
          "Venezuela (Bolivarian Republic of)",
          "Viet Nam",
          "Zimbabwe"
         ],
         "legendgroup": "Fashion & Shoes",
         "marker": {
          "color": "#636efa",
          "size": [
           1183,
           3864,
           2381,
           9060,
           4011,
           2784,
           147,
           503,
           508,
           1629,
           312,
           585,
           20580,
           1414,
           7170,
           250,
           10172,
           60555,
           2978,
           317,
           106,
           108,
           3553,
           907,
           242,
           4154,
           562,
           1565,
           5081,
           217,
           617,
           5707,
           32603,
           2668,
           215,
           492,
           105,
           4149,
           125,
           452,
           2656,
           13105,
           86,
           2077,
           9909,
           9600,
           238,
           27828,
           50,
           5163,
           20368,
           1202,
           3705,
           1804,
           405,
           1237,
           15,
           6499,
           5654,
           101,
           654,
           66,
           1072,
           9643,
           215,
           336,
           92,
           10575,
           875,
           520,
           254,
           429,
           1923,
           2690,
           3079,
           79,
           485,
           2453,
           18032,
           227,
           122,
           12854,
           419,
           132,
           3582,
           103,
           14508,
           13039,
           13724,
           9499,
           129,
           3050,
           325,
           1634,
           6203,
           16860,
           32881,
           1213,
           462,
           3031,
           1297,
           127
          ],
          "sizemode": "area",
          "sizeref": 156.49,
          "symbol": "circle"
         },
         "mode": "markers",
         "name": "Fashion & Shoes",
         "orientation": "v",
         "showlegend": true,
         "type": "scatter",
         "x": [
          0.019535959045495828,
          0.06380975972256626,
          0.03931962678556684,
          0.14961605152340846,
          0.06623730492940301,
          0.04597473371315333,
          0.0024275452068367597,
          0.008306498224754356,
          0.008389067789612749,
          0.026901164230864503,
          0.005152340847163735,
          0.009660639088432005,
          0.33985632895714635,
          0.023350672941953594,
          0.11840475600693584,
          0.00412847824291966,
          0.1679795227479151,
          1,
          0.04917843282965899,
          0.005234910412022128,
          0.0017504747749979355,
          0.001783502600941293,
          0.058673932788374204,
          0.014978119065312524,
          0.00399636693914623,
          0.06859879448435306,
          0.009280819090083397,
          0.02584427380067707,
          0.08390719180909917,
          0.003583519114854265,
          0.010189084303525721,
          0.09424490132937,
          0.5384031046156387,
          0.04405911980843861,
          0.003550491288910907,
          0.00812484518206589,
          0.0017339608620262571,
          0.06851622491949468,
          0.00206423912145983,
          0.0074642886631987445,
          0.04386095285277847,
          0.21641482949384855,
          0.0014201965155643628,
          0.03429939724217653,
          0.16363636363636364,
          0.15853356452811493,
          0.003930311287259516,
          0.45954917017587316,
          0.000825695648583932,
          0.08526133267277682,
          0.3363553794071505,
          0.019849723391957723,
          0.06118404756006936,
          0.029791099000908264,
          0.006688134753529849,
          0.020427710345966476,
          0.0002477086945751796,
          0.10732392040293948,
          0.09336966394187102,
          0.0016679052101395426,
          0.01080009908347783,
          0.0010899182561307902,
          0.017702914705639502,
          0.1592436627858971,
          0.003550491288910907,
          0.005548674758484023,
          0.0015192799933944348,
          0.17463462967550158,
          0.014449673850218808,
          0.008587234745272891,
          0.004194533894806374,
          0.007084468664850136,
          0.031756254644538025,
          0.04442242589381554,
          0.05084633803979853,
          0.0013045991247626124,
          0.00800924779126414,
          0.040508628519527703,
          0.2977788787053092,
          0.003748658244571051,
          0.0020146973825447938,
          0.21226983733795723,
          0.006919329535133349,
          0.0021798365122615805,
          0.05915283626455289,
          0.0017009330360828996,
          0.23958384939311367,
          0.21532491123771777,
          0.22663694162331766,
          0.15686565931797541,
          0.0021302947733465444,
          0.05036743456361985,
          0.005367021715795558,
          0.026983733795722897,
          0.10243580216332258,
          0.27842457270250187,
          0.5429939724217653,
          0.020031376434646187,
          0.007629427792915531,
          0.05005367021715796,
          0.021418545124267194,
          0.002097266947403187
         ],
         "xaxis": "x",
         "y": [
          3.4,
          -4.974443719000001,
          8.540000003,
          -1.026420454,
          3.917362463,
          0.680445577,
          2.165239475,
          3.72810843,
          1.687135536,
          0.739217283,
          -0.821836474,
          4.456144448,
          1.921175985,
          0.754930386,
          1.7622225490000003,
          1.229753683,
          6.155340019,
          7.863736449,
          3.9126357670000003,
          4.88259241,
          -2.275706646,
          -0.065889655,
          -3.446822086,
          -0.785004299,
          7.620411763,
          0.226499792,
          2.717367897,
          5.641962066999999,
          2.226199797,
          2.815501822,
          3.228200494,
          -1.397545728,
          0.313134751,
          6.369008306,
          -7.086696786,
          2.974708568,
          4.128687749,
          1.700288005,
          -1.257749507,
          1.063636607,
          5.456388753,
          6.030050653,
          13.93643017,
          -0.052354785,
          2.822996205,
          -2.980905768,
          -0.61363604,
          1.374750999,
          2.429358001,
          4.8,
          2.402530992,
          6.6258183,
          7.037317185,
          2.564791337,
          3.843864749,
          1.6499020300000002,
          1.885799508,
          5.473454193,
          3.6423226790000003,
          -0.589733963,
          12.31981985,
          3.009961262,
          7.258439253,
          -1.030353991,
          2.245302935,
          4.230061175,
          -0.456183224,
          2.703109471,
          3.50703342,
          9.778827683,
          -0.708043112,
          6.139724705999999,
          6.896951711000001,
          1.324896305,
          -4.057293608,
          0.02927511,
          4.730011832,
          2.040665131,
          4.024086157,
          5.41142278,
          4.002995551,
          4.435497594,
          1.358226806,
          -2.639438757,
          2.396232385,
          9.144572246,
          -0.588304569,
          1.217193657,
          7.863736448999999,
          7.242796201999999,
          1.342687023,
          4.788492711,
          3.837455606,
          0.152314967,
          4.483791985,
          1.469887521,
          2.280687603,
          3.538178707,
          7.102444887,
          5.625956975000001,
          5.5,
          16.66542877
         ],
         "yaxis": "y"
        },
        {
         "hovertemplate": "<b>%{hovertext}</b><br><br>category=Health<br>relative_MS=%{x}<br>growth_GDP=%{y}<br>sum_amount_x=%{marker.size}<extra></extra>",
         "hovertext": [
          "Algeria",
          "Andorra",
          "Argentina",
          "Austria",
          "Belgium",
          "Bosnia and Herzegovina",
          "Brazil",
          "Canada",
          "Chile",
          "China",
          "Colombia",
          "Costa Rica",
          "Denmark",
          "Dominican Republic",
          "Ecuador",
          "Egypt",
          "El Salvador",
          "Finland",
          "France",
          "Greece",
          "Guatemala",
          "Iceland",
          "India",
          "Ireland",
          "Israel",
          "Italy",
          "Japan",
          "Jordan",
          "Kazakhstan",
          "Korea, Republic of",
          "Kuwait",
          "Lebanon",
          "Lithuania",
          "Luxembourg",
          "Mexico",
          "Mozambique",
          "Netherlands",
          "Norway",
          "Panama",
          "Peru",
          "Philippines",
          "Poland",
          "Portugal",
          "Puerto Rico",
          "Qatar",
          "Romania",
          "Russian Federation",
          "Singapore",
          "Slovenia",
          "South Africa",
          "Sweden",
          "Switzerland",
          "Taiwan, Province of China",
          "Turkey",
          "Ukraine",
          "United Kingdom ",
          "United States of America",
          "Uruguay",
          "Uzbekistan",
          "Venezuela (Bolivarian Republic of)",
          "Viet Nam"
         ],
         "legendgroup": "Health",
         "marker": {
          "color": "#EF553B",
          "size": [
           217,
           705,
           343,
           540,
           129,
           6,
           1113,
           262,
           452,
           1010,
           374,
           24,
           168,
           149,
           12,
           380,
           11,
           150,
           3495,
           120,
           19,
           10,
           22,
           700,
           207,
           965,
           299,
           80,
           10,
           175,
           6,
           40,
           11,
           438,
           520,
           76,
           612,
           776,
           282,
           33,
           109,
           89,
           372,
           13,
           78,
           30,
           1666,
           21,
           60,
           21,
           299,
           1998,
           32,
           27,
           915,
           2515,
           2537,
           27,
           18,
           628,
           206
          ],
          "sizemode": "area",
          "sizeref": 156.49,
          "symbol": "circle"
         },
         "mode": "markers",
         "name": "Health",
         "orientation": "v",
         "showlegend": true,
         "type": "scatter",
         "x": [
          0.062088698140200294,
          0.20171673819742492,
          0.09814020028612304,
          0.15450643776824036,
          0.0369098712446352,
          0.0017167381974248928,
          0.31845493562231764,
          0.07496423462088699,
          0.12932761087267527,
          0.2889842632331903,
          0.10701001430615165,
          0.006866952789699571,
          0.048068669527897,
          0.042632331902718174,
          0.0034334763948497857,
          0.10872675250357654,
          0.0031473533619456365,
          0.042918454935622324,
          1,
          0.03433476394849786,
          0.005436337625178827,
          0.002861230329041488,
          0.006294706723891273,
          0.20028612303290416,
          0.059227467811158806,
          0.2761087267525036,
          0.08555078683834048,
          0.022889842632331903,
          0.002861230329041488,
          0.05007153075822604,
          0.0017167381974248928,
          0.011444921316165951,
          0.0031473533619456365,
          0.1253218884120172,
          0.14878397711015737,
          0.02174535050071531,
          0.17510729613733905,
          0.22203147353361946,
          0.08068669527896996,
          0.00944206008583691,
          0.03118741058655222,
          0.025464949928469243,
          0.10643776824034336,
          0.003719599427753934,
          0.022317596566523608,
          0.008583690987124465,
          0.4766809728183119,
          0.006008583690987125,
          0.01716738197424893,
          0.006008583690987125,
          0.08555078683834048,
          0.5716738197424893,
          0.009155937052932762,
          0.007725321888412018,
          0.26180257510729615,
          0.7195994277539343,
          0.7258941344778255,
          0.007725321888412018,
          0.005150214592274678,
          0.17968526466380544,
          0.058941344778254655
         ],
         "xaxis": "x",
         "y": [
          3.4,
          -4.974443719,
          -1.026420454,
          0.680445577,
          0.739217283,
          -0.821836474,
          1.921175985,
          1.7622225489999999,
          6.155340019,
          7.863736448999999,
          3.912635767,
          4.88259241,
          0.226499792,
          2.717367897,
          5.641962067,
          2.226199797,
          2.815501822,
          -1.397545728,
          0.313134751,
          -7.086696786,
          2.974708568,
          1.063636607,
          5.456388753,
          -0.052354785,
          2.822996205,
          -2.980905768,
          1.374750999,
          2.429358001,
          4.8,
          2.402530992,
          6.6258183,
          2.564791337,
          3.843864749,
          1.64990203,
          3.642322679,
          7.258439253,
          -1.030353991,
          2.703109471,
          9.778827683,
          6.139724706,
          6.896951711,
          1.324896305,
          -4.057293608,
          0.02927511,
          4.730011832,
          2.040665131,
          4.024086157,
          4.435497594,
          -2.639438757,
          2.396232385,
          -0.588304569,
          1.217193657,
          7.863736449,
          4.788492711,
          0.152314967,
          1.469887521,
          2.280687603,
          3.538178707,
          7.102444887,
          5.625956975,
          5.5
         ],
         "yaxis": "y"
        },
        {
         "hovertemplate": "<b>%{hovertext}</b><br><br>category=Accommodation<br>relative_MS=%{x}<br>growth_GDP=%{y}<br>sum_amount_x=%{marker.size}<extra></extra>",
         "hovertext": [
          "Andorra",
          "Argentina",
          "Armenia",
          "Australia",
          "Austria",
          "Bahrain",
          "Belgium",
          "Botswana",
          "Brazil",
          "Bulgaria",
          "Canada",
          "Chile",
          "China",
          "Colombia",
          "Costa Rica",
          "Cyprus",
          "Denmark",
          "Egypt",
          "Finland",
          "France",
          "Greece",
          "Guatemala",
          "Honduras",
          "Hong Kong",
          "Iceland",
          "India",
          "Indonesia",
          "Ireland",
          "Israel",
          "Italy",
          "Japan",
          "Jordan",
          "Kazakhstan",
          "Kenya",
          "Korea, Republic of",
          "Kuwait",
          "Lebanon",
          "Lithuania",
          "Malaysia",
          "Malta",
          "Mexico",
          "Netherlands",
          "Nigeria",
          "Norway",
          "Pakistan",
          "Panama",
          "Philippines",
          "Poland",
          "Portugal",
          "Qatar",
          "Romania",
          "Russian Federation",
          "Samoa",
          "Saudi Arabia",
          "Senegal",
          "Singapore",
          "Slovenia",
          "South Africa",
          "Sri Lanka",
          "Sweden",
          "Switzerland",
          "Taiwan, Province of China",
          "Trinidad and Tobago",
          "Turkey",
          "Ukraine",
          "United Arab Emirates",
          "United Kingdom ",
          "United States of America",
          "Venezuela (Bolivarian Republic of)"
         ],
         "legendgroup": "Accommodation",
         "marker": {
          "color": "#00cc96",
          "size": [
           522,
           7421,
           28,
           2110,
           2461,
           72,
           3382,
           267,
           1517,
           30,
           5975,
           892,
           13436,
           1885,
           32,
           365,
           2091,
           860,
           34563,
           18992,
           2488,
           312,
           479,
           2673,
           18,
           1657,
           8,
           1741,
           3731,
           10267,
           6068,
           1018,
           1939,
           361,
           1677,
           325,
           118,
           521,
           153,
           814,
           713,
           3916,
           817,
           1346,
           500,
           80,
           274,
           887,
           1527,
           91,
           126,
           9146,
           30,
           551,
           691,
           182,
           96,
           1333,
           549,
           14663,
           5989,
           1557,
           1462,
           752,
           185,
           4604,
           34490,
           62596,
           117
          ],
          "sizemode": "area",
          "sizeref": 156.49,
          "symbol": "circle"
         },
         "mode": "markers",
         "name": "Accommodation",
         "orientation": "v",
         "showlegend": true,
         "type": "scatter",
         "x": [
          0.008339191002619976,
          0.11855390120774491,
          0.00044731292734360024,
          0.03370822416767844,
          0.039315611221164296,
          0.0011502332417406864,
          0.05402901143843057,
          0.004265448271455045,
          0.02423477538500863,
          0.00047926385072528596,
          0.09545338360278613,
          0.014250111828231835,
          0.21464630327816475,
          0.0301137452872388,
          0.0005112147741069717,
          0.005831043517157646,
          0.03340469039555243,
          0.013738897054124862,
          0.5521598824206019,
          0.3034059684324877,
          0.039746948686817045,
          0.004984344047542975,
          0.007652246149913732,
          0.04270240909962298,
          0.0002875583104351716,
          0.02647134002172663,
          0.00012780369352674293,
          0.02781327880375743,
          0.05960444756853473,
          0.1640200651798837,
          0.09693910154003452,
          0.016263020001278036,
          0.030976420218544316,
          0.005767141670394274,
          0.026790849255543484,
          0.005192025049523931,
          0.001885104479519458,
          0.008323215540929133,
          0.0024442456386989586,
          0.013004025816346092,
          0.011390504185570962,
          0.06255990798134066,
          0.013051952201418622,
          0.021502971435874495,
          0.007987730845421433,
          0.001278036935267429,
          0.004377276503290945,
          0.01417023451977762,
          0.024394530001917054,
          0.0014537670138667009,
          0.002012908173046201,
          0.14611157262444885,
          0.00047926385072528596,
          0.00880247939165442,
          0.01103904402837242,
          0.0029075340277334018,
          0.001533644322320915,
          0.02129529043389354,
          0.008770528468272733,
          0.23424819477282893,
          0.09567704006645791,
          0.024873793852642344,
          0.02335612499201227,
          0.012013547191513834,
          0.0029554604128059297,
          0.07355102562464055,
          0.5509936737171705,
          1,
          0.0018691290178286153
         ],
         "xaxis": "x",
         "y": [
          -4.974443719,
          -1.026420454,
          7.200000001,
          3.917362463,
          0.680445577,
          3.72810843,
          0.7392172830000001,
          4.456144448,
          1.921175985,
          0.754930386,
          1.762222549,
          6.155340019,
          7.863736449,
          3.912635767,
          4.88259241,
          -3.446822086,
          0.22649979199999998,
          2.226199797,
          -1.397545728,
          0.313134751,
          -7.086696786,
          2.974708568,
          4.128687749,
          1.7002880050000002,
          1.063636607,
          5.456388753,
          6.030050653,
          -0.052354785,
          2.822996205,
          -2.980905768,
          1.374750999,
          2.429358001,
          4.8,
          4.568679614,
          2.402530992,
          6.6258183,
          2.564791337,
          3.843864749,
          5.473454193,
          4.117707299,
          3.642322679,
          -1.030353991,
          4.230061175,
          2.703109471,
          3.50703342,
          9.778827683,
          6.896951711,
          1.324896305,
          -4.057293608,
          4.730011832,
          2.040665131,
          4.024086157,
          -4.088722796,
          5.41142278,
          4.002995551,
          4.435497594,
          -2.639438757,
          2.396232385,
          9.144572246,
          -0.588304569,
          1.217193657,
          7.863736449,
          1.342687023,
          4.788492711,
          0.152314967,
          4.483791985,
          1.469887521,
          2.280687603,
          5.625956975
         ],
         "yaxis": "y"
        },
        {
         "hovertemplate": "<b>%{hovertext}</b><br><br>category=Automocion<br>relative_MS=%{x}<br>growth_GDP=%{y}<br>sum_amount_x=%{marker.size}<extra></extra>",
         "hovertext": [
          "Andorra",
          "Bahrain",
          "Belgium",
          "India",
          "United Kingdom "
         ],
         "legendgroup": "Automocion",
         "marker": {
          "color": "#ab63fa",
          "size": [
           390,
           120,
           1135,
           115,
           56
          ],
          "sizemode": "area",
          "sizeref": 156.49,
          "symbol": "circle"
         },
         "mode": "markers",
         "name": "Automocion",
         "orientation": "v",
         "showlegend": true,
         "type": "scatter",
         "x": [
          0.3436123348017621,
          0.10572687224669604,
          1,
          0.10132158590308371,
          0.04933920704845815
         ],
         "xaxis": "x",
         "y": [
          -4.974443719,
          3.72810843,
          0.739217283,
          5.456388753,
          1.469887521
         ],
         "yaxis": "y"
        },
        {
         "hovertemplate": "<b>%{hovertext}</b><br><br>category=Bars & restaurants<br>relative_MS=%{x}<br>growth_GDP=%{y}<br>sum_amount_x=%{marker.size}<extra></extra>",
         "hovertext": [
          "Andorra",
          "Angola",
          "Argentina",
          "Australia",
          "Austria",
          "Belarus",
          "Belgium",
          "Bolivia (Plurinational State of)",
          "Brazil",
          "Canada",
          "Cayman Islands",
          "Chile",
          "China",
          "Colombia",
          "Costa Rica",
          "Croatia",
          "Curacao",
          "Cyprus",
          "Czechia",
          "Côte d'Ivoire",
          "Denmark",
          "Dominican Republic",
          "Ecuador",
          "Egypt",
          "Estonia",
          "Finland",
          "France",
          "Georgia",
          "Guatemala",
          "Honduras",
          "Hong Kong",
          "Hungary",
          "Iceland",
          "India",
          "Indonesia",
          "Ireland",
          "Israel",
          "Italy",
          "Japan",
          "Jordan",
          "Kazakhstan",
          "Kenya",
          "Korea, Republic of",
          "Kuwait",
          "Latvia",
          "Lebanon",
          "Lithuania",
          "Luxembourg",
          "Malaysia",
          "Malta",
          "Mexico",
          "Moldova, Republic of",
          "Morocco",
          "Netherlands",
          "Nigeria",
          "North Macedonia",
          "Norway",
          "Oman",
          "Panama",
          "Paraguay",
          "Peru",
          "Philippines",
          "Poland",
          "Portugal",
          "Puerto Rico",
          "Qatar",
          "Romania",
          "Russian Federation",
          "Saudi Arabia",
          "Singapore",
          "Slovakia",
          "South Africa",
          "Sweden",
          "Switzerland",
          "Taiwan, Province of China",
          "Thailand",
          "Turkey",
          "Ukraine",
          "United Arab Emirates",
          "United Kingdom ",
          "United States of America",
          "Uruguay",
          "Uzbekistan",
          "Venezuela (Bolivarian Republic of)"
         ],
         "legendgroup": "Bars & restaurants",
         "marker": {
          "color": "#FFA15A",
          "size": [
           2184,
           91,
           3039,
           478,
           1667,
           16,
           1534,
           85,
           4954,
           5146,
           600,
           1578,
           10908,
           946,
           382,
           497,
           174,
           124,
           100,
           8,
           1899,
           211,
           356,
           477,
           374,
           2444,
           15109,
           1419,
           488,
           25,
           1733,
           140,
           27,
           633,
           758,
           2807,
           3586,
           11396,
           8079,
           1346,
           76,
           325,
           4298,
           166,
           559,
           1451,
           669,
           453,
           573,
           40,
           1514,
           107,
           43,
           3319,
           212,
           71,
           1856,
           133,
           1638,
           13,
           2469,
           3657,
           2310,
           1585,
           129,
           10,
           2689,
           9866,
           1000,
           275,
           51,
           1465,
           4908,
           4145,
           1231,
           487,
           1945,
           543,
           2261,
           20516,
           33685,
           114,
           195,
           1161
          ],
          "sizemode": "area",
          "sizeref": 156.49,
          "symbol": "circle"
         },
         "mode": "markers",
         "name": "Bars & restaurants",
         "orientation": "v",
         "showlegend": true,
         "type": "scatter",
         "x": [
          0.06483598040670921,
          0.002701499183612884,
          0.09021819801098412,
          0.014190292415021523,
          0.04948790262728217,
          0.00047498886744841917,
          0.045539557666617186,
          0.002523378358319727,
          0.14706842808371678,
          0.1527682944930978,
          0.01781208252931572,
          0.04684577705210034,
          0.3238236603829598,
          0.028083716787887788,
          0.011340359210331007,
          0.01475434169511652,
          0.005165503933501558,
          0.0036811637227252485,
          0.00296868042155262,
          0.00023749443372420958,
          0.056375241205284254,
          0.0062639156894760285,
          0.010568502300727327,
          0.014160605610805996,
          0.011102864776606798,
          0.07255454950274602,
          0.44853792489238536,
          0.04212557518183167,
          0.014487160457176787,
          0.000742170105388155,
          0.051447231705506906,
          0.004156152590173668,
          0.0008015437138192073,
          0.018791747068428084,
          0.02250259759536886,
          0.08333085943298203,
          0.10645687991687695,
          0.3383108208401366,
          0.23983969125723617,
          0.039958438474098266,
          0.0022561971203799913,
          0.009648211370046015,
          0.12759388451833162,
          0.0049280094997773485,
          0.016594923556479145,
          0.043075552916728516,
          0.019860472020187026,
          0.01344812230963337,
          0.017010538815496513,
          0.001187472168621048,
          0.044945821582306665,
          0.003176488051061303,
          0.0012765325812676266,
          0.09853050319133144,
          0.0062936024936915535,
          0.00210776309930236,
          0.055098708624016626,
          0.0039483449606649845,
          0.048626985305031914,
          0.0003859284548018406,
          0.07329671960813419,
          0.10856464301617931,
          0.06857651773786552,
          0.04705358468160903,
          0.0038295977438028797,
          0.000296868042155262,
          0.07982781653554995,
          0.2928900103903815,
          0.029686804215526198,
          0.008163871159269705,
          0.0015140270149918364,
          0.04349116817574588,
          0.14570283508980258,
          0.12305180347335609,
          0.03654445598931275,
          0.01445747365296126,
          0.057740834199198454,
          0.016119934689030727,
          0.06712186433130474,
          0.6090544752857355,
          1,
          0.0033842956805699865,
          0.005788926822027609,
          0.03446637969422592
         ],
         "xaxis": "x",
         "y": [
          -4.974443719,
          8.540000003,
          -1.026420454,
          3.917362463,
          0.680445577,
          1.687135536,
          0.739217283,
          5.122275581,
          1.921175985,
          1.7622225490000003,
          1.229753683,
          6.155340019,
          7.863736449,
          3.912635767,
          4.88259241,
          -2.275706646,
          -0.065889655,
          -3.446822086,
          -0.785004299,
          7.620411763,
          0.226499792,
          2.7173678970000004,
          5.641962067,
          2.226199797,
          3.2282004940000006,
          -1.397545728,
          0.313134751,
          6.369008306,
          2.974708568,
          4.128687749,
          1.700288005,
          -1.257749507,
          1.063636607,
          5.456388753,
          6.030050653,
          -0.052354785,
          2.822996205,
          -2.980905768,
          1.374750999,
          2.429358001,
          4.8,
          4.568679614,
          2.402530992,
          6.6258183,
          7.037317185,
          2.564791337,
          3.843864749,
          1.64990203,
          5.473454192999999,
          4.117707299,
          3.642322679,
          -0.589733963,
          3.009961262,
          -1.030353991,
          4.230061175,
          -0.45618322399999994,
          2.703109471,
          8.863122256,
          9.778827683,
          -0.708043112,
          6.139724706,
          6.896951711,
          1.324896305,
          -4.057293608,
          0.02927511,
          4.730011832,
          2.040665131,
          4.024086157,
          5.41142278,
          4.435497594,
          1.358226806,
          2.396232385,
          -0.588304569,
          1.217193657,
          7.863736449,
          7.242796202,
          4.788492711,
          0.152314967,
          4.483791985,
          1.469887521,
          2.280687603,
          3.538178707,
          7.102444887,
          5.625956975
         ],
         "yaxis": "y"
        },
        {
         "hovertemplate": "<b>%{hovertext}</b><br><br>category=Culture & Leisure<br>relative_MS=%{x}<br>growth_GDP=%{y}<br>sum_amount_x=%{marker.size}<extra></extra>",
         "hovertext": [
          "Andorra",
          "Argentina",
          "Austria",
          "Brazil",
          "Canada",
          "Cayman Islands",
          "Chile",
          "China",
          "Egypt",
          "Finland",
          "France",
          "Israel",
          "Italy",
          "Japan",
          "Kazakhstan",
          "Korea, Republic of",
          "Kuwait",
          "Malaysia",
          "Morocco",
          "North Macedonia",
          "Norway",
          "Paraguay",
          "Portugal",
          "Romania",
          "Russian Federation",
          "Saudi Arabia",
          "Sweden",
          "Switzerland",
          "Taiwan, Province of China",
          "United Kingdom ",
          "United States of America",
          "Venezuela (Bolivarian Republic of)"
         ],
         "legendgroup": "Culture & Leisure",
         "marker": {
          "color": "#19d3f3",
          "size": [
           505,
           28,
           9,
           415,
           334,
           303,
           353,
           4,
           90,
           24,
           396,
           66,
           20,
           216,
           37,
           31,
           252,
           1009,
           202,
           45,
           4036,
           29,
           9,
           83,
           92,
           6054,
           54,
           59,
           65,
           2117,
           6785,
           24
          ],
          "sizemode": "area",
          "sizeref": 156.49,
          "symbol": "circle"
         },
         "mode": "markers",
         "name": "Culture & Leisure",
         "orientation": "v",
         "showlegend": true,
         "type": "scatter",
         "x": [
          0.07442888725128961,
          0.004126750184229919,
          0.001326455416359617,
          0.06116433308769344,
          0.04922623434045689,
          0.044657332350773765,
          0.05202652910832719,
          0.0005895357406042741,
          0.01326455416359617,
          0.003537214443625645,
          0.05836403831982314,
          0.009727339719970524,
          0.0029476787030213707,
          0.0318349299926308,
          0.005453205600589536,
          0.004568901989683125,
          0.03714075165806927,
          0.14871039056742816,
          0.029771554900515848,
          0.006632277081798085,
          0.5948415622697126,
          0.0042741341193809875,
          0.001326455416359617,
          0.012232866617538689,
          0.013559322033898305,
          0.892262343404569,
          0.0079587324981577,
          0.008695652173913044,
          0.009579955784819454,
          0.31201179071481205,
          1,
          0.003537214443625645
         ],
         "xaxis": "x",
         "y": [
          -4.974443719,
          -1.026420454,
          0.680445577,
          1.921175985,
          1.762222549,
          1.229753683,
          6.155340019,
          7.863736449,
          2.226199797,
          -1.397545728,
          0.313134751,
          2.822996205,
          -2.980905768,
          1.374750999,
          4.8,
          2.402530992,
          6.6258183,
          5.473454193,
          3.009961262,
          -0.456183224,
          2.703109471,
          -0.708043112,
          -4.057293608,
          2.040665131,
          4.024086157,
          5.41142278,
          -0.588304569,
          1.217193657,
          7.863736449,
          1.469887521,
          2.280687603,
          5.625956975
         ],
         "yaxis": "y"
        },
        {
         "hovertemplate": "<b>%{hovertext}</b><br><br>category=Food<br>relative_MS=%{x}<br>growth_GDP=%{y}<br>sum_amount_x=%{marker.size}<extra></extra>",
         "hovertext": [
          "Andorra",
          "Argentina",
          "Australia",
          "Austria",
          "Belarus",
          "Belgium",
          "Bolivia (Plurinational State of)",
          "Brazil",
          "Canada",
          "China",
          "Colombia",
          "Croatia",
          "Czechia",
          "Denmark",
          "El Salvador",
          "Estonia",
          "Finland",
          "France",
          "Guatemala",
          "Ireland",
          "Israel",
          "Italy",
          "Japan",
          "Mexico",
          "Netherlands",
          "Norway",
          "Philippines",
          "Poland",
          "Russian Federation",
          "Slovenia",
          "Sweden",
          "Ukraine",
          "United Kingdom ",
          "United States of America"
         ],
         "legendgroup": "Food",
         "marker": {
          "color": "#FF6692",
          "size": [
           95,
           9,
           14,
           117,
           6,
           42,
           13,
           136,
           1170,
           511,
           8,
           19,
           6,
           274,
           5,
           12,
           64,
           393,
           13,
           29,
           55,
           166,
           285,
           27,
           70,
           180,
           11,
           80,
           395,
           48,
           160,
           22,
           6746,
           2047
          ],
          "sizemode": "area",
          "sizeref": 156.49,
          "symbol": "circle"
         },
         "mode": "markers",
         "name": "Food",
         "orientation": "v",
         "showlegend": true,
         "type": "scatter",
         "x": [
          0.014082419211384525,
          0.0013341239252890602,
          0.0020753038837829827,
          0.017343611028757783,
          0.0008894159501927068,
          0.006225911651348947,
          0.001927067892084198,
          0.02016009487103469,
          0.1734361102875778,
          0.07574859175807887,
          0.0011858879335902757,
          0.002816483842276905,
          0.0008894159501927068,
          0.04061666172546694,
          0.0007411799584939224,
          0.0017788319003854136,
          0.009487103468722205,
          0.058256744737622296,
          0.001927067892084198,
          0.004298843759264749,
          0.008152979543433147,
          0.024607174621998223,
          0.04224725763415357,
          0.004002371775867181,
          0.010376519418914914,
          0.026682478505781204,
          0.001630595908686629,
          0.011858879335902758,
          0.05855321672101987,
          0.0071153276015416544,
          0.023717758671805516,
          0.003261191817373258,
          1,
          0.3034390750074118
         ],
         "xaxis": "x",
         "y": [
          -4.974443719,
          -1.026420454,
          3.917362463,
          0.680445577,
          1.687135536,
          0.739217283,
          5.122275581,
          1.921175985,
          1.762222549,
          7.863736449,
          3.912635767,
          -2.275706646,
          -0.785004299,
          0.226499792,
          2.815501822,
          3.228200494,
          -1.397545728,
          0.313134751,
          2.974708568,
          -0.052354785,
          2.8229962050000004,
          -2.980905768,
          1.374750999,
          3.642322679,
          -1.030353991,
          2.703109471,
          6.896951711,
          1.324896305,
          4.024086157,
          -2.639438757,
          -0.588304569,
          0.152314967,
          1.4698875210000002,
          2.280687603
         ],
         "yaxis": "y"
        },
        {
         "hovertemplate": "<b>%{hovertext}</b><br><br>category=Hogar y reformas<br>relative_MS=%{x}<br>growth_GDP=%{y}<br>sum_amount_x=%{marker.size}<extra></extra>",
         "hovertext": [
          "Andorra",
          "Argentina",
          "Australia",
          "Austria",
          "Belgium",
          "Belize",
          "Brazil",
          "China",
          "Colombia",
          "Cyprus",
          "Denmark",
          "Dominican Republic",
          "Finland",
          "France",
          "Italy",
          "Japan",
          "Lithuania",
          "Mexico",
          "Netherlands",
          "Norway",
          "Peru",
          "Poland",
          "Portugal",
          "Russian Federation",
          "Singapore",
          "South Africa",
          "Sweden",
          "Switzerland",
          "Turkey",
          "United Kingdom ",
          "United States of America"
         ],
         "legendgroup": "Hogar y reformas",
         "marker": {
          "color": "#B6E880",
          "size": [
           434,
           7,
           36,
           11,
           20,
           30,
           283,
           14,
           8,
           14,
           153,
           25,
           53,
           1021,
           290,
           346,
           12,
           33,
           30,
           320,
           26,
           114,
           16,
           171,
           34,
           34,
           131,
           252,
           26,
           198,
           570
          ],
          "sizemode": "area",
          "sizeref": 156.49,
          "symbol": "circle"
         },
         "mode": "markers",
         "name": "Hogar y reformas",
         "orientation": "v",
         "showlegend": true,
         "type": "scatter",
         "x": [
          0.42507345739471103,
          0.006856023506366307,
          0.03525954946131244,
          0.010773751224289911,
          0.019588638589618023,
          0.029382957884427033,
          0.27717923604309497,
          0.013712047012732613,
          0.007835455435847209,
          0.013712047012732613,
          0.14985308521057786,
          0.024485798237022526,
          0.05190989226248776,
          1,
          0.2840352595494613,
          0.33888344760039174,
          0.011753183153770814,
          0.03232125367286973,
          0.029382957884427033,
          0.31341821743388837,
          0.025465230166503428,
          0.11165523996082272,
          0.015670910871694418,
          0.1674828599412341,
          0.03330068560235063,
          0.03330068560235063,
          0.12830558276199802,
          0.24681684622918706,
          0.025465230166503428,
          0.1939275220372184,
          0.5582761998041136
         ],
         "xaxis": "x",
         "y": [
          -4.974443719,
          -1.026420454,
          3.917362463,
          0.680445577,
          0.739217283,
          2.428309945,
          1.921175985,
          7.863736449,
          3.912635767,
          -3.446822086,
          0.226499792,
          2.717367897,
          -1.397545728,
          0.31313475100000004,
          -2.980905768,
          1.374750999,
          3.843864749,
          3.642322679,
          -1.030353991,
          2.703109471,
          6.139724706,
          1.324896305,
          -4.057293608,
          4.024086157,
          4.435497594,
          2.396232385,
          -0.588304569,
          1.217193657,
          4.788492711,
          1.4698875209999998,
          2.280687603
         ],
         "yaxis": "y"
        },
        {
         "hovertemplate": "<b>%{hovertext}</b><br><br>category=Other goods and services<br>relative_MS=%{x}<br>growth_GDP=%{y}<br>sum_amount_x=%{marker.size}<extra></extra>",
         "hovertext": [
          "Andorra",
          "Argentina",
          "Australia",
          "Austria",
          "Bahrain",
          "Belgium",
          "Belize",
          "Brazil",
          "Bulgaria",
          "Canada",
          "Chile",
          "China",
          "Colombia",
          "Czechia",
          "Denmark",
          "Dominican Republic",
          "Finland",
          "France",
          "Ireland",
          "Israel",
          "Italy",
          "Japan",
          "Korea, Republic of",
          "Malaysia",
          "Mexico",
          "Netherlands",
          "Norway",
          "Panama",
          "Peru",
          "Philippines",
          "Poland",
          "Portugal",
          "Russian Federation",
          "Saudi Arabia",
          "Slovenia",
          "South Africa",
          "Sweden",
          "Switzerland",
          "Turkey",
          "United Arab Emirates",
          "United Kingdom ",
          "United States of America",
          "Venezuela (Bolivarian Republic of)"
         ],
         "legendgroup": "Other goods and services",
         "marker": {
          "color": "#FF97FF",
          "size": [
           1298,
           457,
           144,
           15,
           26,
           1249,
           94,
           1128,
           61,
           4079,
           39,
           1017,
           95,
           200,
           155,
           5,
           82,
           4965,
           161,
           302,
           3013,
           570,
           470,
           58,
           100,
           1144,
           201,
           20,
           180,
           151,
           58,
           1193,
           328,
           21,
           19,
           75,
           305,
           230,
           61,
           855,
           3234,
           1120,
           205
          ],
          "sizemode": "area",
          "sizeref": 156.49,
          "symbol": "circle"
         },
         "mode": "markers",
         "name": "Other goods and services",
         "orientation": "v",
         "showlegend": true,
         "type": "scatter",
         "x": [
          0.26143001007049343,
          0.09204431017119839,
          0.029003021148036257,
          0.003021148036253777,
          0.0052366565961732125,
          0.2515609264853978,
          0.018932527693857,
          0.22719033232628397,
          0.012286002014098692,
          0.8215508559919436,
          0.00785498489425982,
          0.20483383685800605,
          0.019133937562940583,
          0.04028197381671702,
          0.031218529707955692,
          0.0010070493454179255,
          0.01651560926485398,
          1,
          0.0324269889224572,
          0.060825780463242704,
          0.6068479355488419,
          0.1148036253776435,
          0.094662638469285,
          0.011681772406847937,
          0.02014098690835851,
          0.23041289023162137,
          0.04048338368580061,
          0.004028197381671702,
          0.03625377643504532,
          0.030412890231621352,
          0.011681772406847937,
          0.240281973816717,
          0.06606243705941592,
          0.004229607250755287,
          0.0038267875125881172,
          0.015105740181268881,
          0.06143001007049346,
          0.04632426988922458,
          0.012286002014098692,
          0.17220543806646527,
          0.6513595166163142,
          0.22557905337361533,
          0.041289023162134945
         ],
         "xaxis": "x",
         "y": [
          -4.974443718999999,
          -1.026420454,
          3.917362463,
          0.680445577,
          3.72810843,
          0.739217283,
          2.428309945,
          1.921175985,
          0.754930386,
          1.7622225489999999,
          6.155340019,
          7.863736449,
          3.912635767,
          -0.785004299,
          0.226499792,
          2.717367897,
          -1.397545728,
          0.313134751,
          -0.052354785,
          2.822996205,
          -2.980905768,
          1.374750999,
          2.402530992,
          5.473454193,
          3.6423226790000003,
          -1.030353991,
          2.703109471,
          9.778827683,
          6.139724706,
          6.896951711,
          1.324896305,
          -4.057293608,
          4.024086157,
          5.41142278,
          -2.639438757,
          2.396232385,
          -0.588304569,
          1.217193657,
          4.788492711,
          4.483791985,
          1.469887521,
          2.280687603,
          5.625956975
         ],
         "yaxis": "y"
        },
        {
         "hovertemplate": "<b>%{hovertext}</b><br><br>category=Personal products<br>relative_MS=%{x}<br>growth_GDP=%{y}<br>sum_amount_x=%{marker.size}<extra></extra>",
         "hovertext": [
          "Andorra",
          "Argentina",
          "Australia",
          "Austria",
          "Brazil",
          "Bulgaria",
          "China",
          "Colombia",
          "Costa Rica",
          "Ecuador",
          "Egypt",
          "Finland",
          "France",
          "Georgia",
          "Greece",
          "Guatemala",
          "Ireland",
          "Israel",
          "Italy",
          "Japan",
          "Mexico",
          "Netherlands",
          "Norway",
          "Portugal",
          "Russian Federation",
          "Singapore",
          "South Africa",
          "Sweden",
          "Switzerland",
          "Taiwan, Province of China",
          "Turkey",
          "United Kingdom ",
          "United States of America",
          "Venezuela (Bolivarian Republic of)"
         ],
         "legendgroup": "Personal products",
         "marker": {
          "color": "#FECB52",
          "size": [
           179,
           15,
           54,
           39,
           409,
           210,
           355,
           142,
           26,
           58,
           85,
           40,
           1467,
           13,
           30,
           26,
           55,
           97,
           402,
           610,
           136,
           90,
           94,
           127,
           43,
           42,
           262,
           211,
           302,
           14,
           96,
           304,
           922,
           20
          ],
          "sizemode": "area",
          "sizeref": 156.49,
          "symbol": "circle"
         },
         "mode": "markers",
         "name": "Personal products",
         "orientation": "v",
         "showlegend": true,
         "type": "scatter",
         "x": [
          0.12201772324471712,
          0.010224948875255624,
          0.03680981595092025,
          0.026584867075664622,
          0.27880027266530333,
          0.14314928425357873,
          0.24199045671438307,
          0.09679618268575324,
          0.017723244717109746,
          0.03953646898432175,
          0.05794137695978187,
          0.027266530334014997,
          1,
          0.008861622358554873,
          0.02044989775051125,
          0.017723244717109746,
          0.03749147920927062,
          0.06612133605998637,
          0.2740286298568507,
          0.4158145875937287,
          0.09270620313565099,
          0.06134969325153374,
          0.06407634628493523,
          0.08657123381049761,
          0.02931152010906612,
          0.028629856850715747,
          0.17859577368779822,
          0.1438309475119291,
          0.20586230402181324,
          0.00954328561690525,
          0.06543967280163598,
          0.20722563053851398,
          0.6284935241990457,
          0.013633265167007498
         ],
         "xaxis": "x",
         "y": [
          -4.974443719,
          -1.026420454,
          3.917362463,
          0.680445577,
          1.9211759850000003,
          0.754930386,
          7.863736449,
          3.912635767,
          4.88259241,
          5.641962067,
          2.226199797,
          -1.397545728,
          0.313134751,
          6.369008306,
          -7.086696786,
          2.974708568,
          -0.052354785,
          2.822996205,
          -2.980905768,
          1.374750999,
          3.642322679,
          -1.030353991,
          2.703109471,
          -4.057293608,
          4.024086157,
          4.435497594,
          2.396232385,
          -0.588304569,
          1.217193657,
          7.863736449,
          4.788492711,
          1.4698875209999998,
          2.280687603,
          5.625956975
         ],
         "yaxis": "y"
        },
        {
         "hovertemplate": "<b>%{hovertext}</b><br><br>category=Transportation<br>relative_MS=%{x}<br>growth_GDP=%{y}<br>sum_amount_x=%{marker.size}<extra></extra>",
         "hovertext": [
          "Andorra",
          "Argentina",
          "Australia",
          "Austria",
          "Belgium",
          "Brazil",
          "Canada",
          "Chile",
          "China",
          "Czechia",
          "Denmark",
          "Finland",
          "France",
          "Guatemala",
          "India",
          "Ireland",
          "Israel",
          "Italy",
          "Japan",
          "Jordan",
          "Korea, Republic of",
          "Lebanon",
          "Luxembourg",
          "Mexico",
          "Netherlands",
          "New Zealand",
          "Nicaragua",
          "Norway",
          "Panama",
          "Poland",
          "Romania",
          "Russian Federation",
          "Sweden",
          "Switzerland",
          "Taiwan, Province of China",
          "Thailand",
          "Ukraine",
          "United Kingdom ",
          "United States of America"
         ],
         "legendgroup": "Transportation",
         "marker": {
          "color": "#636efa",
          "size": [
           33,
           372,
           227,
           145,
           43,
           272,
           137,
           472,
           393,
           80,
           27,
           201,
           1051,
           31,
           10856,
           10,
           266,
           435,
           277,
           10,
           17,
           32,
           6,
           124,
           187,
           153,
           159,
           124,
           12,
           76,
           45,
           754,
           238,
           747,
           11,
           219,
           60,
           756,
           36798
          ],
          "sizemode": "area",
          "sizeref": 156.49,
          "symbol": "circle"
         },
         "mode": "markers",
         "name": "Transportation",
         "orientation": "v",
         "showlegend": true,
         "type": "scatter",
         "x": [
          0.0008967878689059188,
          0.01010924506766672,
          0.006168813522474048,
          0.0039404315451926734,
          0.001168541768574379,
          0.007391706070982119,
          0.003723028425457905,
          0.012826784064351324,
          0.010679928256970488,
          0.002174031197347682,
          0.0007337355291048426,
          0.005462253383336051,
          0.028561334855155173,
          0.0008424370889722269,
          0.29501603348008043,
          0.00027175389966846024,
          0.007228653731181043,
          0.011821294635578022,
          0.0075275830208163495,
          0.00027175389966846024,
          0.00046198162943638244,
          0.0008696124789390728,
          0.00016305233980107615,
          0.0033697483558889074,
          0.005081797923800206,
          0.004157834664927442,
          0.004320887004728518,
          0.0033697483558889074,
          0.0003261046796021523,
          0.002065329637480298,
          0.0012228925485080712,
          0.020490244035001902,
          0.006467742812109355,
          0.02030001630523398,
          0.0002989292896353063,
          0.00595141040273928,
          0.0016305233980107615,
          0.020544594814935594,
          1
         ],
         "xaxis": "x",
         "y": [
          -4.974443719,
          -1.026420454,
          3.917362463,
          0.680445577,
          0.739217283,
          1.921175985,
          1.7622225489999999,
          6.155340019,
          7.863736449,
          -0.785004299,
          0.226499792,
          -1.397545728,
          0.313134751,
          2.974708568,
          5.456388753,
          -0.052354785,
          2.8229962050000004,
          -2.980905768,
          1.374750999,
          2.429358001,
          2.402530992,
          2.564791337,
          1.64990203,
          3.642322679,
          -1.030353991,
          2.245302935,
          6.495258014,
          2.703109471,
          9.778827683,
          1.324896305,
          2.040665131,
          4.024086157,
          -0.588304569,
          1.217193657,
          7.863736449,
          7.242796202,
          0.152314967,
          1.469887521,
          2.280687603
         ],
         "yaxis": "y"
        },
        {
         "hovertemplate": "<b>%{hovertext}</b><br><br>category=Books & Music<br>relative_MS=%{x}<br>growth_GDP=%{y}<br>sum_amount_x=%{marker.size}<extra></extra>",
         "hovertext": [
          "Argentina",
          "Brazil",
          "Canada",
          "Chile",
          "Colombia",
          "Costa Rica",
          "Dominican Republic",
          "Ecuador",
          "France",
          "Guatemala",
          "Italy",
          "Korea, Republic of",
          "Mexico",
          "Peru",
          "Portugal",
          "Puerto Rico",
          "South Africa",
          "Switzerland",
          "United Arab Emirates",
          "United Kingdom ",
          "United States of America",
          "Uruguay",
          "Venezuela (Bolivarian Republic of)"
         ],
         "legendgroup": "Books & Music",
         "marker": {
          "color": "#EF553B",
          "size": [
           2351,
           2778,
           659,
           1376,
           3165,
           594,
           256,
           2079,
           252,
           256,
           82,
           29,
           1852,
           290,
           260,
           1108,
           101,
           561,
           95,
           111,
           2436,
           263,
           100
          ],
          "sizemode": "area",
          "sizeref": 156.49,
          "symbol": "circle"
         },
         "mode": "markers",
         "name": "Books & Music",
         "orientation": "v",
         "showlegend": true,
         "type": "scatter",
         "x": [
          0.7428120063191153,
          0.8777251184834123,
          0.20821484992101102,
          0.43475513428120055,
          1,
          0.1876777251184834,
          0.08088467614533965,
          0.656872037914692,
          0.07962085308056871,
          0.08088467614533965,
          0.025908372827804105,
          0.009162717219589257,
          0.5851500789889414,
          0.09162717219589257,
          0.08214849921011058,
          0.35007898894154815,
          0.031911532385466033,
          0.17725118483412322,
          0.030015797788309633,
          0.035071090047393366,
          0.7696682464454976,
          0.08309636650868878,
          0.0315955766192733
         ],
         "xaxis": "x",
         "y": [
          -1.026420454,
          1.921175985,
          1.762222549,
          6.155340019,
          3.912635767,
          4.88259241,
          2.717367897,
          5.641962067,
          0.313134751,
          2.974708568,
          -2.980905768,
          2.402530992,
          3.642322679,
          6.139724706,
          -4.057293608,
          0.02927511,
          2.396232385,
          1.217193657,
          4.483791985,
          1.469887521,
          2.280687603,
          3.538178707,
          5.625956975
         ],
         "yaxis": "y"
        },
        {
         "hovertemplate": "<b>%{hovertext}</b><br><br>category=Electronics & computing<br>relative_MS=%{x}<br>growth_GDP=%{y}<br>sum_amount_x=%{marker.size}<extra></extra>",
         "hovertext": [
          "Argentina",
          "Australia",
          "Austria",
          "Brazil",
          "Colombia",
          "Denmark",
          "Dominican Republic",
          "Finland",
          "France",
          "Honduras",
          "Italy",
          "Mexico",
          "Netherlands",
          "Portugal",
          "Russian Federation",
          "South Africa",
          "Sri Lanka",
          "Sweden",
          "Switzerland",
          "Turkey",
          "United Kingdom ",
          "United States of America",
          "Venezuela (Bolivarian Republic of)"
         ],
         "legendgroup": "Electronics & computing",
         "marker": {
          "color": "#00cc96",
          "size": [
           147,
           204,
           43,
           83,
           30,
           93,
           69,
           20,
           291,
           29,
           135,
           46,
           22,
           5,
           20,
           12,
           50,
           20,
           120,
           86,
           453,
           224,
           156
          ],
          "sizemode": "area",
          "sizeref": 156.49,
          "symbol": "circle"
         },
         "mode": "markers",
         "name": "Electronics & computing",
         "orientation": "v",
         "showlegend": true,
         "type": "scatter",
         "x": [
          0.32450331125827814,
          0.45033112582781454,
          0.09492273730684327,
          0.18322295805739516,
          0.0662251655629139,
          0.2052980132450331,
          0.152317880794702,
          0.044150110375275935,
          0.642384105960265,
          0.06401766004415012,
          0.2980132450331126,
          0.10154525386313466,
          0.04856512141280353,
          0.011037527593818984,
          0.044150110375275935,
          0.026490066225165566,
          0.11037527593818984,
          0.044150110375275935,
          0.2649006622516556,
          0.18984547461368653,
          1,
          0.49448123620309054,
          0.3443708609271523
         ],
         "xaxis": "x",
         "y": [
          -1.026420454,
          3.917362463,
          0.680445577,
          1.921175985,
          3.912635767,
          0.226499792,
          2.717367897,
          -1.397545728,
          0.313134751,
          4.128687749,
          -2.980905768,
          3.642322679,
          -1.030353991,
          -4.057293608,
          4.024086157,
          2.396232385,
          9.144572246,
          -0.588304569,
          1.217193657,
          4.788492711,
          1.469887521,
          2.280687603,
          5.625956975
         ],
         "yaxis": "y"
        },
        {
         "hovertemplate": "<b>%{hovertext}</b><br><br>category=Sports & Games<br>relative_MS=%{x}<br>growth_GDP=%{y}<br>sum_amount_x=%{marker.size}<extra></extra>",
         "hovertext": [
          "Argentina",
          "Australia",
          "Belgium",
          "Brazil",
          "Bulgaria",
          "Chile",
          "China",
          "Colombia",
          "Cyprus",
          "Finland",
          "France",
          "India",
          "Indonesia",
          "Israel",
          "Italy",
          "Korea, Republic of",
          "Mexico",
          "Mozambique",
          "Netherlands",
          "Nigeria",
          "Norway",
          "Oman",
          "Portugal",
          "Russian Federation",
          "Saudi Arabia",
          "Slovakia",
          "Sweden",
          "Switzerland",
          "Turkey",
          "Ukraine",
          "United Kingdom ",
          "United States of America",
          "Venezuela (Bolivarian Republic of)"
         ],
         "legendgroup": "Sports & Games",
         "marker": {
          "color": "#ab63fa",
          "size": [
           371,
           94,
           54,
           115,
           147,
           56,
           225,
           365,
           38,
           65,
           200,
           220,
           85,
           224,
           126,
           120,
           458,
           175,
           707,
           95,
           249,
           96,
           425,
           106,
           432,
           40,
           110,
           231,
           43,
           142,
           363,
           1672,
           74
          ],
          "sizemode": "area",
          "sizeref": 156.49,
          "symbol": "circle"
         },
         "mode": "markers",
         "name": "Sports & Games",
         "orientation": "v",
         "showlegend": true,
         "type": "scatter",
         "x": [
          0.22188995215311005,
          0.05622009569377991,
          0.03229665071770335,
          0.0687799043062201,
          0.08791866028708134,
          0.03349282296650718,
          0.13456937799043062,
          0.21830143540669855,
          0.022727272727272728,
          0.038875598086124404,
          0.11961722488038277,
          0.13157894736842105,
          0.05083732057416268,
          0.1339712918660287,
          0.07535885167464115,
          0.07177033492822966,
          0.27392344497607657,
          0.10466507177033492,
          0.4228468899521531,
          0.05681818181818182,
          0.14892344497607657,
          0.05741626794258373,
          0.2541866028708134,
          0.06339712918660287,
          0.2583732057416268,
          0.023923444976076555,
          0.06578947368421052,
          0.13815789473684212,
          0.025717703349282296,
          0.08492822966507177,
          0.21710526315789477,
          1,
          0.04425837320574163
         ],
         "xaxis": "x",
         "y": [
          -1.026420454,
          3.917362463,
          0.739217283,
          1.921175985,
          0.754930386,
          6.155340019,
          7.863736449,
          3.912635767,
          -3.446822086,
          -1.397545728,
          0.313134751,
          5.456388753,
          6.030050653,
          2.8229962050000004,
          -2.980905768,
          2.402530992,
          3.642322679,
          7.258439253,
          -1.030353991,
          4.230061175,
          2.703109471,
          8.863122256,
          -4.057293608,
          4.024086157,
          5.41142278,
          1.358226806,
          -0.588304569,
          1.217193657,
          4.788492711,
          0.152314967,
          1.469887521,
          2.280687603,
          5.625956975
         ],
         "yaxis": "y"
        },
        {
         "hovertemplate": "<b>%{hovertext}</b><br><br>category=Agencias de viajes<br>relative_MS=%{x}<br>growth_GDP=%{y}<br>sum_amount_x=%{marker.size}<extra></extra>",
         "hovertext": [
          "Canada",
          "France",
          "Italy",
          "Norway"
         ],
         "legendgroup": "Agencias de viajes",
         "marker": {
          "color": "#FFA15A",
          "size": [
           1232,
           181,
           37,
           66
          ],
          "sizemode": "area",
          "sizeref": 156.49,
          "symbol": "circle"
         },
         "mode": "markers",
         "name": "Agencias de viajes",
         "orientation": "v",
         "showlegend": true,
         "type": "scatter",
         "x": [
          1,
          0.14691558441558442,
          0.030032467532467532,
          0.053571428571428575
         ],
         "xaxis": "x",
         "y": [
          1.762222549,
          0.313134751,
          -2.980905768,
          2.703109471
         ],
         "yaxis": "y"
        }
       ],
       "layout": {
        "annotations": [
         {
          "align": "left",
          "arrowcolor": "#636363",
          "arrowhead": 1,
          "arrowsize": 1,
          "arrowwidth": 2,
          "ax": -20,
          "ay": -30,
          "font": {
           "color": "grey",
           "family": "Sans Serif",
           "size": 13
          },
          "showarrow": false,
          "text": "Question Mark",
          "x": 0.25,
          "y": 9,
          "yanchor": "bottom"
         },
         {
          "align": "left",
          "arrowcolor": "#636363",
          "arrowhead": 1,
          "arrowsize": 1,
          "arrowwidth": 2,
          "ax": -20,
          "ay": -30,
          "font": {
           "color": "grey",
           "family": "Sans Serif",
           "size": 13
          },
          "showarrow": false,
          "text": "Stars",
          "x": 0.75,
          "y": 9,
          "yanchor": "bottom"
         },
         {
          "align": "left",
          "arrowcolor": "#636363",
          "arrowhead": 1,
          "arrowsize": 1,
          "arrowwidth": 2,
          "ax": -20,
          "ay": -30,
          "font": {
           "color": "grey",
           "family": "Sans Serif",
           "size": 13
          },
          "showarrow": false,
          "text": "Cash Cows",
          "x": 0.75,
          "y": -9,
          "yanchor": "bottom"
         },
         {
          "align": "left",
          "arrowcolor": "#636363",
          "arrowhead": 1,
          "arrowsize": 1,
          "arrowwidth": 2,
          "ax": -20,
          "ay": -30,
          "font": {
           "color": "grey",
           "family": "Sans Serif",
           "size": 13
          },
          "showarrow": false,
          "text": "Dogs",
          "x": 0.25,
          "y": -9,
          "yanchor": "bottom"
         }
        ],
        "legend": {
         "itemsizing": "constant",
         "title": {
          "text": "category"
         },
         "tracegroupgap": 0
        },
        "margin": {
         "t": 60
        },
        "shapes": [
         {
          "line": {
           "color": "black",
           "dash": "dash",
           "width": 2
          },
          "type": "line",
          "x0": 0,
          "x1": 1,
          "xref": "x domain",
          "y0": 0,
          "y1": 0,
          "yref": "y"
         },
         {
          "line": {
           "color": "black",
           "dash": "dash",
           "width": 2
          },
          "type": "line",
          "x0": 0.5,
          "x1": 0.5,
          "xref": "x",
          "y0": 0,
          "y1": 1,
          "yref": "y domain"
         }
        ],
        "template": {
         "data": {
          "bar": [
           {
            "error_x": {
             "color": "rgb(36,36,36)"
            },
            "error_y": {
             "color": "rgb(36,36,36)"
            },
            "marker": {
             "line": {
              "color": "white",
              "width": 0.5
             },
             "pattern": {
              "fillmode": "overlay",
              "size": 10,
              "solidity": 0.2
             }
            },
            "type": "bar"
           }
          ],
          "barpolar": [
           {
            "marker": {
             "line": {
              "color": "white",
              "width": 0.5
             },
             "pattern": {
              "fillmode": "overlay",
              "size": 10,
              "solidity": 0.2
             }
            },
            "type": "barpolar"
           }
          ],
          "carpet": [
           {
            "aaxis": {
             "endlinecolor": "rgb(36,36,36)",
             "gridcolor": "white",
             "linecolor": "white",
             "minorgridcolor": "white",
             "startlinecolor": "rgb(36,36,36)"
            },
            "baxis": {
             "endlinecolor": "rgb(36,36,36)",
             "gridcolor": "white",
             "linecolor": "white",
             "minorgridcolor": "white",
             "startlinecolor": "rgb(36,36,36)"
            },
            "type": "carpet"
           }
          ],
          "choropleth": [
           {
            "colorbar": {
             "outlinewidth": 1,
             "tickcolor": "rgb(36,36,36)",
             "ticks": "outside"
            },
            "type": "choropleth"
           }
          ],
          "contour": [
           {
            "colorbar": {
             "outlinewidth": 1,
             "tickcolor": "rgb(36,36,36)",
             "ticks": "outside"
            },
            "colorscale": [
             [
              0,
              "#440154"
             ],
             [
              0.1111111111111111,
              "#482878"
             ],
             [
              0.2222222222222222,
              "#3e4989"
             ],
             [
              0.3333333333333333,
              "#31688e"
             ],
             [
              0.4444444444444444,
              "#26828e"
             ],
             [
              0.5555555555555556,
              "#1f9e89"
             ],
             [
              0.6666666666666666,
              "#35b779"
             ],
             [
              0.7777777777777778,
              "#6ece58"
             ],
             [
              0.8888888888888888,
              "#b5de2b"
             ],
             [
              1,
              "#fde725"
             ]
            ],
            "type": "contour"
           }
          ],
          "contourcarpet": [
           {
            "colorbar": {
             "outlinewidth": 1,
             "tickcolor": "rgb(36,36,36)",
             "ticks": "outside"
            },
            "type": "contourcarpet"
           }
          ],
          "heatmap": [
           {
            "colorbar": {
             "outlinewidth": 1,
             "tickcolor": "rgb(36,36,36)",
             "ticks": "outside"
            },
            "colorscale": [
             [
              0,
              "#440154"
             ],
             [
              0.1111111111111111,
              "#482878"
             ],
             [
              0.2222222222222222,
              "#3e4989"
             ],
             [
              0.3333333333333333,
              "#31688e"
             ],
             [
              0.4444444444444444,
              "#26828e"
             ],
             [
              0.5555555555555556,
              "#1f9e89"
             ],
             [
              0.6666666666666666,
              "#35b779"
             ],
             [
              0.7777777777777778,
              "#6ece58"
             ],
             [
              0.8888888888888888,
              "#b5de2b"
             ],
             [
              1,
              "#fde725"
             ]
            ],
            "type": "heatmap"
           }
          ],
          "heatmapgl": [
           {
            "colorbar": {
             "outlinewidth": 1,
             "tickcolor": "rgb(36,36,36)",
             "ticks": "outside"
            },
            "colorscale": [
             [
              0,
              "#440154"
             ],
             [
              0.1111111111111111,
              "#482878"
             ],
             [
              0.2222222222222222,
              "#3e4989"
             ],
             [
              0.3333333333333333,
              "#31688e"
             ],
             [
              0.4444444444444444,
              "#26828e"
             ],
             [
              0.5555555555555556,
              "#1f9e89"
             ],
             [
              0.6666666666666666,
              "#35b779"
             ],
             [
              0.7777777777777778,
              "#6ece58"
             ],
             [
              0.8888888888888888,
              "#b5de2b"
             ],
             [
              1,
              "#fde725"
             ]
            ],
            "type": "heatmapgl"
           }
          ],
          "histogram": [
           {
            "marker": {
             "line": {
              "color": "white",
              "width": 0.6
             }
            },
            "type": "histogram"
           }
          ],
          "histogram2d": [
           {
            "colorbar": {
             "outlinewidth": 1,
             "tickcolor": "rgb(36,36,36)",
             "ticks": "outside"
            },
            "colorscale": [
             [
              0,
              "#440154"
             ],
             [
              0.1111111111111111,
              "#482878"
             ],
             [
              0.2222222222222222,
              "#3e4989"
             ],
             [
              0.3333333333333333,
              "#31688e"
             ],
             [
              0.4444444444444444,
              "#26828e"
             ],
             [
              0.5555555555555556,
              "#1f9e89"
             ],
             [
              0.6666666666666666,
              "#35b779"
             ],
             [
              0.7777777777777778,
              "#6ece58"
             ],
             [
              0.8888888888888888,
              "#b5de2b"
             ],
             [
              1,
              "#fde725"
             ]
            ],
            "type": "histogram2d"
           }
          ],
          "histogram2dcontour": [
           {
            "colorbar": {
             "outlinewidth": 1,
             "tickcolor": "rgb(36,36,36)",
             "ticks": "outside"
            },
            "colorscale": [
             [
              0,
              "#440154"
             ],
             [
              0.1111111111111111,
              "#482878"
             ],
             [
              0.2222222222222222,
              "#3e4989"
             ],
             [
              0.3333333333333333,
              "#31688e"
             ],
             [
              0.4444444444444444,
              "#26828e"
             ],
             [
              0.5555555555555556,
              "#1f9e89"
             ],
             [
              0.6666666666666666,
              "#35b779"
             ],
             [
              0.7777777777777778,
              "#6ece58"
             ],
             [
              0.8888888888888888,
              "#b5de2b"
             ],
             [
              1,
              "#fde725"
             ]
            ],
            "type": "histogram2dcontour"
           }
          ],
          "mesh3d": [
           {
            "colorbar": {
             "outlinewidth": 1,
             "tickcolor": "rgb(36,36,36)",
             "ticks": "outside"
            },
            "type": "mesh3d"
           }
          ],
          "parcoords": [
           {
            "line": {
             "colorbar": {
              "outlinewidth": 1,
              "tickcolor": "rgb(36,36,36)",
              "ticks": "outside"
             }
            },
            "type": "parcoords"
           }
          ],
          "pie": [
           {
            "automargin": true,
            "type": "pie"
           }
          ],
          "scatter": [
           {
            "marker": {
             "colorbar": {
              "outlinewidth": 1,
              "tickcolor": "rgb(36,36,36)",
              "ticks": "outside"
             }
            },
            "type": "scatter"
           }
          ],
          "scatter3d": [
           {
            "line": {
             "colorbar": {
              "outlinewidth": 1,
              "tickcolor": "rgb(36,36,36)",
              "ticks": "outside"
             }
            },
            "marker": {
             "colorbar": {
              "outlinewidth": 1,
              "tickcolor": "rgb(36,36,36)",
              "ticks": "outside"
             }
            },
            "type": "scatter3d"
           }
          ],
          "scattercarpet": [
           {
            "marker": {
             "colorbar": {
              "outlinewidth": 1,
              "tickcolor": "rgb(36,36,36)",
              "ticks": "outside"
             }
            },
            "type": "scattercarpet"
           }
          ],
          "scattergeo": [
           {
            "marker": {
             "colorbar": {
              "outlinewidth": 1,
              "tickcolor": "rgb(36,36,36)",
              "ticks": "outside"
             }
            },
            "type": "scattergeo"
           }
          ],
          "scattergl": [
           {
            "marker": {
             "colorbar": {
              "outlinewidth": 1,
              "tickcolor": "rgb(36,36,36)",
              "ticks": "outside"
             }
            },
            "type": "scattergl"
           }
          ],
          "scattermapbox": [
           {
            "marker": {
             "colorbar": {
              "outlinewidth": 1,
              "tickcolor": "rgb(36,36,36)",
              "ticks": "outside"
             }
            },
            "type": "scattermapbox"
           }
          ],
          "scatterpolar": [
           {
            "marker": {
             "colorbar": {
              "outlinewidth": 1,
              "tickcolor": "rgb(36,36,36)",
              "ticks": "outside"
             }
            },
            "type": "scatterpolar"
           }
          ],
          "scatterpolargl": [
           {
            "marker": {
             "colorbar": {
              "outlinewidth": 1,
              "tickcolor": "rgb(36,36,36)",
              "ticks": "outside"
             }
            },
            "type": "scatterpolargl"
           }
          ],
          "scatterternary": [
           {
            "marker": {
             "colorbar": {
              "outlinewidth": 1,
              "tickcolor": "rgb(36,36,36)",
              "ticks": "outside"
             }
            },
            "type": "scatterternary"
           }
          ],
          "surface": [
           {
            "colorbar": {
             "outlinewidth": 1,
             "tickcolor": "rgb(36,36,36)",
             "ticks": "outside"
            },
            "colorscale": [
             [
              0,
              "#440154"
             ],
             [
              0.1111111111111111,
              "#482878"
             ],
             [
              0.2222222222222222,
              "#3e4989"
             ],
             [
              0.3333333333333333,
              "#31688e"
             ],
             [
              0.4444444444444444,
              "#26828e"
             ],
             [
              0.5555555555555556,
              "#1f9e89"
             ],
             [
              0.6666666666666666,
              "#35b779"
             ],
             [
              0.7777777777777778,
              "#6ece58"
             ],
             [
              0.8888888888888888,
              "#b5de2b"
             ],
             [
              1,
              "#fde725"
             ]
            ],
            "type": "surface"
           }
          ],
          "table": [
           {
            "cells": {
             "fill": {
              "color": "rgb(237,237,237)"
             },
             "line": {
              "color": "white"
             }
            },
            "header": {
             "fill": {
              "color": "rgb(217,217,217)"
             },
             "line": {
              "color": "white"
             }
            },
            "type": "table"
           }
          ]
         },
         "layout": {
          "annotationdefaults": {
           "arrowhead": 0,
           "arrowwidth": 1
          },
          "autotypenumbers": "strict",
          "coloraxis": {
           "colorbar": {
            "outlinewidth": 1,
            "tickcolor": "rgb(36,36,36)",
            "ticks": "outside"
           }
          },
          "colorscale": {
           "diverging": [
            [
             0,
             "rgb(103,0,31)"
            ],
            [
             0.1,
             "rgb(178,24,43)"
            ],
            [
             0.2,
             "rgb(214,96,77)"
            ],
            [
             0.3,
             "rgb(244,165,130)"
            ],
            [
             0.4,
             "rgb(253,219,199)"
            ],
            [
             0.5,
             "rgb(247,247,247)"
            ],
            [
             0.6,
             "rgb(209,229,240)"
            ],
            [
             0.7,
             "rgb(146,197,222)"
            ],
            [
             0.8,
             "rgb(67,147,195)"
            ],
            [
             0.9,
             "rgb(33,102,172)"
            ],
            [
             1,
             "rgb(5,48,97)"
            ]
           ],
           "sequential": [
            [
             0,
             "#440154"
            ],
            [
             0.1111111111111111,
             "#482878"
            ],
            [
             0.2222222222222222,
             "#3e4989"
            ],
            [
             0.3333333333333333,
             "#31688e"
            ],
            [
             0.4444444444444444,
             "#26828e"
            ],
            [
             0.5555555555555556,
             "#1f9e89"
            ],
            [
             0.6666666666666666,
             "#35b779"
            ],
            [
             0.7777777777777778,
             "#6ece58"
            ],
            [
             0.8888888888888888,
             "#b5de2b"
            ],
            [
             1,
             "#fde725"
            ]
           ],
           "sequentialminus": [
            [
             0,
             "#440154"
            ],
            [
             0.1111111111111111,
             "#482878"
            ],
            [
             0.2222222222222222,
             "#3e4989"
            ],
            [
             0.3333333333333333,
             "#31688e"
            ],
            [
             0.4444444444444444,
             "#26828e"
            ],
            [
             0.5555555555555556,
             "#1f9e89"
            ],
            [
             0.6666666666666666,
             "#35b779"
            ],
            [
             0.7777777777777778,
             "#6ece58"
            ],
            [
             0.8888888888888888,
             "#b5de2b"
            ],
            [
             1,
             "#fde725"
            ]
           ]
          },
          "colorway": [
           "#1F77B4",
           "#FF7F0E",
           "#2CA02C",
           "#D62728",
           "#9467BD",
           "#8C564B",
           "#E377C2",
           "#7F7F7F",
           "#BCBD22",
           "#17BECF"
          ],
          "font": {
           "color": "rgb(36,36,36)"
          },
          "geo": {
           "bgcolor": "white",
           "lakecolor": "white",
           "landcolor": "white",
           "showlakes": true,
           "showland": true,
           "subunitcolor": "white"
          },
          "hoverlabel": {
           "align": "left"
          },
          "hovermode": "closest",
          "mapbox": {
           "style": "light"
          },
          "paper_bgcolor": "white",
          "plot_bgcolor": "white",
          "polar": {
           "angularaxis": {
            "gridcolor": "rgb(232,232,232)",
            "linecolor": "rgb(36,36,36)",
            "showgrid": false,
            "showline": true,
            "ticks": "outside"
           },
           "bgcolor": "white",
           "radialaxis": {
            "gridcolor": "rgb(232,232,232)",
            "linecolor": "rgb(36,36,36)",
            "showgrid": false,
            "showline": true,
            "ticks": "outside"
           }
          },
          "scene": {
           "xaxis": {
            "backgroundcolor": "white",
            "gridcolor": "rgb(232,232,232)",
            "gridwidth": 2,
            "linecolor": "rgb(36,36,36)",
            "showbackground": true,
            "showgrid": false,
            "showline": true,
            "ticks": "outside",
            "zeroline": false,
            "zerolinecolor": "rgb(36,36,36)"
           },
           "yaxis": {
            "backgroundcolor": "white",
            "gridcolor": "rgb(232,232,232)",
            "gridwidth": 2,
            "linecolor": "rgb(36,36,36)",
            "showbackground": true,
            "showgrid": false,
            "showline": true,
            "ticks": "outside",
            "zeroline": false,
            "zerolinecolor": "rgb(36,36,36)"
           },
           "zaxis": {
            "backgroundcolor": "white",
            "gridcolor": "rgb(232,232,232)",
            "gridwidth": 2,
            "linecolor": "rgb(36,36,36)",
            "showbackground": true,
            "showgrid": false,
            "showline": true,
            "ticks": "outside",
            "zeroline": false,
            "zerolinecolor": "rgb(36,36,36)"
           }
          },
          "shapedefaults": {
           "fillcolor": "black",
           "line": {
            "width": 0
           },
           "opacity": 0.3
          },
          "ternary": {
           "aaxis": {
            "gridcolor": "rgb(232,232,232)",
            "linecolor": "rgb(36,36,36)",
            "showgrid": false,
            "showline": true,
            "ticks": "outside"
           },
           "baxis": {
            "gridcolor": "rgb(232,232,232)",
            "linecolor": "rgb(36,36,36)",
            "showgrid": false,
            "showline": true,
            "ticks": "outside"
           },
           "bgcolor": "white",
           "caxis": {
            "gridcolor": "rgb(232,232,232)",
            "linecolor": "rgb(36,36,36)",
            "showgrid": false,
            "showline": true,
            "ticks": "outside"
           }
          },
          "title": {
           "x": 0.05
          },
          "xaxis": {
           "automargin": true,
           "gridcolor": "rgb(232,232,232)",
           "linecolor": "rgb(36,36,36)",
           "showgrid": false,
           "showline": true,
           "ticks": "outside",
           "title": {
            "standoff": 15
           },
           "zeroline": false,
           "zerolinecolor": "rgb(36,36,36)"
          },
          "yaxis": {
           "automargin": true,
           "gridcolor": "rgb(232,232,232)",
           "linecolor": "rgb(36,36,36)",
           "showgrid": false,
           "showline": true,
           "ticks": "outside",
           "title": {
            "standoff": 15
           },
           "zeroline": false,
           "zerolinecolor": "rgb(36,36,36)"
          }
         }
        },
        "title": {
         "text": "BCG Matrix Countries Growth vs Market Share"
        },
        "xaxis": {
         "anchor": "y",
         "domain": [
          0,
          1
         ],
         "range": [
          0,
          1.05
         ],
         "title": {
          "text": "Relative MS by category, 2012 [%]"
         }
        },
        "yaxis": {
         "anchor": "x",
         "domain": [
          0,
          1
         ],
         "range": [
          -10,
          10
         ],
         "title": {
          "text": "GDP growth, 2012 [%]"
         }
        }
       }
      },
      "text/html": [
       "<div>                            <div id=\"ebbeb877-976e-4788-8794-da5c487f4d07\" class=\"plotly-graph-div\" style=\"height:525px; width:100%;\"></div>            <script type=\"text/javascript\">                require([\"plotly\"], function(Plotly) {                    window.PLOTLYENV=window.PLOTLYENV || {};                                    if (document.getElementById(\"ebbeb877-976e-4788-8794-da5c487f4d07\")) {                    Plotly.newPlot(                        \"ebbeb877-976e-4788-8794-da5c487f4d07\",                        [{\"hovertemplate\":\"<b>%{hovertext}</b><br><br>category=Fashion & Shoes<br>relative_MS=%{x}<br>growth_GDP=%{y}<br>sum_amount_x=%{marker.size}<extra></extra>\",\"hovertext\":[\"Algeria\",\"Andorra\",\"Angola\",\"Argentina\",\"Australia\",\"Austria\",\"Azerbaijan\",\"Bahrain\",\"Belarus\",\"Belgium\",\"Bosnia and Herzegovina\",\"Botswana\",\"Brazil\",\"Bulgaria\",\"Canada\",\"Cayman Islands\",\"Chile\",\"China\",\"Colombia\",\"Costa Rica\",\"Croatia\",\"Curacao\",\"Cyprus\",\"Czechia\",\"C\\u00f4te d'Ivoire\",\"Denmark\",\"Dominican Republic\",\"Ecuador\",\"Egypt\",\"El Salvador\",\"Estonia\",\"Finland\",\"France\",\"Georgia\",\"Greece\",\"Guatemala\",\"Honduras\",\"Hong Kong\",\"Hungary\",\"Iceland\",\"India\",\"Indonesia\",\"Iraq\",\"Ireland\",\"Israel\",\"Italy\",\"Jamaica\",\"Japan\",\"Jordan\",\"Kazakhstan\",\"Korea, Republic of\",\"Kuwait\",\"Latvia\",\"Lebanon\",\"Lithuania\",\"Luxembourg\",\"Malawi\",\"Malaysia\",\"Mexico\",\"Moldova, Republic of\",\"Mongolia\",\"Morocco\",\"Mozambique\",\"Netherlands\",\"New Zealand\",\"Nigeria\",\"North Macedonia\",\"Norway\",\"Pakistan\",\"Panama\",\"Paraguay\",\"Peru\",\"Philippines\",\"Poland\",\"Portugal\",\"Puerto Rico\",\"Qatar\",\"Romania\",\"Russian Federation\",\"Saudi Arabia\",\"Senegal\",\"Singapore\",\"Slovakia\",\"Slovenia\",\"South Africa\",\"Sri Lanka\",\"Sweden\",\"Switzerland\",\"Taiwan, Province of China\",\"Thailand\",\"Trinidad and Tobago\",\"Turkey\",\"Uganda\",\"Ukraine\",\"United Arab Emirates\",\"United Kingdom \",\"United States of America\",\"Uruguay\",\"Uzbekistan\",\"Venezuela (Bolivarian Republic of)\",\"Viet Nam\",\"Zimbabwe\"],\"legendgroup\":\"Fashion & Shoes\",\"marker\":{\"color\":\"#636efa\",\"size\":[1183,3864,2381,9060,4011,2784,147,503,508,1629,312,585,20580,1414,7170,250,10172,60555,2978,317,106,108,3553,907,242,4154,562,1565,5081,217,617,5707,32603,2668,215,492,105,4149,125,452,2656,13105,86,2077,9909,9600,238,27828,50,5163,20368,1202,3705,1804,405,1237,15,6499,5654,101,654,66,1072,9643,215,336,92,10575,875,520,254,429,1923,2690,3079,79,485,2453,18032,227,122,12854,419,132,3582,103,14508,13039,13724,9499,129,3050,325,1634,6203,16860,32881,1213,462,3031,1297,127],\"sizemode\":\"area\",\"sizeref\":156.49,\"symbol\":\"circle\"},\"mode\":\"markers\",\"name\":\"Fashion & Shoes\",\"orientation\":\"v\",\"showlegend\":true,\"x\":[0.019535959045495828,0.06380975972256626,0.03931962678556684,0.14961605152340846,0.06623730492940301,0.04597473371315333,0.0024275452068367597,0.008306498224754356,0.008389067789612749,0.026901164230864503,0.005152340847163735,0.009660639088432005,0.33985632895714635,0.023350672941953594,0.11840475600693584,0.00412847824291966,0.1679795227479151,1.0,0.04917843282965899,0.005234910412022128,0.0017504747749979355,0.001783502600941293,0.058673932788374204,0.014978119065312524,0.00399636693914623,0.06859879448435306,0.009280819090083397,0.02584427380067707,0.08390719180909917,0.003583519114854265,0.010189084303525721,0.09424490132937,0.5384031046156387,0.04405911980843861,0.003550491288910907,0.00812484518206589,0.0017339608620262571,0.06851622491949468,0.00206423912145983,0.0074642886631987445,0.04386095285277847,0.21641482949384855,0.0014201965155643628,0.03429939724217653,0.16363636363636364,0.15853356452811493,0.003930311287259516,0.45954917017587316,0.000825695648583932,0.08526133267277682,0.3363553794071505,0.019849723391957723,0.06118404756006936,0.029791099000908264,0.006688134753529849,0.020427710345966476,0.0002477086945751796,0.10732392040293948,0.09336966394187102,0.0016679052101395426,0.01080009908347783,0.0010899182561307902,0.017702914705639502,0.1592436627858971,0.003550491288910907,0.005548674758484023,0.0015192799933944348,0.17463462967550158,0.014449673850218808,0.008587234745272891,0.004194533894806374,0.007084468664850136,0.031756254644538025,0.04442242589381554,0.05084633803979853,0.0013045991247626124,0.00800924779126414,0.040508628519527703,0.2977788787053092,0.003748658244571051,0.0020146973825447938,0.21226983733795723,0.006919329535133349,0.0021798365122615805,0.05915283626455289,0.0017009330360828996,0.23958384939311367,0.21532491123771777,0.22663694162331766,0.15686565931797541,0.0021302947733465444,0.05036743456361985,0.005367021715795558,0.026983733795722897,0.10243580216332258,0.27842457270250187,0.5429939724217653,0.020031376434646187,0.007629427792915531,0.05005367021715796,0.021418545124267194,0.002097266947403187],\"xaxis\":\"x\",\"y\":[3.4,-4.974443719000001,8.540000003,-1.026420454,3.917362463,0.680445577,2.165239475,3.72810843,1.687135536,0.739217283,-0.821836474,4.456144448,1.921175985,0.754930386,1.7622225490000003,1.229753683,6.155340019,7.863736449,3.9126357670000003,4.88259241,-2.275706646,-0.065889655,-3.446822086,-0.785004299,7.620411763,0.226499792,2.717367897,5.641962066999999,2.226199797,2.815501822,3.228200494,-1.397545728,0.313134751,6.369008306,-7.086696786,2.974708568,4.128687749,1.700288005,-1.257749507,1.063636607,5.456388753,6.030050653,13.93643017,-0.052354785,2.822996205,-2.980905768,-0.61363604,1.374750999,2.429358001,4.8,2.402530992,6.6258183,7.037317185,2.564791337,3.843864749,1.6499020300000002,1.885799508,5.473454193,3.6423226790000003,-0.589733963,12.31981985,3.009961262,7.258439253,-1.030353991,2.245302935,4.230061175,-0.456183224,2.703109471,3.50703342,9.778827683,-0.708043112,6.139724705999999,6.896951711000001,1.324896305,-4.057293608,0.02927511,4.730011832,2.040665131,4.024086157,5.41142278,4.002995551,4.435497594,1.358226806,-2.639438757,2.396232385,9.144572246,-0.588304569,1.217193657,7.863736448999999,7.242796201999999,1.342687023,4.788492711,3.837455606,0.152314967,4.483791985,1.469887521,2.280687603,3.538178707,7.102444887,5.625956975000001,5.5,16.66542877],\"yaxis\":\"y\",\"type\":\"scatter\"},{\"hovertemplate\":\"<b>%{hovertext}</b><br><br>category=Health<br>relative_MS=%{x}<br>growth_GDP=%{y}<br>sum_amount_x=%{marker.size}<extra></extra>\",\"hovertext\":[\"Algeria\",\"Andorra\",\"Argentina\",\"Austria\",\"Belgium\",\"Bosnia and Herzegovina\",\"Brazil\",\"Canada\",\"Chile\",\"China\",\"Colombia\",\"Costa Rica\",\"Denmark\",\"Dominican Republic\",\"Ecuador\",\"Egypt\",\"El Salvador\",\"Finland\",\"France\",\"Greece\",\"Guatemala\",\"Iceland\",\"India\",\"Ireland\",\"Israel\",\"Italy\",\"Japan\",\"Jordan\",\"Kazakhstan\",\"Korea, Republic of\",\"Kuwait\",\"Lebanon\",\"Lithuania\",\"Luxembourg\",\"Mexico\",\"Mozambique\",\"Netherlands\",\"Norway\",\"Panama\",\"Peru\",\"Philippines\",\"Poland\",\"Portugal\",\"Puerto Rico\",\"Qatar\",\"Romania\",\"Russian Federation\",\"Singapore\",\"Slovenia\",\"South Africa\",\"Sweden\",\"Switzerland\",\"Taiwan, Province of China\",\"Turkey\",\"Ukraine\",\"United Kingdom \",\"United States of America\",\"Uruguay\",\"Uzbekistan\",\"Venezuela (Bolivarian Republic of)\",\"Viet Nam\"],\"legendgroup\":\"Health\",\"marker\":{\"color\":\"#EF553B\",\"size\":[217,705,343,540,129,6,1113,262,452,1010,374,24,168,149,12,380,11,150,3495,120,19,10,22,700,207,965,299,80,10,175,6,40,11,438,520,76,612,776,282,33,109,89,372,13,78,30,1666,21,60,21,299,1998,32,27,915,2515,2537,27,18,628,206],\"sizemode\":\"area\",\"sizeref\":156.49,\"symbol\":\"circle\"},\"mode\":\"markers\",\"name\":\"Health\",\"orientation\":\"v\",\"showlegend\":true,\"x\":[0.062088698140200294,0.20171673819742492,0.09814020028612304,0.15450643776824036,0.0369098712446352,0.0017167381974248928,0.31845493562231764,0.07496423462088699,0.12932761087267527,0.2889842632331903,0.10701001430615165,0.006866952789699571,0.048068669527897,0.042632331902718174,0.0034334763948497857,0.10872675250357654,0.0031473533619456365,0.042918454935622324,1.0,0.03433476394849786,0.005436337625178827,0.002861230329041488,0.006294706723891273,0.20028612303290416,0.059227467811158806,0.2761087267525036,0.08555078683834048,0.022889842632331903,0.002861230329041488,0.05007153075822604,0.0017167381974248928,0.011444921316165951,0.0031473533619456365,0.1253218884120172,0.14878397711015737,0.02174535050071531,0.17510729613733905,0.22203147353361946,0.08068669527896996,0.00944206008583691,0.03118741058655222,0.025464949928469243,0.10643776824034336,0.003719599427753934,0.022317596566523608,0.008583690987124465,0.4766809728183119,0.006008583690987125,0.01716738197424893,0.006008583690987125,0.08555078683834048,0.5716738197424893,0.009155937052932762,0.007725321888412018,0.26180257510729615,0.7195994277539343,0.7258941344778255,0.007725321888412018,0.005150214592274678,0.17968526466380544,0.058941344778254655],\"xaxis\":\"x\",\"y\":[3.4,-4.974443719,-1.026420454,0.680445577,0.739217283,-0.821836474,1.921175985,1.7622225489999999,6.155340019,7.863736448999999,3.912635767,4.88259241,0.226499792,2.717367897,5.641962067,2.226199797,2.815501822,-1.397545728,0.313134751,-7.086696786,2.974708568,1.063636607,5.456388753,-0.052354785,2.822996205,-2.980905768,1.374750999,2.429358001,4.8,2.402530992,6.6258183,2.564791337,3.843864749,1.64990203,3.642322679,7.258439253,-1.030353991,2.703109471,9.778827683,6.139724706,6.896951711,1.324896305,-4.057293608,0.02927511,4.730011832,2.040665131,4.024086157,4.435497594,-2.639438757,2.396232385,-0.588304569,1.217193657,7.863736449,4.788492711,0.152314967,1.469887521,2.280687603,3.538178707,7.102444887,5.625956975,5.5],\"yaxis\":\"y\",\"type\":\"scatter\"},{\"hovertemplate\":\"<b>%{hovertext}</b><br><br>category=Accommodation<br>relative_MS=%{x}<br>growth_GDP=%{y}<br>sum_amount_x=%{marker.size}<extra></extra>\",\"hovertext\":[\"Andorra\",\"Argentina\",\"Armenia\",\"Australia\",\"Austria\",\"Bahrain\",\"Belgium\",\"Botswana\",\"Brazil\",\"Bulgaria\",\"Canada\",\"Chile\",\"China\",\"Colombia\",\"Costa Rica\",\"Cyprus\",\"Denmark\",\"Egypt\",\"Finland\",\"France\",\"Greece\",\"Guatemala\",\"Honduras\",\"Hong Kong\",\"Iceland\",\"India\",\"Indonesia\",\"Ireland\",\"Israel\",\"Italy\",\"Japan\",\"Jordan\",\"Kazakhstan\",\"Kenya\",\"Korea, Republic of\",\"Kuwait\",\"Lebanon\",\"Lithuania\",\"Malaysia\",\"Malta\",\"Mexico\",\"Netherlands\",\"Nigeria\",\"Norway\",\"Pakistan\",\"Panama\",\"Philippines\",\"Poland\",\"Portugal\",\"Qatar\",\"Romania\",\"Russian Federation\",\"Samoa\",\"Saudi Arabia\",\"Senegal\",\"Singapore\",\"Slovenia\",\"South Africa\",\"Sri Lanka\",\"Sweden\",\"Switzerland\",\"Taiwan, Province of China\",\"Trinidad and Tobago\",\"Turkey\",\"Ukraine\",\"United Arab Emirates\",\"United Kingdom \",\"United States of America\",\"Venezuela (Bolivarian Republic of)\"],\"legendgroup\":\"Accommodation\",\"marker\":{\"color\":\"#00cc96\",\"size\":[522,7421,28,2110,2461,72,3382,267,1517,30,5975,892,13436,1885,32,365,2091,860,34563,18992,2488,312,479,2673,18,1657,8,1741,3731,10267,6068,1018,1939,361,1677,325,118,521,153,814,713,3916,817,1346,500,80,274,887,1527,91,126,9146,30,551,691,182,96,1333,549,14663,5989,1557,1462,752,185,4604,34490,62596,117],\"sizemode\":\"area\",\"sizeref\":156.49,\"symbol\":\"circle\"},\"mode\":\"markers\",\"name\":\"Accommodation\",\"orientation\":\"v\",\"showlegend\":true,\"x\":[0.008339191002619976,0.11855390120774491,0.00044731292734360024,0.03370822416767844,0.039315611221164296,0.0011502332417406864,0.05402901143843057,0.004265448271455045,0.02423477538500863,0.00047926385072528596,0.09545338360278613,0.014250111828231835,0.21464630327816475,0.0301137452872388,0.0005112147741069717,0.005831043517157646,0.03340469039555243,0.013738897054124862,0.5521598824206019,0.3034059684324877,0.039746948686817045,0.004984344047542975,0.007652246149913732,0.04270240909962298,0.0002875583104351716,0.02647134002172663,0.00012780369352674293,0.02781327880375743,0.05960444756853473,0.1640200651798837,0.09693910154003452,0.016263020001278036,0.030976420218544316,0.005767141670394274,0.026790849255543484,0.005192025049523931,0.001885104479519458,0.008323215540929133,0.0024442456386989586,0.013004025816346092,0.011390504185570962,0.06255990798134066,0.013051952201418622,0.021502971435874495,0.007987730845421433,0.001278036935267429,0.004377276503290945,0.01417023451977762,0.024394530001917054,0.0014537670138667009,0.002012908173046201,0.14611157262444885,0.00047926385072528596,0.00880247939165442,0.01103904402837242,0.0029075340277334018,0.001533644322320915,0.02129529043389354,0.008770528468272733,0.23424819477282893,0.09567704006645791,0.024873793852642344,0.02335612499201227,0.012013547191513834,0.0029554604128059297,0.07355102562464055,0.5509936737171705,1.0,0.0018691290178286153],\"xaxis\":\"x\",\"y\":[-4.974443719,-1.026420454,7.200000001,3.917362463,0.680445577,3.72810843,0.7392172830000001,4.456144448,1.921175985,0.754930386,1.762222549,6.155340019,7.863736449,3.912635767,4.88259241,-3.446822086,0.22649979199999998,2.226199797,-1.397545728,0.313134751,-7.086696786,2.974708568,4.128687749,1.7002880050000002,1.063636607,5.456388753,6.030050653,-0.052354785,2.822996205,-2.980905768,1.374750999,2.429358001,4.8,4.568679614,2.402530992,6.6258183,2.564791337,3.843864749,5.473454193,4.117707299,3.642322679,-1.030353991,4.230061175,2.703109471,3.50703342,9.778827683,6.896951711,1.324896305,-4.057293608,4.730011832,2.040665131,4.024086157,-4.088722796,5.41142278,4.002995551,4.435497594,-2.639438757,2.396232385,9.144572246,-0.588304569,1.217193657,7.863736449,1.342687023,4.788492711,0.152314967,4.483791985,1.469887521,2.280687603,5.625956975],\"yaxis\":\"y\",\"type\":\"scatter\"},{\"hovertemplate\":\"<b>%{hovertext}</b><br><br>category=Automocion<br>relative_MS=%{x}<br>growth_GDP=%{y}<br>sum_amount_x=%{marker.size}<extra></extra>\",\"hovertext\":[\"Andorra\",\"Bahrain\",\"Belgium\",\"India\",\"United Kingdom \"],\"legendgroup\":\"Automocion\",\"marker\":{\"color\":\"#ab63fa\",\"size\":[390,120,1135,115,56],\"sizemode\":\"area\",\"sizeref\":156.49,\"symbol\":\"circle\"},\"mode\":\"markers\",\"name\":\"Automocion\",\"orientation\":\"v\",\"showlegend\":true,\"x\":[0.3436123348017621,0.10572687224669604,1.0,0.10132158590308371,0.04933920704845815],\"xaxis\":\"x\",\"y\":[-4.974443719,3.72810843,0.739217283,5.456388753,1.469887521],\"yaxis\":\"y\",\"type\":\"scatter\"},{\"hovertemplate\":\"<b>%{hovertext}</b><br><br>category=Bars & restaurants<br>relative_MS=%{x}<br>growth_GDP=%{y}<br>sum_amount_x=%{marker.size}<extra></extra>\",\"hovertext\":[\"Andorra\",\"Angola\",\"Argentina\",\"Australia\",\"Austria\",\"Belarus\",\"Belgium\",\"Bolivia (Plurinational State of)\",\"Brazil\",\"Canada\",\"Cayman Islands\",\"Chile\",\"China\",\"Colombia\",\"Costa Rica\",\"Croatia\",\"Curacao\",\"Cyprus\",\"Czechia\",\"C\\u00f4te d'Ivoire\",\"Denmark\",\"Dominican Republic\",\"Ecuador\",\"Egypt\",\"Estonia\",\"Finland\",\"France\",\"Georgia\",\"Guatemala\",\"Honduras\",\"Hong Kong\",\"Hungary\",\"Iceland\",\"India\",\"Indonesia\",\"Ireland\",\"Israel\",\"Italy\",\"Japan\",\"Jordan\",\"Kazakhstan\",\"Kenya\",\"Korea, Republic of\",\"Kuwait\",\"Latvia\",\"Lebanon\",\"Lithuania\",\"Luxembourg\",\"Malaysia\",\"Malta\",\"Mexico\",\"Moldova, Republic of\",\"Morocco\",\"Netherlands\",\"Nigeria\",\"North Macedonia\",\"Norway\",\"Oman\",\"Panama\",\"Paraguay\",\"Peru\",\"Philippines\",\"Poland\",\"Portugal\",\"Puerto Rico\",\"Qatar\",\"Romania\",\"Russian Federation\",\"Saudi Arabia\",\"Singapore\",\"Slovakia\",\"South Africa\",\"Sweden\",\"Switzerland\",\"Taiwan, Province of China\",\"Thailand\",\"Turkey\",\"Ukraine\",\"United Arab Emirates\",\"United Kingdom \",\"United States of America\",\"Uruguay\",\"Uzbekistan\",\"Venezuela (Bolivarian Republic of)\"],\"legendgroup\":\"Bars & restaurants\",\"marker\":{\"color\":\"#FFA15A\",\"size\":[2184,91,3039,478,1667,16,1534,85,4954,5146,600,1578,10908,946,382,497,174,124,100,8,1899,211,356,477,374,2444,15109,1419,488,25,1733,140,27,633,758,2807,3586,11396,8079,1346,76,325,4298,166,559,1451,669,453,573,40,1514,107,43,3319,212,71,1856,133,1638,13,2469,3657,2310,1585,129,10,2689,9866,1000,275,51,1465,4908,4145,1231,487,1945,543,2261,20516,33685,114,195,1161],\"sizemode\":\"area\",\"sizeref\":156.49,\"symbol\":\"circle\"},\"mode\":\"markers\",\"name\":\"Bars & restaurants\",\"orientation\":\"v\",\"showlegend\":true,\"x\":[0.06483598040670921,0.002701499183612884,0.09021819801098412,0.014190292415021523,0.04948790262728217,0.00047498886744841917,0.045539557666617186,0.002523378358319727,0.14706842808371678,0.1527682944930978,0.01781208252931572,0.04684577705210034,0.3238236603829598,0.028083716787887788,0.011340359210331007,0.01475434169511652,0.005165503933501558,0.0036811637227252485,0.00296868042155262,0.00023749443372420958,0.056375241205284254,0.0062639156894760285,0.010568502300727327,0.014160605610805996,0.011102864776606798,0.07255454950274602,0.44853792489238536,0.04212557518183167,0.014487160457176787,0.000742170105388155,0.051447231705506906,0.004156152590173668,0.0008015437138192073,0.018791747068428084,0.02250259759536886,0.08333085943298203,0.10645687991687695,0.3383108208401366,0.23983969125723617,0.039958438474098266,0.0022561971203799913,0.009648211370046015,0.12759388451833162,0.0049280094997773485,0.016594923556479145,0.043075552916728516,0.019860472020187026,0.01344812230963337,0.017010538815496513,0.001187472168621048,0.044945821582306665,0.003176488051061303,0.0012765325812676266,0.09853050319133144,0.0062936024936915535,0.00210776309930236,0.055098708624016626,0.0039483449606649845,0.048626985305031914,0.0003859284548018406,0.07329671960813419,0.10856464301617931,0.06857651773786552,0.04705358468160903,0.0038295977438028797,0.000296868042155262,0.07982781653554995,0.2928900103903815,0.029686804215526198,0.008163871159269705,0.0015140270149918364,0.04349116817574588,0.14570283508980258,0.12305180347335609,0.03654445598931275,0.01445747365296126,0.057740834199198454,0.016119934689030727,0.06712186433130474,0.6090544752857355,1.0,0.0033842956805699865,0.005788926822027609,0.03446637969422592],\"xaxis\":\"x\",\"y\":[-4.974443719,8.540000003,-1.026420454,3.917362463,0.680445577,1.687135536,0.739217283,5.122275581,1.921175985,1.7622225490000003,1.229753683,6.155340019,7.863736449,3.912635767,4.88259241,-2.275706646,-0.065889655,-3.446822086,-0.785004299,7.620411763,0.226499792,2.7173678970000004,5.641962067,2.226199797,3.2282004940000006,-1.397545728,0.313134751,6.369008306,2.974708568,4.128687749,1.700288005,-1.257749507,1.063636607,5.456388753,6.030050653,-0.052354785,2.822996205,-2.980905768,1.374750999,2.429358001,4.8,4.568679614,2.402530992,6.6258183,7.037317185,2.564791337,3.843864749,1.64990203,5.473454192999999,4.117707299,3.642322679,-0.589733963,3.009961262,-1.030353991,4.230061175,-0.45618322399999994,2.703109471,8.863122256,9.778827683,-0.708043112,6.139724706,6.896951711,1.324896305,-4.057293608,0.02927511,4.730011832,2.040665131,4.024086157,5.41142278,4.435497594,1.358226806,2.396232385,-0.588304569,1.217193657,7.863736449,7.242796202,4.788492711,0.152314967,4.483791985,1.469887521,2.280687603,3.538178707,7.102444887,5.625956975],\"yaxis\":\"y\",\"type\":\"scatter\"},{\"hovertemplate\":\"<b>%{hovertext}</b><br><br>category=Culture & Leisure<br>relative_MS=%{x}<br>growth_GDP=%{y}<br>sum_amount_x=%{marker.size}<extra></extra>\",\"hovertext\":[\"Andorra\",\"Argentina\",\"Austria\",\"Brazil\",\"Canada\",\"Cayman Islands\",\"Chile\",\"China\",\"Egypt\",\"Finland\",\"France\",\"Israel\",\"Italy\",\"Japan\",\"Kazakhstan\",\"Korea, Republic of\",\"Kuwait\",\"Malaysia\",\"Morocco\",\"North Macedonia\",\"Norway\",\"Paraguay\",\"Portugal\",\"Romania\",\"Russian Federation\",\"Saudi Arabia\",\"Sweden\",\"Switzerland\",\"Taiwan, Province of China\",\"United Kingdom \",\"United States of America\",\"Venezuela (Bolivarian Republic of)\"],\"legendgroup\":\"Culture & Leisure\",\"marker\":{\"color\":\"#19d3f3\",\"size\":[505,28,9,415,334,303,353,4,90,24,396,66,20,216,37,31,252,1009,202,45,4036,29,9,83,92,6054,54,59,65,2117,6785,24],\"sizemode\":\"area\",\"sizeref\":156.49,\"symbol\":\"circle\"},\"mode\":\"markers\",\"name\":\"Culture & Leisure\",\"orientation\":\"v\",\"showlegend\":true,\"x\":[0.07442888725128961,0.004126750184229919,0.001326455416359617,0.06116433308769344,0.04922623434045689,0.044657332350773765,0.05202652910832719,0.0005895357406042741,0.01326455416359617,0.003537214443625645,0.05836403831982314,0.009727339719970524,0.0029476787030213707,0.0318349299926308,0.005453205600589536,0.004568901989683125,0.03714075165806927,0.14871039056742816,0.029771554900515848,0.006632277081798085,0.5948415622697126,0.0042741341193809875,0.001326455416359617,0.012232866617538689,0.013559322033898305,0.892262343404569,0.0079587324981577,0.008695652173913044,0.009579955784819454,0.31201179071481205,1.0,0.003537214443625645],\"xaxis\":\"x\",\"y\":[-4.974443719,-1.026420454,0.680445577,1.921175985,1.762222549,1.229753683,6.155340019,7.863736449,2.226199797,-1.397545728,0.313134751,2.822996205,-2.980905768,1.374750999,4.8,2.402530992,6.6258183,5.473454193,3.009961262,-0.456183224,2.703109471,-0.708043112,-4.057293608,2.040665131,4.024086157,5.41142278,-0.588304569,1.217193657,7.863736449,1.469887521,2.280687603,5.625956975],\"yaxis\":\"y\",\"type\":\"scatter\"},{\"hovertemplate\":\"<b>%{hovertext}</b><br><br>category=Food<br>relative_MS=%{x}<br>growth_GDP=%{y}<br>sum_amount_x=%{marker.size}<extra></extra>\",\"hovertext\":[\"Andorra\",\"Argentina\",\"Australia\",\"Austria\",\"Belarus\",\"Belgium\",\"Bolivia (Plurinational State of)\",\"Brazil\",\"Canada\",\"China\",\"Colombia\",\"Croatia\",\"Czechia\",\"Denmark\",\"El Salvador\",\"Estonia\",\"Finland\",\"France\",\"Guatemala\",\"Ireland\",\"Israel\",\"Italy\",\"Japan\",\"Mexico\",\"Netherlands\",\"Norway\",\"Philippines\",\"Poland\",\"Russian Federation\",\"Slovenia\",\"Sweden\",\"Ukraine\",\"United Kingdom \",\"United States of America\"],\"legendgroup\":\"Food\",\"marker\":{\"color\":\"#FF6692\",\"size\":[95,9,14,117,6,42,13,136,1170,511,8,19,6,274,5,12,64,393,13,29,55,166,285,27,70,180,11,80,395,48,160,22,6746,2047],\"sizemode\":\"area\",\"sizeref\":156.49,\"symbol\":\"circle\"},\"mode\":\"markers\",\"name\":\"Food\",\"orientation\":\"v\",\"showlegend\":true,\"x\":[0.014082419211384525,0.0013341239252890602,0.0020753038837829827,0.017343611028757783,0.0008894159501927068,0.006225911651348947,0.001927067892084198,0.02016009487103469,0.1734361102875778,0.07574859175807887,0.0011858879335902757,0.002816483842276905,0.0008894159501927068,0.04061666172546694,0.0007411799584939224,0.0017788319003854136,0.009487103468722205,0.058256744737622296,0.001927067892084198,0.004298843759264749,0.008152979543433147,0.024607174621998223,0.04224725763415357,0.004002371775867181,0.010376519418914914,0.026682478505781204,0.001630595908686629,0.011858879335902758,0.05855321672101987,0.0071153276015416544,0.023717758671805516,0.003261191817373258,1.0,0.3034390750074118],\"xaxis\":\"x\",\"y\":[-4.974443719,-1.026420454,3.917362463,0.680445577,1.687135536,0.739217283,5.122275581,1.921175985,1.762222549,7.863736449,3.912635767,-2.275706646,-0.785004299,0.226499792,2.815501822,3.228200494,-1.397545728,0.313134751,2.974708568,-0.052354785,2.8229962050000004,-2.980905768,1.374750999,3.642322679,-1.030353991,2.703109471,6.896951711,1.324896305,4.024086157,-2.639438757,-0.588304569,0.152314967,1.4698875210000002,2.280687603],\"yaxis\":\"y\",\"type\":\"scatter\"},{\"hovertemplate\":\"<b>%{hovertext}</b><br><br>category=Hogar y reformas<br>relative_MS=%{x}<br>growth_GDP=%{y}<br>sum_amount_x=%{marker.size}<extra></extra>\",\"hovertext\":[\"Andorra\",\"Argentina\",\"Australia\",\"Austria\",\"Belgium\",\"Belize\",\"Brazil\",\"China\",\"Colombia\",\"Cyprus\",\"Denmark\",\"Dominican Republic\",\"Finland\",\"France\",\"Italy\",\"Japan\",\"Lithuania\",\"Mexico\",\"Netherlands\",\"Norway\",\"Peru\",\"Poland\",\"Portugal\",\"Russian Federation\",\"Singapore\",\"South Africa\",\"Sweden\",\"Switzerland\",\"Turkey\",\"United Kingdom \",\"United States of America\"],\"legendgroup\":\"Hogar y reformas\",\"marker\":{\"color\":\"#B6E880\",\"size\":[434,7,36,11,20,30,283,14,8,14,153,25,53,1021,290,346,12,33,30,320,26,114,16,171,34,34,131,252,26,198,570],\"sizemode\":\"area\",\"sizeref\":156.49,\"symbol\":\"circle\"},\"mode\":\"markers\",\"name\":\"Hogar y reformas\",\"orientation\":\"v\",\"showlegend\":true,\"x\":[0.42507345739471103,0.006856023506366307,0.03525954946131244,0.010773751224289911,0.019588638589618023,0.029382957884427033,0.27717923604309497,0.013712047012732613,0.007835455435847209,0.013712047012732613,0.14985308521057786,0.024485798237022526,0.05190989226248776,1.0,0.2840352595494613,0.33888344760039174,0.011753183153770814,0.03232125367286973,0.029382957884427033,0.31341821743388837,0.025465230166503428,0.11165523996082272,0.015670910871694418,0.1674828599412341,0.03330068560235063,0.03330068560235063,0.12830558276199802,0.24681684622918706,0.025465230166503428,0.1939275220372184,0.5582761998041136],\"xaxis\":\"x\",\"y\":[-4.974443719,-1.026420454,3.917362463,0.680445577,0.739217283,2.428309945,1.921175985,7.863736449,3.912635767,-3.446822086,0.226499792,2.717367897,-1.397545728,0.31313475100000004,-2.980905768,1.374750999,3.843864749,3.642322679,-1.030353991,2.703109471,6.139724706,1.324896305,-4.057293608,4.024086157,4.435497594,2.396232385,-0.588304569,1.217193657,4.788492711,1.4698875209999998,2.280687603],\"yaxis\":\"y\",\"type\":\"scatter\"},{\"hovertemplate\":\"<b>%{hovertext}</b><br><br>category=Other goods and services<br>relative_MS=%{x}<br>growth_GDP=%{y}<br>sum_amount_x=%{marker.size}<extra></extra>\",\"hovertext\":[\"Andorra\",\"Argentina\",\"Australia\",\"Austria\",\"Bahrain\",\"Belgium\",\"Belize\",\"Brazil\",\"Bulgaria\",\"Canada\",\"Chile\",\"China\",\"Colombia\",\"Czechia\",\"Denmark\",\"Dominican Republic\",\"Finland\",\"France\",\"Ireland\",\"Israel\",\"Italy\",\"Japan\",\"Korea, Republic of\",\"Malaysia\",\"Mexico\",\"Netherlands\",\"Norway\",\"Panama\",\"Peru\",\"Philippines\",\"Poland\",\"Portugal\",\"Russian Federation\",\"Saudi Arabia\",\"Slovenia\",\"South Africa\",\"Sweden\",\"Switzerland\",\"Turkey\",\"United Arab Emirates\",\"United Kingdom \",\"United States of America\",\"Venezuela (Bolivarian Republic of)\"],\"legendgroup\":\"Other goods and services\",\"marker\":{\"color\":\"#FF97FF\",\"size\":[1298,457,144,15,26,1249,94,1128,61,4079,39,1017,95,200,155,5,82,4965,161,302,3013,570,470,58,100,1144,201,20,180,151,58,1193,328,21,19,75,305,230,61,855,3234,1120,205],\"sizemode\":\"area\",\"sizeref\":156.49,\"symbol\":\"circle\"},\"mode\":\"markers\",\"name\":\"Other goods and services\",\"orientation\":\"v\",\"showlegend\":true,\"x\":[0.26143001007049343,0.09204431017119839,0.029003021148036257,0.003021148036253777,0.0052366565961732125,0.2515609264853978,0.018932527693857,0.22719033232628397,0.012286002014098692,0.8215508559919436,0.00785498489425982,0.20483383685800605,0.019133937562940583,0.04028197381671702,0.031218529707955692,0.0010070493454179255,0.01651560926485398,1.0,0.0324269889224572,0.060825780463242704,0.6068479355488419,0.1148036253776435,0.094662638469285,0.011681772406847937,0.02014098690835851,0.23041289023162137,0.04048338368580061,0.004028197381671702,0.03625377643504532,0.030412890231621352,0.011681772406847937,0.240281973816717,0.06606243705941592,0.004229607250755287,0.0038267875125881172,0.015105740181268881,0.06143001007049346,0.04632426988922458,0.012286002014098692,0.17220543806646527,0.6513595166163142,0.22557905337361533,0.041289023162134945],\"xaxis\":\"x\",\"y\":[-4.974443718999999,-1.026420454,3.917362463,0.680445577,3.72810843,0.739217283,2.428309945,1.921175985,0.754930386,1.7622225489999999,6.155340019,7.863736449,3.912635767,-0.785004299,0.226499792,2.717367897,-1.397545728,0.313134751,-0.052354785,2.822996205,-2.980905768,1.374750999,2.402530992,5.473454193,3.6423226790000003,-1.030353991,2.703109471,9.778827683,6.139724706,6.896951711,1.324896305,-4.057293608,4.024086157,5.41142278,-2.639438757,2.396232385,-0.588304569,1.217193657,4.788492711,4.483791985,1.469887521,2.280687603,5.625956975],\"yaxis\":\"y\",\"type\":\"scatter\"},{\"hovertemplate\":\"<b>%{hovertext}</b><br><br>category=Personal products<br>relative_MS=%{x}<br>growth_GDP=%{y}<br>sum_amount_x=%{marker.size}<extra></extra>\",\"hovertext\":[\"Andorra\",\"Argentina\",\"Australia\",\"Austria\",\"Brazil\",\"Bulgaria\",\"China\",\"Colombia\",\"Costa Rica\",\"Ecuador\",\"Egypt\",\"Finland\",\"France\",\"Georgia\",\"Greece\",\"Guatemala\",\"Ireland\",\"Israel\",\"Italy\",\"Japan\",\"Mexico\",\"Netherlands\",\"Norway\",\"Portugal\",\"Russian Federation\",\"Singapore\",\"South Africa\",\"Sweden\",\"Switzerland\",\"Taiwan, Province of China\",\"Turkey\",\"United Kingdom \",\"United States of America\",\"Venezuela (Bolivarian Republic of)\"],\"legendgroup\":\"Personal products\",\"marker\":{\"color\":\"#FECB52\",\"size\":[179,15,54,39,409,210,355,142,26,58,85,40,1467,13,30,26,55,97,402,610,136,90,94,127,43,42,262,211,302,14,96,304,922,20],\"sizemode\":\"area\",\"sizeref\":156.49,\"symbol\":\"circle\"},\"mode\":\"markers\",\"name\":\"Personal products\",\"orientation\":\"v\",\"showlegend\":true,\"x\":[0.12201772324471712,0.010224948875255624,0.03680981595092025,0.026584867075664622,0.27880027266530333,0.14314928425357873,0.24199045671438307,0.09679618268575324,0.017723244717109746,0.03953646898432175,0.05794137695978187,0.027266530334014997,1.0,0.008861622358554873,0.02044989775051125,0.017723244717109746,0.03749147920927062,0.06612133605998637,0.2740286298568507,0.4158145875937287,0.09270620313565099,0.06134969325153374,0.06407634628493523,0.08657123381049761,0.02931152010906612,0.028629856850715747,0.17859577368779822,0.1438309475119291,0.20586230402181324,0.00954328561690525,0.06543967280163598,0.20722563053851398,0.6284935241990457,0.013633265167007498],\"xaxis\":\"x\",\"y\":[-4.974443719,-1.026420454,3.917362463,0.680445577,1.9211759850000003,0.754930386,7.863736449,3.912635767,4.88259241,5.641962067,2.226199797,-1.397545728,0.313134751,6.369008306,-7.086696786,2.974708568,-0.052354785,2.822996205,-2.980905768,1.374750999,3.642322679,-1.030353991,2.703109471,-4.057293608,4.024086157,4.435497594,2.396232385,-0.588304569,1.217193657,7.863736449,4.788492711,1.4698875209999998,2.280687603,5.625956975],\"yaxis\":\"y\",\"type\":\"scatter\"},{\"hovertemplate\":\"<b>%{hovertext}</b><br><br>category=Transportation<br>relative_MS=%{x}<br>growth_GDP=%{y}<br>sum_amount_x=%{marker.size}<extra></extra>\",\"hovertext\":[\"Andorra\",\"Argentina\",\"Australia\",\"Austria\",\"Belgium\",\"Brazil\",\"Canada\",\"Chile\",\"China\",\"Czechia\",\"Denmark\",\"Finland\",\"France\",\"Guatemala\",\"India\",\"Ireland\",\"Israel\",\"Italy\",\"Japan\",\"Jordan\",\"Korea, Republic of\",\"Lebanon\",\"Luxembourg\",\"Mexico\",\"Netherlands\",\"New Zealand\",\"Nicaragua\",\"Norway\",\"Panama\",\"Poland\",\"Romania\",\"Russian Federation\",\"Sweden\",\"Switzerland\",\"Taiwan, Province of China\",\"Thailand\",\"Ukraine\",\"United Kingdom \",\"United States of America\"],\"legendgroup\":\"Transportation\",\"marker\":{\"color\":\"#636efa\",\"size\":[33,372,227,145,43,272,137,472,393,80,27,201,1051,31,10856,10,266,435,277,10,17,32,6,124,187,153,159,124,12,76,45,754,238,747,11,219,60,756,36798],\"sizemode\":\"area\",\"sizeref\":156.49,\"symbol\":\"circle\"},\"mode\":\"markers\",\"name\":\"Transportation\",\"orientation\":\"v\",\"showlegend\":true,\"x\":[0.0008967878689059188,0.01010924506766672,0.006168813522474048,0.0039404315451926734,0.001168541768574379,0.007391706070982119,0.003723028425457905,0.012826784064351324,0.010679928256970488,0.002174031197347682,0.0007337355291048426,0.005462253383336051,0.028561334855155173,0.0008424370889722269,0.29501603348008043,0.00027175389966846024,0.007228653731181043,0.011821294635578022,0.0075275830208163495,0.00027175389966846024,0.00046198162943638244,0.0008696124789390728,0.00016305233980107615,0.0033697483558889074,0.005081797923800206,0.004157834664927442,0.004320887004728518,0.0033697483558889074,0.0003261046796021523,0.002065329637480298,0.0012228925485080712,0.020490244035001902,0.006467742812109355,0.02030001630523398,0.0002989292896353063,0.00595141040273928,0.0016305233980107615,0.020544594814935594,1.0],\"xaxis\":\"x\",\"y\":[-4.974443719,-1.026420454,3.917362463,0.680445577,0.739217283,1.921175985,1.7622225489999999,6.155340019,7.863736449,-0.785004299,0.226499792,-1.397545728,0.313134751,2.974708568,5.456388753,-0.052354785,2.8229962050000004,-2.980905768,1.374750999,2.429358001,2.402530992,2.564791337,1.64990203,3.642322679,-1.030353991,2.245302935,6.495258014,2.703109471,9.778827683,1.324896305,2.040665131,4.024086157,-0.588304569,1.217193657,7.863736449,7.242796202,0.152314967,1.469887521,2.280687603],\"yaxis\":\"y\",\"type\":\"scatter\"},{\"hovertemplate\":\"<b>%{hovertext}</b><br><br>category=Books & Music<br>relative_MS=%{x}<br>growth_GDP=%{y}<br>sum_amount_x=%{marker.size}<extra></extra>\",\"hovertext\":[\"Argentina\",\"Brazil\",\"Canada\",\"Chile\",\"Colombia\",\"Costa Rica\",\"Dominican Republic\",\"Ecuador\",\"France\",\"Guatemala\",\"Italy\",\"Korea, Republic of\",\"Mexico\",\"Peru\",\"Portugal\",\"Puerto Rico\",\"South Africa\",\"Switzerland\",\"United Arab Emirates\",\"United Kingdom \",\"United States of America\",\"Uruguay\",\"Venezuela (Bolivarian Republic of)\"],\"legendgroup\":\"Books & Music\",\"marker\":{\"color\":\"#EF553B\",\"size\":[2351,2778,659,1376,3165,594,256,2079,252,256,82,29,1852,290,260,1108,101,561,95,111,2436,263,100],\"sizemode\":\"area\",\"sizeref\":156.49,\"symbol\":\"circle\"},\"mode\":\"markers\",\"name\":\"Books & Music\",\"orientation\":\"v\",\"showlegend\":true,\"x\":[0.7428120063191153,0.8777251184834123,0.20821484992101102,0.43475513428120055,1.0,0.1876777251184834,0.08088467614533965,0.656872037914692,0.07962085308056871,0.08088467614533965,0.025908372827804105,0.009162717219589257,0.5851500789889414,0.09162717219589257,0.08214849921011058,0.35007898894154815,0.031911532385466033,0.17725118483412322,0.030015797788309633,0.035071090047393366,0.7696682464454976,0.08309636650868878,0.0315955766192733],\"xaxis\":\"x\",\"y\":[-1.026420454,1.921175985,1.762222549,6.155340019,3.912635767,4.88259241,2.717367897,5.641962067,0.313134751,2.974708568,-2.980905768,2.402530992,3.642322679,6.139724706,-4.057293608,0.02927511,2.396232385,1.217193657,4.483791985,1.469887521,2.280687603,3.538178707,5.625956975],\"yaxis\":\"y\",\"type\":\"scatter\"},{\"hovertemplate\":\"<b>%{hovertext}</b><br><br>category=Electronics & computing<br>relative_MS=%{x}<br>growth_GDP=%{y}<br>sum_amount_x=%{marker.size}<extra></extra>\",\"hovertext\":[\"Argentina\",\"Australia\",\"Austria\",\"Brazil\",\"Colombia\",\"Denmark\",\"Dominican Republic\",\"Finland\",\"France\",\"Honduras\",\"Italy\",\"Mexico\",\"Netherlands\",\"Portugal\",\"Russian Federation\",\"South Africa\",\"Sri Lanka\",\"Sweden\",\"Switzerland\",\"Turkey\",\"United Kingdom \",\"United States of America\",\"Venezuela (Bolivarian Republic of)\"],\"legendgroup\":\"Electronics & computing\",\"marker\":{\"color\":\"#00cc96\",\"size\":[147,204,43,83,30,93,69,20,291,29,135,46,22,5,20,12,50,20,120,86,453,224,156],\"sizemode\":\"area\",\"sizeref\":156.49,\"symbol\":\"circle\"},\"mode\":\"markers\",\"name\":\"Electronics & computing\",\"orientation\":\"v\",\"showlegend\":true,\"x\":[0.32450331125827814,0.45033112582781454,0.09492273730684327,0.18322295805739516,0.0662251655629139,0.2052980132450331,0.152317880794702,0.044150110375275935,0.642384105960265,0.06401766004415012,0.2980132450331126,0.10154525386313466,0.04856512141280353,0.011037527593818984,0.044150110375275935,0.026490066225165566,0.11037527593818984,0.044150110375275935,0.2649006622516556,0.18984547461368653,1.0,0.49448123620309054,0.3443708609271523],\"xaxis\":\"x\",\"y\":[-1.026420454,3.917362463,0.680445577,1.921175985,3.912635767,0.226499792,2.717367897,-1.397545728,0.313134751,4.128687749,-2.980905768,3.642322679,-1.030353991,-4.057293608,4.024086157,2.396232385,9.144572246,-0.588304569,1.217193657,4.788492711,1.469887521,2.280687603,5.625956975],\"yaxis\":\"y\",\"type\":\"scatter\"},{\"hovertemplate\":\"<b>%{hovertext}</b><br><br>category=Sports & Games<br>relative_MS=%{x}<br>growth_GDP=%{y}<br>sum_amount_x=%{marker.size}<extra></extra>\",\"hovertext\":[\"Argentina\",\"Australia\",\"Belgium\",\"Brazil\",\"Bulgaria\",\"Chile\",\"China\",\"Colombia\",\"Cyprus\",\"Finland\",\"France\",\"India\",\"Indonesia\",\"Israel\",\"Italy\",\"Korea, Republic of\",\"Mexico\",\"Mozambique\",\"Netherlands\",\"Nigeria\",\"Norway\",\"Oman\",\"Portugal\",\"Russian Federation\",\"Saudi Arabia\",\"Slovakia\",\"Sweden\",\"Switzerland\",\"Turkey\",\"Ukraine\",\"United Kingdom \",\"United States of America\",\"Venezuela (Bolivarian Republic of)\"],\"legendgroup\":\"Sports & Games\",\"marker\":{\"color\":\"#ab63fa\",\"size\":[371,94,54,115,147,56,225,365,38,65,200,220,85,224,126,120,458,175,707,95,249,96,425,106,432,40,110,231,43,142,363,1672,74],\"sizemode\":\"area\",\"sizeref\":156.49,\"symbol\":\"circle\"},\"mode\":\"markers\",\"name\":\"Sports & Games\",\"orientation\":\"v\",\"showlegend\":true,\"x\":[0.22188995215311005,0.05622009569377991,0.03229665071770335,0.0687799043062201,0.08791866028708134,0.03349282296650718,0.13456937799043062,0.21830143540669855,0.022727272727272728,0.038875598086124404,0.11961722488038277,0.13157894736842105,0.05083732057416268,0.1339712918660287,0.07535885167464115,0.07177033492822966,0.27392344497607657,0.10466507177033492,0.4228468899521531,0.05681818181818182,0.14892344497607657,0.05741626794258373,0.2541866028708134,0.06339712918660287,0.2583732057416268,0.023923444976076555,0.06578947368421052,0.13815789473684212,0.025717703349282296,0.08492822966507177,0.21710526315789477,1.0,0.04425837320574163],\"xaxis\":\"x\",\"y\":[-1.026420454,3.917362463,0.739217283,1.921175985,0.754930386,6.155340019,7.863736449,3.912635767,-3.446822086,-1.397545728,0.313134751,5.456388753,6.030050653,2.8229962050000004,-2.980905768,2.402530992,3.642322679,7.258439253,-1.030353991,4.230061175,2.703109471,8.863122256,-4.057293608,4.024086157,5.41142278,1.358226806,-0.588304569,1.217193657,4.788492711,0.152314967,1.469887521,2.280687603,5.625956975],\"yaxis\":\"y\",\"type\":\"scatter\"},{\"hovertemplate\":\"<b>%{hovertext}</b><br><br>category=Agencias de viajes<br>relative_MS=%{x}<br>growth_GDP=%{y}<br>sum_amount_x=%{marker.size}<extra></extra>\",\"hovertext\":[\"Canada\",\"France\",\"Italy\",\"Norway\"],\"legendgroup\":\"Agencias de viajes\",\"marker\":{\"color\":\"#FFA15A\",\"size\":[1232,181,37,66],\"sizemode\":\"area\",\"sizeref\":156.49,\"symbol\":\"circle\"},\"mode\":\"markers\",\"name\":\"Agencias de viajes\",\"orientation\":\"v\",\"showlegend\":true,\"x\":[1.0,0.14691558441558442,0.030032467532467532,0.053571428571428575],\"xaxis\":\"x\",\"y\":[1.762222549,0.313134751,-2.980905768,2.703109471],\"yaxis\":\"y\",\"type\":\"scatter\"}],                        {\"legend\":{\"itemsizing\":\"constant\",\"title\":{\"text\":\"category\"},\"tracegroupgap\":0},\"margin\":{\"t\":60},\"template\":{\"data\":{\"barpolar\":[{\"marker\":{\"line\":{\"color\":\"white\",\"width\":0.5},\"pattern\":{\"fillmode\":\"overlay\",\"size\":10,\"solidity\":0.2}},\"type\":\"barpolar\"}],\"bar\":[{\"error_x\":{\"color\":\"rgb(36,36,36)\"},\"error_y\":{\"color\":\"rgb(36,36,36)\"},\"marker\":{\"line\":{\"color\":\"white\",\"width\":0.5},\"pattern\":{\"fillmode\":\"overlay\",\"size\":10,\"solidity\":0.2}},\"type\":\"bar\"}],\"carpet\":[{\"aaxis\":{\"endlinecolor\":\"rgb(36,36,36)\",\"gridcolor\":\"white\",\"linecolor\":\"white\",\"minorgridcolor\":\"white\",\"startlinecolor\":\"rgb(36,36,36)\"},\"baxis\":{\"endlinecolor\":\"rgb(36,36,36)\",\"gridcolor\":\"white\",\"linecolor\":\"white\",\"minorgridcolor\":\"white\",\"startlinecolor\":\"rgb(36,36,36)\"},\"type\":\"carpet\"}],\"choropleth\":[{\"colorbar\":{\"outlinewidth\":1,\"tickcolor\":\"rgb(36,36,36)\",\"ticks\":\"outside\"},\"type\":\"choropleth\"}],\"contourcarpet\":[{\"colorbar\":{\"outlinewidth\":1,\"tickcolor\":\"rgb(36,36,36)\",\"ticks\":\"outside\"},\"type\":\"contourcarpet\"}],\"contour\":[{\"colorbar\":{\"outlinewidth\":1,\"tickcolor\":\"rgb(36,36,36)\",\"ticks\":\"outside\"},\"colorscale\":[[0.0,\"#440154\"],[0.1111111111111111,\"#482878\"],[0.2222222222222222,\"#3e4989\"],[0.3333333333333333,\"#31688e\"],[0.4444444444444444,\"#26828e\"],[0.5555555555555556,\"#1f9e89\"],[0.6666666666666666,\"#35b779\"],[0.7777777777777778,\"#6ece58\"],[0.8888888888888888,\"#b5de2b\"],[1.0,\"#fde725\"]],\"type\":\"contour\"}],\"heatmapgl\":[{\"colorbar\":{\"outlinewidth\":1,\"tickcolor\":\"rgb(36,36,36)\",\"ticks\":\"outside\"},\"colorscale\":[[0.0,\"#440154\"],[0.1111111111111111,\"#482878\"],[0.2222222222222222,\"#3e4989\"],[0.3333333333333333,\"#31688e\"],[0.4444444444444444,\"#26828e\"],[0.5555555555555556,\"#1f9e89\"],[0.6666666666666666,\"#35b779\"],[0.7777777777777778,\"#6ece58\"],[0.8888888888888888,\"#b5de2b\"],[1.0,\"#fde725\"]],\"type\":\"heatmapgl\"}],\"heatmap\":[{\"colorbar\":{\"outlinewidth\":1,\"tickcolor\":\"rgb(36,36,36)\",\"ticks\":\"outside\"},\"colorscale\":[[0.0,\"#440154\"],[0.1111111111111111,\"#482878\"],[0.2222222222222222,\"#3e4989\"],[0.3333333333333333,\"#31688e\"],[0.4444444444444444,\"#26828e\"],[0.5555555555555556,\"#1f9e89\"],[0.6666666666666666,\"#35b779\"],[0.7777777777777778,\"#6ece58\"],[0.8888888888888888,\"#b5de2b\"],[1.0,\"#fde725\"]],\"type\":\"heatmap\"}],\"histogram2dcontour\":[{\"colorbar\":{\"outlinewidth\":1,\"tickcolor\":\"rgb(36,36,36)\",\"ticks\":\"outside\"},\"colorscale\":[[0.0,\"#440154\"],[0.1111111111111111,\"#482878\"],[0.2222222222222222,\"#3e4989\"],[0.3333333333333333,\"#31688e\"],[0.4444444444444444,\"#26828e\"],[0.5555555555555556,\"#1f9e89\"],[0.6666666666666666,\"#35b779\"],[0.7777777777777778,\"#6ece58\"],[0.8888888888888888,\"#b5de2b\"],[1.0,\"#fde725\"]],\"type\":\"histogram2dcontour\"}],\"histogram2d\":[{\"colorbar\":{\"outlinewidth\":1,\"tickcolor\":\"rgb(36,36,36)\",\"ticks\":\"outside\"},\"colorscale\":[[0.0,\"#440154\"],[0.1111111111111111,\"#482878\"],[0.2222222222222222,\"#3e4989\"],[0.3333333333333333,\"#31688e\"],[0.4444444444444444,\"#26828e\"],[0.5555555555555556,\"#1f9e89\"],[0.6666666666666666,\"#35b779\"],[0.7777777777777778,\"#6ece58\"],[0.8888888888888888,\"#b5de2b\"],[1.0,\"#fde725\"]],\"type\":\"histogram2d\"}],\"histogram\":[{\"marker\":{\"line\":{\"color\":\"white\",\"width\":0.6}},\"type\":\"histogram\"}],\"mesh3d\":[{\"colorbar\":{\"outlinewidth\":1,\"tickcolor\":\"rgb(36,36,36)\",\"ticks\":\"outside\"},\"type\":\"mesh3d\"}],\"parcoords\":[{\"line\":{\"colorbar\":{\"outlinewidth\":1,\"tickcolor\":\"rgb(36,36,36)\",\"ticks\":\"outside\"}},\"type\":\"parcoords\"}],\"pie\":[{\"automargin\":true,\"type\":\"pie\"}],\"scatter3d\":[{\"line\":{\"colorbar\":{\"outlinewidth\":1,\"tickcolor\":\"rgb(36,36,36)\",\"ticks\":\"outside\"}},\"marker\":{\"colorbar\":{\"outlinewidth\":1,\"tickcolor\":\"rgb(36,36,36)\",\"ticks\":\"outside\"}},\"type\":\"scatter3d\"}],\"scattercarpet\":[{\"marker\":{\"colorbar\":{\"outlinewidth\":1,\"tickcolor\":\"rgb(36,36,36)\",\"ticks\":\"outside\"}},\"type\":\"scattercarpet\"}],\"scattergeo\":[{\"marker\":{\"colorbar\":{\"outlinewidth\":1,\"tickcolor\":\"rgb(36,36,36)\",\"ticks\":\"outside\"}},\"type\":\"scattergeo\"}],\"scattergl\":[{\"marker\":{\"colorbar\":{\"outlinewidth\":1,\"tickcolor\":\"rgb(36,36,36)\",\"ticks\":\"outside\"}},\"type\":\"scattergl\"}],\"scattermapbox\":[{\"marker\":{\"colorbar\":{\"outlinewidth\":1,\"tickcolor\":\"rgb(36,36,36)\",\"ticks\":\"outside\"}},\"type\":\"scattermapbox\"}],\"scatterpolargl\":[{\"marker\":{\"colorbar\":{\"outlinewidth\":1,\"tickcolor\":\"rgb(36,36,36)\",\"ticks\":\"outside\"}},\"type\":\"scatterpolargl\"}],\"scatterpolar\":[{\"marker\":{\"colorbar\":{\"outlinewidth\":1,\"tickcolor\":\"rgb(36,36,36)\",\"ticks\":\"outside\"}},\"type\":\"scatterpolar\"}],\"scatter\":[{\"marker\":{\"colorbar\":{\"outlinewidth\":1,\"tickcolor\":\"rgb(36,36,36)\",\"ticks\":\"outside\"}},\"type\":\"scatter\"}],\"scatterternary\":[{\"marker\":{\"colorbar\":{\"outlinewidth\":1,\"tickcolor\":\"rgb(36,36,36)\",\"ticks\":\"outside\"}},\"type\":\"scatterternary\"}],\"surface\":[{\"colorbar\":{\"outlinewidth\":1,\"tickcolor\":\"rgb(36,36,36)\",\"ticks\":\"outside\"},\"colorscale\":[[0.0,\"#440154\"],[0.1111111111111111,\"#482878\"],[0.2222222222222222,\"#3e4989\"],[0.3333333333333333,\"#31688e\"],[0.4444444444444444,\"#26828e\"],[0.5555555555555556,\"#1f9e89\"],[0.6666666666666666,\"#35b779\"],[0.7777777777777778,\"#6ece58\"],[0.8888888888888888,\"#b5de2b\"],[1.0,\"#fde725\"]],\"type\":\"surface\"}],\"table\":[{\"cells\":{\"fill\":{\"color\":\"rgb(237,237,237)\"},\"line\":{\"color\":\"white\"}},\"header\":{\"fill\":{\"color\":\"rgb(217,217,217)\"},\"line\":{\"color\":\"white\"}},\"type\":\"table\"}]},\"layout\":{\"annotationdefaults\":{\"arrowhead\":0,\"arrowwidth\":1},\"autotypenumbers\":\"strict\",\"coloraxis\":{\"colorbar\":{\"outlinewidth\":1,\"tickcolor\":\"rgb(36,36,36)\",\"ticks\":\"outside\"}},\"colorscale\":{\"diverging\":[[0.0,\"rgb(103,0,31)\"],[0.1,\"rgb(178,24,43)\"],[0.2,\"rgb(214,96,77)\"],[0.3,\"rgb(244,165,130)\"],[0.4,\"rgb(253,219,199)\"],[0.5,\"rgb(247,247,247)\"],[0.6,\"rgb(209,229,240)\"],[0.7,\"rgb(146,197,222)\"],[0.8,\"rgb(67,147,195)\"],[0.9,\"rgb(33,102,172)\"],[1.0,\"rgb(5,48,97)\"]],\"sequential\":[[0.0,\"#440154\"],[0.1111111111111111,\"#482878\"],[0.2222222222222222,\"#3e4989\"],[0.3333333333333333,\"#31688e\"],[0.4444444444444444,\"#26828e\"],[0.5555555555555556,\"#1f9e89\"],[0.6666666666666666,\"#35b779\"],[0.7777777777777778,\"#6ece58\"],[0.8888888888888888,\"#b5de2b\"],[1.0,\"#fde725\"]],\"sequentialminus\":[[0.0,\"#440154\"],[0.1111111111111111,\"#482878\"],[0.2222222222222222,\"#3e4989\"],[0.3333333333333333,\"#31688e\"],[0.4444444444444444,\"#26828e\"],[0.5555555555555556,\"#1f9e89\"],[0.6666666666666666,\"#35b779\"],[0.7777777777777778,\"#6ece58\"],[0.8888888888888888,\"#b5de2b\"],[1.0,\"#fde725\"]]},\"colorway\":[\"#1F77B4\",\"#FF7F0E\",\"#2CA02C\",\"#D62728\",\"#9467BD\",\"#8C564B\",\"#E377C2\",\"#7F7F7F\",\"#BCBD22\",\"#17BECF\"],\"font\":{\"color\":\"rgb(36,36,36)\"},\"geo\":{\"bgcolor\":\"white\",\"lakecolor\":\"white\",\"landcolor\":\"white\",\"showlakes\":true,\"showland\":true,\"subunitcolor\":\"white\"},\"hoverlabel\":{\"align\":\"left\"},\"hovermode\":\"closest\",\"mapbox\":{\"style\":\"light\"},\"paper_bgcolor\":\"white\",\"plot_bgcolor\":\"white\",\"polar\":{\"angularaxis\":{\"gridcolor\":\"rgb(232,232,232)\",\"linecolor\":\"rgb(36,36,36)\",\"showgrid\":false,\"showline\":true,\"ticks\":\"outside\"},\"bgcolor\":\"white\",\"radialaxis\":{\"gridcolor\":\"rgb(232,232,232)\",\"linecolor\":\"rgb(36,36,36)\",\"showgrid\":false,\"showline\":true,\"ticks\":\"outside\"}},\"scene\":{\"xaxis\":{\"backgroundcolor\":\"white\",\"gridcolor\":\"rgb(232,232,232)\",\"gridwidth\":2,\"linecolor\":\"rgb(36,36,36)\",\"showbackground\":true,\"showgrid\":false,\"showline\":true,\"ticks\":\"outside\",\"zeroline\":false,\"zerolinecolor\":\"rgb(36,36,36)\"},\"yaxis\":{\"backgroundcolor\":\"white\",\"gridcolor\":\"rgb(232,232,232)\",\"gridwidth\":2,\"linecolor\":\"rgb(36,36,36)\",\"showbackground\":true,\"showgrid\":false,\"showline\":true,\"ticks\":\"outside\",\"zeroline\":false,\"zerolinecolor\":\"rgb(36,36,36)\"},\"zaxis\":{\"backgroundcolor\":\"white\",\"gridcolor\":\"rgb(232,232,232)\",\"gridwidth\":2,\"linecolor\":\"rgb(36,36,36)\",\"showbackground\":true,\"showgrid\":false,\"showline\":true,\"ticks\":\"outside\",\"zeroline\":false,\"zerolinecolor\":\"rgb(36,36,36)\"}},\"shapedefaults\":{\"fillcolor\":\"black\",\"line\":{\"width\":0},\"opacity\":0.3},\"ternary\":{\"aaxis\":{\"gridcolor\":\"rgb(232,232,232)\",\"linecolor\":\"rgb(36,36,36)\",\"showgrid\":false,\"showline\":true,\"ticks\":\"outside\"},\"baxis\":{\"gridcolor\":\"rgb(232,232,232)\",\"linecolor\":\"rgb(36,36,36)\",\"showgrid\":false,\"showline\":true,\"ticks\":\"outside\"},\"bgcolor\":\"white\",\"caxis\":{\"gridcolor\":\"rgb(232,232,232)\",\"linecolor\":\"rgb(36,36,36)\",\"showgrid\":false,\"showline\":true,\"ticks\":\"outside\"}},\"title\":{\"x\":0.05},\"xaxis\":{\"automargin\":true,\"gridcolor\":\"rgb(232,232,232)\",\"linecolor\":\"rgb(36,36,36)\",\"showgrid\":false,\"showline\":true,\"ticks\":\"outside\",\"title\":{\"standoff\":15},\"zeroline\":false,\"zerolinecolor\":\"rgb(36,36,36)\"},\"yaxis\":{\"automargin\":true,\"gridcolor\":\"rgb(232,232,232)\",\"linecolor\":\"rgb(36,36,36)\",\"showgrid\":false,\"showline\":true,\"ticks\":\"outside\",\"title\":{\"standoff\":15},\"zeroline\":false,\"zerolinecolor\":\"rgb(36,36,36)\"}}},\"xaxis\":{\"anchor\":\"y\",\"domain\":[0.0,1.0],\"title\":{\"text\":\"Relative MS by category, 2012 [%]\"},\"range\":[0,1.05]},\"yaxis\":{\"anchor\":\"x\",\"domain\":[0.0,1.0],\"title\":{\"text\":\"GDP growth, 2012 [%]\"},\"range\":[-10,10]},\"title\":{\"text\":\"BCG Matrix Countries Growth vs Market Share\"},\"shapes\":[{\"line\":{\"color\":\"black\",\"dash\":\"dash\",\"width\":2},\"type\":\"line\",\"x0\":0,\"x1\":1,\"xref\":\"x domain\",\"y0\":0,\"y1\":0,\"yref\":\"y\"},{\"line\":{\"color\":\"black\",\"dash\":\"dash\",\"width\":2},\"type\":\"line\",\"x0\":0.5,\"x1\":0.5,\"xref\":\"x\",\"y0\":0,\"y1\":1,\"yref\":\"y domain\"}],\"annotations\":[{\"align\":\"left\",\"arrowcolor\":\"#636363\",\"arrowhead\":1,\"arrowsize\":1,\"arrowwidth\":2,\"ax\":-20,\"ay\":-30,\"font\":{\"color\":\"grey\",\"family\":\"Sans Serif\",\"size\":13},\"showarrow\":false,\"text\":\"Question Mark\",\"x\":0.25,\"y\":9,\"yanchor\":\"bottom\"},{\"align\":\"left\",\"arrowcolor\":\"#636363\",\"arrowhead\":1,\"arrowsize\":1,\"arrowwidth\":2,\"ax\":-20,\"ay\":-30,\"font\":{\"color\":\"grey\",\"family\":\"Sans Serif\",\"size\":13},\"showarrow\":false,\"text\":\"Stars\",\"x\":0.75,\"y\":9,\"yanchor\":\"bottom\"},{\"align\":\"left\",\"arrowcolor\":\"#636363\",\"arrowhead\":1,\"arrowsize\":1,\"arrowwidth\":2,\"ax\":-20,\"ay\":-30,\"font\":{\"color\":\"grey\",\"family\":\"Sans Serif\",\"size\":13},\"showarrow\":false,\"text\":\"Cash Cows\",\"x\":0.75,\"y\":-9,\"yanchor\":\"bottom\"},{\"align\":\"left\",\"arrowcolor\":\"#636363\",\"arrowhead\":1,\"arrowsize\":1,\"arrowwidth\":2,\"ax\":-20,\"ay\":-30,\"font\":{\"color\":\"grey\",\"family\":\"Sans Serif\",\"size\":13},\"showarrow\":false,\"text\":\"Dogs\",\"x\":0.25,\"y\":-9,\"yanchor\":\"bottom\"}]},                        {\"responsive\": true}                    ).then(function(){\n",
       "                            \n",
       "var gd = document.getElementById('ebbeb877-976e-4788-8794-da5c487f4d07');\n",
       "var x = new MutationObserver(function (mutations, observer) {{\n",
       "        var display = window.getComputedStyle(gd).display;\n",
       "        if (!display || display === 'none') {{\n",
       "            console.log([gd, 'removed!']);\n",
       "            Plotly.purge(gd);\n",
       "            observer.disconnect();\n",
       "        }}\n",
       "}});\n",
       "\n",
       "// Listen for the removal of the full notebook cells\n",
       "var notebookContainer = gd.closest('#notebook-container');\n",
       "if (notebookContainer) {{\n",
       "    x.observe(notebookContainer, {childList: true});\n",
       "}}\n",
       "\n",
       "// Listen for the clearing of the current output cell\n",
       "var outputEl = gd.closest('.output');\n",
       "if (outputEl) {{\n",
       "    x.observe(outputEl, {childList: true});\n",
       "}}\n",
       "\n",
       "                        })                };                });            </script>        </div>"
      ]
     },
     "metadata": {},
     "output_type": "display_data"
    }
   ],
   "source": [
    "data = px.scatter(df1, x='relative_MS', y='growth_GDP', color='category',size='sum_amount_x', hover_name='country_name',\n",
    "                  size_max=20)\n",
    "\n",
    "layout = go.Layout(\n",
    "    title='Growth-Share Matrix of countries Madrid transactions',\n",
    "    xaxis=dict(\n",
    "        title='Market Share of Purchases, 2012 [%]',\n",
    "        gridcolor='rgb(255, 255, 255)',\n",
    "        zerolinewidth=1,\n",
    "        ticklen=5,\n",
    "        gridwidth=2,\n",
    "    ),\n",
    "    yaxis=dict(\n",
    "        title='GDP per Capity, 2012 [%]',\n",
    "        gridcolor='rgb(255, 255, 255)',\n",
    "        zerolinewidth=1,\n",
    "        ticklen=5,\n",
    "        gridwidth=2,\n",
    "    ),\n",
    "    paper_bgcolor='rgb(0,0,0,0)',\n",
    "    plot_bgcolor='rgb(0,0,0,0)',\n",
    ")\n",
    "\n",
    "fig = go.Figure(data=data, layout=layout)\n",
    "\n",
    "fig = fig.update_layout(\n",
    "    yaxis_range=[-10,10], \n",
    "    title='BCG Matrix Countries Growth vs Market Share',\n",
    "    yaxis=dict(title='GDP growth, 2012 [%]'))    \n",
    "fig.update_layout(\n",
    "    xaxis_range=[0,1.05],\n",
    "    xaxis=dict(title='Relative MS by category, 2012 [%]'))\n",
    "\n",
    "fig.update_layout(template=\"simple_white\")\n",
    "fig.add_hline(y=0,line_width=2, line_dash=\"dash\", line_color=\"black\")\n",
    "fig.add_vline(x=0.5, line_width=2, line_dash=\"dash\", line_color=\"black\")\n",
    "\n",
    "fig.add_annotation(\n",
    "    x=0.25\n",
    "    , y=9\n",
    "    , text='Question Mark'\n",
    "    , yanchor='bottom'\n",
    "    , showarrow=False\n",
    "    , arrowhead=1\n",
    "    , arrowsize=1\n",
    "    , arrowwidth=2\n",
    "    , arrowcolor=\"#636363\"\n",
    "    , ax=-20\n",
    "    , ay=-30\n",
    "    , font=dict(size=13, color=\"grey\", family=\"Sans Serif\")\n",
    "    , align=\"left\"\n",
    "    ,)\n",
    "fig.add_annotation(\n",
    "    x=0.75\n",
    "    , y=9\n",
    "    , text='Stars'\n",
    "    , yanchor='bottom'\n",
    "    , showarrow=False\n",
    "    , arrowhead=1\n",
    "    , arrowsize=1\n",
    "    , arrowwidth=2\n",
    "    , arrowcolor=\"#636363\"\n",
    "    , ax=-20\n",
    "    , ay=-30\n",
    "    , font=dict(size=13, color=\"grey\", family=\"Sans Serif\")\n",
    "    , align=\"left\"\n",
    "    ,)\n",
    "\n",
    "fig.add_annotation(\n",
    "    x=0.75\n",
    "    , y=-9\n",
    "    , text='Cash Cows'\n",
    "    , yanchor='bottom'\n",
    "    , showarrow=False\n",
    "    , arrowhead=1\n",
    "    , arrowsize=1\n",
    "    , arrowwidth=2\n",
    "    , arrowcolor=\"#636363\"\n",
    "    , ax=-20\n",
    "    , ay=-30\n",
    "    , font=dict(size=13, color=\"grey\", family=\"Sans Serif\")\n",
    "    , align=\"left\"\n",
    "    ,)\n",
    "\n",
    "fig.add_annotation(\n",
    "    x=0.25\n",
    "    , y=-9\n",
    "    , text='Dogs'\n",
    "    , yanchor='bottom'\n",
    "    , showarrow=False\n",
    "    , arrowhead=1\n",
    "    , arrowsize=1\n",
    "    , arrowwidth=2\n",
    "    , arrowcolor=\"#636363\"\n",
    "    , ax=-20\n",
    "    , ay=-30\n",
    "    , font=dict(size=13, color=\"grey\", family=\"Sans Serif\")\n",
    "    , align=\"left\"\n",
    "    ,)"
   ]
  },
  {
   "cell_type": "code",
   "execution_count": 45,
   "id": "69bbbc91",
   "metadata": {},
   "outputs": [
    {
     "data": {
      "application/vnd.plotly.v1+json": {
       "config": {
        "plotlyServerURL": "https://plot.ly"
       },
       "data": [
        {
         "fill": "toself",
         "name": "USA",
         "r": [
          258.6611570247934,
          54.68344155844156,
          203,
          565.4166666666666,
          22.4,
          59.67513611615245,
          58.48571428571429,
          29.160919540229884,
          47.5,
          53.333333333333336,
          46.1,
          139.33333333333334,
          657.1071428571429
         ],
         "theta": [
          "Accommodation",
          "Bars & restaurants",
          "Books & Music",
          "Culture & Leisure",
          "Electronics & computing",
          "Fashion & Shoes",
          "Food",
          "Health",
          "Hogar y reformas",
          "Other goods and services",
          "Personal products",
          "Sports & Games",
          "Transportation"
         ],
         "type": "scatterpolar"
        },
        {
         "fill": "toself",
         "name": "Total",
         "r": [
          256.3874773139746,
          76.58491281273692,
          226.38709677419354,
          258.10869565217394,
          46.23529411764706,
          92.07483246463143,
          91.22758620689655,
          48.455373406193075,
          58.9,
          132.0497737556561,
          50.91240875912409,
          92.12790697674419,
          258.5925925925926
         ],
         "theta": [
          "Accommodation",
          "Bars & restaurants",
          "Books & Music",
          "Culture & Leisure",
          "Electronics & computing",
          "Fashion & Shoes",
          "Food",
          "Health",
          "Hogar y reformas",
          "Other goods and services",
          "Personal products",
          "Sports & Games",
          "Transportation"
         ],
         "type": "scatterpolar"
        },
        {
         "fill": "toself",
         "name": "Uk",
         "r": [
          191.61111111111111,
          77.12781954887218,
          111,
          1058.5,
          113.25,
          59.36619718309859,
          613.2727272727273,
          66.1842105263158,
          66,
          129.36,
          50.666666666666664,
          51.857142857142854,
          39.78947368421053
         ],
         "theta": [
          "Accommodation",
          "Bars & restaurants",
          "Books & Music",
          "Culture & Leisure",
          "Electronics & computing",
          "Fashion & Shoes",
          "Food",
          "Health",
          "Hogar y reformas",
          "Other goods and services",
          "Personal products",
          "Sports & Games",
          "Transportation"
         ],
         "type": "scatterpolar"
        }
       ],
       "layout": {
        "template": {
         "data": {
          "bar": [
           {
            "error_x": {
             "color": "#2a3f5f"
            },
            "error_y": {
             "color": "#2a3f5f"
            },
            "marker": {
             "line": {
              "color": "#E5ECF6",
              "width": 0.5
             },
             "pattern": {
              "fillmode": "overlay",
              "size": 10,
              "solidity": 0.2
             }
            },
            "type": "bar"
           }
          ],
          "barpolar": [
           {
            "marker": {
             "line": {
              "color": "#E5ECF6",
              "width": 0.5
             },
             "pattern": {
              "fillmode": "overlay",
              "size": 10,
              "solidity": 0.2
             }
            },
            "type": "barpolar"
           }
          ],
          "carpet": [
           {
            "aaxis": {
             "endlinecolor": "#2a3f5f",
             "gridcolor": "white",
             "linecolor": "white",
             "minorgridcolor": "white",
             "startlinecolor": "#2a3f5f"
            },
            "baxis": {
             "endlinecolor": "#2a3f5f",
             "gridcolor": "white",
             "linecolor": "white",
             "minorgridcolor": "white",
             "startlinecolor": "#2a3f5f"
            },
            "type": "carpet"
           }
          ],
          "choropleth": [
           {
            "colorbar": {
             "outlinewidth": 0,
             "ticks": ""
            },
            "type": "choropleth"
           }
          ],
          "contour": [
           {
            "colorbar": {
             "outlinewidth": 0,
             "ticks": ""
            },
            "colorscale": [
             [
              0,
              "#0d0887"
             ],
             [
              0.1111111111111111,
              "#46039f"
             ],
             [
              0.2222222222222222,
              "#7201a8"
             ],
             [
              0.3333333333333333,
              "#9c179e"
             ],
             [
              0.4444444444444444,
              "#bd3786"
             ],
             [
              0.5555555555555556,
              "#d8576b"
             ],
             [
              0.6666666666666666,
              "#ed7953"
             ],
             [
              0.7777777777777778,
              "#fb9f3a"
             ],
             [
              0.8888888888888888,
              "#fdca26"
             ],
             [
              1,
              "#f0f921"
             ]
            ],
            "type": "contour"
           }
          ],
          "contourcarpet": [
           {
            "colorbar": {
             "outlinewidth": 0,
             "ticks": ""
            },
            "type": "contourcarpet"
           }
          ],
          "heatmap": [
           {
            "colorbar": {
             "outlinewidth": 0,
             "ticks": ""
            },
            "colorscale": [
             [
              0,
              "#0d0887"
             ],
             [
              0.1111111111111111,
              "#46039f"
             ],
             [
              0.2222222222222222,
              "#7201a8"
             ],
             [
              0.3333333333333333,
              "#9c179e"
             ],
             [
              0.4444444444444444,
              "#bd3786"
             ],
             [
              0.5555555555555556,
              "#d8576b"
             ],
             [
              0.6666666666666666,
              "#ed7953"
             ],
             [
              0.7777777777777778,
              "#fb9f3a"
             ],
             [
              0.8888888888888888,
              "#fdca26"
             ],
             [
              1,
              "#f0f921"
             ]
            ],
            "type": "heatmap"
           }
          ],
          "heatmapgl": [
           {
            "colorbar": {
             "outlinewidth": 0,
             "ticks": ""
            },
            "colorscale": [
             [
              0,
              "#0d0887"
             ],
             [
              0.1111111111111111,
              "#46039f"
             ],
             [
              0.2222222222222222,
              "#7201a8"
             ],
             [
              0.3333333333333333,
              "#9c179e"
             ],
             [
              0.4444444444444444,
              "#bd3786"
             ],
             [
              0.5555555555555556,
              "#d8576b"
             ],
             [
              0.6666666666666666,
              "#ed7953"
             ],
             [
              0.7777777777777778,
              "#fb9f3a"
             ],
             [
              0.8888888888888888,
              "#fdca26"
             ],
             [
              1,
              "#f0f921"
             ]
            ],
            "type": "heatmapgl"
           }
          ],
          "histogram": [
           {
            "marker": {
             "pattern": {
              "fillmode": "overlay",
              "size": 10,
              "solidity": 0.2
             }
            },
            "type": "histogram"
           }
          ],
          "histogram2d": [
           {
            "colorbar": {
             "outlinewidth": 0,
             "ticks": ""
            },
            "colorscale": [
             [
              0,
              "#0d0887"
             ],
             [
              0.1111111111111111,
              "#46039f"
             ],
             [
              0.2222222222222222,
              "#7201a8"
             ],
             [
              0.3333333333333333,
              "#9c179e"
             ],
             [
              0.4444444444444444,
              "#bd3786"
             ],
             [
              0.5555555555555556,
              "#d8576b"
             ],
             [
              0.6666666666666666,
              "#ed7953"
             ],
             [
              0.7777777777777778,
              "#fb9f3a"
             ],
             [
              0.8888888888888888,
              "#fdca26"
             ],
             [
              1,
              "#f0f921"
             ]
            ],
            "type": "histogram2d"
           }
          ],
          "histogram2dcontour": [
           {
            "colorbar": {
             "outlinewidth": 0,
             "ticks": ""
            },
            "colorscale": [
             [
              0,
              "#0d0887"
             ],
             [
              0.1111111111111111,
              "#46039f"
             ],
             [
              0.2222222222222222,
              "#7201a8"
             ],
             [
              0.3333333333333333,
              "#9c179e"
             ],
             [
              0.4444444444444444,
              "#bd3786"
             ],
             [
              0.5555555555555556,
              "#d8576b"
             ],
             [
              0.6666666666666666,
              "#ed7953"
             ],
             [
              0.7777777777777778,
              "#fb9f3a"
             ],
             [
              0.8888888888888888,
              "#fdca26"
             ],
             [
              1,
              "#f0f921"
             ]
            ],
            "type": "histogram2dcontour"
           }
          ],
          "mesh3d": [
           {
            "colorbar": {
             "outlinewidth": 0,
             "ticks": ""
            },
            "type": "mesh3d"
           }
          ],
          "parcoords": [
           {
            "line": {
             "colorbar": {
              "outlinewidth": 0,
              "ticks": ""
             }
            },
            "type": "parcoords"
           }
          ],
          "pie": [
           {
            "automargin": true,
            "type": "pie"
           }
          ],
          "scatter": [
           {
            "marker": {
             "colorbar": {
              "outlinewidth": 0,
              "ticks": ""
             }
            },
            "type": "scatter"
           }
          ],
          "scatter3d": [
           {
            "line": {
             "colorbar": {
              "outlinewidth": 0,
              "ticks": ""
             }
            },
            "marker": {
             "colorbar": {
              "outlinewidth": 0,
              "ticks": ""
             }
            },
            "type": "scatter3d"
           }
          ],
          "scattercarpet": [
           {
            "marker": {
             "colorbar": {
              "outlinewidth": 0,
              "ticks": ""
             }
            },
            "type": "scattercarpet"
           }
          ],
          "scattergeo": [
           {
            "marker": {
             "colorbar": {
              "outlinewidth": 0,
              "ticks": ""
             }
            },
            "type": "scattergeo"
           }
          ],
          "scattergl": [
           {
            "marker": {
             "colorbar": {
              "outlinewidth": 0,
              "ticks": ""
             }
            },
            "type": "scattergl"
           }
          ],
          "scattermapbox": [
           {
            "marker": {
             "colorbar": {
              "outlinewidth": 0,
              "ticks": ""
             }
            },
            "type": "scattermapbox"
           }
          ],
          "scatterpolar": [
           {
            "marker": {
             "colorbar": {
              "outlinewidth": 0,
              "ticks": ""
             }
            },
            "type": "scatterpolar"
           }
          ],
          "scatterpolargl": [
           {
            "marker": {
             "colorbar": {
              "outlinewidth": 0,
              "ticks": ""
             }
            },
            "type": "scatterpolargl"
           }
          ],
          "scatterternary": [
           {
            "marker": {
             "colorbar": {
              "outlinewidth": 0,
              "ticks": ""
             }
            },
            "type": "scatterternary"
           }
          ],
          "surface": [
           {
            "colorbar": {
             "outlinewidth": 0,
             "ticks": ""
            },
            "colorscale": [
             [
              0,
              "#0d0887"
             ],
             [
              0.1111111111111111,
              "#46039f"
             ],
             [
              0.2222222222222222,
              "#7201a8"
             ],
             [
              0.3333333333333333,
              "#9c179e"
             ],
             [
              0.4444444444444444,
              "#bd3786"
             ],
             [
              0.5555555555555556,
              "#d8576b"
             ],
             [
              0.6666666666666666,
              "#ed7953"
             ],
             [
              0.7777777777777778,
              "#fb9f3a"
             ],
             [
              0.8888888888888888,
              "#fdca26"
             ],
             [
              1,
              "#f0f921"
             ]
            ],
            "type": "surface"
           }
          ],
          "table": [
           {
            "cells": {
             "fill": {
              "color": "#EBF0F8"
             },
             "line": {
              "color": "white"
             }
            },
            "header": {
             "fill": {
              "color": "#C8D4E3"
             },
             "line": {
              "color": "white"
             }
            },
            "type": "table"
           }
          ]
         },
         "layout": {
          "annotationdefaults": {
           "arrowcolor": "#2a3f5f",
           "arrowhead": 0,
           "arrowwidth": 1
          },
          "autotypenumbers": "strict",
          "coloraxis": {
           "colorbar": {
            "outlinewidth": 0,
            "ticks": ""
           }
          },
          "colorscale": {
           "diverging": [
            [
             0,
             "#8e0152"
            ],
            [
             0.1,
             "#c51b7d"
            ],
            [
             0.2,
             "#de77ae"
            ],
            [
             0.3,
             "#f1b6da"
            ],
            [
             0.4,
             "#fde0ef"
            ],
            [
             0.5,
             "#f7f7f7"
            ],
            [
             0.6,
             "#e6f5d0"
            ],
            [
             0.7,
             "#b8e186"
            ],
            [
             0.8,
             "#7fbc41"
            ],
            [
             0.9,
             "#4d9221"
            ],
            [
             1,
             "#276419"
            ]
           ],
           "sequential": [
            [
             0,
             "#0d0887"
            ],
            [
             0.1111111111111111,
             "#46039f"
            ],
            [
             0.2222222222222222,
             "#7201a8"
            ],
            [
             0.3333333333333333,
             "#9c179e"
            ],
            [
             0.4444444444444444,
             "#bd3786"
            ],
            [
             0.5555555555555556,
             "#d8576b"
            ],
            [
             0.6666666666666666,
             "#ed7953"
            ],
            [
             0.7777777777777778,
             "#fb9f3a"
            ],
            [
             0.8888888888888888,
             "#fdca26"
            ],
            [
             1,
             "#f0f921"
            ]
           ],
           "sequentialminus": [
            [
             0,
             "#0d0887"
            ],
            [
             0.1111111111111111,
             "#46039f"
            ],
            [
             0.2222222222222222,
             "#7201a8"
            ],
            [
             0.3333333333333333,
             "#9c179e"
            ],
            [
             0.4444444444444444,
             "#bd3786"
            ],
            [
             0.5555555555555556,
             "#d8576b"
            ],
            [
             0.6666666666666666,
             "#ed7953"
            ],
            [
             0.7777777777777778,
             "#fb9f3a"
            ],
            [
             0.8888888888888888,
             "#fdca26"
            ],
            [
             1,
             "#f0f921"
            ]
           ]
          },
          "colorway": [
           "#636efa",
           "#EF553B",
           "#00cc96",
           "#ab63fa",
           "#FFA15A",
           "#19d3f3",
           "#FF6692",
           "#B6E880",
           "#FF97FF",
           "#FECB52"
          ],
          "font": {
           "color": "#2a3f5f"
          },
          "geo": {
           "bgcolor": "white",
           "lakecolor": "white",
           "landcolor": "#E5ECF6",
           "showlakes": true,
           "showland": true,
           "subunitcolor": "white"
          },
          "hoverlabel": {
           "align": "left"
          },
          "hovermode": "closest",
          "mapbox": {
           "style": "light"
          },
          "paper_bgcolor": "white",
          "plot_bgcolor": "#E5ECF6",
          "polar": {
           "angularaxis": {
            "gridcolor": "white",
            "linecolor": "white",
            "ticks": ""
           },
           "bgcolor": "#E5ECF6",
           "radialaxis": {
            "gridcolor": "white",
            "linecolor": "white",
            "ticks": ""
           }
          },
          "scene": {
           "xaxis": {
            "backgroundcolor": "#E5ECF6",
            "gridcolor": "white",
            "gridwidth": 2,
            "linecolor": "white",
            "showbackground": true,
            "ticks": "",
            "zerolinecolor": "white"
           },
           "yaxis": {
            "backgroundcolor": "#E5ECF6",
            "gridcolor": "white",
            "gridwidth": 2,
            "linecolor": "white",
            "showbackground": true,
            "ticks": "",
            "zerolinecolor": "white"
           },
           "zaxis": {
            "backgroundcolor": "#E5ECF6",
            "gridcolor": "white",
            "gridwidth": 2,
            "linecolor": "white",
            "showbackground": true,
            "ticks": "",
            "zerolinecolor": "white"
           }
          },
          "shapedefaults": {
           "line": {
            "color": "#2a3f5f"
           }
          },
          "ternary": {
           "aaxis": {
            "gridcolor": "white",
            "linecolor": "white",
            "ticks": ""
           },
           "baxis": {
            "gridcolor": "white",
            "linecolor": "white",
            "ticks": ""
           },
           "bgcolor": "#E5ECF6",
           "caxis": {
            "gridcolor": "white",
            "linecolor": "white",
            "ticks": ""
           }
          },
          "title": {
           "x": 0.05
          },
          "xaxis": {
           "automargin": true,
           "gridcolor": "white",
           "linecolor": "white",
           "ticks": "",
           "title": {
            "standoff": 15
           },
           "zerolinecolor": "white",
           "zerolinewidth": 2
          },
          "yaxis": {
           "automargin": true,
           "gridcolor": "white",
           "linecolor": "white",
           "ticks": "",
           "title": {
            "standoff": 15
           },
           "zerolinecolor": "white",
           "zerolinewidth": 2
          }
         }
        }
       }
      },
      "text/html": [
       "<div>                            <div id=\"e7579407-4f52-4005-aed7-4413bd0fd8a1\" class=\"plotly-graph-div\" style=\"height:525px; width:100%;\"></div>            <script type=\"text/javascript\">                require([\"plotly\"], function(Plotly) {                    window.PLOTLYENV=window.PLOTLYENV || {};                                    if (document.getElementById(\"e7579407-4f52-4005-aed7-4413bd0fd8a1\")) {                    Plotly.newPlot(                        \"e7579407-4f52-4005-aed7-4413bd0fd8a1\",                        [{\"fill\":\"toself\",\"name\":\"USA\",\"r\":[258.6611570247934,54.68344155844156,203.0,565.4166666666666,22.4,59.67513611615245,58.48571428571429,29.160919540229884,47.5,53.333333333333336,46.1,139.33333333333334,657.1071428571429],\"theta\":[\"Accommodation\",\"Bars & restaurants\",\"Books & Music\",\"Culture & Leisure\",\"Electronics & computing\",\"Fashion & Shoes\",\"Food\",\"Health\",\"Hogar y reformas\",\"Other goods and services\",\"Personal products\",\"Sports & Games\",\"Transportation\"],\"type\":\"scatterpolar\"},{\"fill\":\"toself\",\"name\":\"Total\",\"r\":[256.3874773139746,76.58491281273692,226.38709677419354,258.10869565217394,46.23529411764706,92.07483246463143,91.22758620689655,48.455373406193075,58.9,132.0497737556561,50.91240875912409,92.12790697674419,258.5925925925926],\"theta\":[\"Accommodation\",\"Bars & restaurants\",\"Books & Music\",\"Culture & Leisure\",\"Electronics & computing\",\"Fashion & Shoes\",\"Food\",\"Health\",\"Hogar y reformas\",\"Other goods and services\",\"Personal products\",\"Sports & Games\",\"Transportation\"],\"type\":\"scatterpolar\"},{\"fill\":\"toself\",\"name\":\"Uk\",\"r\":[191.61111111111111,77.12781954887218,111.0,1058.5,113.25,59.36619718309859,613.2727272727273,66.1842105263158,66.0,129.36,50.666666666666664,51.857142857142854,39.78947368421053],\"theta\":[\"Accommodation\",\"Bars & restaurants\",\"Books & Music\",\"Culture & Leisure\",\"Electronics & computing\",\"Fashion & Shoes\",\"Food\",\"Health\",\"Hogar y reformas\",\"Other goods and services\",\"Personal products\",\"Sports & Games\",\"Transportation\"],\"type\":\"scatterpolar\"}],                        {\"template\":{\"data\":{\"bar\":[{\"error_x\":{\"color\":\"#2a3f5f\"},\"error_y\":{\"color\":\"#2a3f5f\"},\"marker\":{\"line\":{\"color\":\"#E5ECF6\",\"width\":0.5},\"pattern\":{\"fillmode\":\"overlay\",\"size\":10,\"solidity\":0.2}},\"type\":\"bar\"}],\"barpolar\":[{\"marker\":{\"line\":{\"color\":\"#E5ECF6\",\"width\":0.5},\"pattern\":{\"fillmode\":\"overlay\",\"size\":10,\"solidity\":0.2}},\"type\":\"barpolar\"}],\"carpet\":[{\"aaxis\":{\"endlinecolor\":\"#2a3f5f\",\"gridcolor\":\"white\",\"linecolor\":\"white\",\"minorgridcolor\":\"white\",\"startlinecolor\":\"#2a3f5f\"},\"baxis\":{\"endlinecolor\":\"#2a3f5f\",\"gridcolor\":\"white\",\"linecolor\":\"white\",\"minorgridcolor\":\"white\",\"startlinecolor\":\"#2a3f5f\"},\"type\":\"carpet\"}],\"choropleth\":[{\"colorbar\":{\"outlinewidth\":0,\"ticks\":\"\"},\"type\":\"choropleth\"}],\"contour\":[{\"colorbar\":{\"outlinewidth\":0,\"ticks\":\"\"},\"colorscale\":[[0.0,\"#0d0887\"],[0.1111111111111111,\"#46039f\"],[0.2222222222222222,\"#7201a8\"],[0.3333333333333333,\"#9c179e\"],[0.4444444444444444,\"#bd3786\"],[0.5555555555555556,\"#d8576b\"],[0.6666666666666666,\"#ed7953\"],[0.7777777777777778,\"#fb9f3a\"],[0.8888888888888888,\"#fdca26\"],[1.0,\"#f0f921\"]],\"type\":\"contour\"}],\"contourcarpet\":[{\"colorbar\":{\"outlinewidth\":0,\"ticks\":\"\"},\"type\":\"contourcarpet\"}],\"heatmap\":[{\"colorbar\":{\"outlinewidth\":0,\"ticks\":\"\"},\"colorscale\":[[0.0,\"#0d0887\"],[0.1111111111111111,\"#46039f\"],[0.2222222222222222,\"#7201a8\"],[0.3333333333333333,\"#9c179e\"],[0.4444444444444444,\"#bd3786\"],[0.5555555555555556,\"#d8576b\"],[0.6666666666666666,\"#ed7953\"],[0.7777777777777778,\"#fb9f3a\"],[0.8888888888888888,\"#fdca26\"],[1.0,\"#f0f921\"]],\"type\":\"heatmap\"}],\"heatmapgl\":[{\"colorbar\":{\"outlinewidth\":0,\"ticks\":\"\"},\"colorscale\":[[0.0,\"#0d0887\"],[0.1111111111111111,\"#46039f\"],[0.2222222222222222,\"#7201a8\"],[0.3333333333333333,\"#9c179e\"],[0.4444444444444444,\"#bd3786\"],[0.5555555555555556,\"#d8576b\"],[0.6666666666666666,\"#ed7953\"],[0.7777777777777778,\"#fb9f3a\"],[0.8888888888888888,\"#fdca26\"],[1.0,\"#f0f921\"]],\"type\":\"heatmapgl\"}],\"histogram\":[{\"marker\":{\"pattern\":{\"fillmode\":\"overlay\",\"size\":10,\"solidity\":0.2}},\"type\":\"histogram\"}],\"histogram2d\":[{\"colorbar\":{\"outlinewidth\":0,\"ticks\":\"\"},\"colorscale\":[[0.0,\"#0d0887\"],[0.1111111111111111,\"#46039f\"],[0.2222222222222222,\"#7201a8\"],[0.3333333333333333,\"#9c179e\"],[0.4444444444444444,\"#bd3786\"],[0.5555555555555556,\"#d8576b\"],[0.6666666666666666,\"#ed7953\"],[0.7777777777777778,\"#fb9f3a\"],[0.8888888888888888,\"#fdca26\"],[1.0,\"#f0f921\"]],\"type\":\"histogram2d\"}],\"histogram2dcontour\":[{\"colorbar\":{\"outlinewidth\":0,\"ticks\":\"\"},\"colorscale\":[[0.0,\"#0d0887\"],[0.1111111111111111,\"#46039f\"],[0.2222222222222222,\"#7201a8\"],[0.3333333333333333,\"#9c179e\"],[0.4444444444444444,\"#bd3786\"],[0.5555555555555556,\"#d8576b\"],[0.6666666666666666,\"#ed7953\"],[0.7777777777777778,\"#fb9f3a\"],[0.8888888888888888,\"#fdca26\"],[1.0,\"#f0f921\"]],\"type\":\"histogram2dcontour\"}],\"mesh3d\":[{\"colorbar\":{\"outlinewidth\":0,\"ticks\":\"\"},\"type\":\"mesh3d\"}],\"parcoords\":[{\"line\":{\"colorbar\":{\"outlinewidth\":0,\"ticks\":\"\"}},\"type\":\"parcoords\"}],\"pie\":[{\"automargin\":true,\"type\":\"pie\"}],\"scatter\":[{\"marker\":{\"colorbar\":{\"outlinewidth\":0,\"ticks\":\"\"}},\"type\":\"scatter\"}],\"scatter3d\":[{\"line\":{\"colorbar\":{\"outlinewidth\":0,\"ticks\":\"\"}},\"marker\":{\"colorbar\":{\"outlinewidth\":0,\"ticks\":\"\"}},\"type\":\"scatter3d\"}],\"scattercarpet\":[{\"marker\":{\"colorbar\":{\"outlinewidth\":0,\"ticks\":\"\"}},\"type\":\"scattercarpet\"}],\"scattergeo\":[{\"marker\":{\"colorbar\":{\"outlinewidth\":0,\"ticks\":\"\"}},\"type\":\"scattergeo\"}],\"scattergl\":[{\"marker\":{\"colorbar\":{\"outlinewidth\":0,\"ticks\":\"\"}},\"type\":\"scattergl\"}],\"scattermapbox\":[{\"marker\":{\"colorbar\":{\"outlinewidth\":0,\"ticks\":\"\"}},\"type\":\"scattermapbox\"}],\"scatterpolar\":[{\"marker\":{\"colorbar\":{\"outlinewidth\":0,\"ticks\":\"\"}},\"type\":\"scatterpolar\"}],\"scatterpolargl\":[{\"marker\":{\"colorbar\":{\"outlinewidth\":0,\"ticks\":\"\"}},\"type\":\"scatterpolargl\"}],\"scatterternary\":[{\"marker\":{\"colorbar\":{\"outlinewidth\":0,\"ticks\":\"\"}},\"type\":\"scatterternary\"}],\"surface\":[{\"colorbar\":{\"outlinewidth\":0,\"ticks\":\"\"},\"colorscale\":[[0.0,\"#0d0887\"],[0.1111111111111111,\"#46039f\"],[0.2222222222222222,\"#7201a8\"],[0.3333333333333333,\"#9c179e\"],[0.4444444444444444,\"#bd3786\"],[0.5555555555555556,\"#d8576b\"],[0.6666666666666666,\"#ed7953\"],[0.7777777777777778,\"#fb9f3a\"],[0.8888888888888888,\"#fdca26\"],[1.0,\"#f0f921\"]],\"type\":\"surface\"}],\"table\":[{\"cells\":{\"fill\":{\"color\":\"#EBF0F8\"},\"line\":{\"color\":\"white\"}},\"header\":{\"fill\":{\"color\":\"#C8D4E3\"},\"line\":{\"color\":\"white\"}},\"type\":\"table\"}]},\"layout\":{\"annotationdefaults\":{\"arrowcolor\":\"#2a3f5f\",\"arrowhead\":0,\"arrowwidth\":1},\"autotypenumbers\":\"strict\",\"coloraxis\":{\"colorbar\":{\"outlinewidth\":0,\"ticks\":\"\"}},\"colorscale\":{\"diverging\":[[0,\"#8e0152\"],[0.1,\"#c51b7d\"],[0.2,\"#de77ae\"],[0.3,\"#f1b6da\"],[0.4,\"#fde0ef\"],[0.5,\"#f7f7f7\"],[0.6,\"#e6f5d0\"],[0.7,\"#b8e186\"],[0.8,\"#7fbc41\"],[0.9,\"#4d9221\"],[1,\"#276419\"]],\"sequential\":[[0.0,\"#0d0887\"],[0.1111111111111111,\"#46039f\"],[0.2222222222222222,\"#7201a8\"],[0.3333333333333333,\"#9c179e\"],[0.4444444444444444,\"#bd3786\"],[0.5555555555555556,\"#d8576b\"],[0.6666666666666666,\"#ed7953\"],[0.7777777777777778,\"#fb9f3a\"],[0.8888888888888888,\"#fdca26\"],[1.0,\"#f0f921\"]],\"sequentialminus\":[[0.0,\"#0d0887\"],[0.1111111111111111,\"#46039f\"],[0.2222222222222222,\"#7201a8\"],[0.3333333333333333,\"#9c179e\"],[0.4444444444444444,\"#bd3786\"],[0.5555555555555556,\"#d8576b\"],[0.6666666666666666,\"#ed7953\"],[0.7777777777777778,\"#fb9f3a\"],[0.8888888888888888,\"#fdca26\"],[1.0,\"#f0f921\"]]},\"colorway\":[\"#636efa\",\"#EF553B\",\"#00cc96\",\"#ab63fa\",\"#FFA15A\",\"#19d3f3\",\"#FF6692\",\"#B6E880\",\"#FF97FF\",\"#FECB52\"],\"font\":{\"color\":\"#2a3f5f\"},\"geo\":{\"bgcolor\":\"white\",\"lakecolor\":\"white\",\"landcolor\":\"#E5ECF6\",\"showlakes\":true,\"showland\":true,\"subunitcolor\":\"white\"},\"hoverlabel\":{\"align\":\"left\"},\"hovermode\":\"closest\",\"mapbox\":{\"style\":\"light\"},\"paper_bgcolor\":\"white\",\"plot_bgcolor\":\"#E5ECF6\",\"polar\":{\"angularaxis\":{\"gridcolor\":\"white\",\"linecolor\":\"white\",\"ticks\":\"\"},\"bgcolor\":\"#E5ECF6\",\"radialaxis\":{\"gridcolor\":\"white\",\"linecolor\":\"white\",\"ticks\":\"\"}},\"scene\":{\"xaxis\":{\"backgroundcolor\":\"#E5ECF6\",\"gridcolor\":\"white\",\"gridwidth\":2,\"linecolor\":\"white\",\"showbackground\":true,\"ticks\":\"\",\"zerolinecolor\":\"white\"},\"yaxis\":{\"backgroundcolor\":\"#E5ECF6\",\"gridcolor\":\"white\",\"gridwidth\":2,\"linecolor\":\"white\",\"showbackground\":true,\"ticks\":\"\",\"zerolinecolor\":\"white\"},\"zaxis\":{\"backgroundcolor\":\"#E5ECF6\",\"gridcolor\":\"white\",\"gridwidth\":2,\"linecolor\":\"white\",\"showbackground\":true,\"ticks\":\"\",\"zerolinecolor\":\"white\"}},\"shapedefaults\":{\"line\":{\"color\":\"#2a3f5f\"}},\"ternary\":{\"aaxis\":{\"gridcolor\":\"white\",\"linecolor\":\"white\",\"ticks\":\"\"},\"baxis\":{\"gridcolor\":\"white\",\"linecolor\":\"white\",\"ticks\":\"\"},\"bgcolor\":\"#E5ECF6\",\"caxis\":{\"gridcolor\":\"white\",\"linecolor\":\"white\",\"ticks\":\"\"}},\"title\":{\"x\":0.05},\"xaxis\":{\"automargin\":true,\"gridcolor\":\"white\",\"linecolor\":\"white\",\"ticks\":\"\",\"title\":{\"standoff\":15},\"zerolinecolor\":\"white\",\"zerolinewidth\":2},\"yaxis\":{\"automargin\":true,\"gridcolor\":\"white\",\"linecolor\":\"white\",\"ticks\":\"\",\"title\":{\"standoff\":15},\"zerolinecolor\":\"white\",\"zerolinewidth\":2}}}},                        {\"responsive\": true}                    ).then(function(){\n",
       "                            \n",
       "var gd = document.getElementById('e7579407-4f52-4005-aed7-4413bd0fd8a1');\n",
       "var x = new MutationObserver(function (mutations, observer) {{\n",
       "        var display = window.getComputedStyle(gd).display;\n",
       "        if (!display || display === 'none') {{\n",
       "            console.log([gd, 'removed!']);\n",
       "            Plotly.purge(gd);\n",
       "            observer.disconnect();\n",
       "        }}\n",
       "}});\n",
       "\n",
       "// Listen for the removal of the full notebook cells\n",
       "var notebookContainer = gd.closest('#notebook-container');\n",
       "if (notebookContainer) {{\n",
       "    x.observe(notebookContainer, {childList: true});\n",
       "}}\n",
       "\n",
       "// Listen for the clearing of the current output cell\n",
       "var outputEl = gd.closest('.output');\n",
       "if (outputEl) {{\n",
       "    x.observe(outputEl, {childList: true});\n",
       "}}\n",
       "\n",
       "                        })                };                });            </script>        </div>"
      ]
     },
     "metadata": {},
     "output_type": "display_data"
    }
   ],
   "source": [
    "import plotly.graph_objects as go\n",
    "\n",
    "fig = go.Figure()\n",
    "\n",
    "fig.add_trace(go.Scatterpolar(\n",
    "      r=US_FR['US_mean_amount'],\n",
    "      theta=US_FR['category'],\n",
    "      fill='toself',\n",
    "      name='USA'\n",
    "))\n",
    "\n",
    "#fig.add_trace(go.Scatterpolar(\n",
    "#      r=US_FR['CN_mean_amount'],\n",
    "#      theta=US_FR['category'],\n",
    "#      fill='toself',\n",
    "#      name='China'\n",
    "#))\n",
    "\n",
    "fig.add_trace(go.Scatterpolar(\n",
    "      r=US_FR['total_mean_amount'],\n",
    "      theta=US_FR['category'],\n",
    "      fill='toself',\n",
    "      name='Total'\n",
    "))\n",
    "\n",
    "fig.add_trace(go.Scatterpolar(\n",
    "      r=US_FR['UK_mean_amount'],\n",
    "      theta=US_FR['category'],\n",
    "      fill='toself',\n",
    "      name='Uk'\n",
    "))\n",
    "\n",
    "fig.show()"
   ]
  },
  {
   "cell_type": "code",
   "execution_count": 46,
   "id": "54f78f26",
   "metadata": {
    "scrolled": true
   },
   "outputs": [
    {
     "data": {
      "image/png": "[encoded data removed]",
      "text/plain": [
       "<Figure size 640x480 with 7 Axes>"
      ]
     },
     "metadata": {},
     "output_type": "display_data"
    },
    {
     "data": {
      "text/plain": [
       "<ggplot: (8779391254140)>"
      ]
     },
     "execution_count": 46,
     "metadata": {},
     "output_type": "execute_result"
    }
   ],
   "source": [
    "from plotnine import *\n",
    "(\n",
    "    ggplot(df)\n",
    "    + facet_grid(facets=\"~daytime \")\n",
    "    + aes(x=\"weekday\", y=\"amount\", fill=\"region\")\n",
    "    + labs(\n",
    "        x=\"day_type\",\n",
    "        y=\"amount\",\n",
    "    )\n",
    "    + geom_col()\n",
    ")"
   ]
  },
  {
   "cell_type": "markdown",
   "id": "2123d191",
   "metadata": {},
   "source": [
    "<a id='2.4'></a>\n",
    "### <font color=red> round values up , bring countries back, same length for all notebooks, check if barchart can stay fixed, values on end?, adjust size of graphic last resort use country codes </font>"
   ]
  },
  {
   "cell_type": "code",
   "execution_count": null,
   "id": "c1646c15",
   "metadata": {},
   "outputs": [],
   "source": [
    "import matplotlib.pyplot as plt\n",
    "import plotnine as p9\n",
    "import pandas as pd\n",
    "import numpy as np\n",
    "from copy import copy\n",
    "from ipywidgets import widgets\n",
    "from IPython.display import display\n",
    "\n",
    "from plotnine.data import mtcars"
   ]
  },
  {
   "cell_type": "code",
   "execution_count": null,
   "id": "065a4c3f",
   "metadata": {},
   "outputs": [],
   "source": [
    "#pip install ipywidgets"
   ]
  },
  {
   "cell_type": "code",
   "execution_count": null,
   "id": "6d999a2f",
   "metadata": {},
   "outputs": [],
   "source": [
    "# Prepre the list we will use to selec sub-sets of data based on number of cylinders.\n",
    "List = np.unique(madrid_transactions['category'] )"
   ]
  },
  {
   "cell_type": "code",
   "execution_count": null,
   "id": "06145bca",
   "metadata": {},
   "outputs": [],
   "source": [
    "type(list(List))"
   ]
  },
  {
   "cell_type": "code",
   "execution_count": null,
   "id": "9ef8e1b1",
   "metadata": {},
   "outputs": [],
   "source": [
    "\n",
    "\n",
    "cylSelect = widgets.Dropdown(\n",
    "    options=list(List),\n",
    "    value=List[1],\n",
    "    description='Category:',\n",
    "    disabled=False,\n",
    ")\n",
    "\n",
    "# For the widgets to update the same plot, instead of creating one new image every time\n",
    "# a selection changes. We keep track of the matplotlib image and axis, so we create only one\n",
    "# figure and set of axis, for the first plot, and then just re-use the figure and axis\n",
    "# with plotnine's \"_draw_using_figure\" function.\n",
    "fig = None\n",
    "axs = None"
   ]
  },
  {
   "cell_type": "code",
   "execution_count": null,
   "id": "96ab25e8",
   "metadata": {},
   "outputs": [],
   "source": [
    "Category = cylSelect.value\n",
    "Transaction_value=madrid_transactions[madrid_transactions['category']==Category] \\\n",
    "[['category','customer_country','country_rnk','Median Category-Country','Median Country','Amount_Ctry_Cat']].drop_duplicates() \\\n",
    ".sort_values(by='Amount_Ctry_Cat',ascending=False).head(10).sort_values(by='country_rnk',ascending=True)\n",
    "Transaction_value.reset_index(drop=True,inplace=True)\n",
    "Transaction_value['color']=np.where(Transaction_value['Median Category-Country']>Transaction_value['Median Country'],'#7fbf7b','#f0f0f0')\n",
    "Transaction_value['preference']=np.where(Transaction_value['Median Category-Country']>Transaction_value['Median Country'],'Prefered','')\n",
    "\n",
    "\n",
    "# This has to be used the first time you make a plot. This magic allows the notebook to update plots.\n",
    "%matplotlib notebook\n",
    "\n",
    "p = ggplot(Transaction_value) +  geom_col(aes('country_rnk','Median Category-Country'),fill=Transaction_value['color']) + \\\n",
    "    geom_point(aes('country_rnk',\"Median Country\"),color='#1c9099',shape='|',size=15,stroke=1) \\\n",
    "    + xlab(\"Top Category Spenders\") + ylab(\"Median Transaction amount\") + ggtitle('Transaction Spending: Category vs Country Median') \\\n",
    "    + geom_text(aes(label='preference'), data=Transaction_value,x=Transaction_value.index+1,y=400)\\\n",
    "    + geom_text(aes(label='Amount_Ctry_Cat'), data=Transaction_value,x=Transaction_value.index+1,y=10)\\\n",
    "    + coord_flip() \\\n",
    "    + labs(caption =  \"(\"+Category+\")\") + theme_classic()\n",
    "\n",
    "def transactions_by_category(*args):\n",
    "    # Use global variables for matplotlib's figure and axis.\n",
    "    global fig, axs\n",
    "\n",
    "    Category = cylSelect.value\n",
    "    Transaction_value=madrid_transactions[madrid_transactions['category']==Category] \\\n",
    "    [['category','customer_country','country_rnk','Median Category-Country','Median Country','Amount_Ctry_Cat']].drop_duplicates() \\\n",
    "    .sort_values(by='Amount_Ctry_Cat',ascending=False).head(10).sort_values(by='country_rnk',ascending=True)\n",
    "    Transaction_value.reset_index(drop=True,inplace=True)\n",
    "    Transaction_value['color']=np.where(Transaction_value['Median Category-Country']>Transaction_value['Median Country'],'#7fbf7b','#f0f0f0')\n",
    "    Transaction_value['preference']=np.where(Transaction_value['Median Category-Country']>Transaction_value['Median Country'],'Prefered','')\n",
    "    p = ggplot(Transaction_value) +  geom_col(aes('country_rnk','Median Category-Country'),fill=Transaction_value['color']) + \\\n",
    "    geom_point(aes('country_rnk',\"Median Country\"),color='#1c9099',shape='|',size=15,stroke=1) \\\n",
    "    + xlab(\"Top Category Spenders\") + ylab(\"Median Transaction amount\") + ggtitle('Transaction Spending: Category vs Country Median') \\\n",
    "    + geom_text(aes(label='preference'), data=Transaction_value,x=Transaction_value.index+1,y=400)\\\n",
    "    + geom_text(aes(label='Amount_Ctry_Cat'), data=Transaction_value,x=Transaction_value.index+1,y=10)\\\n",
    "    + coord_flip() \\\n",
    "    + labs(caption =  \"(\"+Category+\")\") + theme_classic() \n",
    "\n",
    "    if fig is None:\n",
    "        # If this is the first time a plot is made in the notebook, we let plotnine create a new\n",
    "        # matplotlib figure and axis.\n",
    "        fig, plot = p.draw(return_ggplot=True)\n",
    "        axs = plot.axs\n",
    "    else:\n",
    "\n",
    "        #p = copy(p)\n",
    "        # This helps keeping old selected data from being visualized after a new selection is made.\n",
    "        # We delete all previously reated artists from the matplotlib axis.\n",
    "        for artist in plt.gca().lines +\\\n",
    "                        plt.gca().collections +\\\n",
    "                        plt.gca().artists + plt.gca().patches + plt.gca().texts:\n",
    "            artist.remove()\n",
    "\n",
    "        # If a plot is being updated, we re-use the figure an axis created before.\n",
    "        p._draw_using_figure(fig, axs)"
   ]
  },
  {
   "cell_type": "code",
   "execution_count": null,
   "id": "61e0ee1e",
   "metadata": {
    "scrolled": false
   },
   "outputs": [],
   "source": [
    "cylSelect.observe(transactions_by_category, 'value')\n",
    "\n",
    "# Display the widgets\n",
    "display(cylSelect)\n",
    "\n",
    "\n",
    "# Plots the first image, with inintial values.\n",
    "transactions_by_category()"
   ]
  },
  {
   "cell_type": "code",
   "execution_count": null,
   "id": "8f67d60b",
   "metadata": {},
   "outputs": [],
   "source": []
  },
  {
   "cell_type": "code",
   "execution_count": null,
   "id": "af102711",
   "metadata": {},
   "outputs": [],
   "source": []
  }
 ],
 "metadata": {
  "kernelspec": {
   "display_name": "Python 3 (ipykernel)",
   "language": "python",
   "name": "python3"
  },
  "language_info": {
   "codemirror_mode": {
    "name": "ipython",
    "version": 3
   },
   "file_extension": ".py",
   "mimetype": "text/x-python",
   "name": "python",
   "nbconvert_exporter": "python",
   "pygments_lexer": "ipython3",
   "version": "3.9.12"
  }
 },
 "nbformat": 4,
 "nbformat_minor": 5
}
