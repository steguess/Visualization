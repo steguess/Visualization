{
 "cells": [
  {
   "cell_type": "code",
   "execution_count": null,
   "id": "28b9d004",
   "metadata": {},
   "outputs": [],
   "source": [
    "from IPython.display import display, HTML\n",
    "display(HTML(\"<style>.container { width:100% !important; }</style>\"))"
   ]
  },
  {
   "cell_type": "markdown",
   "id": "4ee98878",
   "metadata": {},
   "source": [
    "</font> <img src=\"Banner2.png\" width=\"900\" height=\"250\" align=\"center\"/>"
   ]
  },
  {
   "cell_type": "markdown",
   "id": "b3d6f59e",
   "metadata": {},
   "source": [
    "</font> <img src=\"TeamC.png\" width=\"800\" height=500 align=\"center\"/>"
   ]
  },
  {
   "cell_type": "markdown",
   "id": "a82a85db",
   "metadata": {},
   "source": [
    "# <font color=li_blue> Table of contents </font>\n",
    "\n",
    "# <font color=purple> Sections </font>\n",
    "\n",
    "* [1.Libaries used](#1)\n",
    "* [2.Dataframes for plots](#2)\n",
    "* [3. High level Overview](#3)\n",
    "  * [3.1 Start MariaDB](#3.1)\n",
    "  * [3.2 Start Hadoop](#3.2)  \n",
    "  * [3.3 Search for Spark Installation](#3.3)\n",
    "* [4. Time](#3.4)\n",
    "  * [3.5 Data Preparation](#3.5)\n",
    "      * [3.5.1 Raw DataFrame](#3.5.1)\n",
    "      * [3.5.2 DataFrame Vertices](#3.5.2)\n",
    "      * [3.5.3 Countries Dataframe Vertices](#3.5.3)\n",
    "* [5. Future outlook](#3.5.4)"
   ]
  },
  {
   "cell_type": "markdown",
   "id": "dae4dfbe",
   "metadata": {},
   "source": [
    "<a id='1'></a>\n",
    "# <font color=purple> 1. Libraries used </font>"
   ]
  },
  {
   "cell_type": "code",
   "execution_count": null,
   "id": "ef730a17",
   "metadata": {},
   "outputs": [],
   "source": [
    "import csv\n",
    "import pandas as pd\n",
    "from plotnine import ggplot, geom_point, aes, stat_smooth, facet_wrap,stat_summary,theme_bw\n",
    "from plotnine import ggplot, aes, geom_bar, coord_flip,labs\n",
    "from plotnine import *\n",
    "import numpy as np\n",
    "import pandas as pd\n",
    "import plotnine\n",
    "import matplotlib.pyplot as plt\n",
    "import plotly\n",
    "import plotly.express as px\n",
    "import math\n",
    "import warnings\n",
    "warnings.filterwarnings('ignore')\n",
    "from plotnine.data import mpg\n",
    "%matplotlib inline\n",
    "from matplotlib import animation\n",
    "import matplotlib.pyplot as plt\n",
    "import plotly.graph_objects as go\n"
   ]
  },
  {
   "cell_type": "markdown",
   "id": "903c6585",
   "metadata": {},
   "source": [
    "<div class=\"alert alert-info\" role=\"alert\">\n",
    "\n",
    "Adding country specific, GDP, PPP and income data from the world bank to the dataframe.  \n",
    "  \n",
    "</div>"
   ]
  },
  {
   "cell_type": "code",
   "execution_count": null,
   "id": "5238fca4",
   "metadata": {},
   "outputs": [],
   "source": [
    "df = pd.read_csv('madrid_transactions_country.csv', delimiter=';', skiprows=0, low_memory=False)"
   ]
  },
  {
   "cell_type": "code",
   "execution_count": null,
   "id": "628c796e",
   "metadata": {},
   "outputs": [],
   "source": [
    "df.columns"
   ]
  },
  {
   "cell_type": "code",
   "execution_count": null,
   "id": "4b5e31cf",
   "metadata": {},
   "outputs": [],
   "source": [
    "pd.set_option('display.max_columns', None)\n",
    "df.head()"
   ]
  },
  {
   "cell_type": "code",
   "execution_count": null,
   "id": "4d2d90c3",
   "metadata": {},
   "outputs": [],
   "source": [
    "df.columns"
   ]
  },
  {
   "cell_type": "markdown",
   "id": "48107328",
   "metadata": {},
   "source": [
    "<div class=\"alert alert-info\" role=\"alert\">\n",
    "\n",
    "Statistics to see the distribution of the numeric columns  \n",
    "  \n",
    "</div>"
   ]
  },
  {
   "cell_type": "code",
   "execution_count": null,
   "id": "8ff2a349",
   "metadata": {
    "scrolled": true
   },
   "outputs": [],
   "source": [
    "df.describe()"
   ]
  },
  {
   "cell_type": "markdown",
   "id": "8e0f2a56",
   "metadata": {},
   "source": [
    "<div class=\"alert alert-info\" role=\"alert\">\n",
    "\n",
    "Heatmap shows from which countries the trasactions are coming from. Clearly, high income countries having transactions in all categories. And low income almost none and only in few categories like sports&Games, Health, Fashion & SHoes, Bar & Restaurants and Accomodation. \n",
    "  \n",
    "</div>"
   ]
  },
  {
   "cell_type": "markdown",
   "id": "9c33ce1c",
   "metadata": {},
   "source": [
    "<a id='2'></a>\n",
    "# <font color=purple> 2. New Dataframes </font>"
   ]
  },
  {
   "cell_type": "markdown",
   "id": "84fdd4b7",
   "metadata": {},
   "source": [
    "<div class=\"alert alert-info\" role=\"alert\">\n",
    "\n",
    "Creating new aggregation of dataframes nfor further analysis\n",
    "  \n",
    "</div>"
   ]
  },
  {
   "cell_type": "markdown",
   "id": "a966e869",
   "metadata": {},
   "source": [
    "<a id='2.1'></a>\n",
    "### <font color=li_blue> 2.1. Country and category </font>"
   ]
  },
  {
   "cell_type": "code",
   "execution_count": null,
   "id": "e3bef371",
   "metadata": {},
   "outputs": [],
   "source": [
    "# new df by country and category\n",
    "df1 =df.groupby(['country_name', 'category','Income_classification','region'],as_index=False).agg(\n",
    "    # Get max of the duration column for each group\n",
    "    mean_amount=('amount','mean'),\n",
    "    # Get min of the duration column for each group\n",
    "    sum_amount=('amount', sum),\n",
    "    # Get sum of the duration column for each group\n",
    "    count_amount=('amount', 'count'),\n",
    "    # Apply mean of growth(should give the real growth)\n",
    "    growth_GDP=('GDP growth (annual %)', 'mean'),\n",
    ")"
   ]
  },
  {
   "cell_type": "code",
   "execution_count": null,
   "id": "46c880a0",
   "metadata": {},
   "outputs": [],
   "source": [
    "sales = df1.groupby(['category'])['sum_amount'].sum().reset_index()"
   ]
  },
  {
   "cell_type": "code",
   "execution_count": null,
   "id": "69de8dc4",
   "metadata": {},
   "outputs": [],
   "source": [
    "df1 = df1.merge(sales, left_on='category', right_on ='category', how = 'left')"
   ]
  },
  {
   "cell_type": "code",
   "execution_count": null,
   "id": "d599008c",
   "metadata": {},
   "outputs": [],
   "source": [
    "df1"
   ]
  },
  {
   "cell_type": "markdown",
   "id": "bbaa6e1c",
   "metadata": {},
   "source": [
    "<a id='2.2'></a>\n",
    "### <font color=li_blue> 2.2. Category </font>"
   ]
  },
  {
   "cell_type": "code",
   "execution_count": null,
   "id": "28c74fe1",
   "metadata": {},
   "outputs": [],
   "source": [
    "# new df by category\n",
    "df3 =df.groupby(['category'],as_index=False).agg(\n",
    "    # Get max of the duration column for each group\n",
    "    mean_amount=('amount','mean'),\n",
    "    # Get min of the duration column for each group\n",
    "    sum_amount=('amount', sum),\n",
    "    # Get sum of the duration column for each group\n",
    "    count_amount=('amount', 'count'),\n",
    ")"
   ]
  },
  {
   "cell_type": "code",
   "execution_count": null,
   "id": "46fd2042",
   "metadata": {},
   "outputs": [],
   "source": [
    "df3"
   ]
  },
  {
   "cell_type": "markdown",
   "id": "1b1aca04",
   "metadata": {},
   "source": [
    "<a id='2.3'></a>\n",
    "### <font color=li_blue> 2.3. Create for specific country by category </font>"
   ]
  },
  {
   "cell_type": "code",
   "execution_count": null,
   "id": "3ec537c5",
   "metadata": {},
   "outputs": [],
   "source": [
    "total = df3.drop(columns =['count_amount'])"
   ]
  },
  {
   "cell_type": "code",
   "execution_count": null,
   "id": "84bac8ab",
   "metadata": {},
   "outputs": [],
   "source": [
    "#rename columns\n",
    "total.rename(columns = {'mean_amount':'total_mean_amount'}, inplace = True)\n",
    "total.rename(columns = {'sum_amount':'sum_mean_amount'}, inplace = True)\n",
    "total"
   ]
  },
  {
   "cell_type": "code",
   "execution_count": null,
   "id": "0fbb5b01",
   "metadata": {},
   "outputs": [],
   "source": [
    "df4 =df.groupby(['country_name', 'category'],as_index=False).agg(\n",
    "    # Get max of the duration column for each group\n",
    "    mean_amount=('amount','mean'),\n",
    ")"
   ]
  },
  {
   "cell_type": "code",
   "execution_count": null,
   "id": "27e2bb77",
   "metadata": {
    "scrolled": true
   },
   "outputs": [],
   "source": [
    "US_sales = df4[df4[\"country_name\"].str.contains('United States of America')]\n",
    "US_sales.rename(columns = {'mean_amount':'US_mean_amount'}, inplace = True)\n",
    "FR_sales = df4[df4[\"country_name\"].str.match('France')]\n",
    "FR_sales.rename(columns = {'mean_amount':'FR_mean_amount'}, inplace = True)\n",
    "CN_sales = df4[df4[\"country_name\"].str.match('China')]\n",
    "CN_sales.rename(columns = {'mean_amount':'CN_mean_amount'}, inplace = True)\n",
    "\n",
    "UK_sales = df4[df4[\"country_name\"].str.match('United Kingdom ')]\n",
    "UK_sales.rename(columns = {'mean_amount':'UK_mean_amount'}, inplace = True)\n",
    "\n",
    "#US_sales = df1.groupby('category').filter(lambda x: (x[\"country_name\"] == ['United States of America']).any())\n",
    "#FR_sales = df1.groupby(['France'])['sum_amount'].sum().reset_index()\n",
    "#CH_sales = df1.groupby(['China'])['sum_amount'].sum().reset_index()"
   ]
  },
  {
   "cell_type": "code",
   "execution_count": null,
   "id": "329aaede",
   "metadata": {},
   "outputs": [],
   "source": [
    "US_sales "
   ]
  },
  {
   "cell_type": "code",
   "execution_count": null,
   "id": "d5e4e0b1",
   "metadata": {},
   "outputs": [],
   "source": [
    "US_FR = US_sales.merge(FR_sales, left_on='category', right_on ='category', how = 'left')\n",
    "US_FR = US_FR.merge(CN_sales,left_on='category', right_on ='category', how = 'left')\n",
    "US_FR = US_FR.merge(total,left_on='category', right_on ='category', how = 'left')\n",
    "US_FR = US_FR.merge(UK_sales,left_on='category', right_on ='category', how = 'left')\n",
    "US_FR = US_FR.fillna(0)"
   ]
  },
  {
   "cell_type": "code",
   "execution_count": null,
   "id": "d64cf67b",
   "metadata": {},
   "outputs": [],
   "source": [
    "US_FR.head()"
   ]
  },
  {
   "cell_type": "code",
   "execution_count": null,
   "id": "2ebaf8d6",
   "metadata": {},
   "outputs": [],
   "source": [
    "df1 = df1.merge(sales, left_on='category', right_on ='category', how = 'left')"
   ]
  },
  {
   "cell_type": "code",
   "execution_count": null,
   "id": "0a610328",
   "metadata": {},
   "outputs": [],
   "source": [
    "df1['market_share_ctry'] = (df1['sum_amount_x']/df1['sum_amount_y'])"
   ]
  },
  {
   "cell_type": "code",
   "execution_count": null,
   "id": "42416449",
   "metadata": {},
   "outputs": [],
   "source": [
    "df1.head()"
   ]
  },
  {
   "cell_type": "code",
   "execution_count": null,
   "id": "ae5daf5c",
   "metadata": {},
   "outputs": [],
   "source": [
    "#df1[df1.category == ('Health')]\n",
    "df1.columns"
   ]
  },
  {
   "cell_type": "markdown",
   "id": "3fce590a",
   "metadata": {},
   "source": [
    "New column for country classification only "
   ]
  },
  {
   "cell_type": "code",
   "execution_count": null,
   "id": "2608c0dd",
   "metadata": {},
   "outputs": [],
   "source": [
    "#max market share to calculate the relative market share, metric that shows a countries position in the market compared to its main competitor.\n",
    "df1['max_ms'] = df1.groupby(['category'])['market_share_ctry'].transform(max)\n",
    "df1['relative_MS'] = (df1['market_share_ctry']/df1['max_ms'])"
   ]
  },
  {
   "cell_type": "code",
   "execution_count": null,
   "id": "d9bd777b",
   "metadata": {},
   "outputs": [],
   "source": [
    "df1.head()"
   ]
  },
  {
   "cell_type": "code",
   "execution_count": null,
   "id": "3df7bc06",
   "metadata": {},
   "outputs": [],
   "source": [
    "df2 = df.groupby(['country_name','Income_classification'],as_index=False).agg(\n",
    "    # Get mean amount per column for each country\n",
    "    mean_amount=('amount', 'mean'),\n",
    "    # Get sum amount per column for each country\n",
    "    sum_amount=('amount', sum),\n",
    "    #  Get count amount per column for each country\n",
    "    count_amount=('amount', 'count'),\n",
    "    #  Get median amount per column for each country\n",
    "    median_amount=('amount', 'median'),\n",
    "    # Apply mean of growth since it is the same for each line by country (should give the real growth)\n",
    "    growth_GDP=('GDP growth (annual %)', 'mean'),\n",
    "    # Apply mean of GDP per capita since it is the same for each line (should give the real growth)\n",
    "    GDP_per_capita = ('GDP per capita (constant 2015 US$)','mean'),\n",
    ")"
   ]
  },
  {
   "cell_type": "code",
   "execution_count": null,
   "id": "c3500add",
   "metadata": {},
   "outputs": [],
   "source": [
    "df2['log_mean_amount'] = np.log(df2['mean_amount'])"
   ]
  },
  {
   "cell_type": "code",
   "execution_count": null,
   "id": "13419b5b",
   "metadata": {},
   "outputs": [],
   "source": [
    "sales = df2['sum_amount'].sum()"
   ]
  },
  {
   "cell_type": "code",
   "execution_count": null,
   "id": "1a60bca5",
   "metadata": {},
   "outputs": [],
   "source": [
    "df2['percent'] = (df2['sum_amount'] / sales) *100\n",
    "df2['log_sum_amount'] = np.log(df2['sum_amount'])\n",
    "df2['log_GDP_per_capita'] = (df2['GDP_per_capita'] / sales) *100\n",
    "df2['relative_MS'] = df2['percent']/ df2['percent'].max()"
   ]
  },
  {
   "cell_type": "code",
   "execution_count": null,
   "id": "8fb4f90f",
   "metadata": {},
   "outputs": [],
   "source": [
    "df2['percent'].max()"
   ]
  },
  {
   "cell_type": "code",
   "execution_count": null,
   "id": "39ec563d",
   "metadata": {},
   "outputs": [],
   "source": [
    "df2.head()"
   ]
  },
  {
   "cell_type": "code",
   "execution_count": null,
   "id": "8128a856",
   "metadata": {},
   "outputs": [],
   "source": [
    "# NEw dataframe "
   ]
  },
  {
   "cell_type": "code",
   "execution_count": null,
   "id": "a0f67bd9",
   "metadata": {},
   "outputs": [],
   "source": [
    "df6 = df.groupby(['category','Income_classification'],as_index=False).agg(\n",
    "    # Get mean amount per column for each country\n",
    "    mean_amount=('amount', 'mean'),\n",
    "    # Get sum amount per column for each country\n",
    "    sum_amount=('amount', sum),\n",
    ")"
   ]
  },
  {
   "cell_type": "code",
   "execution_count": null,
   "id": "cc9b1699",
   "metadata": {},
   "outputs": [],
   "source": []
  },
  {
   "cell_type": "code",
   "execution_count": null,
   "id": "b862c2f5",
   "metadata": {},
   "outputs": [],
   "source": []
  },
  {
   "cell_type": "markdown",
   "id": "48faa127",
   "metadata": {},
   "source": [
    "<a id='2.4'></a>\n",
    "### <font color=li_blue> 2.4. Create for specific country by category </font>"
   ]
  },
  {
   "cell_type": "code",
   "execution_count": null,
   "id": "571ce0a0",
   "metadata": {},
   "outputs": [],
   "source": [
    "madrid_transactions=pd.read_csv('madrid_transactions_country05.12.2022.csv',sep=';')\n",
    "madrid_transactions['country-category']=madrid_transactions['country_name']+'-'+madrid_transactions['category']\n",
    "madrid_transactions['Median Category-Country']=madrid_transactions.groupby(['category','customer_country']).amount.transform(np.median)\n",
    "madrid_transactions['Median Country']=madrid_transactions.groupby(['customer_country']).amount.transform(np.median)\n",
    "madrid_transactions['Median Category']=madrid_transactions.groupby(['category']).amount.transform(np.median)\n",
    "category_q1=madrid_transactions.groupby(['category']).amount.quantile(q=0.25)\n",
    "category_q3=madrid_transactions.groupby(['category']).amount.quantile(q=0.75)\n",
    "madrid_transactions=madrid_transactions.merge(category_q1,on='category',how='left',suffixes=('','cat_q1'))\n",
    "madrid_transactions=madrid_transactions.merge(category_q3,on='category',how='left',suffixes=('','cat_q3'))\n",
    "madrid_transactions['Cat_IQR']=madrid_transactions['amountcat_q3']-madrid_transactions['amountcat_q1']\n",
    "madrid_transactions['Cat_low_IQR']=madrid_transactions['Median Category']-(1.5*madrid_transactions['Cat_IQR'])\n",
    "madrid_transactions['Cat_high_IQR']=madrid_transactions['Median Category']+(1.5*madrid_transactions['Cat_IQR'])\n",
    "madrid_transactions['Cat_Outliers']=np.where((madrid_transactions['amount']<madrid_transactions['Cat_low_IQR']) \\\n",
    "                                             |(madrid_transactions['amount']>madrid_transactions['Cat_high_IQR']),\\\n",
    "                                             'Outlier','')\n",
    "madrid_transactions=madrid_transactions[madrid_transactions['Cat_Outliers']=='']\n",
    "madrid_transactions['Median Category-Country']=madrid_transactions.groupby(['category','customer_country']).amount.transform(np.median)\n",
    "madrid_transactions['Median Country']=madrid_transactions.groupby(['customer_country']).amount.transform(np.median)\n",
    "madrid_transactions['Median Category']=madrid_transactions.groupby(['category']).amount.transform(np.median)\n",
    "madrid_transactions['Amount_Ctry_Cat']=madrid_transactions.groupby(['category','customer_country']).amount.transform(np.sum)\n",
    "madrid_transactions['Amount_Ctry_Cat']=madrid_transactions['Amount_Ctry_Cat'].astype(int)\n",
    "df_ranking=madrid_transactions.groupby(['category','customer_country']).amount.sum().reset_index()\n",
    "df_ranking['Ranking']=df_ranking.groupby(['category']).amount.rank(method=\"first\", ascending=False)\n",
    "madrid_transactions=madrid_transactions.merge(df_ranking,on=['category','customer_country'],how='left',suffixes=('','rnk'))\n",
    "madrid_transactions['country_rnk']=madrid_transactions['Ranking'].astype(int).astype(str).str.zfill(2)+'.'+madrid_transactions['country_name']"
   ]
  },
  {
   "cell_type": "code",
   "execution_count": null,
   "id": "de1e53d8",
   "metadata": {
    "scrolled": true
   },
   "outputs": [],
   "source": [
    "madrid_transactions.head()"
   ]
  },
  {
   "cell_type": "markdown",
   "id": "d654b1fc",
   "metadata": {},
   "source": [
    "<a id='3'></a>\n",
    "# <font color=purple> 3. Market Overview</font>\n",
    "## <font color=purple> Executive Summary</font>"
   ]
  },
  {
   "cell_type": "markdown",
   "id": "dc01e68d",
   "metadata": {},
   "source": [
    "### <font color=purple> Heatmap <font color=li_blue>distribution of category spending vs income </font>"
   ]
  },
  {
   "cell_type": "markdown",
   "id": "8fc9293b",
   "metadata": {},
   "source": [
    "<div class=\"alert alert-info\" role=\"alert\">\n",
    "\n",
    "The heatmap graphic gives a good overview of which countries are spending the most with regards to their income classification by the world bank. The highest income counrties do spend in all categories and even in some category show the highest amount of spendings e.g. fashion and shoes. Contrary, the low income countries do not spend much and only in selected categories if any. \n",
    "  \n",
    "</div>"
   ]
  },
  {
   "cell_type": "code",
   "execution_count": null,
   "id": "64d69e66",
   "metadata": {},
   "outputs": [],
   "source": [
    "# Heatmap \n",
    "#my_palette = colorRampPalette(rev(brewer.pal(11, \"Spectral\")))\n",
    "\n",
    "ggplot(df6, aes( \"Income_classification\",\"category\", fill= \"sum_amount\")) + \\\n",
    "geom_tile()+ ggtitle('Heatmap category spending vs Income') + theme_classic() + \\\n",
    "theme(axis_text_x=element_text(rotation=10, hjust=1)) + labs(y='Category', x='Income classification by World Bank, 2012')+ \\\n",
    "theme(text=element_text(size=9)) \n",
    "#+ guides(guide_legend(title = \"LEFT\"))\n",
    "#scale_fill_gradient2(low = \"lightblue\", high = \"yellow\",guide = \"colorbar\",aesthetics = \"colour\")\n",
    "#plotnine.scale_color_gradient(low=\"Purple\",high=\"Blue\")\n",
    "#scale_colour_manual(values=[\"Set3\"], limits=[1, 200000])\n",
    "#scale_color_gradientn(colours='Set3')\n",
    "#scale_colour_gradientn(colours = myPalette(100), limits=c(1, 8))\n",
    "\n",
    "\n",
    "#scale_fill_gradient2(low = \"lightblue\",mid = \"pink\", high = \"yellow\",midpoint = 200000,guide = \"colorbar\",aesthetics = \"colour\")\n",
    "#+ plotnine.theme(axis_text_x = plotnine.element_text(angle=90))\n",
    "#+scale_color_manual(values = colors) \n",
    "# scale_color_gradient(low=\"pink\",high=\"darkgreen\")"
   ]
  },
  {
   "cell_type": "code",
   "execution_count": null,
   "id": "4474ffbc",
   "metadata": {},
   "outputs": [],
   "source": [
    "#scale_fill_gradient2(low = \"lightblue\", high = \"yellow\",guide = \"colorbar\",aesthetics = \"colour\")\n",
    "#plotnine.scale_color_gradient(low=\"Purple\",high=\"Blue\")\n",
    "#scale_colour_manual(values=[\"Set3\"], limits=[1, 200000])\n",
    "#scale_color_gradientn(colours='Set3')\n",
    "#scale_colour_gradientn(colours = myPalette(100), limits=c(1, 8))\n",
    "\n",
    "\n",
    "#scale_fill_gradient2(low = \"lightblue\",mid = \"pink\", high = \"yellow\",midpoint = 200000,guide = \"colorbar\",aesthetics = \"colour\")\n",
    "#+ plotnine.theme(axis_text_x = plotnine.element_text(angle=90))\n",
    "#+scale_color_manual(values = colors) \n",
    "# scale_color_gradient(low=\"pink\",high=\"darkgreen\")"
   ]
  },
  {
   "cell_type": "markdown",
   "id": "1add5cee",
   "metadata": {},
   "source": [
    "### <font color=purple> Treemap <font color=li_blue>transactions by regions and countries </font>"
   ]
  },
  {
   "cell_type": "markdown",
   "id": "a226b846",
   "metadata": {},
   "source": [
    "<div class=\"alert alert-info\" role=\"alert\">\n",
    "\n",
    "When there are large numbers of categorial comparions a treemap could be better choice when we are interested in a high level view. This interactive treemap shows the transactions by their regions and within their regions by their countries. You can clearly see that Europe overall has the biggest count of transactions, followed by Americas, Asia and Africa. In Europe is the biggest country count per transaction France, for the Americas it is the US and for Asia it is China.  \n",
    "</div>"
   ]
  },
  {
   "cell_type": "code",
   "execution_count": null,
   "id": "f380f2b0",
   "metadata": {},
   "outputs": [],
   "source": [
    "#Icicle Charts in Python: Icicle charts visualize hierarchical data using rectangular sectors that cascade from root to leaves in one of four directions: up, down, left, or right"
   ]
  },
  {
   "cell_type": "code",
   "execution_count": null,
   "id": "659ce5e6",
   "metadata": {},
   "outputs": [],
   "source": [
    "import plotly.express as px\n",
    "\n",
    "fig = px.icicle(df1, path=[px.Constant(\"Total transactions\"), 'region', 'country_name','category'], values='count_amount',color='region',\n",
    "                  color_continuous_midpoint=np.average(df1['count_amount'], weights=df1['count_amount']),  \n",
    "               color_discrete_map={'(?)':'lightgrey', 'Europe':'gold', 'Americas':'turquoise', 'Asia':\"darkblue\", 'Africa':\"pruple\", \"Oceana\":\"pink\"})\n",
    "\n",
    "#[px.Constant(\"world\")\n",
    "fig.update_layout(margin = dict(t=50, l=25, r=25, b=25))\n",
    "fig.update_traces(root_color=\"lightgrey\")\n",
    "fig.show()"
   ]
  },
  {
   "cell_type": "code",
   "execution_count": null,
   "id": "4d8acb15",
   "metadata": {},
   "outputs": [],
   "source": [
    "# Boxplot here "
   ]
  },
  {
   "cell_type": "markdown",
   "id": "7974f75d",
   "metadata": {},
   "source": [
    "<a id='4'></a>\n",
    "# <font color=purple> 4. Time </font>"
   ]
  },
  {
   "cell_type": "code",
   "execution_count": null,
   "id": "2cd5ac86",
   "metadata": {},
   "outputs": [],
   "source": [
    "df3 =df.groupby(['category', 'hour'],as_index=False).agg(\n",
    "    # Get max of the duration column for each group\n",
    "    mean_amount=('amount', 'mean'),\n",
    "    # Get min of the duration column for each group\n",
    "    sum_amount=('amount', sum),\n",
    "    # Get sum of the duration column for each group\n",
    "    count_amount=('amount', 'count'),\n",
    ")"
   ]
  },
  {
   "cell_type": "code",
   "execution_count": null,
   "id": "57e2b3f1",
   "metadata": {},
   "outputs": [],
   "source": [
    "ggplot(df3,aes(x=\"hour\",y=\"sum_amount\",color=\"category\"))+geom_line()+ \\\n",
    "theme_classic()+ \\\n",
    "labs(y='Total Amount Spend', x='Time by hour') +\\\n",
    "theme(text=element_text(size=10))+\\\n",
    "ggtitle('Category Spending by Hour')\n",
    "#scale_colour_brewer(type=\"qual\", palette=\"Set3\")\n"
   ]
  },
  {
   "cell_type": "raw",
   "id": "8ae988bc",
   "metadata": {},
   "source": [
    "Transaction_value"
   ]
  },
  {
   "cell_type": "raw",
   "id": "8ae5a3f2",
   "metadata": {},
   "source": [
    "label_df=Transaction_value[['customer_country','Median Category-Country']]\n",
    "label_df['Median Category-Country']=label_df['Median Category-Country']\n",
    "label_df['label']='n='+label_df['Median Category-Country'].astype('str')\n",
    "label_df"
   ]
  },
  {
   "cell_type": "raw",
   "id": "1f893eaa",
   "metadata": {},
   "source": [
    "label_df=Transaction_value[['customer_country','Median Category-Country']].groupby(['customer_country']).count().reset_index()\n",
    "label_df['label']='n='+label_df['Median Category-Country'].astype('str')\n",
    "label_df\n",
    "\n"
   ]
  },
  {
   "cell_type": "markdown",
   "id": "53a7dced",
   "metadata": {},
   "source": [
    "### Animations: Bar Races"
   ]
  },
  {
   "cell_type": "markdown",
   "id": "781e4bd6",
   "metadata": {},
   "source": [
    "### Top Country Spenders by the hour"
   ]
  },
  {
   "cell_type": "code",
   "execution_count": null,
   "id": "549884e3",
   "metadata": {},
   "outputs": [],
   "source": [
    "transaction_per_hour=madrid_transactions.groupby (['hour','customer_country','country_name','region'])['amount'].sum()\n",
    "transaction_per_hour=transaction_per_hour.reset_index()\n",
    "\n",
    "barchartrace_data  =transaction_per_hour.copy()\n",
    "n_observations = 5\n",
    "n_frames_between_states = 30\n",
    "\n",
    "barchartrace_data= barchartrace_data.pivot('hour', ['customer_country','country_name'], 'amount')\n",
    "barchartrace_data['hour'] = barchartrace_data.index\n",
    "\n",
    "barchartrace_data.reset_index(drop = True, inplace = True)\n",
    "barchartrace_data.index = barchartrace_data.index * n_frames_between_states\n",
    "barchartrace_data =  barchartrace_data.reindex(range(barchartrace_data.index.max()+1))\n",
    "\n",
    "barchartrace_data = barchartrace_data.interpolate()\n",
    "barchartrace_data = barchartrace_data.melt(id_vars='hour', var_name =['customer_country','country_name'], value_name  = 'amount')\n",
    "\n",
    "\n",
    "\n",
    "import math\n",
    "\n",
    "n_observations = 5\n",
    "fig, ax = plt.subplots(figsize=(25, 10))\n",
    "\n",
    "font = {\n",
    "    'weight': 'normal',\n",
    "    'size'  :  40,\n",
    "    'color': 'lightgray'\n",
    "}\n",
    "font2 = {\n",
    "    'weight': 'normal',\n",
    "    'size'  :  16,\n",
    "    'color': 'darkred'\n",
    "}\n",
    "font_titles = {\n",
    "    'weight': 'demibold',\n",
    "    'size'  :  20,\n",
    "    'color': 'darkred'\n",
    "}\n",
    "hours = barchartrace_data['hour'].unique()\n",
    "\n",
    "label = ax.text(0.95, 0.20, hours[0],\n",
    "                horizontalalignment='right',\n",
    "                verticalalignment='top',\n",
    "                transform=ax.transAxes,\n",
    "                fontdict=font)\n",
    "continent = transaction_per_hour[['customer_country','region']].drop_duplicates().reset_index(drop = True)\n",
    "\n",
    "# # 2. Add continent info\n",
    "barchartrace_data = barchartrace_data.merge(continent,left_on = 'customer_country', right_on = 'customer_country')\n",
    "conditions = [\n",
    "          barchartrace_data['region'] == 'Europe',\n",
    "          barchartrace_data['region'] == 'Asia',\n",
    "          barchartrace_data['region'] == 'Americas',\n",
    "          barchartrace_data['region'] == 'Oceania',\n",
    "          barchartrace_data['region'] == 'Africa',\n",
    " ]\n",
    "\n",
    "values = ['#0275d8', '#5cb85c', '#5bc0de', '#f0ad4e', '#d9534f']\n",
    "\n",
    "barchartrace_data['color'] = np.select(conditions, values)\n",
    "\n",
    "df_daytime = madrid_transactions[['hour','daytime']].drop_duplicates().reset_index(drop = True).sort_values(by='hour')\n",
    "\n",
    "barchartrace_data = barchartrace_data.merge(df_daytime,left_on = 'hour', right_on = 'hour',how='left')\n",
    "\n",
    "def update_barchart_race(i):\n",
    "\n",
    "    hour = hours[i]\n",
    "\n",
    "    data_temp = barchartrace_data.loc[barchartrace_data['hour'] == hour, :]\n",
    "\n",
    "    v_datetime =  barchartrace_data.loc[barchartrace_data['hour'] == math.floor(hour), :]['daytime'].unique().item()\n",
    "\n",
    "    # Create rank and get first 10 countries\n",
    "    data_temp['ranking'] = data_temp['amount'].rank(method = 'first',ascending = False)\n",
    "    data_temp = data_temp.loc[data_temp['ranking'] <= n_observations]\n",
    "    data_temp=data_temp.sort_values(by='ranking', ascending=True)\n",
    "    ax.clear()\n",
    "    ax.barh(y = data_temp['ranking'] ,\n",
    "            width = data_temp.amount, \n",
    "            tick_label=data_temp['country_name'],\n",
    "#            ,color=colors)\n",
    "            color=data_temp['color'])\n",
    "    \n",
    "    category=data_temp[['ranking','country_name']]\n",
    "    position_labels=data_temp['amount'].max()/2\n",
    "    plt.text(position_labels,1,category.iloc[0,1],ha='center',fontdict=font2)\n",
    "    plt.text(position_labels,2,category.iloc[1,1],ha='center',fontdict=font2)\n",
    "    plt.text(position_labels,3,category.iloc[2,1],ha='center',fontdict=font2)\n",
    "    plt.text(position_labels,4,category.iloc[3,1],ha='center',fontdict=font2)\n",
    "    plt.text(position_labels,5,category.iloc[4,1],ha='center',fontdict=font2)\n",
    "    \n",
    "    label = ax.text(0.95, 0.05, 'Bars are colored by Region',\n",
    "            horizontalalignment='right',\n",
    "            verticalalignment='top',\n",
    "            transform=ax.transAxes,\n",
    "            fontdict=font2)\n",
    "    ax.set_yticklabels(data_temp['region'],fontdict=font2)\n",
    "    \n",
    "    \n",
    "\n",
    "    label = ax.text(0.95, 0.20, str(v_datetime)+':'+str(math.floor(hour))+'h',\n",
    "                horizontalalignment='right',\n",
    "                verticalalignment='top',\n",
    "                transform=ax.transAxes,\n",
    "                fontdict=font)\n",
    "    plt.ylabel(\"Top Spenders by Country of Origin\",fontdict=font_titles)\n",
    "    plt.xlabel(\"Total Amount Spend\",fontdict=font_titles)\n",
    "    plt.title(\"Top Country Spenders by the hour\",fontdict=font_titles)\n",
    "\n",
    "    ax.set_ylim(ax.get_ylim()[::-1]) # Revert axis\n",
    "\n",
    "\n",
    "\n",
    "anim = animation.FuncAnimation(fig, update_barchart_race, frames = len(hours), )\n",
    "anim.save('barchart_race_Countries_notransition.gif', fps=10)  "
   ]
  },
  {
   "cell_type": "raw",
   "id": "37db6119",
   "metadata": {},
   "source": [
    "### Top Category-Country Spenders by the hour"
   ]
  },
  {
   "cell_type": "raw",
   "id": "13296477",
   "metadata": {},
   "source": [
    "import textwrap\n",
    "import matplotlib.lines as mlines\n",
    "import matplotlib.patches as mpatches\n",
    "import matplotlib.pyplot as plt\n",
    "\n",
    "    \n",
    "transaction_per_hour=madrid_transactions.groupby (['hour','customer_country','country-category','category','country_name','region'])['amount'].sum()\n",
    "transaction_per_hour=transaction_per_hour.reset_index()\n",
    "barchartrace_data  =transaction_per_hour.copy()\n",
    "n_observations = 5\n",
    "n_frames_between_states = 30\n",
    "\n",
    "barchartrace_data= barchartrace_data.pivot('hour', ['customer_country','country-category','category','country_name'], 'amount')\n",
    "barchartrace_data['hour'] = barchartrace_data.index\n",
    "barchartrace_data.reset_index(drop = True, inplace = True)\n",
    "barchartrace_data.index = barchartrace_data.index * n_frames_between_states\n",
    "barchartrace_data =  barchartrace_data.reindex(range(barchartrace_data.index.max()+1))\n",
    "barchartrace_data = barchartrace_data.interpolate()\n",
    "barchartrace_data = barchartrace_data.melt(id_vars='hour', var_name =['customer_country','country-category','category','country_name'], value_name  = 'amount')\n",
    "\n",
    "\n",
    "import math\n",
    "\n",
    "n_observations = 5\n",
    "fig, ax = plt.subplots(figsize=(25, 10))\n",
    "\n",
    "font = {\n",
    "    'weight': 'normal',\n",
    "    'size'  :  40,\n",
    "    'color': 'lightgray'\n",
    "}\n",
    "font2 = {\n",
    "    'weight': 'normal',\n",
    "    'size'  :  16,\n",
    "    'color': 'darkred'\n",
    "}\n",
    "font_titles = {\n",
    "    'weight': 'demibold',\n",
    "    'size'  :  20,\n",
    "    'color': 'darkred'\n",
    "}\n",
    "hours = barchartrace_data['hour'].unique()\n",
    "\n",
    "\n",
    "label = ax.text(0.95, 0.20, hours[0],\n",
    "                horizontalalignment='right',\n",
    "                verticalalignment='top',\n",
    "                transform=ax.transAxes,\n",
    "                fontdict=font)\n",
    "\n",
    "conditions = [\n",
    "          barchartrace_data['category'] == 'Bars & restaurants',\n",
    "          barchartrace_data['category'] == 'Accommodation',\n",
    "          barchartrace_data['category'] == 'Other goods and services',\n",
    "          barchartrace_data['category'] == 'Health',\n",
    "          barchartrace_data['category'] == 'Transportation',\n",
    "            barchartrace_data['category'] == 'Personal products',\n",
    "            barchartrace_data['category'] == 'Books & Music',\n",
    "            barchartrace_data['category'] == 'Hogar y reformas',\n",
    "            barchartrace_data['category'] == 'Electronics & computing',\n",
    "            barchartrace_data['category'] == 'Fashion & Shoes',\n",
    "            barchartrace_data['category'] == 'Food',\n",
    "            barchartrace_data['category'] == 'Sports & Games',\n",
    "            barchartrace_data['category'] == 'Culture & Leisure',\n",
    "            barchartrace_data['category'] == 'Agencias de viajes',\n",
    "            barchartrace_data['category'] == 'Automocion',\n",
    " ]\n",
    "\n",
    "values=['blue','orange','green','red','purple','brown','pink','grey','olive','cyan','yellow','navy','magenta','beige','teal']\n",
    "\n",
    "barchartrace_data['color'] = np.select(conditions, values)\n",
    "\n",
    "df_daytime = madrid_transactions[['hour','daytime']].drop_duplicates().reset_index(drop = True).sort_values(by='hour')\n",
    "\n",
    "barchartrace_data = barchartrace_data.merge(df_daytime,left_on = 'hour', right_on = 'hour',how='left')\n",
    "\n",
    "def update_barchart_race(i):\n",
    "\n",
    "    hour = hours[i]\n",
    "\n",
    "    data_temp = barchartrace_data.loc[barchartrace_data['hour'] == hour, :]\n",
    "\n",
    "    v_datetime =  barchartrace_data.loc[barchartrace_data['hour'] == math.floor(hour), :]['daytime'].unique().item()\n",
    "\n",
    "    # Create rank and get first 10 countries\n",
    "    data_temp['ranking'] = data_temp['amount'].rank(method = 'first',ascending = False)\n",
    "    data_temp = data_temp.loc[data_temp['ranking'] <= n_observations]\n",
    "    data_temp=data_temp.sort_values(by='ranking', ascending=True)\n",
    "    data_temp['amount']=data_temp['amount'].round(0).astype(int)\n",
    "\n",
    "    ax.clear()\n",
    "    rects1=ax.barh(y = data_temp['ranking'] ,\n",
    "            width = data_temp.amount, \n",
    "            tick_label= data_temp['country-category'] ,\n",
    "            color=data_temp['color'],\n",
    "            \n",
    "                  )\n",
    "    ax.bar_label(rects1, padding=3)\n",
    "\n",
    "    category=data_temp[['ranking','country_name']]\n",
    "    position_labels=data_temp['amount'].max()/2\n",
    "    plt.text(position_labels,1,category.iloc[0,1],ha='center',fontdict=font2)\n",
    "    plt.text(position_labels,2,category.iloc[1,1],ha='center',fontdict=font2)\n",
    "    plt.text(position_labels,3,category.iloc[2,1],ha='center',fontdict=font2)\n",
    "    plt.text(position_labels,4,category.iloc[3,1],ha='center',fontdict=font2)\n",
    "    plt.text(position_labels,5,category.iloc[4,1],ha='center',fontdict=font2)\n",
    "\n",
    "    label = ax.text(0.95, 0.20, str(v_datetime)+':'+str(math.floor(hour))+'h',\n",
    "                horizontalalignment='right',\n",
    "                verticalalignment='top',\n",
    "                transform=ax.transAxes,\n",
    "                fontdict=font)\n",
    "    label = ax.text(0.95, 0.05, 'Bars are colored by Category',\n",
    "                horizontalalignment='right',\n",
    "                verticalalignment='top',\n",
    "                transform=ax.transAxes,\n",
    "                fontdict=font2)\n",
    "    plt.ylabel(\"Top Spenders by Country of Origin & Category \",fontdict=font_titles)\n",
    "    plt.xlabel(\"Total Amount Spend\",fontdict=font_titles)\n",
    "    plt.title(\"Top expenditures by the hour\",fontdict=font_titles)\n",
    "\n",
    "    ax.set_yticklabels(data_temp['category'],fontdict=font2)\n",
    "\n",
    "    ax.set_ylim(ax.get_ylim()[::-1]) # Revert axis\n",
    "\n",
    "\n",
    "\n",
    "anim = animation.FuncAnimation(fig, update_barchart_race, frames = len(hours), )\n",
    "anim.save('barchart_race_Category_Countries_notransition2.gif', fps=10)   "
   ]
  },
  {
   "cell_type": "markdown",
   "id": "d5ad2f12",
   "metadata": {},
   "source": [
    "### Top Categories by the hour"
   ]
  },
  {
   "cell_type": "raw",
   "id": "f71da5f6",
   "metadata": {},
   "source": [
    "transaction_per_hour_cat=madrid_transactions.groupby (['hour','category'])['amount'].sum()\n",
    "transaction_per_hour_cat=transaction_per_hour_cat.reset_index()\n",
    "barchartrace_data  =transaction_per_hour_cat.copy()\n",
    "n_observations = 5\n",
    "n_frames_between_states = 30\n",
    "\n",
    "barchartrace_data= barchartrace_data.pivot('hour', 'category', 'amount')\n",
    "barchartrace_data['hour'] = barchartrace_data.index\n",
    "\n",
    "barchartrace_data.reset_index(drop = True, inplace = True)\n",
    "barchartrace_data.index = barchartrace_data.index * n_frames_between_states\n",
    "barchartrace_data =  barchartrace_data.reindex(range(barchartrace_data.index.max()+1))\n",
    "\n",
    "barchartrace_data = barchartrace_data.interpolate()\n",
    "barchartrace_data = barchartrace_data.melt(id_vars='hour', var_name ='category', value_name  = 'amount')\n",
    "\n",
    "import math\n",
    "\n",
    "n_observations = 5\n",
    "fig, ax = plt.subplots(figsize=(25, 10))\n",
    "\n",
    "font = {\n",
    "    'weight': 'normal',\n",
    "    'size'  :  40,\n",
    "    'color': 'lightgray'\n",
    "}\n",
    "\n",
    "hours = barchartrace_data['hour'].unique()\n",
    "\n",
    "\n",
    "df_daytime = madrid_transactions[['hour','daytime']].drop_duplicates().reset_index(drop = True).sort_values(by='hour')\n",
    "\n",
    "barchartrace_data = barchartrace_data.merge(df_daytime,left_on = 'hour', right_on = 'hour',how='left')\n",
    "\n",
    "def update_barchart_race(i):\n",
    "\n",
    "    hour = hours[i]\n",
    "\n",
    "    data_temp = barchartrace_data.loc[barchartrace_data['hour'] == hour, :]\n",
    "\n",
    "    v_datetime =  barchartrace_data.loc[barchartrace_data['hour'] == math.floor(hour), :]['daytime'].unique().item()\n",
    "\n",
    "    # Create rank and get first 10 countries\n",
    "    data_temp['ranking'] = data_temp['amount'].rank(method = 'first',ascending = False)\n",
    "    data_temp = data_temp.loc[data_temp['ranking'] <= n_observations]\n",
    "\n",
    "    ax.clear()\n",
    "    ax.barh(y = data_temp['ranking'] ,\n",
    "            width = data_temp.amount, \n",
    "            tick_label= data_temp['category'] )\n",
    "#            ,color=colors)\n",
    "#             color=data_temp['color'])\n",
    "\n",
    "    label = ax.text(0.95, 0.20, str(v_datetime)+':'+str(math.floor(hour))+'h',\n",
    "                horizontalalignment='right',\n",
    "                verticalalignment='top',\n",
    "                transform=ax.transAxes,\n",
    "                fontdict=font)\n",
    "    plt.ylabel(\"Top Spenders by Categories of Origin & Category \")\n",
    "    plt.xlabel(\"Total Amount Spend\")\n",
    "    plt.title(\"Top Categories by the hour\")\n",
    "\n",
    "    ax.set_ylim(ax.get_ylim()[::-1]) # Revert axis\n",
    "\n",
    "\n",
    "\n",
    "anim = animation.FuncAnimation(fig, update_barchart_race, frames = len(hours), )\n",
    "anim.save('barchart_race_Category_notransition.gif', fps=10)  "
   ]
  },
  {
   "cell_type": "markdown",
   "id": "f11a992d",
   "metadata": {},
   "source": [
    "<a id='5'></a>\n",
    "# <font color=purple> 5. Future outlook and Strategy </font>"
   ]
  },
  {
   "cell_type": "markdown",
   "id": "bc498aab",
   "metadata": {},
   "source": [
    "### <font color=purple> 5. Boston Consulting Matrix  <font color=li_blue> Strategic investment and deinvesture decisions </font>"
   ]
  },
  {
   "attachments": {
    "image-2.png": {
     "image/png": "[encoded data removed]"
    }
   },
   "cell_type": "markdown",
   "id": "328f1546",
   "metadata": {},
   "source": [
    "![image-2.png](attachment:image-2.png)"
   ]
  },
  {
   "cell_type": "code",
   "execution_count": null,
   "id": "0be3e758",
   "metadata": {},
   "outputs": [],
   "source": [
    "data = px.scatter(df1, x='relative_MS', y='growth_GDP', color='category',size='sum_amount_x', hover_name='country_name',\n",
    "                  size_max=20)\n",
    "\n",
    "layout = go.Layout(\n",
    "    title='Growth-Share Matrix of countries Madrid transactions',\n",
    "    xaxis=dict(\n",
    "        title='Market Share of Purchases, 2012 [%]',\n",
    "        gridcolor='rgb(255, 255, 255)',\n",
    "        zerolinewidth=1,\n",
    "        ticklen=5,\n",
    "        gridwidth=2,\n",
    "    ),\n",
    "    yaxis=dict(\n",
    "        title='GDP per Capity, 2012 [%]',\n",
    "        gridcolor='rgb(255, 255, 255)',\n",
    "        zerolinewidth=1,\n",
    "        ticklen=5,\n",
    "        gridwidth=2,\n",
    "    ),\n",
    "    paper_bgcolor='rgb(0,0,0,0)',\n",
    "    plot_bgcolor='rgb(0,0,0,0)',\n",
    ")\n",
    "\n",
    "fig = go.Figure(data=data, layout=layout)\n",
    "\n",
    "fig = fig.update_layout(\n",
    "    yaxis_range=[-10,10], \n",
    "    title='BCG Matrix Countries Growth vs Market Share',\n",
    "    yaxis=dict(title='GDP growth, 2012 [%]'))    \n",
    "fig.update_layout(\n",
    "    xaxis_range=[0,1.05],\n",
    "    xaxis=dict(title='Relative MS by category, 2012 [%]'))\n",
    "\n",
    "fig.update_layout(template=\"simple_white\")\n",
    "fig.add_hline(y=0,line_width=2, line_dash=\"dash\", line_color=\"black\")\n",
    "fig.add_vline(x=0.5, line_width=2, line_dash=\"dash\", line_color=\"black\")\n",
    "\n",
    "fig.add_annotation(\n",
    "    x=0.25\n",
    "    , y=9\n",
    "    , text='Question Mark'\n",
    "    , yanchor='bottom'\n",
    "    , showarrow=False\n",
    "    , arrowhead=1\n",
    "    , arrowsize=1\n",
    "    , arrowwidth=2\n",
    "    , arrowcolor=\"#636363\"\n",
    "    , ax=-20\n",
    "    , ay=-30\n",
    "    , font=dict(size=13, color=\"grey\", family=\"Sans Serif\")\n",
    "    , align=\"left\"\n",
    "    ,)\n",
    "fig.add_annotation(\n",
    "    x=0.75\n",
    "    , y=9\n",
    "    , text='Stars'\n",
    "    , yanchor='bottom'\n",
    "    , showarrow=False\n",
    "    , arrowhead=1\n",
    "    , arrowsize=1\n",
    "    , arrowwidth=2\n",
    "    , arrowcolor=\"#636363\"\n",
    "    , ax=-20\n",
    "    , ay=-30\n",
    "    , font=dict(size=13, color=\"grey\", family=\"Sans Serif\")\n",
    "    , align=\"left\"\n",
    "    ,)\n",
    "\n",
    "fig.add_annotation(\n",
    "    x=0.75\n",
    "    , y=-9\n",
    "    , text='Cash Cows'\n",
    "    , yanchor='bottom'\n",
    "    , showarrow=False\n",
    "    , arrowhead=1\n",
    "    , arrowsize=1\n",
    "    , arrowwidth=2\n",
    "    , arrowcolor=\"#636363\"\n",
    "    , ax=-20\n",
    "    , ay=-30\n",
    "    , font=dict(size=13, color=\"grey\", family=\"Sans Serif\")\n",
    "    , align=\"left\"\n",
    "    ,)\n",
    "\n",
    "fig.add_annotation(\n",
    "    x=0.25\n",
    "    , y=-9\n",
    "    , text='Dogs'\n",
    "    , yanchor='bottom'\n",
    "    , showarrow=False\n",
    "    , arrowhead=1\n",
    "    , arrowsize=1\n",
    "    , arrowwidth=2\n",
    "    , arrowcolor=\"#636363\"\n",
    "    , ax=-20\n",
    "    , ay=-30\n",
    "    , font=dict(size=13, color=\"grey\", family=\"Sans Serif\")\n",
    "    , align=\"left\"\n",
    "    ,)"
   ]
  },
  {
   "cell_type": "code",
   "execution_count": null,
   "id": "69bbbc91",
   "metadata": {},
   "outputs": [],
   "source": [
    "import plotly.graph_objects as go\n",
    "\n",
    "fig = go.Figure()\n",
    "\n",
    "fig.add_trace(go.Scatterpolar(\n",
    "      r=US_FR['US_mean_amount'],\n",
    "      theta=US_FR['category'],\n",
    "      fill='toself',\n",
    "      name='United States of America'\n",
    "))\n",
    "\n",
    "#fig.add_trace(go.Scatterpolar(\n",
    "#      r=US_FR['CN_mean_amount'],\n",
    "#      theta=US_FR['category'],\n",
    "#      fill='toself',\n",
    "#      name='China'\n",
    "#))\n",
    "\n",
    "fig.add_trace(go.Scatterpolar(\n",
    "      r=US_FR['total_mean_amount'],\n",
    "      theta=US_FR['category'],\n",
    "      fill='toself',\n",
    "      name='Mean all countries'\n",
    "))\n",
    "\n",
    "fig.add_trace(go.Scatterpolar(\n",
    "      r=US_FR['UK_mean_amount'],\n",
    "      theta=US_FR['category'],\n",
    "      fill='toself',\n",
    "      name='United Kingdom'\n",
    "))\n",
    "\n",
    "fig = fig.update_layout(\n",
    "    title='Mean Spending of UK vs America vs total mean')\n",
    "\n",
    "fig.show()"
   ]
  },
  {
   "cell_type": "code",
   "execution_count": null,
   "id": "54f78f26",
   "metadata": {
    "scrolled": true
   },
   "outputs": [],
   "source": [
    "from plotnine import *\n",
    "(\n",
    "    ggplot(df)\n",
    "    + facet_grid(facets=\"~daytime \")\n",
    "    + aes(x=\"weekday\", y=\"amount\", fill=\"region\")\n",
    "    + labs(\n",
    "        x=\"day_type\",\n",
    "        y=\"amount\",\n",
    "    )\n",
    "    + geom_col()\n",
    ")"
   ]
  },
  {
   "cell_type": "markdown",
   "id": "2123d191",
   "metadata": {},
   "source": [
    "<a id='2.4'></a>\n",
    "### <font color=red> round values up , bring countries back, same length for all notebooks, check if barchart can stay fixed, values on end?, adjust size of graphic last resort use country codes </font>"
   ]
  },
  {
   "cell_type": "code",
   "execution_count": null,
   "id": "c1646c15",
   "metadata": {},
   "outputs": [],
   "source": [
    "import matplotlib.pyplot as plt\n",
    "import plotnine as p9\n",
    "import pandas as pd\n",
    "import numpy as np\n",
    "from copy import copy\n",
    "from ipywidgets import widgets\n",
    "from IPython.display import display\n",
    "\n",
    "from plotnine.data import mtcars"
   ]
  },
  {
   "cell_type": "code",
   "execution_count": null,
   "id": "065a4c3f",
   "metadata": {},
   "outputs": [],
   "source": [
    "#pip install ipywidgets"
   ]
  },
  {
   "cell_type": "code",
   "execution_count": null,
   "id": "6d999a2f",
   "metadata": {},
   "outputs": [],
   "source": [
    "# Prepre the list we will use to selec sub-sets of data based on number of cylinders.\n",
    "List = np.unique(madrid_transactions['category'] )"
   ]
  },
  {
   "cell_type": "code",
   "execution_count": null,
   "id": "06145bca",
   "metadata": {},
   "outputs": [],
   "source": [
    "type(list(List))"
   ]
  },
  {
   "cell_type": "code",
   "execution_count": null,
   "id": "9ef8e1b1",
   "metadata": {},
   "outputs": [],
   "source": [
    "\n",
    "\n",
    "cylSelect = widgets.Dropdown(\n",
    "    options=list(List),\n",
    "    value=List[1],\n",
    "    description='Category:',\n",
    "    disabled=False,\n",
    ")\n",
    "\n",
    "# For the widgets to update the same plot, instead of creating one new image every time\n",
    "# a selection changes. We keep track of the matplotlib image and axis, so we create only one\n",
    "# figure and set of axis, for the first plot, and then just re-use the figure and axis\n",
    "# with plotnine's \"_draw_using_figure\" function.\n",
    "fig = None\n",
    "axs = None"
   ]
  },
  {
   "cell_type": "code",
   "execution_count": null,
   "id": "96ab25e8",
   "metadata": {},
   "outputs": [],
   "source": [
    "Category = cylSelect.value\n",
    "Transaction_value=madrid_transactions[madrid_transactions['category']==Category] \\\n",
    "[['category','customer_country','country_rnk','Median Category-Country','Median Country','Amount_Ctry_Cat','Median Category']].drop_duplicates() \\\n",
    ".sort_values(by='Amount_Ctry_Cat',ascending=False).head(10).sort_values(by='country_rnk',ascending=True)\n",
    "Transaction_value.reset_index(drop=True,inplace=True)\n",
    "Transaction_value['color']=np.where(Transaction_value['Median Category-Country']>Transaction_value['Median Country'],'#7fbf7b','#f0f0f0')\n",
    "Transaction_value['preference']=np.where(Transaction_value['Median Category-Country']>Transaction_value['Median Country'],'Prefered','')\n",
    "Transaction_value['Median Category']=Transaction_value['Median Category'].round(0).astype(int)\n",
    "\n",
    "\n",
    "\n",
    "\n",
    "# This has to be used the first time you make a plot. This magic allows the notebook to update plots.\n",
    "%matplotlib notebook\n",
    "\n",
    "p = ggplot(Transaction_value) +  geom_col(aes('country_rnk','Median Category-Country'),fill=Transaction_value['color']) + \\\n",
    "    geom_point(aes('country_rnk',\"Median Country\"),color='#1c9099',shape='|',size=15,stroke=1) \\\n",
    "    + xlab(\"Top Category Spenders\") + ylab(\"Median Transaction amount\") + ggtitle('Transaction Spending: Category vs Country Median') \\\n",
    "    + geom_text(aes(label='preference'), data=Transaction_value,x=Transaction_value.index+1,y=400)\\\n",
    "    + geom_text(aes(label='Amount_Ctry_Cat'), data=Transaction_value,x=Transaction_value.index+1,y='Median Category')\\\n",
    "    + coord_flip() \\\n",
    "    + labs(caption =  \"(\"+Category+\")\") + theme_classic()\n",
    "\n",
    "\n",
    "\n",
    "\n",
    "def transactions_by_category(*args):\n",
    "    # Use global variables for matplotlib's figure and axis.\n",
    "    global fig, axs\n",
    "\n",
    "    Category = cylSelect.value\n",
    "    Transaction_value=madrid_transactions[madrid_transactions['category']==Category] \\\n",
    "    [['category','customer_country','country_rnk','Median Category-Country','Median Country','Amount_Ctry_Cat','Median Category']].drop_duplicates() \\\n",
    "    .sort_values(by='Amount_Ctry_Cat',ascending=False).head(10).sort_values(by='country_rnk',ascending=True)\n",
    "    Transaction_value.reset_index(drop=True,inplace=True)\n",
    "    Transaction_value['color']=np.where(Transaction_value['Median Category-Country']>Transaction_value['Median Country'],'#7fbf7b','#f0f0f0')\n",
    "    Transaction_value['preference']=np.where(Transaction_value['Median Category-Country']>Transaction_value['Median Country'],'Prefered','')\n",
    "    Transaction_value['Max']=Transaction_value['Median Category-Country'].max()*0.9\n",
    "    p = ggplot(Transaction_value) +  geom_col(aes('country_rnk','Median Category-Country'),fill=Transaction_value['color']) + \\\n",
    "    geom_point(aes('country_rnk',\"Median Country\"),color='#1c9099',shape='|',size=15,stroke=1) \\\n",
    "    + xlab(\"Top Category Spenders\") + ylab(\"Median Transaction amount\") + ggtitle('Transaction Spending: Category vs Country Median') \\\n",
    "    + coord_flip() \\\n",
    "    + theme_classic() + theme(figure_size=(16, 8),legend_direction = 'horizontal',legend_position = 'bottom') + labs(caption =  \"(\"+Category+\")\") \n",
    "  \n",
    "    \n",
    "\n",
    "\n",
    "\n",
    "    if fig is None:\n",
    "        # If this is the first time a plot is made in the notebook, we let plotnine create a new\n",
    "        # matplotlib figure and axis.\n",
    "        fig, plot = p.draw(return_ggplot=True)\n",
    "        axs = plot.axs\n",
    "  \n",
    "    else:\n",
    "\n",
    "        #p = copy(p)\n",
    "        # This helps keeping old selected data from being visualized after a new selection is made.\n",
    "        # We delete all previously reated artists from the matplotlib axis.\n",
    "        for artist in plt.gca().lines +\\\n",
    "                        plt.gca().collections +\\\n",
    "                        plt.gca().artists + plt.gca().patches + plt.gca().texts:\n",
    "            artist.remove()\n",
    "\n",
    "        # If a plot is being updated, we re-use the figure an axis created before.\n",
    "        p._draw_using_figure(fig, axs)"
   ]
  },
  {
   "cell_type": "code",
   "execution_count": null,
   "id": "61e0ee1e",
   "metadata": {
    "scrolled": false
   },
   "outputs": [],
   "source": [
    "cylSelect.observe(transactions_by_category, 'value')\n",
    "\n",
    "# Display the widgets\n",
    "display(cylSelect)\n",
    "\n",
    "\n",
    "# Plots the first image, with inintial values.\n",
    "transactions_by_category()"
   ]
  },
  {
   "cell_type": "code",
   "execution_count": null,
   "id": "d5a58cd4",
   "metadata": {},
   "outputs": [],
   "source": []
  },
  {
   "cell_type": "code",
   "execution_count": null,
   "id": "5d634ab9",
   "metadata": {},
   "outputs": [],
   "source": []
  }
 ],
 "metadata": {
  "kernelspec": {
   "display_name": "Python 3 (ipykernel)",
   "language": "python",
   "name": "python3"
  },
  "language_info": {
   "codemirror_mode": {
    "name": "ipython",
    "version": 3
   },
   "file_extension": ".py",
   "mimetype": "text/x-python",
   "name": "python",
   "nbconvert_exporter": "python",
   "pygments_lexer": "ipython3",
   "version": "3.9.12"
  }
 },
 "nbformat": 4,
 "nbformat_minor": 5
}
